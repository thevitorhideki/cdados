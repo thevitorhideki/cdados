{
 "cells": [
  {
   "cell_type": "markdown",
   "metadata": {},
   "source": [
    "___\n",
    "\n",
    "# Atividade: <p> <center>  Regressão Linear Múltipla\n",
    "___\n",
    "\n",
    "## Aula 25"
   ]
  },
  {
   "cell_type": "markdown",
   "metadata": {},
   "source": [
    "___\n",
    "<div id=\"indice\"></div>\n",
    "\n",
    "## Índice\n",
    "\n",
    "- [Consumo de combustível em milhas por galão](#dataset)\n",
    "    - [Passo 1: Ajustando o modelo](#passo1)\n",
    "    - [Passo 2: Verificando os resultados dos testes de hipótese](#passo2)\n",
    "    - [Passo 3: Visualizando o modelo e os dados (com duas variáveis explicativas)](#passo3)\n",
    "- [Atividade](#atividade)\n",
    "    - [Exercício 1](#ex1)\n",
    "    - [Exercício 2](#ex2)\n",
    "    - [Exercício 3](#ex3)\n",
    "    - [Exercício 4](#ex4)\n",
    "    - [Exercício 5](#ex5)\n",
    "- [Referências](#referencias)\n",
    "\n",
    "___"
   ]
  },
  {
   "cell_type": "markdown",
   "metadata": {},
   "source": [
    "<div id=\"dataset\"></div>\n",
    "\n",
    "# Consumo de combustível em milhas por galão\n",
    "\n",
    "A atividade a realizar está no final, mas estude todo o *notebook*"
   ]
  },
  {
   "cell_type": "code",
   "execution_count": null,
   "metadata": {},
   "outputs": [],
   "source": [
    "# PARA DEIXAR EM GRAFICO NAO EDITAVEL\n",
    "%matplotlib inline\n",
    "\n",
    "import pandas as pd\n",
    "import numpy as np\n",
    "from scipy.stats import norm, probplot\n",
    "import statsmodels.api as sm\n",
    "import matplotlib.pyplot as plt\n",
    "\n",
    "from mpl_toolkits.mplot3d import Axes3D\n",
    "\n",
    "# Para ter melhor print\n",
    "from IPython.display import display"
   ]
  },
  {
   "cell_type": "markdown",
   "metadata": {},
   "source": [
    "Vamos fazer uma análise exploratória sobre um dataset sobre carros.\n",
    "\n",
    "Fonte: [Auto MPG dataset](http://archive.ics.uci.edu/ml/datasets/Auto+MPG)\n",
    "\n",
    "<div id=\"regress\"></div>"
   ]
  },
  {
   "cell_type": "code",
   "execution_count": null,
   "metadata": {},
   "outputs": [],
   "source": [
    "### Função utilitária para fazer a regressão com constante adicionada\n",
    "\n",
    "def regress(Y,X):\n",
    "    '''\n",
    "    Y: coluna do DataFrame utilizada como variável resposta (TARGET)\n",
    "    X: coluna(s) do DataFrame utilizadas como variável(is) explicativas (FEATURES)\n",
    "    '''\n",
    "    X_cp = sm.add_constant(X)\n",
    "    model = sm.OLS(Y,X_cp)\n",
    "    results = model.fit()\n",
    "    \n",
    "    return results"
   ]
  },
  {
   "cell_type": "code",
   "execution_count": null,
   "metadata": {},
   "outputs": [],
   "source": [
    "data = pd.read_csv(\"auto_mpg_sub.csv\")"
   ]
  },
  {
   "cell_type": "markdown",
   "metadata": {},
   "source": [
    "**Dicionário de dados:**\n",
    "\n",
    "\n",
    "Variável | Descrição\n",
    ":---:|---:\n",
    "mpg | consumo em miles per gallon\n",
    "cylinders | número de cilindros do motor do carro\n",
    "displacement | deslocamento dos cilindros em polegadas cúbicas\n",
    "horsepower | potência do veículo (HP)\n",
    "weight | peso do veículo (libras)\n",
    "acceleration | aceleração do veículo\n",
    "model year | ano do modelo\n",
    "origin | origem - veja abaixo\n",
    "car name | nome do carro\n",
    "\n",
    "A variável *origin* identifica o país de origem de um veículo\n",
    "\n",
    "Valor | Origem\n",
    ":---:|:---:\n",
    "1 | Estados Unidos da América\n",
    "2 | Europa\n",
    "3 | Japão"
   ]
  },
  {
   "cell_type": "code",
   "execution_count": null,
   "metadata": {
    "scrolled": true
   },
   "outputs": [],
   "source": [
    "data.columns"
   ]
  },
  {
   "cell_type": "markdown",
   "metadata": {},
   "source": [
    "**Vamos trabalhar apenas com as variáveis quantitativas desse dataset**"
   ]
  },
  {
   "cell_type": "code",
   "execution_count": null,
   "metadata": {},
   "outputs": [],
   "source": [
    "df = data[['mpg', 'cylinders', 'displacement', 'horsepower', \n",
    "           'weight', 'acceleration', 'model year']]"
   ]
  },
  {
   "cell_type": "code",
   "execution_count": null,
   "metadata": {
    "scrolled": false
   },
   "outputs": [],
   "source": [
    "df.describe()"
   ]
  },
  {
   "cell_type": "markdown",
   "metadata": {},
   "source": [
    "Verificando valores nulos."
   ]
  },
  {
   "cell_type": "code",
   "execution_count": null,
   "metadata": {
    "scrolled": true
   },
   "outputs": [],
   "source": [
    "df.isnull().sum()"
   ]
  },
  {
   "cell_type": "markdown",
   "metadata": {},
   "source": [
    "___\n"
   ]
  },
  {
   "cell_type": "code",
   "execution_count": null,
   "metadata": {},
   "outputs": [],
   "source": [
    "import seaborn as sns"
   ]
  },
  {
   "cell_type": "code",
   "execution_count": null,
   "metadata": {
    "scrolled": false
   },
   "outputs": [],
   "source": [
    "sns.pairplot(df)\n",
    "plt.tight_layout()\n",
    "plt.show()"
   ]
  },
  {
   "cell_type": "markdown",
   "metadata": {},
   "source": [
    "___\n",
    "\n",
    "<div id=\"passo1\"></div>\n",
    "\n",
    "### Passo 1: Ajustando o modelo\n",
    "\n",
    "Ajuste um modelo considerando Consumo como resposta (dependente) e as demais variáveis da base de dados como explicativas!\n",
    "\n",
    "Faça a separação das variáveis resposta e preditoras (explicativas):"
   ]
  },
  {
   "cell_type": "code",
   "execution_count": null,
   "metadata": {},
   "outputs": [],
   "source": [
    "X = df[['cylinders', 'displacement', 'horsepower', 'weight',\n",
    "       'acceleration', 'model year']]\n",
    "Y = df['mpg']"
   ]
  },
  {
   "cell_type": "markdown",
   "metadata": {},
   "source": [
    "Faça uso da função [`regress`](#regress) (que está neste *notebook* ) para fazer o ajuste:"
   ]
  },
  {
   "cell_type": "code",
   "execution_count": null,
   "metadata": {
    "scrolled": false
   },
   "outputs": [],
   "source": [
    "results = regress(Y,X)\n",
    "results.summary()"
   ]
  },
  {
   "cell_type": "markdown",
   "metadata": {},
   "source": [
    "___\n",
    "\n",
    "<div id=\"passo2\"></div>\n",
    "\n",
    "### Passo 2: Verificando os resultados dos testes de hipótese\n",
    "\n",
    "O que os valores contidos na coluna $P > |t|$ dizem a respeito das variáveis explicativas utilizadas no modelo ajustado?\n"
   ]
  },
  {
   "cell_type": "markdown",
   "metadata": {},
   "source": [
    "**R.:**\n",
    "\n",
    "A coluna $P > |t|$ obtida do comando `results.summary()` refere-se ao valor-*p* de cada variável explicativa utilizada para ajudar a compreender o comportamento da variável dependente `mpg`, no caso do exemplo.\n",
    "\n",
    "No caso da regressão múltipla obtida no exemplo, das seis variáveis explicativas, apenas duas se mostram relevantes para explicar a variável `mpg` pois possui valor-*p* menor do que 10% (maior nível de significância usualmente adotado na prática).\n",
    "Entretanto, como há muitas variáveis explicativas, o correto é utilizar algum método de seleção de variáveis. Em modelo de regressão linear, quando há suposição de erros normais, pode-se utilizar o método Stepwise. Vide alguns comentários de como fazê-lo no `Python´.\n",
    "\n",
    "https://stackoverflow.com/questions/15433372/stepwise-regression-in-python\n",
    "\n",
    "https://stackoverflow.com/questions/48071753/selecting-the-best-combination-of-variables-for-regression-model-based-on-reg-sc"
   ]
  },
  {
   "cell_type": "markdown",
   "metadata": {},
   "source": [
    "___\n",
    "\n",
    "<div id=\"passo3\"></div>\n",
    "\n",
    "### Passo 3: Visualizando o modelo e os dados (com duas variáveis explicativas)\n",
    "\n",
    "Observe como plotar os resultados de uma regressão múltipla quando há duas variáveis explicativas:"
   ]
  },
  {
   "cell_type": "code",
   "execution_count": null,
   "metadata": {
    "scrolled": false
   },
   "outputs": [],
   "source": [
    "# Obtém a regressão\n",
    "X3 = df[['cylinders', 'acceleration']]\n",
    "results3 = regress(Y,X3)\n",
    "results3.summary()"
   ]
  },
  {
   "cell_type": "code",
   "execution_count": null,
   "metadata": {},
   "outputs": [],
   "source": [
    "# Recupera os parâmetros calculados\n",
    "beta0_hat = results3.params[0]  # const\n",
    "beta1_hat = results3.params[1]  # cylinders\n",
    "beta2_hat = results3.params[2]  # acceleration"
   ]
  },
  {
   "cell_type": "code",
   "execution_count": null,
   "metadata": {},
   "outputs": [],
   "source": [
    "# Define uma função que aplica aos parâmetros\n",
    "def f(feature1, feature2):\n",
    "    return beta0_hat + beta1_hat*feature1 + beta2_hat*feature2"
   ]
  },
  {
   "cell_type": "code",
   "execution_count": null,
   "metadata": {},
   "outputs": [],
   "source": [
    "# Gera 100 pontos entre os menores e maiores valores de cada feature\n",
    "npoints = 100\n",
    "feature1 = X3[\"cylinders\"]\n",
    "feature2 = X3[\"acceleration\"]\n",
    "x_vc = np.linspace(feature1.min(), feature1.max(), npoints)\n",
    "y_vc = np.linspace(feature2.min(), feature2.max(), npoints)\n"
   ]
  },
  {
   "cell_type": "code",
   "execution_count": null,
   "metadata": {},
   "outputs": [],
   "source": [
    "# Constrói uma grade de 100x100 pontos \n",
    "eixo_x, eixo_y = np.meshgrid(x_vc, y_vc)"
   ]
  },
  {
   "cell_type": "code",
   "execution_count": null,
   "metadata": {},
   "outputs": [],
   "source": [
    "# Aplica a função em cada ponto da grade \n",
    "# Constrói plano estimado\n",
    "fit_z = f(eixo_x, eixo_y)"
   ]
  },
  {
   "cell_type": "code",
   "execution_count": null,
   "metadata": {},
   "outputs": [],
   "source": [
    "# PARA ROTACIONAR GRÁFICO 3D\n",
    "%matplotlib inline"
   ]
  },
  {
   "cell_type": "code",
   "execution_count": null,
   "metadata": {},
   "outputs": [],
   "source": [
    "# Plota os pontos e o plano em 3D\n",
    "plt3d = plt.subplot(projection='3d')\n",
    "plt3d.plot_surface(eixo_x, eixo_y, fit_z)\n",
    "plt3d.scatter(feature1, feature2, Y, color=\"r\")\n",
    "plt3d.set_xlabel(\"feature1\")\n",
    "plt3d.set_ylabel(\"feature2\")\n",
    "plt3d.set_zlabel(\"Y\")\n",
    "plt.show()"
   ]
  },
  {
   "cell_type": "markdown",
   "metadata": {},
   "source": [
    "___\n",
    "\n",
    "<div id=\"atividade\"></div>\n",
    "\n",
    "# Atividade"
   ]
  },
  {
   "cell_type": "markdown",
   "metadata": {},
   "source": [
    "Parece que as variáveis `cylinders` e `acceleration` não são as melhores escolhas para explicar a economia de combustível.\n",
    "\n",
    "Encontre as variáveis mais relevantes para melhor prever os valores da variável `mpg`; gere o modelo via `OLS`; e realize o plot 3D. Esse objetivo será atingido ao completarmos os exercícios a seguir.\n",
    "\n",
    "<br>\n"
   ]
  },
  {
   "cell_type": "markdown",
   "metadata": {},
   "source": [
    "## Método de remoção de variáveis do modelo: Backward Stepwise\n",
    "\n",
    "Para encontrar as variáveis relevantes que explicam a variável `mpg`, vamos aplicar o método *Backward Stepwise*. Esse método consiste em ajustar um modelo considerando todas as variáveis explicativas disponíveis no *dataset* e remover, uma a uma, as menos relevantes para a explicação da variável *target* até sobrarem apenas as relevantes (que no caso serão apenas duas). \n",
    "\n",
    "Uma variável explicativa é dita não relevante se seu valor-*p* for maior do que o nível de significância $\\alpha$ adotado ao modelo. Assim sendo, uma variável explicativa é dita relevante para explicar variações no comportamento da variável *target* se essa apresentar valor-*p* menor do que o $\\alpha$ adotado.\n",
    "\n",
    "Dito isso, faça os exercícios a seguir.\n",
    "\n",
    "<br>"
   ]
  },
  {
   "cell_type": "markdown",
   "metadata": {},
   "source": [
    "<div id=\"ex1\"></div>\n",
    "\n",
    "### EXERCÍCIO 1\n",
    "\n",
    "\n",
    "\n",
    "Para iniciar esse método de *Backward Stepwise*, ajuste um modelo linear com todas as variáveis disponíveis. **Dica**: isso já foi feito anteriormente nesta atividade e armazenado no objeto `results`. Você pode utilizar o mesmo resultado aqui."
   ]
  },
  {
   "cell_type": "code",
   "execution_count": null,
   "metadata": {},
   "outputs": [],
   "source": [
    "X = df[['cylinders', 'displacement', 'horsepower', 'weight',\n",
    "       'acceleration', 'model year']]\n",
    "Y = df['mpg']\n",
    "results = regress(Y,X)\n",
    "results.summary(results) "
   ]
  },
  {
   "cell_type": "markdown",
   "metadata": {},
   "source": [
    "<div id=\"ex2\"></div>\n",
    "\n",
    "### EXERCÍCIO 2\n",
    "\n",
    "Remova a variável com maior valor-*p* desde que não significante, ou seja, desde que seja maior do que o nível de significância (nesse caso, $10\\%$). Faça um novo ajuste de regressão sem essa primeira variável removida do modelo. "
   ]
  },
  {
   "cell_type": "code",
   "execution_count": null,
   "metadata": {},
   "outputs": [],
   "source": [
    "X = df[['cylinders', 'displacement', 'weight',\n",
    "       'acceleration', 'model year']]\n",
    "Y = df['mpg']\n",
    "results = regress(Y,X)\n",
    "results.summary(results) "
   ]
  },
  {
   "cell_type": "markdown",
   "metadata": {},
   "source": [
    "<div id=\"ex3\"></div>\n",
    "\n",
    "### EXERCÍCIO 3\n",
    "\n",
    "Do novo ajuste, verifique se há alguma variável explicativa não relevante ao modelo, ou seja, com valor-*p* maior do que $\\alpha=10\\%$. Agora faça um novo ajuste sem essa variável. \n",
    "\n",
    "<br>\n",
    "\n",
    "E assim sucessivamente até que todas as variáveis no modelo final tenham valor-*p* abaixo do nível de significância adotado ($10\\%$)."
   ]
  },
  {
   "cell_type": "code",
   "execution_count": null,
   "metadata": {},
   "outputs": [],
   "source": [
    "X = df[['weight', 'model year']]\n",
    "Y = df['mpg']\n",
    "results = regress(Y,X)\n",
    "results.summary(results) "
   ]
  },
  {
   "cell_type": "markdown",
   "metadata": {},
   "source": [
    "<div id=\"ex4\"></div>\n",
    "\n",
    "### EXERCÍCIO 4\n",
    "\n",
    "Na prática, em cada passo para remoção de uma variável é necessário avaliar a validade das suposições do modelo. Por questão de tempo, nesta atividade vamos fazer a análise detalhada das suposições do modelo apenas com o modelo final.\n",
    "\n",
    "Utilizando os resultados da regressão com duas variáveis explicativas do modelo final, discuta as suposições do modelo.\n",
    "\n",
    "**Atenção:** Para discutir a suposição de independência dos erros considerando o teste Durbin-Watson, veja [aqui](https://www.statology.org/durbin-watson-test-python/)."
   ]
  },
  {
   "cell_type": "code",
   "execution_count": null,
   "metadata": {},
   "outputs": [],
   "source": [
    "%matplotlib inline\n",
    "# ESCREVA SUA RESPOSTA AQUI\n",
    "%matplotlib inline\n",
    "X = df[['weight', 'model year']]\n",
    "Y = df['mpg']\n",
    "\n",
    "results = regress(Y, X)\n",
    "\n",
    "beta0 = results.params['const']\n",
    "beta1 = results.params['weight']\n",
    "beta2 = results.params['model year']\n",
    "\n",
    "\n",
    "residuo = df['mpg'] - (beta0 + beta1*df['weight'] + beta2*df['model year'])\n",
    "probplot(residuo, dist='norm', plot=plt)\n",
    "plt.show()"
   ]
  },
  {
   "cell_type": "code",
   "execution_count": null,
   "metadata": {},
   "outputs": [],
   "source": [
    "# ESCREVA SUA RESPOSTA AQUI"
   ]
  },
  {
   "cell_type": "code",
   "execution_count": null,
   "metadata": {},
   "outputs": [],
   "source": []
  },
  {
   "cell_type": "code",
   "execution_count": null,
   "metadata": {},
   "outputs": [],
   "source": []
  },
  {
   "cell_type": "markdown",
   "metadata": {},
   "source": [
    "<div id=\"ex5\"></div>\n",
    "\n",
    "### EXERCÍCIO 5\n",
    "\n",
    "Faça o plot 3D com as duas variáveis relevantes para explicar a variável `mpg`. Note que podemos fazer isso apenas porque ambas possuem valor-*p* < $10\\%$."
   ]
  },
  {
   "cell_type": "code",
   "execution_count": null,
   "metadata": {},
   "outputs": [],
   "source": [
    "# PARA ROTACIONAR GRÁFICO 3D\n",
    "%matplotlib notebook"
   ]
  },
  {
   "cell_type": "code",
   "execution_count": null,
   "metadata": {},
   "outputs": [],
   "source": [
    "# ESCREVA SEU CÓDIGO AQUI"
   ]
  },
  {
   "cell_type": "code",
   "execution_count": null,
   "metadata": {},
   "outputs": [],
   "source": []
  },
  {
   "cell_type": "code",
   "execution_count": null,
   "metadata": {},
   "outputs": [],
   "source": []
  },
  {
   "cell_type": "markdown",
   "metadata": {},
   "source": [
    "**OBSERVAÇÃO**\n",
    "\n",
    "Note que se o modelo final ficasse com mais do que duas variáveis preditoras com valor *p* < 10%, então um gráfico 3D não seria adequado e nem informativo para conseguir avaliar o modelo ajustado sob os pontos!!"
   ]
  },
  {
   "cell_type": "markdown",
   "metadata": {},
   "source": [
    "# Referências\n",
    "\n",
    "1. Montogmery e Runger. Capítulo 12 - Regressão linear Múltipla\n",
    "1. Magalhães e Lima, seção 9.5. Regressão Linear Simples\n",
    "1. http://www.statsmodels.org/dev/diagnostic.html\n",
    "1. [http://connor-johnson.com/2014/02/18/linear-regression-with-python/](http://connor-johnson.com/2014/02/18/linear-regression-with-python/)\n"
   ]
  },
  {
   "cell_type": "code",
   "execution_count": null,
   "metadata": {},
   "outputs": [],
   "source": []
  },
  {
   "cell_type": "code",
   "execution_count": null,
   "metadata": {},
   "outputs": [],
   "source": []
  },
  {
   "cell_type": "code",
   "execution_count": null,
   "metadata": {},
   "outputs": [],
   "source": []
  }
 ],
 "metadata": {
  "hide_input": false,
  "kernelspec": {
   "display_name": "Python 3 (ipykernel)",
   "language": "python",
   "name": "python3"
  },
  "language_info": {
   "codemirror_mode": {
    "name": "ipython",
    "version": 3
   },
   "file_extension": ".py",
   "mimetype": "text/x-python",
   "name": "python",
   "nbconvert_exporter": "python",
   "pygments_lexer": "ipython3",
   "version": "3.11.5"
  }
 },
 "nbformat": 4,
 "nbformat_minor": 2
}
