{
 "cells": [
  {
   "cell_type": "markdown",
   "metadata": {},
   "source": [
    "___\n",
    "# Exemplo: <p> <center> Distribuição Poisson\n",
    "\n",
    "___\n",
    "## Aula 17"
   ]
  },
  {
   "cell_type": "markdown",
   "metadata": {},
   "source": [
    "___\n",
    "## Lista de comandos:\n",
    "\n",
    "Comandos quando $X\\sim Poisson(\\mu)$\n",
    "\n",
    "- $P(X=k)$: `stats.poisson.pmf(k,mu)`\n",
    "- $P(X\\leq k)$: `stats.poisson.cdf(k, mu)`\n",
    "- $E(X)$: `stats.poisson.mean(mu)`\n",
    "- $Var(X)$: `stats.poisson.var(mu)`\n",
    "- $DP(X)$: `stats.poisson.std(mu)`\n",
    "\n",
    "Link: https://docs.scipy.org/doc/scipy/reference/generated/scipy.stats.poisson.html"
   ]
  },
  {
   "cell_type": "code",
   "execution_count": 11,
   "metadata": {},
   "outputs": [],
   "source": [
    "from scipy import stats"
   ]
  },
  {
   "cell_type": "markdown",
   "metadata": {},
   "source": [
    "O número de conversas que se iniciam entre usuário e chatbot em um site e-commerce ocorre a uma taxa média de 4 a cada minuto.\n"
   ]
  },
  {
   "cell_type": "raw",
   "metadata": {},
   "source": [
    "mu : valor médio por minuto\n",
    "mu = 4\n",
    "\n",
    "X: numero de conversas entre usuario e chatbot por minuto\n"
   ]
  },
  {
   "cell_type": "markdown",
   "metadata": {},
   "source": [
    "a) Calcule a probabilidade de ocorrer 3 conversas entre usuário e chatbot em um minuto qualquer do dia?\n",
    "\n",
    "*Resposta esperada: 0.19536681481316454*"
   ]
  },
  {
   "cell_type": "code",
   "execution_count": 12,
   "metadata": {},
   "outputs": [
    {
     "data": {
      "text/plain": [
       "0.19536681481316454"
      ]
     },
     "execution_count": 12,
     "metadata": {},
     "output_type": "execute_result"
    }
   ],
   "source": [
    "media = 4\n",
    "stats.poisson.pmf(3, media)"
   ]
  },
  {
   "cell_type": "markdown",
   "metadata": {},
   "source": [
    "b) Calcule a probabilidade de ocorrer **menos de 3** conversas entre usuário e chatbot em um minuto qualquer do dia.\n",
    "\n",
    "*Resposta esperada: 0.23810330555354436*"
   ]
  },
  {
   "cell_type": "code",
   "execution_count": 13,
   "metadata": {},
   "outputs": [
    {
     "data": {
      "text/plain": [
       "0.23810330555354436"
      ]
     },
     "execution_count": 13,
     "metadata": {},
     "output_type": "execute_result"
    }
   ],
   "source": [
    "stats.poisson.cdf(2, media)"
   ]
  },
  {
   "cell_type": "markdown",
   "metadata": {},
   "source": [
    "c) Calcule a probabilidade de ocorrer **menos de 4** conversas entre usuário e chatbot em um minuto qualquer do dia, **sabendo que houve pelo menos 1 conversa entre usuário e chatbot**.\n",
    "\n",
    "*Resposta esperada: 0.42290016824554516*"
   ]
  },
  {
   "cell_type": "code",
   "execution_count": 16,
   "metadata": {},
   "outputs": [
    {
     "data": {
      "text/plain": [
       "0.42290016824554516"
      ]
     },
     "execution_count": 16,
     "metadata": {},
     "output_type": "execute_result"
    }
   ],
   "source": [
    "# P(X < 4 | X >= 1)\n",
    "(stats.poisson.cdf(3, media) - stats.poisson.cdf(0, media)) / (1 - stats.poisson.cdf(0, media))"
   ]
  },
  {
   "cell_type": "markdown",
   "metadata": {},
   "source": [
    "**EXTRA:** Pergunta a cada 2 minutos:\n",
    "Calcule a probabilidade de ocorrem exatamente 3 inícios de conversa a cada **dois minutos** quaisquer do dia? \n",
    "\n",
    "*Resposta esperada: 0.028626144247680996*"
   ]
  },
  {
   "cell_type": "code",
   "execution_count": 17,
   "metadata": {},
   "outputs": [
    {
     "data": {
      "text/plain": [
       "0.028626144247680996"
      ]
     },
     "execution_count": 17,
     "metadata": {},
     "output_type": "execute_result"
    }
   ],
   "source": [
    "media_2 = media * 2\n",
    "stats.poisson.pmf(3, media_2)"
   ]
  }
 ],
 "metadata": {
  "kernelspec": {
   "display_name": "Python 3",
   "language": "python",
   "name": "python3"
  },
  "language_info": {
   "codemirror_mode": {
    "name": "ipython",
    "version": 3
   },
   "file_extension": ".py",
   "mimetype": "text/x-python",
   "name": "python",
   "nbconvert_exporter": "python",
   "pygments_lexer": "ipython3",
   "version": "3.11.4"
  }
 },
 "nbformat": 4,
 "nbformat_minor": 2
}
