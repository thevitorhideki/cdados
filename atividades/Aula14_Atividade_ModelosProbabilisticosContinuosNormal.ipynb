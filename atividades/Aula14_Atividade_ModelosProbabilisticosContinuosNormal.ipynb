{
 "cells": [
  {
   "cell_type": "markdown",
   "metadata": {},
   "source": [
    "___\n",
    "# Atividade: <p> <center> Modelos probabilísticos contínuos e Dados\n",
    "___\n",
    "\n",
    "## Aula 14\n",
    "\n",
    "**Objetivo da aula:** Ao final desta aula, o aluno deve ser capaz de descrever e aplicar as distribuições de probabilidades adequadas para variáveis aleatórias contínuas considerando modelos probabilísticos contínuos já bem definidos na literatura estatística."
   ]
  },
  {
   "cell_type": "markdown",
   "metadata": {},
   "source": [
    "___\n",
    "<div id=\"indice\"></div>\n",
    "\n",
    "## Índice\n",
    "\n",
    "- [Teoria: Distribuição Normal em Python](#teoria)\n",
    "- [Problema: Concentração de poluente em um tanque de combustível](#problema)\n",
    "    - [Modelo teórico](#modelo-teorico)\n",
    "        - [Exercício 1](#ex1)\n",
    "        - [Exercício 2](#ex2)\n",
    "        - [Exercício 3](#ex3)\n",
    "        - [Exercício 4](#ex4)\n",
    "    - [Resultados empíricos](#resultados-empiricos)\n",
    "        - [Exercício 5](#ex5)\n",
    "        - [Exercício 6](#ex6)\n",
    "    - [Comparação: resultados empíricos *vs* modelo teórico](#comparacao)\n",
    "        - [Exercício 7](#ex7)\n",
    "        - [Exercício 8](#ex8)\n",
    "        - [Exercício 9](#ex9)\n",
    "        - [Exercício 10](#ex10)\n",
    "- [Normal Padrão](#z)        \n",
    "     - [Exercício 11](#ex11)\n",
    "- [Lista de comandos utilizados neste notebook](#comandos)"
   ]
  },
  {
   "cell_type": "code",
   "execution_count": 1,
   "metadata": {},
   "outputs": [],
   "source": [
    "%matplotlib inline\n",
    "import pandas as pd\n",
    "import matplotlib.pyplot as plt\n",
    "import numpy as np\n",
    "from math import sqrt\n",
    "\n",
    "from scipy import stats #importa apenas as funções de estatísticas da biblioteca SciPy."
   ]
  },
  {
   "cell_type": "markdown",
   "metadata": {},
   "source": [
    "___\n",
    "\n",
    "<div id=\"teoria\"></div>\n",
    "\n",
    "## Teoria: Distribuição Normal em Python\n",
    "\n",
    "![Caixa de galton](LegalTameChanticleer-size_restricted.gif)\n",
    "\n",
    "[Fonte: https://www.youtube.com/watch?v=UCmPmkHqHXk](https://www.youtube.com/watch?v=UCmPmkHqHXk&t=271s)\n",
    "\n",
    "A biblioteca SciPy está cheia de funções para nos ajudar a trabalhar com variáveis aleatórias! https://en.wikipedia.org/wiki/SciPy\n",
    "\n",
    "Algumas funções úteis para desenvolver seu código considerando a distribuição Normal: https://docs.scipy.org/doc/scipy/reference/generated/scipy.stats.norm.html\n",
    "\n",
    "Lembrando que vamos assumir que $X\\sim N(\\mu, \\sigma^2)$.\n",
    "\n",
    "Logo, faça `from scipy import stats`, então:\n",
    "\n",
    "* $f(x)$: `stats.norm.pdf(x, loc=mu, scale=sigma)`\n",
    "\n",
    "* $P(X\\leq x)$: `stats.norm.cdf(x, loc=mu, scale=sigma)`\n",
    "\n",
    "* $x$ tal que $p=P(X\\leq x)$: `stats.norm.ppf(p, loc=mu, scale=sigma)`\n",
    "\n",
    "* $E(X)$: `stats.norm.mean(loc=mu, scale=sigma)`\n",
    "\n",
    "* $Var(X)$: `stats.norm.var(loc=mu, scale=sigma)`\n",
    "\n",
    "* $DP(X)$: `stats.norm.std(loc=mu, scale=sigma)`\n",
    "\n",
    "[Volta ao Índice](#indice)"
   ]
  },
  {
   "cell_type": "markdown",
   "metadata": {},
   "source": [
    "___\n",
    "\n",
    "<div id=\"problema\"></div>\n",
    "\n",
    "# Problema: Concentração de poluente em um tanque de combustível\n",
    "\n",
    "A concentração (em $\\mu g/L$) de um determinado poluente em um tanque de combustível é modelada como uma normal com média 500 e variância 645.\n",
    "\n",
    "Nesse caso, vamos assumir que a variável aleatória contínua é dada por:\n",
    "\n",
    "- $X$: concentração do poluente em um tanque de combustível, em $\\mu g/L$.\n",
    "\n",
    "Pelo modelo teórico, temos: $X\\sim N(500, 645).$ Note que $\\sigma^2 = 645$, então devemos utilizar $\\sigma = \\sqrt{645}$ nas funções do `scipy.stats`.\n",
    "\n",
    "[Volta ao Índice](#indice)"
   ]
  },
  {
   "cell_type": "markdown",
   "metadata": {},
   "source": [
    "<div id=\"modelo-teorico\"></div>\n",
    "\n",
    "## Modelo teórico\n",
    "\n",
    "<div id=\"ex1\"></div>\n",
    "\n",
    "### EXERCÍCIO 1\n",
    "\n",
    "Plote a função de densidade de probabilidade **e** a função cumulativa considerando o modelo utilizado. <br>\n",
    "Use o `plt.subplot` com 1 linha e 2 colunas para construir esses dois gráficos.\n",
    "\n",
    "\n",
    "**Dica 1**: fizemos isso com a distribuição exponencial na Aula 16.\n",
    "\n",
    "**Dica 2**: utilize o intervalo entre 350 e 650 para os valores de $x$."
   ]
  },
  {
   "cell_type": "code",
   "execution_count": 2,
   "metadata": {},
   "outputs": [
    {
     "data": {
      "text/plain": [
       "[<matplotlib.lines.Line2D at 0x7fd00711eb50>]"
      ]
     },
     "execution_count": 2,
     "metadata": {},
     "output_type": "execute_result"
    },
    {
     "data": {
      "image/png": "[encoded data removed]",
      "text/plain": [
       "<Figure size 640x480 with 2 Axes>"
      ]
     },
     "metadata": {},
     "output_type": "display_data"
    }
   ],
   "source": [
    "plt.subplot(121)\n",
    "media = 500\n",
    "dp = 645 ** 0.5\n",
    "x = np.linspace(350, 650, 1000)\n",
    "\n",
    "fx_pdf = stats.norm.pdf(x, loc=media, scale=dp)\n",
    "plt.plot(x, fx_pdf)\n",
    "\n",
    "plt.subplot(122)\n",
    "fx_cdf = stats.norm.cdf(x, loc=media, scale=dp)\n",
    "plt.plot(x, fx_cdf)\n"
   ]
  },
  {
   "cell_type": "markdown",
   "metadata": {},
   "source": [
    "[Volta ao Índice](#indice)"
   ]
  },
  {
   "cell_type": "markdown",
   "metadata": {},
   "source": [
    "<div id=\"ex2\"></div>\n",
    "\n",
    "### EXERCÍCIO 2\n",
    "\n",
    "Foi desenvolvido um sensor que acende uma luz no painel do automóvel para avisar o motorista que a concentração do poluente no tanque de combustível está crítica, ou seja, ultrapassa 550 $\\mu g/L$. Responda:\n",
    "\n",
    "1. Sabendo que a luz acendeu, qual é a probabilidade da concentração do poluente ser superior a 580 $\\mu g/L$?\n",
    "2. Sabendo que a luz acendeu, qual é a probabilidade da concentração do poluente ser inferior a 560 $\\mu g/L$?\n",
    "\n",
    "*Resposta esperada: (1) 0.03333307956104959 (2) 0.6294099002523195*"
   ]
  },
  {
   "cell_type": "code",
   "execution_count": 3,
   "metadata": {},
   "outputs": [
    {
     "data": {
      "text/plain": [
       "0.03333307956104959"
      ]
     },
     "execution_count": 3,
     "metadata": {},
     "output_type": "execute_result"
    }
   ],
   "source": [
    "(1 - stats.norm.cdf(580, loc=media, scale=dp)) / (1 - stats.norm.cdf(550, loc=media, scale=dp))"
   ]
  },
  {
   "cell_type": "code",
   "execution_count": 4,
   "metadata": {},
   "outputs": [
    {
     "data": {
      "text/plain": [
       "0.6294099002523195"
      ]
     },
     "execution_count": 4,
     "metadata": {},
     "output_type": "execute_result"
    }
   ],
   "source": [
    "(stats.norm.cdf(560, loc=media, scale=dp) - stats.norm.cdf(550, loc=media, scale=dp)) / (1 - stats.norm.cdf(550, loc=media, scale=dp))"
   ]
  },
  {
   "cell_type": "markdown",
   "metadata": {},
   "source": [
    "[Volta ao Índice](#indice)"
   ]
  },
  {
   "cell_type": "markdown",
   "metadata": {},
   "source": [
    "<div id=\"ex3\"></div>\n",
    "\n",
    "### EXERCÍCIO 3\n",
    "\n",
    "A partir de qual concentração de poluente a luz do painel deveria acender para que apenas as 10% maiores concentrações fossem consideradas críticas? E para que apenas as 0,1% maiores concentrações fossem consideradas críticas?\n",
    "\n",
    "*Resposta esperada: 532.547373131662 e 578.4821669580019*"
   ]
  },
  {
   "cell_type": "code",
   "execution_count": 5,
   "metadata": {},
   "outputs": [
    {
     "data": {
      "text/plain": [
       "532.547373131662"
      ]
     },
     "execution_count": 5,
     "metadata": {},
     "output_type": "execute_result"
    }
   ],
   "source": [
    "stats.norm.ppf(0.90, loc=media, scale=dp)"
   ]
  },
  {
   "cell_type": "code",
   "execution_count": 6,
   "metadata": {},
   "outputs": [
    {
     "data": {
      "text/plain": [
       "578.4821669580019"
      ]
     },
     "execution_count": 6,
     "metadata": {},
     "output_type": "execute_result"
    }
   ],
   "source": [
    "stats.norm.ppf(1-0.001, loc=media, scale=dp)"
   ]
  },
  {
   "cell_type": "markdown",
   "metadata": {},
   "source": [
    "[Volta ao Índice](#indice)"
   ]
  },
  {
   "cell_type": "markdown",
   "metadata": {},
   "source": [
    "<div id=\"ex4\"></div>\n",
    "\n",
    "### EXERCÍCIO 4\n",
    "\n",
    "Foi desenvolvida uma nova técnica que inicialmente aumenta a concentração do poluente em 100 $\\mu g/L$ e depois reduz a nova concentração em 40%. Qual será a nova média e desvio padrão da concentração do poluente se aplicarmos essa nova técnica? Justifique sua resposta.\n",
    "\n",
    "**Dica:** utilize as propriedades de esperança e variância.\n",
    "\n",
    "*Resposta esperada: 360 e 15.238110119040353*"
   ]
  },
  {
   "cell_type": "code",
   "execution_count": 7,
   "metadata": {},
   "outputs": [
    {
     "data": {
      "text/plain": [
       "360.0"
      ]
     },
     "execution_count": 7,
     "metadata": {},
     "output_type": "execute_result"
    }
   ],
   "source": [
    "(media + 100) * 0.6"
   ]
  },
  {
   "cell_type": "code",
   "execution_count": 8,
   "metadata": {},
   "outputs": [
    {
     "data": {
      "text/plain": [
       "15.238110119040353"
      ]
     },
     "execution_count": 8,
     "metadata": {},
     "output_type": "execute_result"
    }
   ],
   "source": [
    "dp * 0.6"
   ]
  },
  {
   "cell_type": "markdown",
   "metadata": {},
   "source": [
    "[Volta ao Índice](#indice)"
   ]
  },
  {
   "cell_type": "markdown",
   "metadata": {},
   "source": [
    "<div id=\"resultados-empiricos\"></div>\n",
    "\n",
    "## Resultados empíricos\n",
    "\n",
    "O arquivo `poluentes.csv` contém observações da concentração do poluente em tanques de combustível."
   ]
  },
  {
   "cell_type": "code",
   "execution_count": 9,
   "metadata": {
    "scrolled": true
   },
   "outputs": [
    {
     "data": {
      "text/html": [
       "<div>\n",
       "<style scoped>\n",
       "    .dataframe tbody tr th:only-of-type {\n",
       "        vertical-align: middle;\n",
       "    }\n",
       "\n",
       "    .dataframe tbody tr th {\n",
       "        vertical-align: top;\n",
       "    }\n",
       "\n",
       "    .dataframe thead th {\n",
       "        text-align: right;\n",
       "    }\n",
       "</style>\n",
       "<table border=\"1\" class=\"dataframe\">\n",
       "  <thead>\n",
       "    <tr style=\"text-align: right;\">\n",
       "      <th></th>\n",
       "      <th>concentracao</th>\n",
       "    </tr>\n",
       "  </thead>\n",
       "  <tbody>\n",
       "    <tr>\n",
       "      <th>0</th>\n",
       "      <td>505.9817</td>\n",
       "    </tr>\n",
       "    <tr>\n",
       "      <th>1</th>\n",
       "      <td>493.6099</td>\n",
       "    </tr>\n",
       "    <tr>\n",
       "      <th>2</th>\n",
       "      <td>512.1535</td>\n",
       "    </tr>\n",
       "    <tr>\n",
       "      <th>3</th>\n",
       "      <td>484.6500</td>\n",
       "    </tr>\n",
       "    <tr>\n",
       "      <th>4</th>\n",
       "      <td>517.8975</td>\n",
       "    </tr>\n",
       "  </tbody>\n",
       "</table>\n",
       "</div>"
      ],
      "text/plain": [
       "   concentracao\n",
       "0      505.9817\n",
       "1      493.6099\n",
       "2      512.1535\n",
       "3      484.6500\n",
       "4      517.8975"
      ]
     },
     "execution_count": 9,
     "metadata": {},
     "output_type": "execute_result"
    }
   ],
   "source": [
    "poluentes = pd.read_csv('poluentes.csv', header=None)\n",
    "poluentes.columns = ['concentracao']\n",
    "concentracao = poluentes['concentracao']\n",
    "poluentes.head()"
   ]
  },
  {
   "cell_type": "markdown",
   "metadata": {},
   "source": [
    "[Volta ao Índice](#indice)"
   ]
  },
  {
   "cell_type": "markdown",
   "metadata": {},
   "source": [
    "<div id=\"ex5\"></div>\n",
    "\n",
    "### EXERCÍCIO 5\n",
    "\n",
    "Considerando medidas-resumo, faça uma **análise descritiva** desses valores. Baseado nos dados, estime os valores dos parâmetros do modelo normal (média $\\mu$ e desvio padrão $\\sigma$).\n",
    "\n",
    "*Resposta esperada: média=500.572255 desvio padrão=25.358164991137812*"
   ]
  },
  {
   "cell_type": "code",
   "execution_count": 10,
   "metadata": {},
   "outputs": [
    {
     "data": {
      "text/plain": [
       "500.57225525"
      ]
     },
     "execution_count": 10,
     "metadata": {},
     "output_type": "execute_result"
    }
   ],
   "source": [
    "media_modelo = concentracao.mean()\n",
    "media_modelo"
   ]
  },
  {
   "cell_type": "code",
   "execution_count": 11,
   "metadata": {},
   "outputs": [
    {
     "data": {
      "text/plain": [
       "25.358164991137812"
      ]
     },
     "execution_count": 11,
     "metadata": {},
     "output_type": "execute_result"
    }
   ],
   "source": [
    "dp_modelo = concentracao.std()\n",
    "dp_modelo"
   ]
  },
  {
   "cell_type": "markdown",
   "metadata": {},
   "source": [
    "[Volta ao Índice](#indice)"
   ]
  },
  {
   "cell_type": "markdown",
   "metadata": {},
   "source": [
    "<div id=\"ex6\"></div>\n",
    "\n",
    "### EXERCÍCIO 6\n",
    "\n",
    "Verifique quais seriam as respostas para o [Exercício 2](#ex2) utilizando os dados. Para isso, considere apenas as concentrações acima de 550 $\\mu g/L$. Dentre essas concentrações, calcule a frequência relativa das que são:\n",
    "\n",
    "1. Superiores a 580 $\\mu g/L$.\n",
    "2. Inferiores a 560 $\\mu g/L$.\n",
    "\n",
    "Discuta como esses valores se comparam às respostas do exercício 2. Por que são encontradas essas diferenças?\n",
    "\n",
    "*Resposta esperada: (1) 0.14285714285714285 (2) 0.7142857142857143*"
   ]
  },
  {
   "cell_type": "code",
   "execution_count": 12,
   "metadata": {},
   "outputs": [
    {
     "data": {
      "text/plain": [
       "0.14285714285714285"
      ]
     },
     "execution_count": 12,
     "metadata": {},
     "output_type": "execute_result"
    }
   ],
   "source": [
    "maior_550 = poluentes.loc[poluentes['concentracao'] > 550, :]\n",
    "maior_580 = maior_550.loc[poluentes['concentracao'] > 580, :]\n",
    "maior_550_len = len(maior_550)\n",
    "maior_580_len = len(maior_580)\n",
    "\n",
    "maior_580_len / maior_550_len"
   ]
  },
  {
   "cell_type": "code",
   "execution_count": 13,
   "metadata": {},
   "outputs": [
    {
     "data": {
      "text/plain": [
       "0.7142857142857143"
      ]
     },
     "execution_count": 13,
     "metadata": {},
     "output_type": "execute_result"
    }
   ],
   "source": [
    "menor_560 = maior_550.loc[poluentes['concentracao'] < 560, :]\n",
    "menor_560_len = len(menor_560)\n",
    "\n",
    "menor_560_len / maior_550_len"
   ]
  },
  {
   "cell_type": "markdown",
   "metadata": {},
   "source": [
    "[Volta ao Índice](#indice)"
   ]
  },
  {
   "cell_type": "markdown",
   "metadata": {},
   "source": [
    "<div id=\"comparacao\"></div>\n",
    "\n",
    "## Comparação: resultados empíricos *vs* modelo teórico"
   ]
  },
  {
   "cell_type": "markdown",
   "metadata": {},
   "source": [
    "<div id=\"ex7\"></div>\n",
    "    \n",
    "### EXERCÍCIO 7\n",
    "\n",
    "> Uma maneira de sabermos se uma escolha de modelo teórico é adequado para descever o comportamento de uma variável mensurada em um problema real é utilizarmos a função `probplot()`. <p> \n",
    "Essa função `probplot()` traça uma reta indicando o que seria esperado do ponto de vista teórico utilizando a distribuição teórica *versus* os dados reais encontrados. Quanto mais próximos os pontos estiverem dessa reta, mais provável será que os dados sigam a distribuição escolhida nessa função.\n",
    "    \n",
    "\n",
    "Consulte a [documentação da função `probplot()`](https://docs.scipy.org/doc/scipy/reference/generated/scipy.stats.probplot.html) e gere o `probplot()` com a distribuição normal. \n",
    "\n",
    "Discuta se é razoável assumirmos que os dados vieram de uma distribuição normal. **Dica**: para visualizar o gráfico utilize o argumento `plot=plt` na chamada da função `probplot()`."
   ]
  },
  {
   "cell_type": "code",
   "execution_count": 21,
   "metadata": {},
   "outputs": [
    {
     "data": {
      "image/png": "[encoded data removed]",
      "text/plain": [
       "<Figure size 640x480 with 1 Axes>"
      ]
     },
     "metadata": {},
     "output_type": "display_data"
    }
   ],
   "source": [
    "stats.probplot(concentracao, dist=stats.norm, plot=plt)\n",
    "plt.show()"
   ]
  },
  {
   "cell_type": "markdown",
   "metadata": {},
   "source": [
    "[Volta ao Índice](#indice)"
   ]
  },
  {
   "cell_type": "markdown",
   "metadata": {},
   "source": [
    "<div id=\"ex8\"></div>\n",
    "    \n",
    "### EXERCÍCIO 8\n",
    "\n",
    "Construa um histograma para visualizar os dados de concentração de poluentes divididos em 21 faixas. **Dica**: consulte a documentação da função aqui: [https://matplotlib.org/3.2.1/api/_as_gen/matplotlib.pyplot.hist.html](https://matplotlib.org/3.2.1/api/_as_gen/matplotlib.pyplot.hist.html). <br>\n",
    "Além disso, há um exemplo de histograma no *notebook* Atividade da Aula 16 (distribuição exponencial).\n",
    "\n",
    "Plote também a função de densidade de probabilidade (f.d.p.) da distribuição normal utilizando os novos parâmetros calculados a partir dos dados."
   ]
  },
  {
   "cell_type": "code",
   "execution_count": 23,
   "metadata": {},
   "outputs": [
    {
     "data": {
      "image/png": "[encoded data removed]",
      "text/plain": [
       "<Figure size 640x480 with 1 Axes>"
      ]
     },
     "metadata": {},
     "output_type": "display_data"
    }
   ],
   "source": [
    "plt.hist(concentracao, bins=21)\n",
    "plt.show()"
   ]
  },
  {
   "cell_type": "code",
   "execution_count": 40,
   "metadata": {},
   "outputs": [
    {
     "data": {
      "text/plain": [
       "[<matplotlib.lines.Line2D at 0x7fcfef321910>]"
      ]
     },
     "execution_count": 40,
     "metadata": {},
     "output_type": "execute_result"
    },
    {
     "data": {
      "image/png": "[encoded data removed]",
      "text/plain": [
       "<Figure size 640x480 with 1 Axes>"
      ]
     },
     "metadata": {},
     "output_type": "display_data"
    }
   ],
   "source": [
    "min = concentracao.min()\n",
    "max = concentracao.max()\n",
    "x = np.arange(min, max, 1)\n",
    "fx = stats.norm.pdf(x, loc=media_modelo, scale=dp_modelo)\n",
    "\n",
    "plt.plot(x, fx)"
   ]
  },
  {
   "cell_type": "markdown",
   "metadata": {},
   "source": [
    "[Volta ao Índice](#indice)"
   ]
  },
  {
   "cell_type": "markdown",
   "metadata": {},
   "source": [
    "<div id=\"ex9\"></div>\n",
    "\n",
    "### EXERCÍCIO 9\n",
    "\n",
    "Vamos simular a aplicação da técnica introduzida no [Exercício 4](#ex4). Crie uma nova coluna em `poluentes` chamada `'nova concentracao'`. Essa coluna deve ser o resultado da aplicação da técnica do exercício 4 em cada valor da coluna `'concentracao'`, ou seja, para cada valor de concentração, adicionar 100 e aplicar a redução de 40%."
   ]
  },
  {
   "cell_type": "code",
   "execution_count": 41,
   "metadata": {},
   "outputs": [],
   "source": [
    "poluentes['nova concentracao'] = (poluentes['concentracao'] + 100) * 0.6"
   ]
  },
  {
   "cell_type": "markdown",
   "metadata": {},
   "source": [
    "[Volta ao Índice](#indice)"
   ]
  },
  {
   "cell_type": "markdown",
   "metadata": {},
   "source": [
    "<div id=\"ex10\"></div>\n",
    "\n",
    "### EXERCÍCIO 10\n",
    "\n",
    "Calcule a média e o desvio padrão dessa nova coluna `'nova concentracao'`. Discuta como ela se compara com relação aos valores teóricos obtidos no [exercício 4](#ex4).\n",
    "\n",
    "*Resposta esperada: Média: 360.3433531500001 DP: 15.21489899468268*"
   ]
  },
  {
   "cell_type": "code",
   "execution_count": 45,
   "metadata": {},
   "outputs": [],
   "source": [
    "media_nova = poluentes['nova concentracao'].mean()\n",
    "dp_nova = poluentes['nova concentracao'].std()"
   ]
  },
  {
   "cell_type": "markdown",
   "metadata": {},
   "source": [
    "[Volta ao Índice](#indice)"
   ]
  },
  {
   "cell_type": "markdown",
   "metadata": {},
   "source": [
    "___\n",
    "\n",
    "<div id=\"z\"></div>\n",
    "\n",
    "# Normal Padrão\n",
    "\n",
    "Seja $X$ uma variável aleatória com média $\\mu$ e variância $\\sigma^2$, ou seja, \n",
    "\n",
    "$\\qquad\\qquad X\\sim N(\\mu, \\sigma^2)$.\n",
    "\n",
    "Então a variável aleatória definida por\n",
    "\n",
    "$\\qquad\\qquad Z=\\frac{(X−\\mu)}{\\sigma}$\n",
    "\n",
    "terá média zero e variância 1. \n",
    "\n",
    "Ainda, prova-se que\n",
    "\n",
    "$\\qquad\\qquad Z=\\frac{(X−\\mu)}{\\sigma} \\sim N(0;1)$,\n",
    "\n",
    "pois toda combinação linear de uma v.a. com distribuição normal também é uma normal."
   ]
  },
  {
   "cell_type": "markdown",
   "metadata": {},
   "source": [
    "[Volta ao Índice](#indice)"
   ]
  },
  {
   "cell_type": "markdown",
   "metadata": {},
   "source": [
    "<div id=\"ex11\"></div>\n",
    "\n",
    "### EXERCÍCIO 11\n",
    "\n",
    "Se $X\\sim N(500, 645)$, então **UTILIZANDO A DISTRIBUIÇÃO NORMAL PADRÃO**, calcule:\n",
    "* P(X < 480)\n",
    "* P(X > 509)\n",
    "* Valor de x tal que P(X < x) seja igual a 5%."
   ]
  },
  {
   "cell_type": "code",
   "execution_count": 53,
   "metadata": {},
   "outputs": [
    {
     "data": {
      "text/plain": [
       "0.21549483921649415"
      ]
     },
     "execution_count": 53,
     "metadata": {},
     "output_type": "execute_result"
    }
   ],
   "source": [
    "z_menor_que_480 = (480-500) / (645 ** 0.5)\n",
    "\n",
    "stats.norm.cdf(z_menor_que_480)"
   ]
  },
  {
   "cell_type": "code",
   "execution_count": 54,
   "metadata": {},
   "outputs": [
    {
     "data": {
      "text/plain": [
       "0.361529063464055"
      ]
     },
     "execution_count": 54,
     "metadata": {},
     "output_type": "execute_result"
    }
   ],
   "source": [
    "z_maior_que_509 = (509 - 500) / (645 ** 0.5)\n",
    "\n",
    "1 - stats.norm.cdf(z_maior_que_509)"
   ]
  },
  {
   "cell_type": "code",
   "execution_count": 58,
   "metadata": {},
   "outputs": [
    {
     "data": {
      "text/plain": [
       "458.22589883801754"
      ]
     },
     "execution_count": 58,
     "metadata": {},
     "output_type": "execute_result"
    }
   ],
   "source": [
    "# 0.05 = (x - 500) / (645 ** 0.5)\n",
    "stats.norm.ppf(0.05) * 645 ** 0.5 + 500"
   ]
  },
  {
   "cell_type": "markdown",
   "metadata": {},
   "source": [
    "[Volta ao Índice](#indice)"
   ]
  },
  {
   "cell_type": "markdown",
   "metadata": {},
   "source": [
    "<div id=\"comandos\"></div>\n",
    "\n",
    "___\n",
    "\n",
    "## Lista de comandos utilizados neste notebook\n",
    "\n",
    "Os seguintes comandos foram utilizados neste jupyter notebook. Para facilitar sua consulta, escreva um resumo do que cada um deles faz:\n",
    "\n",
    "- [`.pdf`](#pmf-stats): ESCREVA AQUI O RESUMO\n",
    "- [`.cdf`](#pmf-stats): ESCREVA AQUI O RESUMO\n",
    "- [`.ppf`](#ppf): ESCREVA AQUI O RESUMO\n",
    "- [`.mean`](#pmf-stats): ESCREVA AQUI O RESUMO\n",
    "- [`.var`](#pmf-stats): ESCREVA AQUI O RESUMO\n"
   ]
  },
  {
   "cell_type": "markdown",
   "metadata": {},
   "source": [
    "[Volta ao Índice](#indice)"
   ]
  }
 ],
 "metadata": {
  "kernelspec": {
   "display_name": "Python 3",
   "language": "python",
   "name": "python3"
  },
  "language_info": {
   "codemirror_mode": {
    "name": "ipython",
    "version": 3
   },
   "file_extension": ".py",
   "mimetype": "text/x-python",
   "name": "python",
   "nbconvert_exporter": "python",
   "pygments_lexer": "ipython3",
   "version": "3.11.5"
  }
 },
 "nbformat": 4,
 "nbformat_minor": 4
}
