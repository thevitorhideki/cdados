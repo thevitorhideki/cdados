{
 "cells": [
  {
   "cell_type": "markdown",
   "metadata": {},
   "source": [
    "___\n",
    "# Atividade: <p> <center> Manipulação de um `DataFrame` com uso do **Pandas**\n",
    "___\n",
    "\n",
    "## Aula 01\n",
    "\n",
    "**Objetivo da aula:** ao fim desta aula, o aluno será capaz de realizar algumas manipulações e filtros em um `DataFrame` com auxílio do **Pandas**.\n"
   ]
  },
  {
   "cell_type": "markdown",
   "metadata": {},
   "source": [
    "<div id=\"indice\"></div>\n",
    "\n",
    "## Índice\n",
    "\n",
    "1. [Introdução](#introducao)\n",
    "    - [Glossário para base de dados: `WorldBank.xlsx`](#glossario)\n",
    "    - [Uso do **Pandas para manipular uma base de dados](#manipulacao)\n",
    "    - [Abrindo um arquivo de dados e visualizando seu conteúdo](#abrindo-arquivo)\n",
    "    \n",
    " \n",
    "2. [Começando a explorar um conjunto de dados](#comecando-exploracao)\n",
    "    - [Exercício 1](#ex1)\n",
    "    \n",
    "\n",
    "3. [Filtrando ou criando novo `DataFrame`](#filtrando)\n",
    "    - [Selecionando uma coluna (`Series`) de um `DataFrame`](#select1)\n",
    "    - [Selecionando mais de uma coluna de um `DataFrame`](#selectmais)<p>   \n",
    "    - [Uso do `loc[ , ]`](#loc)\n",
    "        - [Exercício 2](#ex2)\n",
    "    - [Uso do `iloc[ , ]`](#iloc)\n",
    "        - [Exercício 3](#ex3)\n",
    "    - [Um exemplo sobre a diferença entre `loc[ , ]` e `iloc[ , ]`](#diflociloc)\n",
    "        - [Exercício 4](#ex4)   \n",
    "    - [Selecionando linhas de um `DataFrame`](#selectlinhas)\n",
    "    - [Selecionando linhas de um `DataFrame` usando mais de uma condição](#selectlinhas-combinando)\n",
    "        - [Exercício 5](#ex5)   \n",
    "        - [Exercício 6](#ex6)   \n",
    "\n",
    "    \n",
    "4. [Resumo dos comandos](#resumo-comandos)"
   ]
  },
  {
   "cell_type": "markdown",
   "metadata": {},
   "source": [
    "___\n",
    "<div id=\"introducao\"></div>\n",
    "\n",
    "## 1. Introdução\n",
    "\n",
    "\n",
    "<div id=\"glossario\"></div>\n",
    "\n",
    "### Glossário para base de dados: `WorldBank.xlsx`\n",
    "\n",
    "Nesta atividade, será utilizado o arquivo `WorldBank.xlsx`. <br>\n",
    "A seguir, são apresentadas as variáveis e seus significados para identificar o que cada uma das colunas dessa base de dados significa:\n",
    "\n",
    "- **Country**: nome do país;\n",
    "- **Population**: tamanho populacional, ou seja, número total de indivíduos da população;\n",
    "- **GDPcapita**: produto interno bruto (PIB) per capita;\n",
    "- **surface**: área total do país, em km$^2$;\n",
    "- **region**: nome da região que país faz parte, sendo categorizada em: `africa_north`, `africa_sub_saharan`, `america_north`, `america_south`, `asia_west`, `east_asia_pacific`, `europe_east` e `europe_west`; e\n",
    "- **landlocked**: indica se país não tem fronteira com litoral, sendo categorizada em: `0`=com litoral; e `1`=sem litoral."
   ]
  },
  {
   "cell_type": "markdown",
   "metadata": {},
   "source": [
    "<div id=\"manipulacao\"></div>\n",
    "\n",
    "### Uso do **Pandas** para manipular uma base de dados\n",
    "\n",
    "A biblioteca [**Pandas**](https://pandas.pydata.org/docs/user_guide/index.html) é um conjunto de funções para o Python com intuito de trabalhar com *Data Science*. <br>\n",
    "Essa biblioteca permite, além de abrir diversos tipos de arquivos, trabalhar também com o ferramental de **Análise Exploratória** para responder perguntas sobre seus dados."
   ]
  },
  {
   "cell_type": "code",
   "execution_count": 1,
   "metadata": {},
   "outputs": [],
   "source": [
    "# Importando as bibliotecas necessárias para esta atividade\n",
    "import pandas as pd"
   ]
  },
  {
   "cell_type": "markdown",
   "metadata": {},
   "source": [
    "[Voltar ao Índice](#indice)"
   ]
  },
  {
   "cell_type": "markdown",
   "metadata": {},
   "source": [
    "<div id=\"abrindo-arquivo\"></div>\n",
    "\n",
    "### Abrindo um arquivo de dados e visualizando seu conteúdo\n",
    "\n",
    "Antes de executar um comando que abre um arquivo no formato Excel, é saudável verificar se o arquivo `WorldBank.xlsx` está salvo na mesma pasta do seu computador que contém este arquivo notebook. <p>\n",
    "O comando a seguir importa a biblioteca [**os**](https://docs.python.org/pt-br/3/library/os.html) e mostra a pasta de trabalho!"
   ]
  },
  {
   "cell_type": "code",
   "execution_count": 2,
   "metadata": {},
   "outputs": [],
   "source": [
    "# Importando biblioteca para Sistema Operacional\n",
    "import os"
   ]
  },
  {
   "cell_type": "code",
   "execution_count": 3,
   "metadata": {
    "scrolled": false
   },
   "outputs": [
    {
     "name": "stdout",
     "output_type": "stream",
     "text": [
      "Esperamos trabalhar no diretório: \n",
      "/home/vitorhpk/www/python/cdados/atividades\n",
      "\n"
     ]
    }
   ],
   "source": [
    "print(f'Esperamos trabalhar no diretório: \\n{os.getcwd()}\\n')"
   ]
  },
  {
   "cell_type": "code",
   "execution_count": 4,
   "metadata": {},
   "outputs": [
    {
     "name": "stdout",
     "output_type": "stream",
     "text": [
      "Parece que o arquivo WorldBank.xlsx está na mesma pasta do notebook, yay!\n"
     ]
    }
   ],
   "source": [
    "filename = 'WorldBank.xlsx'\n",
    "\n",
    "if filename in os.listdir():\n",
    "    print(f'Parece que o arquivo {filename} está na mesma pasta do notebook, yay!')\n",
    "    \n",
    "else:\n",
    "    print(f'Não encontrei o arquivo {filename}.\\n'\n",
    "          f'Esse deve ser salvo na mesma pasta em que se encontrar este arquivo jupyter notebook')"
   ]
  },
  {
   "cell_type": "markdown",
   "metadata": {},
   "source": [
    "**ATENÇÃO:** <br>\n",
    "Prosseguir nesta atividade apenas se a mensagem `Parece que o arquivo WorldBank.xlsx está na mesma pasta do notebook, yay!'` aparecer após ter executado o código acima.<br>\n",
    "\n",
    "...\n",
    "\n",
    "A seguir, o arquivo `WorldBank.xlsx` será aberto com uso da biblioteca **Pandas** e seu conteúdo será armazenado em uma variável nomeada `dados`."
   ]
  },
  {
   "cell_type": "code",
   "execution_count": 5,
   "metadata": {},
   "outputs": [],
   "source": [
    "dados = pd.read_excel('WorldBank.xlsx')\n",
    "\n",
    "# Se esse comando não funcionar, pode ser que você não tenha instalado a \n",
    "# biblioteca 'xlrd', leia a mensagem de erro até o fim.\n",
    "# Nesse caso, remova o # da linha abaixo paa fazer a instalação\n",
    "# !pip install xlrd"
   ]
  },
  {
   "cell_type": "markdown",
   "metadata": {},
   "source": [
    "...<p>\n",
    "Execute os comandos a seguir e reflita/discuta o que entendeu sobre essa nova variável `dados`:"
   ]
  },
  {
   "cell_type": "code",
   "execution_count": 6,
   "metadata": {},
   "outputs": [
    {
     "data": {
      "text/plain": [
       "pandas.core.frame.DataFrame"
      ]
     },
     "execution_count": 6,
     "metadata": {},
     "output_type": "execute_result"
    }
   ],
   "source": [
    "type(dados)"
   ]
  },
  {
   "cell_type": "code",
   "execution_count": 7,
   "metadata": {},
   "outputs": [
    {
     "data": {
      "text/plain": [
       "(168, 6)"
      ]
     },
     "execution_count": 7,
     "metadata": {},
     "output_type": "execute_result"
    }
   ],
   "source": [
    "dados.shape"
   ]
  },
  {
   "cell_type": "code",
   "execution_count": 8,
   "metadata": {
    "scrolled": true
   },
   "outputs": [
    {
     "data": {
      "text/plain": [
       "Country        object\n",
       "Population      int64\n",
       "GDPcapita     float64\n",
       "surface         int64\n",
       "region         object\n",
       "landlocked      int64\n",
       "dtype: object"
      ]
     },
     "execution_count": 8,
     "metadata": {},
     "output_type": "execute_result"
    }
   ],
   "source": [
    "dados.dtypes"
   ]
  },
  {
   "cell_type": "markdown",
   "metadata": {},
   "source": [
    "...<p>\n",
    "Com os *outputs* acima, é possível notar que `dados` é um objeto do tipo `DataFrame`, o tipo padrão usado no pandas para representar uma base de dados. <br> \n",
    "É um *dataframe* com 168 linhas e 6 colunas. <br>\n",
    "Por fim, é possível identificar qual é o tipo de informação armazenado em cada coluna (`Series`), como, por exemplo, `Population` é uma `Series` do tipo número inteiro, já `GDPcapita` armazena números com ponto flutuante (reais) com precisão simples, onde os dados de ponto flutuante são aproximados.\n",
    "\n",
    "A seguir, vamos ver parte do que está contido em `dados`:"
   ]
  },
  {
   "cell_type": "code",
   "execution_count": 9,
   "metadata": {},
   "outputs": [
    {
     "data": {
      "text/html": [
       "<div>\n",
       "<style scoped>\n",
       "    .dataframe tbody tr th:only-of-type {\n",
       "        vertical-align: middle;\n",
       "    }\n",
       "\n",
       "    .dataframe tbody tr th {\n",
       "        vertical-align: top;\n",
       "    }\n",
       "\n",
       "    .dataframe thead th {\n",
       "        text-align: right;\n",
       "    }\n",
       "</style>\n",
       "<table border=\"1\" class=\"dataframe\">\n",
       "  <thead>\n",
       "    <tr style=\"text-align: right;\">\n",
       "      <th></th>\n",
       "      <th>Country</th>\n",
       "      <th>Population</th>\n",
       "      <th>GDPcapita</th>\n",
       "      <th>surface</th>\n",
       "      <th>region</th>\n",
       "      <th>landlocked</th>\n",
       "    </tr>\n",
       "  </thead>\n",
       "  <tbody>\n",
       "    <tr>\n",
       "      <th>0</th>\n",
       "      <td>Albania</td>\n",
       "      <td>2901883</td>\n",
       "      <td>1915.424459</td>\n",
       "      <td>28750</td>\n",
       "      <td>europe_east</td>\n",
       "      <td>0</td>\n",
       "    </tr>\n",
       "    <tr>\n",
       "      <th>1</th>\n",
       "      <td>Algeria</td>\n",
       "      <td>36036159</td>\n",
       "      <td>2231.980246</td>\n",
       "      <td>2381740</td>\n",
       "      <td>africa_north</td>\n",
       "      <td>0</td>\n",
       "    </tr>\n",
       "    <tr>\n",
       "      <th>2</th>\n",
       "      <td>Angola</td>\n",
       "      <td>21219954</td>\n",
       "      <td>623.245275</td>\n",
       "      <td>1246700</td>\n",
       "      <td>africa_sub_saharan</td>\n",
       "      <td>0</td>\n",
       "    </tr>\n",
       "    <tr>\n",
       "      <th>3</th>\n",
       "      <td>Antigua and Barbuda</td>\n",
       "      <td>87233</td>\n",
       "      <td>10614.794315</td>\n",
       "      <td>440</td>\n",
       "      <td>america_north</td>\n",
       "      <td>0</td>\n",
       "    </tr>\n",
       "    <tr>\n",
       "      <th>4</th>\n",
       "      <td>Argentina</td>\n",
       "      <td>41222875</td>\n",
       "      <td>10749.319224</td>\n",
       "      <td>2780400</td>\n",
       "      <td>america_south</td>\n",
       "      <td>0</td>\n",
       "    </tr>\n",
       "    <tr>\n",
       "      <th>...</th>\n",
       "      <td>...</td>\n",
       "      <td>...</td>\n",
       "      <td>...</td>\n",
       "      <td>...</td>\n",
       "      <td>...</td>\n",
       "      <td>...</td>\n",
       "    </tr>\n",
       "    <tr>\n",
       "      <th>163</th>\n",
       "      <td>Vanuatu</td>\n",
       "      <td>236299</td>\n",
       "      <td>1522.384040</td>\n",
       "      <td>12190</td>\n",
       "      <td>east_asia_pacific</td>\n",
       "      <td>0</td>\n",
       "    </tr>\n",
       "    <tr>\n",
       "      <th>164</th>\n",
       "      <td>Venezuela</td>\n",
       "      <td>28995745</td>\n",
       "      <td>5528.363114</td>\n",
       "      <td>912050</td>\n",
       "      <td>america_south</td>\n",
       "      <td>0</td>\n",
       "    </tr>\n",
       "    <tr>\n",
       "      <th>165</th>\n",
       "      <td>Vietnam</td>\n",
       "      <td>88357775</td>\n",
       "      <td>722.810053</td>\n",
       "      <td>331050</td>\n",
       "      <td>east_asia_pacific</td>\n",
       "      <td>0</td>\n",
       "    </tr>\n",
       "    <tr>\n",
       "      <th>166</th>\n",
       "      <td>Zambia</td>\n",
       "      <td>13917439</td>\n",
       "      <td>434.659804</td>\n",
       "      <td>752610</td>\n",
       "      <td>africa_sub_saharan</td>\n",
       "      <td>1</td>\n",
       "    </tr>\n",
       "    <tr>\n",
       "      <th>167</th>\n",
       "      <td>Zimbabwe</td>\n",
       "      <td>13973897</td>\n",
       "      <td>322.556928</td>\n",
       "      <td>390760</td>\n",
       "      <td>africa_sub_saharan</td>\n",
       "      <td>1</td>\n",
       "    </tr>\n",
       "  </tbody>\n",
       "</table>\n",
       "<p>168 rows × 6 columns</p>\n",
       "</div>"
      ],
      "text/plain": [
       "                 Country  Population     GDPcapita  surface  \\\n",
       "0                Albania     2901883   1915.424459    28750   \n",
       "1                Algeria    36036159   2231.980246  2381740   \n",
       "2                 Angola    21219954    623.245275  1246700   \n",
       "3    Antigua and Barbuda       87233  10614.794315      440   \n",
       "4              Argentina    41222875  10749.319224  2780400   \n",
       "..                   ...         ...           ...      ...   \n",
       "163              Vanuatu      236299   1522.384040    12190   \n",
       "164            Venezuela    28995745   5528.363114   912050   \n",
       "165              Vietnam    88357775    722.810053   331050   \n",
       "166               Zambia    13917439    434.659804   752610   \n",
       "167             Zimbabwe    13973897    322.556928   390760   \n",
       "\n",
       "                 region  landlocked  \n",
       "0           europe_east           0  \n",
       "1          africa_north           0  \n",
       "2    africa_sub_saharan           0  \n",
       "3         america_north           0  \n",
       "4         america_south           0  \n",
       "..                  ...         ...  \n",
       "163   east_asia_pacific           0  \n",
       "164       america_south           0  \n",
       "165   east_asia_pacific           0  \n",
       "166  africa_sub_saharan           1  \n",
       "167  africa_sub_saharan           1  \n",
       "\n",
       "[168 rows x 6 columns]"
      ]
     },
     "execution_count": 9,
     "metadata": {},
     "output_type": "execute_result"
    }
   ],
   "source": [
    "dados"
   ]
  },
  {
   "cell_type": "markdown",
   "metadata": {},
   "source": [
    "[Voltar ao Índice](#indice)"
   ]
  },
  {
   "cell_type": "markdown",
   "metadata": {},
   "source": [
    "___\n",
    "<div id=\"comecando-exploracao\"></div>\n",
    "\n",
    "## 2. Começando a explorar um conjunto de dados\n",
    "\n",
    "Suponha que, por alguma hipótese teórica, haja o interesse em ordenar as linhas do *dataframe* `dados` pelo tamanho da população ao invés de ser por ordem alfabética pelo nome dos países. <br>\n",
    "Para obter um novo *dataframe* com as linhas ordenadas por tamanho populacional, uma alternativa é utilizando o comando `sort_values()`."
   ]
  },
  {
   "cell_type": "code",
   "execution_count": 10,
   "metadata": {},
   "outputs": [
    {
     "ename": "TypeError",
     "evalue": "DataFrame.sort_values() missing 1 required positional argument: 'by'",
     "output_type": "error",
     "traceback": [
      "\u001b[0;31m---------------------------------------------------------------------------\u001b[0m",
      "\u001b[0;31mTypeError\u001b[0m                                 Traceback (most recent call last)",
      "Cell \u001b[0;32mIn[10], line 1\u001b[0m\n\u001b[0;32m----> 1\u001b[0m dados\u001b[39m.\u001b[39;49msort_values()\n",
      "\u001b[0;31mTypeError\u001b[0m: DataFrame.sort_values() missing 1 required positional argument: 'by'"
     ]
    }
   ],
   "source": [
    "dados.sort_values()"
   ]
  },
  {
   "cell_type": "markdown",
   "metadata": {},
   "source": [
    "A célula acima não funcionou, mas a mensagem de erro nos dá uma dica: está faltando atribuir um argumento, obrigatoriamente, na função `sort_values`. Consulte [`aqui`](https://pandas.pydata.org/docs/reference/api/pandas.DataFrame.sort_values.html) para mais detalhes sobre essa função.<br>\n",
    "\n",
    "...<br>\n",
    "Vamos refletir sobre o que queremos fazer: <br>\n",
    "Queremos um nova ordenação nas linhas do *dataframe* `dados`, mas utilizando qual critério? É para isso que precisamos atribuir um argumento no parâmetro `by` dessa função. <br>\n",
    "Devemos atribuir em `by` qual coluna deve ser utilizada como critério de ordenação:"
   ]
  },
  {
   "cell_type": "code",
   "execution_count": null,
   "metadata": {},
   "outputs": [
    {
     "data": {
      "text/html": [
       "<div>\n",
       "<style scoped>\n",
       "    .dataframe tbody tr th:only-of-type {\n",
       "        vertical-align: middle;\n",
       "    }\n",
       "\n",
       "    .dataframe tbody tr th {\n",
       "        vertical-align: top;\n",
       "    }\n",
       "\n",
       "    .dataframe thead th {\n",
       "        text-align: right;\n",
       "    }\n",
       "</style>\n",
       "<table border=\"1\" class=\"dataframe\">\n",
       "  <thead>\n",
       "    <tr style=\"text-align: right;\">\n",
       "      <th></th>\n",
       "      <th>Country</th>\n",
       "      <th>Population</th>\n",
       "      <th>GDPcapita</th>\n",
       "      <th>surface</th>\n",
       "      <th>region</th>\n",
       "      <th>landlocked</th>\n",
       "    </tr>\n",
       "  </thead>\n",
       "  <tbody>\n",
       "    <tr>\n",
       "      <th>155</th>\n",
       "      <td>Tuvalu</td>\n",
       "      <td>9827</td>\n",
       "      <td>1559.983698</td>\n",
       "      <td>30</td>\n",
       "      <td>east_asia_pacific</td>\n",
       "      <td>0</td>\n",
       "    </tr>\n",
       "    <tr>\n",
       "      <th>114</th>\n",
       "      <td>Palau</td>\n",
       "      <td>20470</td>\n",
       "      <td>5756.810516</td>\n",
       "      <td>460</td>\n",
       "      <td>east_asia_pacific</td>\n",
       "      <td>0</td>\n",
       "    </tr>\n",
       "    <tr>\n",
       "      <th>94</th>\n",
       "      <td>Marshall Islands</td>\n",
       "      <td>52428</td>\n",
       "      <td>2437.282445</td>\n",
       "      <td>180</td>\n",
       "      <td>east_asia_pacific</td>\n",
       "      <td>0</td>\n",
       "    </tr>\n",
       "    <tr>\n",
       "      <th>42</th>\n",
       "      <td>Dominica</td>\n",
       "      <td>71167</td>\n",
       "      <td>6529.529633</td>\n",
       "      <td>750</td>\n",
       "      <td>america_north</td>\n",
       "      <td>0</td>\n",
       "    </tr>\n",
       "    <tr>\n",
       "      <th>3</th>\n",
       "      <td>Antigua and Barbuda</td>\n",
       "      <td>87233</td>\n",
       "      <td>10614.794315</td>\n",
       "      <td>440</td>\n",
       "      <td>america_north</td>\n",
       "      <td>0</td>\n",
       "    </tr>\n",
       "    <tr>\n",
       "      <th>...</th>\n",
       "      <td>...</td>\n",
       "      <td>...</td>\n",
       "      <td>...</td>\n",
       "      <td>...</td>\n",
       "      <td>...</td>\n",
       "      <td>...</td>\n",
       "    </tr>\n",
       "    <tr>\n",
       "      <th>20</th>\n",
       "      <td>Brazil</td>\n",
       "      <td>198614208</td>\n",
       "      <td>4716.614125</td>\n",
       "      <td>8514880</td>\n",
       "      <td>america_south</td>\n",
       "      <td>0</td>\n",
       "    </tr>\n",
       "    <tr>\n",
       "      <th>70</th>\n",
       "      <td>Indonesia</td>\n",
       "      <td>241613126</td>\n",
       "      <td>1145.385435</td>\n",
       "      <td>1904570</td>\n",
       "      <td>east_asia_pacific</td>\n",
       "      <td>0</td>\n",
       "    </tr>\n",
       "    <tr>\n",
       "      <th>160</th>\n",
       "      <td>United States</td>\n",
       "      <td>309876170</td>\n",
       "      <td>37329.615914</td>\n",
       "      <td>9831510</td>\n",
       "      <td>america_north</td>\n",
       "      <td>0</td>\n",
       "    </tr>\n",
       "    <tr>\n",
       "      <th>69</th>\n",
       "      <td>India</td>\n",
       "      <td>1230984504</td>\n",
       "      <td>794.801256</td>\n",
       "      <td>3287260</td>\n",
       "      <td>asia_west</td>\n",
       "      <td>0</td>\n",
       "    </tr>\n",
       "    <tr>\n",
       "      <th>31</th>\n",
       "      <td>China</td>\n",
       "      <td>1340968737</td>\n",
       "      <td>2426.332466</td>\n",
       "      <td>9600000</td>\n",
       "      <td>east_asia_pacific</td>\n",
       "      <td>0</td>\n",
       "    </tr>\n",
       "  </tbody>\n",
       "</table>\n",
       "<p>168 rows × 6 columns</p>\n",
       "</div>"
      ],
      "text/plain": [
       "                 Country  Population     GDPcapita  surface  \\\n",
       "155               Tuvalu        9827   1559.983698       30   \n",
       "114                Palau       20470   5756.810516      460   \n",
       "94      Marshall Islands       52428   2437.282445      180   \n",
       "42              Dominica       71167   6529.529633      750   \n",
       "3    Antigua and Barbuda       87233  10614.794315      440   \n",
       "..                   ...         ...           ...      ...   \n",
       "20                Brazil   198614208   4716.614125  8514880   \n",
       "70             Indonesia   241613126   1145.385435  1904570   \n",
       "160        United States   309876170  37329.615914  9831510   \n",
       "69                 India  1230984504    794.801256  3287260   \n",
       "31                 China  1340968737   2426.332466  9600000   \n",
       "\n",
       "                region  landlocked  \n",
       "155  east_asia_pacific           0  \n",
       "114  east_asia_pacific           0  \n",
       "94   east_asia_pacific           0  \n",
       "42       america_north           0  \n",
       "3        america_north           0  \n",
       "..                 ...         ...  \n",
       "20       america_south           0  \n",
       "70   east_asia_pacific           0  \n",
       "160      america_north           0  \n",
       "69           asia_west           0  \n",
       "31   east_asia_pacific           0  \n",
       "\n",
       "[168 rows x 6 columns]"
      ]
     },
     "execution_count": 11,
     "metadata": {},
     "output_type": "execute_result"
    }
   ],
   "source": [
    "dados.sort_values(['Population'])  # Equivalente a: dados.sort_values(by=['Population'])"
   ]
  },
  {
   "cell_type": "markdown",
   "metadata": {},
   "source": [
    "**ATENÇÃO:** a operação da célula anterior **não** modificou o conteúdo do *dataframe* original atribuído em `dados`. <p>\n",
    "Para comprovar, a seguir, observe que o conteúdo do *dataframe* `dados` ainda está com as linhas em ordem alfabética de `Country`:"
   ]
  },
  {
   "cell_type": "code",
   "execution_count": null,
   "metadata": {},
   "outputs": [
    {
     "data": {
      "text/html": [
       "<div>\n",
       "<style scoped>\n",
       "    .dataframe tbody tr th:only-of-type {\n",
       "        vertical-align: middle;\n",
       "    }\n",
       "\n",
       "    .dataframe tbody tr th {\n",
       "        vertical-align: top;\n",
       "    }\n",
       "\n",
       "    .dataframe thead th {\n",
       "        text-align: right;\n",
       "    }\n",
       "</style>\n",
       "<table border=\"1\" class=\"dataframe\">\n",
       "  <thead>\n",
       "    <tr style=\"text-align: right;\">\n",
       "      <th></th>\n",
       "      <th>Country</th>\n",
       "      <th>Population</th>\n",
       "      <th>GDPcapita</th>\n",
       "      <th>surface</th>\n",
       "      <th>region</th>\n",
       "      <th>landlocked</th>\n",
       "    </tr>\n",
       "  </thead>\n",
       "  <tbody>\n",
       "    <tr>\n",
       "      <th>0</th>\n",
       "      <td>Albania</td>\n",
       "      <td>2901883</td>\n",
       "      <td>1915.424459</td>\n",
       "      <td>28750</td>\n",
       "      <td>europe_east</td>\n",
       "      <td>0</td>\n",
       "    </tr>\n",
       "    <tr>\n",
       "      <th>1</th>\n",
       "      <td>Algeria</td>\n",
       "      <td>36036159</td>\n",
       "      <td>2231.980246</td>\n",
       "      <td>2381740</td>\n",
       "      <td>africa_north</td>\n",
       "      <td>0</td>\n",
       "    </tr>\n",
       "    <tr>\n",
       "      <th>2</th>\n",
       "      <td>Angola</td>\n",
       "      <td>21219954</td>\n",
       "      <td>623.245275</td>\n",
       "      <td>1246700</td>\n",
       "      <td>africa_sub_saharan</td>\n",
       "      <td>0</td>\n",
       "    </tr>\n",
       "    <tr>\n",
       "      <th>3</th>\n",
       "      <td>Antigua and Barbuda</td>\n",
       "      <td>87233</td>\n",
       "      <td>10614.794315</td>\n",
       "      <td>440</td>\n",
       "      <td>america_north</td>\n",
       "      <td>0</td>\n",
       "    </tr>\n",
       "    <tr>\n",
       "      <th>4</th>\n",
       "      <td>Argentina</td>\n",
       "      <td>41222875</td>\n",
       "      <td>10749.319224</td>\n",
       "      <td>2780400</td>\n",
       "      <td>america_south</td>\n",
       "      <td>0</td>\n",
       "    </tr>\n",
       "    <tr>\n",
       "      <th>...</th>\n",
       "      <td>...</td>\n",
       "      <td>...</td>\n",
       "      <td>...</td>\n",
       "      <td>...</td>\n",
       "      <td>...</td>\n",
       "      <td>...</td>\n",
       "    </tr>\n",
       "    <tr>\n",
       "      <th>163</th>\n",
       "      <td>Vanuatu</td>\n",
       "      <td>236299</td>\n",
       "      <td>1522.384040</td>\n",
       "      <td>12190</td>\n",
       "      <td>east_asia_pacific</td>\n",
       "      <td>0</td>\n",
       "    </tr>\n",
       "    <tr>\n",
       "      <th>164</th>\n",
       "      <td>Venezuela</td>\n",
       "      <td>28995745</td>\n",
       "      <td>5528.363114</td>\n",
       "      <td>912050</td>\n",
       "      <td>america_south</td>\n",
       "      <td>0</td>\n",
       "    </tr>\n",
       "    <tr>\n",
       "      <th>165</th>\n",
       "      <td>Vietnam</td>\n",
       "      <td>88357775</td>\n",
       "      <td>722.810053</td>\n",
       "      <td>331050</td>\n",
       "      <td>east_asia_pacific</td>\n",
       "      <td>0</td>\n",
       "    </tr>\n",
       "    <tr>\n",
       "      <th>166</th>\n",
       "      <td>Zambia</td>\n",
       "      <td>13917439</td>\n",
       "      <td>434.659804</td>\n",
       "      <td>752610</td>\n",
       "      <td>africa_sub_saharan</td>\n",
       "      <td>1</td>\n",
       "    </tr>\n",
       "    <tr>\n",
       "      <th>167</th>\n",
       "      <td>Zimbabwe</td>\n",
       "      <td>13973897</td>\n",
       "      <td>322.556928</td>\n",
       "      <td>390760</td>\n",
       "      <td>africa_sub_saharan</td>\n",
       "      <td>1</td>\n",
       "    </tr>\n",
       "  </tbody>\n",
       "</table>\n",
       "<p>168 rows × 6 columns</p>\n",
       "</div>"
      ],
      "text/plain": [
       "                 Country  Population     GDPcapita  surface  \\\n",
       "0                Albania     2901883   1915.424459    28750   \n",
       "1                Algeria    36036159   2231.980246  2381740   \n",
       "2                 Angola    21219954    623.245275  1246700   \n",
       "3    Antigua and Barbuda       87233  10614.794315      440   \n",
       "4              Argentina    41222875  10749.319224  2780400   \n",
       "..                   ...         ...           ...      ...   \n",
       "163              Vanuatu      236299   1522.384040    12190   \n",
       "164            Venezuela    28995745   5528.363114   912050   \n",
       "165              Vietnam    88357775    722.810053   331050   \n",
       "166               Zambia    13917439    434.659804   752610   \n",
       "167             Zimbabwe    13973897    322.556928   390760   \n",
       "\n",
       "                 region  landlocked  \n",
       "0           europe_east           0  \n",
       "1          africa_north           0  \n",
       "2    africa_sub_saharan           0  \n",
       "3         america_north           0  \n",
       "4         america_south           0  \n",
       "..                  ...         ...  \n",
       "163   east_asia_pacific           0  \n",
       "164       america_south           0  \n",
       "165   east_asia_pacific           0  \n",
       "166  africa_sub_saharan           1  \n",
       "167  africa_sub_saharan           1  \n",
       "\n",
       "[168 rows x 6 columns]"
      ]
     },
     "execution_count": 12,
     "metadata": {},
     "output_type": "execute_result"
    }
   ],
   "source": [
    "dados"
   ]
  },
  {
   "cell_type": "markdown",
   "metadata": {},
   "source": [
    "<div id=\"ordena-populacao\"></div>\n",
    "\n",
    "...<br>\n",
    "Mas então, o que aconteceu? <p>\n",
    "Um *novo* `DataFrame` foi criado ao executar o comando `dados.sort_values(['Population'])`, porém seu conteúdo não foi atribuído em nenhuma variável. <br>\n",
    "Para armazenar o resultado consequência da execução de um comando, deve utilizar um **comando de atribuição** que tem a seguinte forma geral:\n",
    "    \n",
    "```python\n",
    "variável = expressão\n",
    "```\n",
    "\n",
    "<br> \n",
    "No comando a seguir, temos que:\n",
    " * `dados_ordenados_por_população` faz o papel da `variável`; e \n",
    " * `dados.sort_values(by='Population')` faz a vez da `expressão`."
   ]
  },
  {
   "cell_type": "code",
   "execution_count": null,
   "metadata": {
    "scrolled": false
   },
   "outputs": [],
   "source": [
    "dados_ordenados_por_população = dados.sort_values(by='Population')"
   ]
  },
  {
   "cell_type": "markdown",
   "metadata": {},
   "source": [
    "Para exibir o que foi armazenado na variável `dados_ordenados_por_população`, digite apenas o nome da variável na célula de código ou faça uso da função `print()`. Apenas note que este pode modificar a visualização do conteúdo armazenado. Em breve, será apresentada alternativa de como solucionar isso. "
   ]
  },
  {
   "cell_type": "code",
   "execution_count": null,
   "metadata": {},
   "outputs": [],
   "source": [
    "dados_ordenados_por_população"
   ]
  },
  {
   "cell_type": "code",
   "execution_count": null,
   "metadata": {},
   "outputs": [],
   "source": [
    "print(dados_ordenados_por_população)"
   ]
  },
  {
   "cell_type": "markdown",
   "metadata": {},
   "source": [
    "[Voltar ao Índice](#indice)"
   ]
  },
  {
   "cell_type": "markdown",
   "metadata": {},
   "source": [
    "<div id=\"ex1\"></div>\n",
    "\n",
    "### EXERCÍCIO 1\n",
    "\n",
    "Liste os seis países mais ricos utilizando o PIB per capita. <br>\n",
    "*Dica:* leia a documentação da função `sort_values` do pandas e consulte a `Aula00_Atividade....ipynb`."
   ]
  },
  {
   "cell_type": "code",
   "execution_count": null,
   "metadata": {},
   "outputs": [],
   "source": [
    "# Coloque seu código aqui...\n",
    "paises_mais_ricos = dados.sort_values(by=\"GDPcapita\", ascending=False)"
   ]
  },
  {
   "cell_type": "code",
   "execution_count": null,
   "metadata": {},
   "outputs": [],
   "source": [
    "paises_mais_ricos"
   ]
  },
  {
   "cell_type": "markdown",
   "metadata": {},
   "source": [
    "[Voltar ao Índice](#indice)"
   ]
  },
  {
   "cell_type": "markdown",
   "metadata": {},
   "source": [
    "<div id=\"filtrando\"></div>\n",
    "\n",
    "___\n",
    "\n",
    "## 3. Filtrando ou criando novos `DataFrame`\n",
    "\n"
   ]
  },
  {
   "cell_type": "markdown",
   "metadata": {},
   "source": [
    "<div id=\"select1\"></div>\n",
    "\n",
    "### Selecionando uma coluna (`Series`) de um `DataFrame`\n",
    "\n",
    "Suponha que, por alguma hipótese teórica, haja o interesse em trabalhar apenas com a coluna `region` do *dataframe* `dados` - podemos estar interessados em *estatísticas* acerca desta variável ou talvez quiséssemos montar uma lista impressa das regiões.  <br>\n",
    "Como separar apenas essa coluna do *dataframe* `dados`?\n",
    "\n",
    "No **Pandas**, cada coluna de um `DataFrame` é chamada de `Series`. <br> \n",
    "O `DataFrame` é como uma coleção de `Series` que são indexadas pelo nome da coluna, como se fosse um *dicionário* do Python.<br>\n",
    "Inclusive podemos extrair nossa `Series` de um `DataFrame` usando a notação de dicionário!"
   ]
  },
  {
   "cell_type": "markdown",
   "metadata": {},
   "source": [
    "Há várias maneiras de escrever o código para extrair a coluna `region` do *dataframe*, aqui, chamado de `dados`.\n",
    "\n",
    "Vejas algumas maneiras:"
   ]
  },
  {
   "cell_type": "code",
   "execution_count": null,
   "metadata": {
    "scrolled": false
   },
   "outputs": [],
   "source": [
    "# Maneira 1:\n",
    "dados['region']"
   ]
  },
  {
   "cell_type": "markdown",
   "metadata": {},
   "source": [
    "Existe outra maneira de acessar uma coluna de um `DataFrame`.  <br>\n",
    "O **Pandas** oferece também o acesso às colunas de um `DataFrame` como se fossem *atributos* do `DataFrame` (lembra de classes e atributos lá de Design de Software?):"
   ]
  },
  {
   "cell_type": "code",
   "execution_count": null,
   "metadata": {
    "scrolled": true
   },
   "outputs": [],
   "source": [
    "# Maneira 2:\n",
    "dados.region"
   ]
  },
  {
   "cell_type": "markdown",
   "metadata": {},
   "source": [
    "Caso queira, é possível guardar as informações dessa coluna em uma variável, aqui, nomeado, por exemplo, de `serie_region`:"
   ]
  },
  {
   "cell_type": "code",
   "execution_count": null,
   "metadata": {},
   "outputs": [],
   "source": [
    "serie_region = dados['region'] # Maneira 1\n",
    "# ou\n",
    "serie_region = dados.region # Maneira 2\n",
    "\n",
    "serie_region "
   ]
  },
  {
   "cell_type": "markdown",
   "metadata": {},
   "source": [
    "Note a informação impressa ao término da listagem dos primeiros elementos da série. <br>\n",
    "Temos o nome da série e o `dtype`, que é o tipo de dados (*data type*) da série. <br>\n",
    "Quando o tipo é `object`, geralmente trata-se de uma série de itens de texto puro. Já outras séries podem ter tipos diferentes como:\n",
    "\n",
    "| Tipo | Significado |\n",
    "|---|---|\n",
    "| `int64` | Valores inteiros. |\n",
    "| `float64` | Números reais representados em notação de ponto-flutuante |\n",
    "| `bool` | Variáveis *booleanas* (só podem valer `True` ou `False`) |\n",
    "| `categorical` | Variáveis *categóricas*, que representam elementos de um conjunto finito de categorias (por exemplo: escolhas em um formulário) |\n",
    "| `datetime64` | Datas |\n",
    "| `timedelta[ns]` | Diferenças entre instantes de tempo |"
   ]
  },
  {
   "cell_type": "markdown",
   "metadata": {},
   "source": [
    "[Voltar ao Índice](#indice)"
   ]
  },
  {
   "cell_type": "markdown",
   "metadata": {},
   "source": [
    "<div id=\"selectmais\"></div>\n",
    "\n",
    "### Selecionando mais de uma coluna de um `DataFrame`\n",
    "\n",
    "Selecione as colunas `Country` e `region` mantendo todas as linhas do *dataframe* `dados`. <br>\n",
    "Para selecionar apenas uma variável, a linha de comando `dados['region']` funciona, como já vimos anteriormente. <br>\n",
    "Mas usar a mesma ideia para duas colunas: `dados['Country','region']`, dá certo? Faça a tentativa."
   ]
  },
  {
   "cell_type": "code",
   "execution_count": null,
   "metadata": {},
   "outputs": [],
   "source": [
    "dados['Country','region']"
   ]
  },
  {
   "cell_type": "markdown",
   "metadata": {},
   "source": [
    "Vimos acima que não funciona. \n",
    "\n",
    "Uma maneira de selecionar apenas as colunas `Country` e `region` mantendo todas as linhas do *dataframe* `dados` é colocar os nomes das colunas em uma lista `['Country','region']` para fazer a seleção desejada.\n",
    "\n",
    "Veja a seguir:"
   ]
  },
  {
   "cell_type": "code",
   "execution_count": null,
   "metadata": {},
   "outputs": [],
   "source": [
    "dados[['Country','region']]"
   ]
  },
  {
   "cell_type": "markdown",
   "metadata": {},
   "source": [
    "[Voltar ao Índice](#indice)"
   ]
  },
  {
   "cell_type": "markdown",
   "metadata": {},
   "source": [
    "...<p>\n",
    "E caso queira selecionar algumas colunas, mas não necessariamente todas as linhas de um `DataFrame`, como deve proceder?. <p>\n",
    "Nesse caso, deverá recorrer ao uso dos métodos `loc[ , ]` ou `iloc[ , ]`, a depender do contexto."
   ]
  },
  {
   "cell_type": "markdown",
   "metadata": {},
   "source": [
    "[Voltar ao Índice](#indice)"
   ]
  },
  {
   "cell_type": "markdown",
   "metadata": {},
   "source": [
    "<div id=\"loc\"></div>\n",
    "\n",
    "### Uso do `loc[ , ]`\n",
    "\n",
    "É possível utilizar o comando `loc` para acessar um subconjunto de linhas e/ou de colunas considerando seus respectivos **rótulos**.  <br>\n",
    "Esse comando é semelhante ao fatiamento (*slicing*) de listas e strings que utilizaram em Design de Software.\n",
    "\n",
    "De **maneira geral**, funciona da seguinte maneira:\n",
    "\n",
    "```python\n",
    "DataFrame.loc[ <descrever filtro ou rótulos das linhas> , <descrever rótulos colunas> ]\n",
    "```\n",
    "\n",
    "Consulte mais detalhes [aqui](https://pandas.pydata.org/pandas-docs/stable/reference/api/pandas.DataFrame.loc.html).\n"
   ]
  },
  {
   "cell_type": "markdown",
   "metadata": {},
   "source": [
    "<div id=\"ex2\"></div>\n",
    "\n",
    "### EXERCÍCIO 2\n",
    "\n",
    "Execute os comandos a seguir e discuta qual foi a seleção de linhas e colunas armazenadas nas variáveis `selecao1_loc` e `selecao2_loc`:"
   ]
  },
  {
   "cell_type": "code",
   "execution_count": null,
   "metadata": {},
   "outputs": [],
   "source": [
    "selecao1_loc = dados.loc[0:3,['Country','region']]\n",
    "selecao2_loc = dados.loc[[0,3],['Country','region']]"
   ]
  },
  {
   "cell_type": "code",
   "execution_count": null,
   "metadata": {},
   "outputs": [],
   "source": [
    "# Coloque seu código aqui\n",
    "selecao1_loc"
   ]
  },
  {
   "cell_type": "code",
   "execution_count": null,
   "metadata": {},
   "outputs": [],
   "source": [
    "selecao2_loc"
   ]
  },
  {
   "cell_type": "raw",
   "metadata": {},
   "source": [
    "# Coloque sua resposta aqui\n",
    "O selecao1_loc está pegando as colunas de Country e region dos países de indice de 0 à 3 \n",
    "Já o selecao2_loc está pegando as colunas Country e region dos paises com indice 0 e 3"
   ]
  },
  {
   "cell_type": "markdown",
   "metadata": {},
   "source": [
    "[Voltar ao Índice](#indice)"
   ]
  },
  {
   "cell_type": "markdown",
   "metadata": {},
   "source": [
    "<div id=\"iloc\"></div>\n",
    "\n",
    "### Uso do `iloc[ , ]`\n",
    "\n",
    "É possível também utilizar o método `iloc`, cuja propriedade é acessar um subconjunto de linhas e/ou colunas considerando **números inteiros** que indicação a posição do que se deseja filtrar. <br>\n",
    "**ATENÇÃO:** Vale lembrar que, no python, a posição começa em $0$ e termina em `length`$-1$.\n",
    "\n",
    "De **maneira geral**, funciona da seguinte maneira:\n",
    "\n",
    "```python\n",
    "DataFrame.iloc[ <posições das linhas> , <posições das colunas> ]\n",
    "```\n",
    "\n",
    "Consulte mais detalhes [aqui](https://pandas.pydata.org/pandas-docs/stable/reference/api/pandas.DataFrame.iloc.html).\n"
   ]
  },
  {
   "cell_type": "markdown",
   "metadata": {},
   "source": [
    "<div id=\"ex3\"></div>\n",
    "\n",
    "### EXERCÍCIO 3\n",
    "\n",
    "Execute os comandos a seguir e discuta qual foi a seleção de linhas e colunas armazenadas nas variáveis `selecao1_iloc` e `selecao2_iloc`:"
   ]
  },
  {
   "cell_type": "code",
   "execution_count": null,
   "metadata": {},
   "outputs": [],
   "source": [
    "posicao_Country = list(dados).index('Country')\n",
    "posicao_region = list(dados).index('region')\n",
    "selecao1_iloc = dados.iloc[0:3,[posicao_Country, posicao_region]]\n",
    "selecao2_iloc = dados.iloc[[0,3],[posicao_Country, posicao_region]]"
   ]
  },
  {
   "cell_type": "code",
   "execution_count": null,
   "metadata": {},
   "outputs": [],
   "source": [
    "# Coloque seu código aqui\n",
    "selecao1_iloc"
   ]
  },
  {
   "cell_type": "code",
   "execution_count": null,
   "metadata": {},
   "outputs": [],
   "source": [
    "selecao2_iloc"
   ]
  },
  {
   "cell_type": "raw",
   "metadata": {},
   "source": [
    "O selecao1_loc está pegando as colunas de Country e region dos países de indice de 0 à 3 \n",
    "Já o selecao2_loc está pegando as colunas Country e region dos paises com indice 0 e 3"
   ]
  },
  {
   "cell_type": "markdown",
   "metadata": {},
   "source": [
    "[Voltar ao Índice](#indice)"
   ]
  },
  {
   "cell_type": "markdown",
   "metadata": {},
   "source": [
    "<div id=\"diflociloc\"></div>\n",
    "\n",
    "### Um exemplo sobre a diferença entre `loc[ , ]` e `iloc[ , ]`\n",
    "\n",
    "Lembram do *dataframe* `dados_ordenados_por_população` cujas linhas linhas foram ordenadas por ordem crescente da coluna `Population`? Revejam como foi feito isso [aqui](#ordena-populacao). <p>\n",
    "Executando o comando a seguir, note que rótulo da linha manteve a ordenação do conjunto de dados original armazenado em `dados`."
   ]
  },
  {
   "cell_type": "code",
   "execution_count": null,
   "metadata": {},
   "outputs": [],
   "source": [
    "dados_ordenados_por_população"
   ]
  },
  {
   "cell_type": "markdown",
   "metadata": {},
   "source": [
    "<div id=\"ex4\"></div>\n",
    "\n",
    "### EXERCÍCIO 4\n",
    "\n",
    "Execute os comandos a seguir e discuta qual foi a seleção de linhas e colunas armazenadas nas variáveis `selecao3_loc` e `selecao3_iloc`:"
   ]
  },
  {
   "cell_type": "code",
   "execution_count": null,
   "metadata": {},
   "outputs": [],
   "source": [
    "selecao3_loc = dados_ordenados_por_população.loc[0:2,:]\n",
    "selecao3_iloc = dados_ordenados_por_população.iloc[0:2,:]"
   ]
  },
  {
   "cell_type": "code",
   "execution_count": null,
   "metadata": {},
   "outputs": [],
   "source": [
    "# Coloque seu código aqui\n",
    "selecao3_loc"
   ]
  },
  {
   "cell_type": "raw",
   "metadata": {},
   "source": [
    "O selecao3_loc pega todos os paises que estão entre os indices 0 e 2 no DF ordenado por população.\n",
    "Já o selecao3_iloc pega todas as informações dos países com indices 0 até 2 - 1 do DF ordenado por população"
   ]
  },
  {
   "cell_type": "code",
   "execution_count": null,
   "metadata": {},
   "outputs": [],
   "source": [
    "selecao3_iloc"
   ]
  },
  {
   "cell_type": "markdown",
   "metadata": {},
   "source": [
    "[Voltar ao Índice](#indice)"
   ]
  },
  {
   "cell_type": "markdown",
   "metadata": {},
   "source": [
    "<div id=\"selectlinhas\"></div>\n",
    "\n",
    "### Selecionando linhas de um `DataFrame`\n",
    "\n",
    "Suponha que, por alguma hipótese teórica, haja o interesse em filtrar apenas os países da América do Sul do *dataframe* `dados`, porém mantendo todas as colunas.<p>\n",
    "Em todos os exemplos até aqui usando tanto o `.loc` quanto o `.iloc` utilizamos dois pontos (`:`) no primeiro argumento. <br>\n",
    "Isso é semelhante ao que fazíamos em Design de Software para fazer um fatiamento de uma lista que vai desde o começo até o fim, ou seja, que pega todas as linhas. Assim, utilizaremos esse primeiro argumento do `.loc` e `.iloc` para selecionar apenas algumas linhas específicas. <p>\n",
    "Uma facilidade oferecida pelo **Pandas** é a possibilidade de comparar uma coluna inteira de um `DataFrame` com um valor (ou seja, comparar o conteúdo de uma `Series` com um valor). <br>\n",
    "Por exemplo:"
   ]
  },
  {
   "cell_type": "code",
   "execution_count": null,
   "metadata": {},
   "outputs": [],
   "source": [
    "print('Regiões contidas em cada linha:')\n",
    "print(dados['region'])\n",
    "\n",
    "print(\"\\n\\nComparação das regiões contidas em cada linha iguais (True) ou não (False) à string `america_south`:\")\n",
    "print(dados['region'] == 'america_south')"
   ]
  },
  {
   "cell_type": "markdown",
   "metadata": {},
   "source": [
    "O resultado dessa operação foi uma coluna de valores booleanos (`True` e `False`), que indica para cada elemento da *Series*  `region` se seu conteúdo é igual à string desejada, ou seja, igual a `america_south`. <br>\n",
    "A vantagem disso é que podemos usar essa coluna de booleanos como filtro em um `DataFrame`.<p>\n",
    "Por exemplo:"
   ]
  },
  {
   "cell_type": "code",
   "execution_count": null,
   "metadata": {},
   "outputs": [],
   "source": [
    "# Maneira 1\n",
    "# Aqui coloca o filtro desejado diretamente no primeiro argumento de .loc\n",
    "dados.loc[dados['region'] == 'america_south', :]"
   ]
  },
  {
   "cell_type": "code",
   "execution_count": null,
   "metadata": {},
   "outputs": [],
   "source": [
    "# Maneira 2\n",
    "# Aqui cria a variável filtra_linhas contendo o filtro desejado\n",
    "# Usa-se o nome dessa variável filtra_linhas no primeiro argumento de .loc\n",
    "filtra_linhas = dados['region'] == 'america_south'\n",
    "dados.loc[filtra_linhas, :]"
   ]
  },
  {
   "cell_type": "code",
   "execution_count": null,
   "metadata": {},
   "outputs": [],
   "source": [
    "# Maneira 3\n",
    "# Aqui cria a variável america_do_sul contendo o filtro desejado\n",
    "# Usa-se o nome dessa variável america_do_sul no primeiro argumento de .loc\n",
    "# Aqui é apenas para deixar claro o nome da variável pode ser qualquer um, ou seja, \"it´s up to you\"!\n",
    "america_do_sul = dados['region'] == 'america_south'\n",
    "dados.loc[america_do_sul, :]"
   ]
  },
  {
   "cell_type": "markdown",
   "metadata": {},
   "source": [
    "...<br>\n",
    "Foram utilizados diversos conceitos nas células anteriores. <br>\n",
    "Para facilitar a compreensão, explique para um colega o que está acontecendo nos comandos acima.\n",
    "\n",
    "**ATENÇÃO:** no filtro acima, foi utilizado o operador lógico `==`, mas também podemos utilizar os outros comparadores que já conhecemos do Python (desde que faça sentido levando em conta o tipo dos dados da coluna): `<`, `<=`, `>`, `>=`, etc.\n",
    "\n"
   ]
  },
  {
   "cell_type": "markdown",
   "metadata": {},
   "source": [
    "[Voltar ao Índice](#indice)"
   ]
  },
  {
   "cell_type": "markdown",
   "metadata": {},
   "source": [
    "<div id=\"selectlinhas-combinando\"></div>\n",
    "\n",
    "### Selecionando linhas de um `DataFrame` usando mais de uma condição\n",
    "\n",
    "É possível combinar condições ao definir um filtro de linhas de acordo com algum propósito em termos do problema. <br>\n",
    "Por exemplo, suponha que haja o interesse em filtrar todos os países da América do Sul que possuam população inferior a 10 milhões de pessoas. <p>\n",
    "Para combinar algumas condições em Design de Software, utilizávamos as palavras `and` e `or`. <br>\n",
    "Entretanto, para combinar condições de colunas (ou seja, `Series`) de um `DataFrame`, vamos utilizar `&` e `|`, que são análogos ao `and` e `or`, respectivamente. <p>\n",
    "Por exemplo:"
   ]
  },
  {
   "cell_type": "code",
   "execution_count": null,
   "metadata": {},
   "outputs": [],
   "source": [
    "# Maneira 1:\n",
    "# Aqui coloca os filtros desejados diretamente no primeiro argumento de .loc\n",
    "# Note que cada filtro foi separado por parênteses\n",
    "# O uso de & deixa claro para uma linha ser True, ambos os filtros devem ser verdadeiros\n",
    "dados.loc[(dados['region'] == 'america_south') & (dados['Population'] < 10000000), :]"
   ]
  },
  {
   "cell_type": "code",
   "execution_count": null,
   "metadata": {
    "scrolled": false
   },
   "outputs": [],
   "source": [
    "# Maneira 2:\n",
    "# Aqui cria as variáveis america_do_sul e populacao_menor_que_10m contendo o filtro desejado\n",
    "# Usa-se os nomes dessas variáveis america_do_sul e populacao_menor_que_10m no primeiro argumento de .loc\n",
    "# Aqui não foi necessário utilizar parênteses entre o &\n",
    "america_do_sul = dados['region'] == 'america_south'\n",
    "populacao_menor_que_10m = dados['Population'] < 10000000\n",
    "dados.loc[america_do_sul & populacao_menor_que_10m, :]"
   ]
  },
  {
   "cell_type": "markdown",
   "metadata": {},
   "source": [
    "...<br>\n",
    "Foram utilizados diversos conceitos nas células anteriores. <br>\n",
    "Para facilitar a compreensão, explique para um colega o que está acontecendo nos comandos acima."
   ]
  },
  {
   "cell_type": "markdown",
   "metadata": {},
   "source": [
    "[Voltar ao Índice](#indice)"
   ]
  },
  {
   "cell_type": "markdown",
   "metadata": {},
   "source": [
    "<div id=\"ex5\"></div>\n",
    "\n",
    "### EXERCÍCIO 5\n",
    "\n",
    "O que acontece ao trocar o símbolo `&` por `|` no filtro a seguir?\n",
    "```python\n",
    "dados.loc[(dados['region'] == 'america_south') & (dados['Population'] < 10000000), :]\n",
    "```\n",
    "\n",
    "Execute o comando com essa alteração e discuta o *output*.<br>\n",
    "Faça um texto que represente quais países foram selecionados nesse novo filtro."
   ]
  },
  {
   "cell_type": "code",
   "execution_count": null,
   "metadata": {},
   "outputs": [
    {
     "data": {
      "text/html": [
       "<div>\n",
       "<style scoped>\n",
       "    .dataframe tbody tr th:only-of-type {\n",
       "        vertical-align: middle;\n",
       "    }\n",
       "\n",
       "    .dataframe tbody tr th {\n",
       "        vertical-align: top;\n",
       "    }\n",
       "\n",
       "    .dataframe thead th {\n",
       "        text-align: right;\n",
       "    }\n",
       "</style>\n",
       "<table border=\"1\" class=\"dataframe\">\n",
       "  <thead>\n",
       "    <tr style=\"text-align: right;\">\n",
       "      <th></th>\n",
       "      <th>Country</th>\n",
       "      <th>Population</th>\n",
       "      <th>GDPcapita</th>\n",
       "      <th>surface</th>\n",
       "      <th>region</th>\n",
       "      <th>landlocked</th>\n",
       "    </tr>\n",
       "  </thead>\n",
       "  <tbody>\n",
       "    <tr>\n",
       "      <th>0</th>\n",
       "      <td>Albania</td>\n",
       "      <td>2901883</td>\n",
       "      <td>1915.424459</td>\n",
       "      <td>28750</td>\n",
       "      <td>europe_east</td>\n",
       "      <td>0</td>\n",
       "    </tr>\n",
       "    <tr>\n",
       "      <th>3</th>\n",
       "      <td>Antigua and Barbuda</td>\n",
       "      <td>87233</td>\n",
       "      <td>10614.794315</td>\n",
       "      <td>440</td>\n",
       "      <td>america_north</td>\n",
       "      <td>0</td>\n",
       "    </tr>\n",
       "    <tr>\n",
       "      <th>4</th>\n",
       "      <td>Argentina</td>\n",
       "      <td>41222875</td>\n",
       "      <td>10749.319224</td>\n",
       "      <td>2780400</td>\n",
       "      <td>america_south</td>\n",
       "      <td>0</td>\n",
       "    </tr>\n",
       "    <tr>\n",
       "      <th>5</th>\n",
       "      <td>Armenia</td>\n",
       "      <td>2963496</td>\n",
       "      <td>1326.710864</td>\n",
       "      <td>29740</td>\n",
       "      <td>europe_east</td>\n",
       "      <td>1</td>\n",
       "    </tr>\n",
       "    <tr>\n",
       "      <th>7</th>\n",
       "      <td>Austria</td>\n",
       "      <td>8391986</td>\n",
       "      <td>26642.993858</td>\n",
       "      <td>83870</td>\n",
       "      <td>europe_west</td>\n",
       "      <td>1</td>\n",
       "    </tr>\n",
       "    <tr>\n",
       "      <th>...</th>\n",
       "      <td>...</td>\n",
       "      <td>...</td>\n",
       "      <td>...</td>\n",
       "      <td>...</td>\n",
       "      <td>...</td>\n",
       "      <td>...</td>\n",
       "    </tr>\n",
       "    <tr>\n",
       "      <th>155</th>\n",
       "      <td>Tuvalu</td>\n",
       "      <td>9827</td>\n",
       "      <td>1559.983698</td>\n",
       "      <td>30</td>\n",
       "      <td>east_asia_pacific</td>\n",
       "      <td>0</td>\n",
       "    </tr>\n",
       "    <tr>\n",
       "      <th>158</th>\n",
       "      <td>United Arab Emirates</td>\n",
       "      <td>8329453</td>\n",
       "      <td>21088.264381</td>\n",
       "      <td>83600</td>\n",
       "      <td>asia_west</td>\n",
       "      <td>0</td>\n",
       "    </tr>\n",
       "    <tr>\n",
       "      <th>161</th>\n",
       "      <td>Uruguay</td>\n",
       "      <td>3374414</td>\n",
       "      <td>9096.794459</td>\n",
       "      <td>176220</td>\n",
       "      <td>america_south</td>\n",
       "      <td>0</td>\n",
       "    </tr>\n",
       "    <tr>\n",
       "      <th>163</th>\n",
       "      <td>Vanuatu</td>\n",
       "      <td>236299</td>\n",
       "      <td>1522.384040</td>\n",
       "      <td>12190</td>\n",
       "      <td>east_asia_pacific</td>\n",
       "      <td>0</td>\n",
       "    </tr>\n",
       "    <tr>\n",
       "      <th>164</th>\n",
       "      <td>Venezuela</td>\n",
       "      <td>28995745</td>\n",
       "      <td>5528.363114</td>\n",
       "      <td>912050</td>\n",
       "      <td>america_south</td>\n",
       "      <td>0</td>\n",
       "    </tr>\n",
       "  </tbody>\n",
       "</table>\n",
       "<p>101 rows × 6 columns</p>\n",
       "</div>"
      ],
      "text/plain": [
       "                  Country  Population     GDPcapita  surface  \\\n",
       "0                 Albania     2901883   1915.424459    28750   \n",
       "3     Antigua and Barbuda       87233  10614.794315      440   \n",
       "4               Argentina    41222875  10749.319224  2780400   \n",
       "5                 Armenia     2963496   1326.710864    29740   \n",
       "7                 Austria     8391986  26642.993858    83870   \n",
       "..                    ...         ...           ...      ...   \n",
       "155                Tuvalu        9827   1559.983698       30   \n",
       "158  United Arab Emirates     8329453  21088.264381    83600   \n",
       "161               Uruguay     3374414   9096.794459   176220   \n",
       "163               Vanuatu      236299   1522.384040    12190   \n",
       "164             Venezuela    28995745   5528.363114   912050   \n",
       "\n",
       "                region  landlocked  \n",
       "0          europe_east           0  \n",
       "3        america_north           0  \n",
       "4        america_south           0  \n",
       "5          europe_east           1  \n",
       "7          europe_west           1  \n",
       "..                 ...         ...  \n",
       "155  east_asia_pacific           0  \n",
       "158          asia_west           0  \n",
       "161      america_south           0  \n",
       "163  east_asia_pacific           0  \n",
       "164      america_south           0  \n",
       "\n",
       "[101 rows x 6 columns]"
      ]
     },
     "execution_count": 13,
     "metadata": {},
     "output_type": "execute_result"
    }
   ],
   "source": [
    "# Coloque seu código aqui...\n",
    "dados.loc[(dados['region'] == 'america_south') | (dados['Population'] < 10_000_000), :]"
   ]
  },
  {
   "cell_type": "raw",
   "metadata": {},
   "source": [
    "Será buscado ou paises que estão na america do sul ou que possuem menos de 10_000_000 de população"
   ]
  },
  {
   "cell_type": "markdown",
   "metadata": {},
   "source": [
    "<div id=\"ex6\"></div>\n",
    "\n",
    "### EXERCÍCIO 6\n",
    "\n",
    "Construa um novo `DataFrame` que contenha apenas as colunas `Country` e `region` e os países da américa do norte que possuam PIB per capita acima de $15$ mil."
   ]
  },
  {
   "cell_type": "code",
   "execution_count": null,
   "metadata": {},
   "outputs": [],
   "source": [
    "novo_df = dados.loc[(dados['region'] == 'america_north') & (dados['GDPcapita'] > 15_000), ['Country', 'region']]"
   ]
  },
  {
   "cell_type": "code",
   "execution_count": null,
   "metadata": {},
   "outputs": [
    {
     "data": {
      "text/html": [
       "<div>\n",
       "<style scoped>\n",
       "    .dataframe tbody tr th:only-of-type {\n",
       "        vertical-align: middle;\n",
       "    }\n",
       "\n",
       "    .dataframe tbody tr th {\n",
       "        vertical-align: top;\n",
       "    }\n",
       "\n",
       "    .dataframe thead th {\n",
       "        text-align: right;\n",
       "    }\n",
       "</style>\n",
       "<table border=\"1\" class=\"dataframe\">\n",
       "  <thead>\n",
       "    <tr style=\"text-align: right;\">\n",
       "      <th></th>\n",
       "      <th>Country</th>\n",
       "      <th>region</th>\n",
       "    </tr>\n",
       "  </thead>\n",
       "  <tbody>\n",
       "    <tr>\n",
       "      <th>9</th>\n",
       "      <td>Bahamas</td>\n",
       "      <td>america_north</td>\n",
       "    </tr>\n",
       "    <tr>\n",
       "      <th>27</th>\n",
       "      <td>Canada</td>\n",
       "      <td>america_north</td>\n",
       "    </tr>\n",
       "    <tr>\n",
       "      <th>160</th>\n",
       "      <td>United States</td>\n",
       "      <td>america_north</td>\n",
       "    </tr>\n",
       "  </tbody>\n",
       "</table>\n",
       "</div>"
      ],
      "text/plain": [
       "           Country         region\n",
       "9          Bahamas  america_north\n",
       "27          Canada  america_north\n",
       "160  United States  america_north"
      ]
     },
     "execution_count": 15,
     "metadata": {},
     "output_type": "execute_result"
    }
   ],
   "source": [
    "novo_df"
   ]
  },
  {
   "cell_type": "markdown",
   "metadata": {},
   "source": [
    "[Voltar ao Índice](#indice)"
   ]
  },
  {
   "cell_type": "code",
   "execution_count": null,
   "metadata": {},
   "outputs": [
    {
     "data": {
      "text/html": [
       "<div>\n",
       "<style scoped>\n",
       "    .dataframe tbody tr th:only-of-type {\n",
       "        vertical-align: middle;\n",
       "    }\n",
       "\n",
       "    .dataframe tbody tr th {\n",
       "        vertical-align: top;\n",
       "    }\n",
       "\n",
       "    .dataframe thead th {\n",
       "        text-align: right;\n",
       "    }\n",
       "</style>\n",
       "<table border=\"1\" class=\"dataframe\">\n",
       "  <thead>\n",
       "    <tr style=\"text-align: right;\">\n",
       "      <th></th>\n",
       "      <th>Country</th>\n",
       "      <th>Population</th>\n",
       "      <th>GDPcapita</th>\n",
       "      <th>surface</th>\n",
       "      <th>region</th>\n",
       "      <th>landlocked</th>\n",
       "    </tr>\n",
       "  </thead>\n",
       "  <tbody>\n",
       "    <tr>\n",
       "      <th>0</th>\n",
       "      <td>Albania</td>\n",
       "      <td>2901883</td>\n",
       "      <td>1915.424459</td>\n",
       "      <td>28750</td>\n",
       "      <td>europe_east</td>\n",
       "      <td>0</td>\n",
       "    </tr>\n",
       "    <tr>\n",
       "      <th>1</th>\n",
       "      <td>Algeria</td>\n",
       "      <td>36036159</td>\n",
       "      <td>2231.980246</td>\n",
       "      <td>2381740</td>\n",
       "      <td>africa_north</td>\n",
       "      <td>0</td>\n",
       "    </tr>\n",
       "    <tr>\n",
       "      <th>2</th>\n",
       "      <td>Angola</td>\n",
       "      <td>21219954</td>\n",
       "      <td>623.245275</td>\n",
       "      <td>1246700</td>\n",
       "      <td>africa_sub_saharan</td>\n",
       "      <td>0</td>\n",
       "    </tr>\n",
       "    <tr>\n",
       "      <th>3</th>\n",
       "      <td>Antigua and Barbuda</td>\n",
       "      <td>87233</td>\n",
       "      <td>10614.794315</td>\n",
       "      <td>440</td>\n",
       "      <td>america_north</td>\n",
       "      <td>0</td>\n",
       "    </tr>\n",
       "    <tr>\n",
       "      <th>4</th>\n",
       "      <td>Argentina</td>\n",
       "      <td>41222875</td>\n",
       "      <td>10749.319224</td>\n",
       "      <td>2780400</td>\n",
       "      <td>america_south</td>\n",
       "      <td>0</td>\n",
       "    </tr>\n",
       "    <tr>\n",
       "      <th>...</th>\n",
       "      <td>...</td>\n",
       "      <td>...</td>\n",
       "      <td>...</td>\n",
       "      <td>...</td>\n",
       "      <td>...</td>\n",
       "      <td>...</td>\n",
       "    </tr>\n",
       "    <tr>\n",
       "      <th>163</th>\n",
       "      <td>Vanuatu</td>\n",
       "      <td>236299</td>\n",
       "      <td>1522.384040</td>\n",
       "      <td>12190</td>\n",
       "      <td>east_asia_pacific</td>\n",
       "      <td>0</td>\n",
       "    </tr>\n",
       "    <tr>\n",
       "      <th>164</th>\n",
       "      <td>Venezuela</td>\n",
       "      <td>28995745</td>\n",
       "      <td>5528.363114</td>\n",
       "      <td>912050</td>\n",
       "      <td>america_south</td>\n",
       "      <td>0</td>\n",
       "    </tr>\n",
       "    <tr>\n",
       "      <th>165</th>\n",
       "      <td>Vietnam</td>\n",
       "      <td>88357775</td>\n",
       "      <td>722.810053</td>\n",
       "      <td>331050</td>\n",
       "      <td>east_asia_pacific</td>\n",
       "      <td>0</td>\n",
       "    </tr>\n",
       "    <tr>\n",
       "      <th>166</th>\n",
       "      <td>Zambia</td>\n",
       "      <td>13917439</td>\n",
       "      <td>434.659804</td>\n",
       "      <td>752610</td>\n",
       "      <td>africa_sub_saharan</td>\n",
       "      <td>1</td>\n",
       "    </tr>\n",
       "    <tr>\n",
       "      <th>167</th>\n",
       "      <td>Zimbabwe</td>\n",
       "      <td>13973897</td>\n",
       "      <td>322.556928</td>\n",
       "      <td>390760</td>\n",
       "      <td>africa_sub_saharan</td>\n",
       "      <td>1</td>\n",
       "    </tr>\n",
       "  </tbody>\n",
       "</table>\n",
       "<p>168 rows × 6 columns</p>\n",
       "</div>"
      ],
      "text/plain": [
       "                 Country  Population     GDPcapita  surface  \\\n",
       "0                Albania     2901883   1915.424459    28750   \n",
       "1                Algeria    36036159   2231.980246  2381740   \n",
       "2                 Angola    21219954    623.245275  1246700   \n",
       "3    Antigua and Barbuda       87233  10614.794315      440   \n",
       "4              Argentina    41222875  10749.319224  2780400   \n",
       "..                   ...         ...           ...      ...   \n",
       "163              Vanuatu      236299   1522.384040    12190   \n",
       "164            Venezuela    28995745   5528.363114   912050   \n",
       "165              Vietnam    88357775    722.810053   331050   \n",
       "166               Zambia    13917439    434.659804   752610   \n",
       "167             Zimbabwe    13973897    322.556928   390760   \n",
       "\n",
       "                 region  landlocked  \n",
       "0           europe_east           0  \n",
       "1          africa_north           0  \n",
       "2    africa_sub_saharan           0  \n",
       "3         america_north           0  \n",
       "4         america_south           0  \n",
       "..                  ...         ...  \n",
       "163   east_asia_pacific           0  \n",
       "164       america_south           0  \n",
       "165   east_asia_pacific           0  \n",
       "166  africa_sub_saharan           1  \n",
       "167  africa_sub_saharan           1  \n",
       "\n",
       "[168 rows x 6 columns]"
      ]
     },
     "execution_count": 22,
     "metadata": {},
     "output_type": "execute_result"
    }
   ],
   "source": [
    "dados"
   ]
  },
  {
   "cell_type": "markdown",
   "metadata": {},
   "source": [
    "<div id=\"resumo-comandos\"></div>\n",
    "\n",
    "## 4. Resumo dos Comandos\n",
    "\n",
    "Faça um resumo das funções apresentadas nesta atividade:\n",
    "\n",
    "- `.read_excel()`: Função que converte um arquivo de excel para um Data Frame;\n",
    "- `.head()`: Função que mostra as primeiras linhas do Data Frame;\n",
    "- `.tail()`: Função que mostra as ultimas linhas do Data Frame;\n",
    "- `.sort_values()`: Função que ordena os valores do Data Frame;\n",
    "- `.loc()`: Função utilizada para buscar as linhas de um Data Frame com base nas colunas.\n",
    "- `.iloc()`: Função utilizada para buscar as linhas e colunas de um Data Frame com base nos indices delas.\n",
    "\n",
    "\n",
    "Consulte [aqui](https://medium.com/horadecodar/data-science-tips-02-como-usar-loc-e-iloc-no-pandas-fab58e214d87) para estudar mais sobre `.loc` e `.iloc`."
   ]
  },
  {
   "cell_type": "markdown",
   "metadata": {},
   "source": [
    "[Voltar ao Índice](#indice)"
   ]
  }
 ],
 "metadata": {
  "kernelspec": {
   "display_name": "Python 3",
   "language": "python",
   "name": "python3"
  },
  "language_info": {
   "codemirror_mode": {
    "name": "ipython",
    "version": 3
   },
   "file_extension": ".py",
   "mimetype": "text/x-python",
   "name": "python",
   "nbconvert_exporter": "python",
   "pygments_lexer": "ipython3",
   "version": "3.11.4"
  }
 },
 "nbformat": 4,
 "nbformat_minor": 4
}
