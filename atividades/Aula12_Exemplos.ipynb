{
 "cells": [
  {
   "cell_type": "markdown",
   "metadata": {},
   "source": [
    "___\n",
    "# Exemplos: <p> <center> Distribuições Uniforme e Exponencial\n",
    "\n",
    "___\n",
    "## Aula 12\n"
   ]
  },
  {
   "cell_type": "markdown",
   "metadata": {},
   "source": [
    "___\n",
    "## Lista de comandos:\n",
    "\n",
    "### Distribuição Uniforme\n",
    "\n",
    "Comandos quando $X\\sim Uniforme(a, b)$.\n",
    "\n",
    "* $f(x)$: `stats.uniform.pdf(x, loc=a, scale=b-a)`\n",
    "\n",
    "* $P(X\\leq x)$: `stats.uniform.cdf(x, loc=a, scale=b-a)`\n",
    "\n",
    "* $x$ tal que $p=P(X\\leq x)$: `stats.uniform.ppf(p, loc=a, scale=b-a)`\n",
    "\n",
    "* $E(X)$: `stats.uniform.mean(loc=a, scale=b-a)`\n",
    "\n",
    "* $Var(X)$: `stats.uniform.var(loc=a, scale=b-a)`\n",
    "\n",
    "* $DP(X)$: `stats.uniform.std(loc=a, scale=b-a)`\n",
    "\n",
    "Link: https://docs.scipy.org/doc/scipy/reference/generated/scipy.stats.uniform.html"
   ]
  },
  {
   "cell_type": "code",
   "execution_count": 2,
   "metadata": {},
   "outputs": [],
   "source": [
    "from scipy import stats"
   ]
  },
  {
   "cell_type": "markdown",
   "metadata": {},
   "source": [
    "___\n",
    "\n",
    "## Exemplo 1:\n",
    "\n",
    "O torque suportado por parafusos de uma linha de montagem varia segundo uma distribuição uniforme entre 100 Nm e 200Nm. (sendo Nm: Newton metros)\n",
    "\n",
    "### Item a\n",
    "\n",
    "Qual a probabilidade de o torque de um parafuso qualquer estar entre 150Nm e 175Nm?\n",
    "\n",
    "*Resposta esperada: 0.25*"
   ]
  },
  {
   "cell_type": "code",
   "execution_count": 3,
   "metadata": {},
   "outputs": [
    {
     "data": {
      "text/plain": [
       "0.25"
      ]
     },
     "execution_count": 3,
     "metadata": {},
     "output_type": "execute_result"
    }
   ],
   "source": [
    "stats.uniform.cdf(175, scale=200-100, loc=100) - stats.uniform.cdf(150, scale=200-100, loc=100)"
   ]
  },
  {
   "cell_type": "markdown",
   "metadata": {},
   "source": [
    "### Item b\n",
    "\n",
    "Um parafuso sobreviveu a um teste de torque que garante que ele suporta pelo menos 150Nm. Qual a probabilidade que suporte até 175Nm?\n",
    "\n",
    "*Resposta esperada: 0.5*"
   ]
  },
  {
   "cell_type": "code",
   "execution_count": 4,
   "metadata": {},
   "outputs": [
    {
     "data": {
      "text/plain": [
       "0.5"
      ]
     },
     "execution_count": 4,
     "metadata": {},
     "output_type": "execute_result"
    }
   ],
   "source": [
    "stats.uniform.cdf(175, loc=150, scale=200-150)"
   ]
  },
  {
   "cell_type": "markdown",
   "metadata": {},
   "source": [
    "### Item c\n",
    "\n",
    "Construa um gráfico que mostre o formato da função densidade de probabilidade de uma Uniforme com a=100 e b=200.**"
   ]
  },
  {
   "cell_type": "code",
   "execution_count": 5,
   "metadata": {},
   "outputs": [],
   "source": [
    "import numpy as np\n",
    "import matplotlib.pyplot as plt\n",
    "%matplotlib inline"
   ]
  },
  {
   "cell_type": "code",
   "execution_count": 6,
   "metadata": {},
   "outputs": [
    {
     "data": {
      "text/plain": [
       "[<matplotlib.lines.Line2D at 0x7fd5cdc05bd0>]"
      ]
     },
     "execution_count": 6,
     "metadata": {},
     "output_type": "execute_result"
    },
    {
     "data": {
      "image/png": "[encoded data removed]",
      "text/plain": [
       "<Figure size 640x480 with 1 Axes>"
      ]
     },
     "metadata": {},
     "output_type": "display_data"
    }
   ],
   "source": [
    "plt.plot(np.arange(100, 200, 0.1), stats.uniform.pdf(np.arange(100, 200, 0.1), loc=100, scale=200-100))"
   ]
  },
  {
   "cell_type": "markdown",
   "metadata": {},
   "source": [
    "___\n",
    "## Lista de comandos:\n",
    "\n",
    "### Distribuição Exponencial\n",
    "\n",
    "Comandos quando $X\\sim Exp(\\lambda)$. Lembrando que nesse caso $E(X) = \\mu = 1/\\lambda$.\n",
    "\n",
    "* $f(x)$: `stats.expon.pdf(x, loc=0, scale=mu)`\n",
    "\n",
    "* $P(X\\leq x)$: `stats.expon.cdf(x, loc=0, scale=mu)`\n",
    "\n",
    "* $x$ tal que $p=P(X\\leq x)$: `stats.expon.ppf(p, loc=0, scale=mu)`\n",
    "\n",
    "* $E(X)$: `stats.expon.mean(loc=0, scale=mu)`\n",
    "\n",
    "* $Var(X)$: `stats.expon.var(loc=0, scale=mu)`\n",
    "\n",
    "* $DP(X)$: `stats.expon.std(loc=0, scale=mu)`\n",
    "\n",
    "Link: https://docs.scipy.org/doc/scipy/reference/generated/scipy.stats.expon.html"
   ]
  },
  {
   "cell_type": "markdown",
   "metadata": {},
   "source": [
    "___\n",
    "\n",
    "## Exemplo 2:\n",
    "\n",
    "Admita que o tempo até que uma venda seja realizada em uma loja siga um modelo (distribuição) exponencial com média de 0,2 horas (12 minutos).\n",
    "\n",
    "### Item a\n",
    "\n",
    "Qual é a probabilidade de uma venda demorar mais de meia hora para ser feita?\n",
    "\n",
    "*Resposta esperada: 0.08208499862389884*"
   ]
  },
  {
   "cell_type": "code",
   "execution_count": 7,
   "metadata": {},
   "outputs": [
    {
     "data": {
      "text/plain": [
       "0.08208499862389884"
      ]
     },
     "execution_count": 7,
     "metadata": {},
     "output_type": "execute_result"
    }
   ],
   "source": [
    "1 - stats.expon.cdf(0.5, loc=0, scale=0.2)"
   ]
  },
  {
   "cell_type": "markdown",
   "metadata": {},
   "source": [
    "### Item b\n",
    "\n",
    "Dado que você sabe que a próxima venda vai ser feita em menos de meia hora, qual a probabilidade de que seja em menos de 5 minutos?\n",
    "\n",
    "*Resposta esperada: 0.37123194335935633*"
   ]
  },
  {
   "cell_type": "code",
   "execution_count": 9,
   "metadata": {},
   "outputs": [
    {
     "data": {
      "text/plain": [
       "0.37123194335935633"
      ]
     },
     "execution_count": 9,
     "metadata": {},
     "output_type": "execute_result"
    }
   ],
   "source": [
    "stats.expon.cdf(5/60, loc=0, scale=0.2) / stats.expon.cdf(30/60, loc=0, scale=0.2)"
   ]
  }
 ],
 "metadata": {
  "kernelspec": {
   "display_name": "Python 3",
   "language": "python",
   "name": "python3"
  },
  "language_info": {
   "codemirror_mode": {
    "name": "ipython",
    "version": 3
   },
   "file_extension": ".py",
   "mimetype": "text/x-python",
   "name": "python",
   "nbconvert_exporter": "python",
   "pygments_lexer": "ipython3",
   "version": "3.11.4"
  }
 },
 "nbformat": 4,
 "nbformat_minor": 2
}
