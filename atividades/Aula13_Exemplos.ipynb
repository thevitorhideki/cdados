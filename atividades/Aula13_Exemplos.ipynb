{
 "cells": [
  {
   "cell_type": "markdown",
   "metadata": {},
   "source": [
    "___\n",
    "# Exemplo: <p> <center>Distribuição Normal\n",
    "___\n",
    "\n",
    "## Aula 13\n"
   ]
  },
  {
   "cell_type": "markdown",
   "metadata": {},
   "source": [
    "___\n",
    "## Lista de comandos:\n",
    "\n",
    "### Distribuição Normal\n",
    "\n",
    "Comandos quando $X\\sim N(\\mu, \\sigma^2)$ a partir da biblioteca `from scipy import stats`:\n",
    "\n",
    "* $f(x)$: `stats.norm.pdf(x, loc=mu, scale=sigma)`\n",
    "\n",
    "* $P(X\\leq x)$: `stats.norm.cdf(x, loc=mu, scale=sigma)`\n",
    "\n",
    "* $x$ tal que $p=P(X\\leq x)$: `stats.norm.ppf(p, loc=mu, scale=sigma)`\n",
    "\n",
    "* $E(X)$: `stats.norm.mean(loc=mu, scale=sigma)`\n",
    "\n",
    "* $Var(X)$: `stats.norm.var(loc=mu, scale=sigma)`\n",
    "\n",
    "* $DP(X)$: `stats.norm.std(loc=mu, scale=sigma)`\n",
    "\n",
    "\n",
    "Link: https://docs.scipy.org/doc/scipy/reference/generated/scipy.stats.norm.html"
   ]
  },
  {
   "cell_type": "code",
   "execution_count": 2,
   "metadata": {},
   "outputs": [],
   "source": [
    "from scipy import stats"
   ]
  },
  {
   "cell_type": "markdown",
   "metadata": {},
   "source": [
    "___\n",
    "\n",
    "# Exemplo 1:\n",
    "\n",
    "Assuma que a variável de interesse $X$ represente notas de alunos, cuja média vale 5 e o desvio padrão, 1,5. Ainda, considere que essa variável seja modelada por uma normal. Ou seja, $X\\sim N(5; 1,5^2)$. \n",
    "\n",
    "**Responda:**"
   ]
  },
  {
   "cell_type": "markdown",
   "metadata": {},
   "source": [
    "### Item a\n",
    "\n",
    "Qual a probabilidade de encontrar um aluno com nota abaixo de 6,5?\n",
    "\n",
    "*Resposta esperada: 0.8413447460685429*"
   ]
  },
  {
   "cell_type": "code",
   "execution_count": 3,
   "metadata": {},
   "outputs": [
    {
     "name": "stdout",
     "output_type": "stream",
     "text": [
      "P(X < 6.5) = 0.8413447460685429\n"
     ]
    }
   ],
   "source": [
    "# P(X < 6,5) = P (X < mu + 1*sigma) = ?\n",
    "item_a = stats.norm.cdf(6.5, loc=5, scale=1.5)\n",
    "\n",
    "print(f'P(X < 6.5) = {item_a}')"
   ]
  },
  {
   "cell_type": "markdown",
   "metadata": {},
   "source": [
    "### Item b\n",
    "\n",
    "Qual a probabilidade de encontrar um aluno nota acima de 8?\n",
    "\n",
    "*Resposta esperada: 0.02275013194817921*"
   ]
  },
  {
   "cell_type": "code",
   "execution_count": 5,
   "metadata": {
    "scrolled": true
   },
   "outputs": [
    {
     "name": "stdout",
     "output_type": "stream",
     "text": [
      "P(X > 8) = 0.02275013194817921\n"
     ]
    }
   ],
   "source": [
    "# P(X > 8) = P (X > mu + 2*sigma) = ?\n",
    "item_b = 1 - stats.norm.cdf(8, loc=5, scale=1.5)\n",
    "\n",
    "print(f'P(X > 8) = {item_b}')"
   ]
  },
  {
   "cell_type": "markdown",
   "metadata": {},
   "source": [
    "### Item c\n",
    "\n",
    "E da nota ser superior a 9?\n",
    "\n",
    "*Resposta esperada: 0.003830380567589775*"
   ]
  },
  {
   "cell_type": "code",
   "execution_count": 6,
   "metadata": {},
   "outputs": [
    {
     "name": "stdout",
     "output_type": "stream",
     "text": [
      "P(X > 9) = 0.003830380567589775\n"
     ]
    }
   ],
   "source": [
    "# P(X > 8) = P (X > mu + 2*sigma) = ?\n",
    "item_c = 1 - stats.norm.cdf(9, loc=5, scale=1.5)\n",
    "\n",
    "print(f'P(X > 9) = {item_c}')"
   ]
  },
  {
   "cell_type": "markdown",
   "metadata": {},
   "source": [
    "### Item d\n",
    "\n",
    "Qual a maior nota dos 20% piores alunos? E a pior nota dos 20% melhores alunos?\n",
    "\n",
    "*Resposta esperada: 3.737568149640629 e 6.262431850359372*"
   ]
  },
  {
   "cell_type": "code",
   "execution_count": 7,
   "metadata": {},
   "outputs": [
    {
     "name": "stdout",
     "output_type": "stream",
     "text": [
      "P(X > 9) = 3.737568149640629\n"
     ]
    }
   ],
   "source": [
    "item_d = stats.norm.ppf(0.2, loc=5, scale=1.5)\n",
    "item_d"
   ]
  },
  {
   "cell_type": "code",
   "execution_count": 8,
   "metadata": {},
   "outputs": [
    {
     "data": {
      "text/plain": [
       "6.262431850359372"
      ]
     },
     "execution_count": 8,
     "metadata": {},
     "output_type": "execute_result"
    }
   ],
   "source": [
    "item_d2 = stats.norm.ppf(1 - 0.2, loc=5, scale=1.5)\n",
    "item_d2"
   ]
  },
  {
   "cell_type": "markdown",
   "metadata": {},
   "source": [
    "### Item e\n",
    "\n",
    "Considerando alunos que tiraram acima de 5, qual a probabilidade de ser abaixo de 7?\n",
    "\n",
    "*Resposta esperada: 0.8175775605482642*"
   ]
  },
  {
   "cell_type": "code",
   "execution_count": 9,
   "metadata": {},
   "outputs": [
    {
     "data": {
      "text/plain": [
       "0.8175775605482642"
      ]
     },
     "execution_count": 9,
     "metadata": {},
     "output_type": "execute_result"
    }
   ],
   "source": [
    "# P(X < 7 | X > 5) = P(X < 7 e X > 5) / P(X > 5) = ?\n",
    "\n",
    "numerador = stats.norm.cdf(7, loc=5, scale=1.5) - stats.norm.cdf(5, loc=5, scale=1.5)\n",
    "denominador = stats.norm.cdf(5, loc=5, scale=1.5)\n",
    "\n",
    "numerador / denominador"
   ]
  },
  {
   "cell_type": "markdown",
   "metadata": {},
   "source": [
    "### Item f\n",
    "\n",
    "Construa o gráfico da distribuição normal que modela as notas."
   ]
  },
  {
   "cell_type": "code",
   "execution_count": 11,
   "metadata": {},
   "outputs": [],
   "source": [
    "%matplotlib inline\n",
    "import matplotlib.pyplot as plt\n",
    "import numpy as np"
   ]
  },
  {
   "cell_type": "code",
   "execution_count": 21,
   "metadata": {},
   "outputs": [
    {
     "data": {
      "image/png": "[encoded data removed]",
      "text/plain": [
       "<Figure size 640x480 with 1 Axes>"
      ]
     },
     "metadata": {},
     "output_type": "display_data"
    }
   ],
   "source": [
    "notas = np.arange(0, 10, 0.1)\n",
    "\n",
    "function = stats.norm.pdf(notas, loc=5, scale=1.5)\n",
    "\n",
    "plt.plot(notas, function)\n",
    "plt.show()"
   ]
  }
 ],
 "metadata": {
  "kernelspec": {
   "display_name": "Python 3",
   "language": "python",
   "name": "python3"
  },
  "language_info": {
   "codemirror_mode": {
    "name": "ipython",
    "version": 3
   },
   "file_extension": ".py",
   "mimetype": "text/x-python",
   "name": "python",
   "nbconvert_exporter": "python",
   "pygments_lexer": "ipython3",
   "version": "3.11.4"
  }
 },
 "nbformat": 4,
 "nbformat_minor": 2
}
