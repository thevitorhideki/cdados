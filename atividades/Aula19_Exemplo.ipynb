{
 "cells": [
  {
   "cell_type": "markdown",
   "metadata": {},
   "source": [
    "___\n",
    "# Exemplo: <p> <center> Uso do TLC\n",
    "___\n",
    "    \n",
    "## Aula 19"
   ]
  },
  {
   "cell_type": "code",
   "execution_count": 2,
   "metadata": {},
   "outputs": [],
   "source": [
    "from scipy import stats\n",
    "from math import sqrt"
   ]
  },
  {
   "cell_type": "markdown",
   "metadata": {},
   "source": [
    "## Exemplo\n",
    "\n",
    "O tempo que uma recepcionista leva para atender uma chamada segue uma distribuição exponencial com média populacional 60 segundos e com desvio padrão populacional igual a 60 segundos. <br>"
   ]
  },
  {
   "cell_type": "markdown",
   "metadata": {},
   "source": [
    "a) Qual a probabilidade de que uma recepcionista qualquer demore menos do que 40 segundos para atender uma chamada? <br>"
   ]
  },
  {
   "cell_type": "code",
   "execution_count": 3,
   "metadata": {},
   "outputs": [
    {
     "data": {
      "text/plain": [
       "0.486582880967408"
      ]
     },
     "execution_count": 3,
     "metadata": {},
     "output_type": "execute_result"
    }
   ],
   "source": [
    "media = 60\n",
    "dp = 60\n",
    "stats.expon.cdf(40, scale=dp)"
   ]
  },
  {
   "cell_type": "markdown",
   "metadata": {},
   "source": [
    "Uma amostra de 90 recepcionistas passou por um treinamento visando diminuir o tempo médio de atendimento. <br>\n",
    "Após o treinamento, elas tiveram o seu tempo de atendimento registrado. <br>\n",
    "Assumindo que esse treinamento não foi eficaz (ou seja, se não houve alteração no tempo médio populacional comparado a antes do treinamento), calcule:"
   ]
  },
  {
   "cell_type": "markdown",
   "metadata": {},
   "source": [
    "b) Qual a probabilidade de encontrar uma amostra cujo tempo médio amostral seja inferior a 40 segundos? <br>"
   ]
  },
  {
   "cell_type": "code",
   "execution_count": 10,
   "metadata": {},
   "outputs": [
    {
     "data": {
      "text/plain": [
       "0.000782701129001274"
      ]
     },
     "execution_count": 10,
     "metadata": {},
     "output_type": "execute_result"
    }
   ],
   "source": [
    "stats.norm.cdf(40, loc=media, scale=60/90**0.5)"
   ]
  },
  {
   "cell_type": "markdown",
   "metadata": {},
   "source": [
    "c) Encontre o tempo médio amostral que separa 1% dos menores tempos médios amostrais dos demais 99% maiores tempos médios amostrais? <br>"
   ]
  },
  {
   "cell_type": "code",
   "execution_count": 15,
   "metadata": {},
   "outputs": [
    {
     "data": {
      "text/plain": [
       "45.28688417628089"
      ]
     },
     "execution_count": 15,
     "metadata": {},
     "output_type": "execute_result"
    }
   ],
   "source": [
    "stats.norm.ppf(0.01, loc=media, scale=60/90**0.5)"
   ]
  },
  {
   "cell_type": "markdown",
   "metadata": {},
   "source": [
    "d) Uma amostra de 90 recepcionista foi selecionada e, após treinamento, o tempo médio dessa amostra  foi de 40 segundos. Você considera que há indícios de que o treino foi eficaz? Justifique sua resposta com cálculo de probabilidades.<br>"
   ]
  },
  {
   "cell_type": "code",
   "execution_count": 18,
   "metadata": {},
   "outputs": [
    {
     "data": {
      "text/plain": [
       "25.286884176280893"
      ]
     },
     "execution_count": 18,
     "metadata": {},
     "output_type": "execute_result"
    }
   ],
   "source": [
    "nova_media = 40\n",
    "stats.norm.ppf(0.01, loc=nova_media, scale=60/90**0.5)\n",
    "# print('Foi eficas, pois dominuiu a media')"
   ]
  },
  {
   "cell_type": "markdown",
   "metadata": {},
   "source": [
    "e) Que suposições você fez para resolver este problema? <br>"
   ]
  },
  {
   "cell_type": "code",
   "execution_count": 7,
   "metadata": {},
   "outputs": [],
   "source": [
    "# ESCREVA SUA RESPOSTA AQUI"
   ]
  }
 ],
 "metadata": {
  "hide_input": false,
  "kernelspec": {
   "display_name": "Python 3",
   "language": "python",
   "name": "python3"
  },
  "language_info": {
   "codemirror_mode": {
    "name": "ipython",
    "version": 3
   },
   "file_extension": ".py",
   "mimetype": "text/x-python",
   "name": "python",
   "nbconvert_exporter": "python",
   "pygments_lexer": "ipython3",
   "version": "3.11.4"
  }
 },
 "nbformat": 4,
 "nbformat_minor": 2
}
