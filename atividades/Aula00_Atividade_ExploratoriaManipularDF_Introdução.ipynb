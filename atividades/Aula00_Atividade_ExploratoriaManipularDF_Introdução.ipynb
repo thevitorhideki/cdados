{
 "cells": [
  {
   "cell_type": "markdown",
   "metadata": {},
   "source": [
    "___\n",
    "# Atividade: <br> <center> Ciência de Dados para Engenharia: <br> <center> O que são \"dados\"? O que queremos fazer com eles? \n",
    "___\n",
    "\n",
    "## Aula 00\n",
    "\n",
    "**Objetivo da aula:** ao fim desta aula, o aluno será capaz de: <br>\n",
    " * compreender a necessidade de se ter um objetivo (ou hipótese teórica) previamente definido com intuito de guiá-lo na manipulação de uma base de dados; e \n",
    " * realizar algumas manipulações em um *dataframe* com auxílio do **Pandas**.\n"
   ]
  },
  {
   "cell_type": "markdown",
   "metadata": {},
   "source": [
    "___\n",
    "<div id=\"indice\"></div>\n",
    "\n",
    "## Índice\n",
    "\n",
    "1. [Hipóteses teóricas e conjunto de dados](#hipoteses)\n",
    "    - [Exemplos de hipóteses teóricas em algumas áreas](#exemplosht)\n",
    "    - [Exercício 1](#ex1)\n",
    "    \n",
    "    \n",
    "2. [Glossário para base de dados: `WorldBank.xlsx`](#dados)\n",
    "    - [Algumas hipóteses teóricas:](#htwb)\n",
    "    - [Exercício 2](#ex2)\n",
    "\n",
    "\n",
    "3. [Manipulação de base de dados](#manipulacao)\n",
    "    - [Abrindo um arquivo e visualizando seu conteúdo](#abrindo-arquivo)\n",
    "    - [Visualizando primeiras linhas de uma base de dados](#head)\n",
    "    - [Visualizando últimas linhas de uma base de dados](#tail)\n",
    "    - [Exercício 3](#ex3)\n"
   ]
  },
  {
   "cell_type": "markdown",
   "metadata": {},
   "source": [
    "___\n",
    "<div id=\"hipoteses\"></div>\n",
    "\n",
    "## 1. Hipóteses e conjunto de dados\n",
    "\n",
    "Em uma análise exploratória de dados, devemos partir de **hipóteses teóricas** que nos guiam na seleção das variáveis relevantes a serem incorporadas em um conjunto de dados e também direcionam como essas devem ser exploradas para embasar as tomadas de decisão relacionadas ao problema em questão."
   ]
  },
  {
   "cell_type": "markdown",
   "metadata": {},
   "source": [
    "<div id=\"exemplosht\"></div>\n",
    "\n",
    "### Exemplos de hipóteses teóricas em algumas áreas:\n",
    "\n",
    "\n",
    " * **Eficácia de uma Nova Droga:** A nova droga X é eficaz no tratamento da doença Y em comparação com uma terapia padrão? <br>\n",
    "   *Dados de ensaios clínicos e resultados de pacientes podem ser analisados para determinar a eficácia da nova droga*;\n",
    "    <p>\n",
    "\n",
    " * **Relação Entre Fatores de Estilo de Vida e Doenças Cardiovasculares:** Existe uma relação entre o consumo de tabaco, dieta pouco saudável e a incidência de doenças cardíacas? <br>\n",
    "   *Dados de estudos epidemiológicos podem ser usados para identificar associações*\n",
    "     <p>\n",
    "\n",
    " * **Impacto do Aumento do Salário Mínimo:** O aumento do salário mínimo leva a uma redução na taxa de desemprego? <br>\n",
    "   *Dados de emprego e salário podem ser analisados para avaliar o impacto econômico dessa política*;\n",
    "   <p>\n",
    "\n",
    " * **Análise de Tendências de Consumo:** Como as preferências dos consumidores estão mudando ao longo do tempo e qual é o impacto nas vendas? <br>\n",
    "   *Dados de vendas e comportamento do consumidor podem ser usados para identificar tendências e ajustar estratégias de negócios*;\n",
    "\n",
    " * **Previsão de Falhas em Máquinas Industriais:** É possível prever falhas em equipamentos industriais com base em padrões de dados de sensores? <br>\n",
    "   *Dados de sensores podem ser analisados para desenvolver modelos de previsão de falha*;\n",
    "   <p>\n",
    "\n",
    " * **Otimização de Rotas de Transporte:** Como otimizar rotas de entrega para minimizar custos e tempo? <br>\n",
    "   *Dados de tráfego, condições climáticas e logística podem ser usados para criar algoritmos de otimização de rotas*;\n",
    "   <p>\n",
    "\n",
    " * **Monitoramento de Qualidade do Ar:** Como a poluição do ar afeta a saúde das populações urbanas? <br>\n",
    "   *Dados de qualidade do ar e dados de saúde pública podem ser analisados para identificar possíveis correlações*;\n",
    "   <p>\n",
    "\n",
    " * **Aquecimento Global e Níveis do Mar:** Existe uma relação direta entre as emissões de gases de efeito estufa e o aumento dos níveis do mar? <br>\n",
    "   *Dados climáticos e de medição de níveis do mar podem ser utilizados para avaliar essa relação*.\n",
    "   <p>\n",
    "\n",
    "<br>\n",
    "\n",
    "Lembre-se de que esses exemplos são hipóteses que são frequentemente questionadas em problemas reais e que a análise exploratória de dados é uma ferramenta poderosa para buscar respostas e *insights* nessas áreas."
   ]
  },
  {
   "cell_type": "markdown",
   "metadata": {},
   "source": [
    "[Voltar ao índice](#indice)"
   ]
  },
  {
   "cell_type": "markdown",
   "metadata": {},
   "source": [
    "<div id=\"ex1\"></div>\n",
    "\n",
    "## Exercício 1: \n",
    "\n",
    "Para ilustrar, proponha um cenário de interesse particular e desenvolva hipóteses teóricas potenciais. <br>\n",
    "Em seguida, identifique variáveis relevantes (sejam qualitativas ou quantitativas) que seriam essenciais em sua base de dados, visando a condução de uma análise exploratória de dados abrangente para tomada de decisão. <br>\n"
   ]
  },
  {
   "cell_type": "raw",
   "metadata": {},
   "source": [
    "# Coloque sua resposta aqui...\n",
    "\n"
   ]
  },
  {
   "cell_type": "markdown",
   "metadata": {},
   "source": [
    "[Voltar ao índice](#indice)"
   ]
  },
  {
   "cell_type": "markdown",
   "metadata": {},
   "source": [
    "___\n",
    "<div id=\"dados\"></div>\n",
    "\n",
    "\n",
    "## 2. Glossário para base de dados: `WorldBank.xlsx`\n",
    "\n",
    "Nesta atividade, será utilizado o arquivo `WorldBank.xlsx`. <br>\n",
    "A seguir, são apresentadas as variáveis e seus significados para identificar o que cada uma das colunas dessa base de dados significa:\n",
    "\n",
    "- **Country**: nome do país;\n",
    "- **Population**: tamanho populacional, ou seja, número total de indivíduos da população;\n",
    "- **GDPcapita**: produto interno bruto (PIB) per capita;\n",
    "- **surface**: área total do país, em km$^2$;\n",
    "- **region**: nome da região que país faz parte, sendo categorizada em: africa_north, africa_sub_saharan, america_north, america_south, asia_west, east_asia_pacific, europe_east e europe_west; e\n",
    "- **landlocked**: indica se país não tem fronteira com litoral, sendo categorizada em: 0=com litoral; e 1=sem litoral."
   ]
  },
  {
   "cell_type": "markdown",
   "metadata": {},
   "source": [
    "<div id=\"htwb\"></div>\n",
    "\n",
    "### Algumas hipóteses teóricas:\n",
    "\n",
    "A seguir, citamos algumas hipóteses teóricas que poderiam ser validadas com uso da base nos dados fornecida.\n",
    "\n",
    " * **Hipótese: O PIB per capita está correlacionado com a população de um país?** <br>\n",
    " Essa hipótese questiona se países com populações maiores tendem a ter um PIB per capita mais alto ou mais baixo.\n",
    " <p>\n",
    "    \n",
    " * **Hipótese: Países sem litoral têm um PIB per capita mais baixo em comparação com os países com litoral?** <br>\n",
    " Essa hipótese explora se a presença de litoral está relacionada a um PIB per capita mais alto devido a potenciais vantagens econômicas.\n",
    " <p>\n",
    "\n",
    " * **Hipótese: A área total de um país está correlacionada com sua população?** <br>\n",
    " Esta hipótese considera se países maiores em área tendem a ter uma população maior ou menor.\n",
    " <p>\n",
    "    \n",
    " * **Hipótese: Certas regiões geográficas têm uma probabilidade maior de serem países sem litoral?** <br>\n",
    " Esta hipótese explora se determinadas regiões geográficas têm uma tendência maior de conter países sem litoral.\n",
    " <p>\n",
    "    \n",
    " * **Hipótese: Países com PIB per capita mais alto estão localizados predominantemente em regiões específicas?** <br>\n",
    " Aqui, você está explorando se certas regiões geográficas têm uma tendência maior de abrigar países com PIB per capita mais alto.\n",
    " <p>\n",
    "    \n",
    "Essas são apenas algumas hipóteses que você pode explorar com base nos dados fornecidos. <br>\n",
    "Lembre-se de que, na prática, uma análise exploratória de dados envolveria a coleta, limpeza e análise dos dados para validar ou refutar essas hipóteses."
   ]
  },
  {
   "cell_type": "markdown",
   "metadata": {},
   "source": [
    "<div id=\"ex2\"></div>\n",
    "\n",
    "## Exercício 2: \n",
    "\n",
    "Considerando os dados apresentados no arquivo `WorldBank.xlsx`, apresente outras hipóteses teóricas que poderiam ser interessantes dentro de um contexto prático. <br>\n",
    "Ainda, discuta se seria interessante ter mais informações (colunas) na base de dados. Se sim, quais informações seriam essas?"
   ]
  },
  {
   "cell_type": "raw",
   "metadata": {},
   "source": [
    "# Coloque sua resposta aqui...\n",
    "\n",
    "\n"
   ]
  },
  {
   "cell_type": "markdown",
   "metadata": {},
   "source": [
    "[Voltar ao índice](#indice)"
   ]
  },
  {
   "cell_type": "markdown",
   "metadata": {},
   "source": [
    "___\n",
    "<div id=\"manipulacao\"></div>\n",
    "\n",
    "## 3. Manipulação da base de dados com **Pandas**\n",
    "\n",
    "A biblioteca [**Pandas**](https://pandas.pydata.org/docs/user_guide/index.html) é um conjunto de funções para o Python com intuito de trabalhar com *Data Science*. <br>\n",
    "Essa biblioteca permite, além de abrir diversos tipos de arquivos, trabalhar também com o ferramental descritivo para responder perguntas sobre seus dados."
   ]
  },
  {
   "cell_type": "code",
   "execution_count": 1,
   "metadata": {},
   "outputs": [],
   "source": [
    "# Importando as bibliotecas necessárias para esta atividade\n",
    "import pandas as pd"
   ]
  },
  {
   "cell_type": "markdown",
   "metadata": {},
   "source": [
    "<div id=\"abrindo-arquivo\"></div>\n",
    "\n",
    "### Abrindo um arquivo e visualizando seu conteúdo:\n",
    "\n",
    "Vamos começar abrindo um arquivo no formato Excel. <br>\n",
    "Mas vamos verificar ANTES se o arquivo `WorldBank.xlsx` foi salvo na mesma pasta em que salvou este arquivo notebook. <br>\n",
    "O comando a seguir importa a biblioteca [**os**](https://docs.python.org/pt-br/3/library/os.html) e mostra a pasta de trabalho!"
   ]
  },
  {
   "cell_type": "code",
   "execution_count": 2,
   "metadata": {},
   "outputs": [],
   "source": [
    "# Importando biblioteca para Sistema Operacional\n",
    "import os"
   ]
  },
  {
   "cell_type": "code",
   "execution_count": 3,
   "metadata": {
    "scrolled": false
   },
   "outputs": [
    {
     "name": "stdout",
     "output_type": "stream",
     "text": [
      "Esperamos trabalhar no diretório: \n",
      "/home/vitorhpk/www/python/cdados\n",
      "\n"
     ]
    }
   ],
   "source": [
    "print(f'Esperamos trabalhar no diretório: \\n{os.getcwd()}\\n')"
   ]
  },
  {
   "cell_type": "code",
   "execution_count": 4,
   "metadata": {},
   "outputs": [
    {
     "name": "stdout",
     "output_type": "stream",
     "text": [
      "Parece que o arquivo WorldBank.xlsx está na mesma pasta do notebook, yay!\n"
     ]
    }
   ],
   "source": [
    "filename = 'WorldBank.xlsx'\n",
    "\n",
    "if filename in os.listdir():\n",
    "    print(f'Parece que o arquivo {filename} está na mesma pasta do notebook, yay!')\n",
    "    \n",
    "else:\n",
    "    print(f'Não encontrei o arquivo {filename}.\\n'\n",
    "          f'Esse deve ser salvo na mesma pasta em que se encontrar este arquivo jupyter notebook')"
   ]
  },
  {
   "cell_type": "markdown",
   "metadata": {},
   "source": [
    "**ATENÇÃO:** <br>\n",
    "Prosseguir nesta atividade apenas se a mensagem `Parece que o arquivo {filename} está na mesma pasta do notebook, yay!'` aparecer ao código acima.<br>\n",
    "\n",
    "...\n",
    "\n",
    "A seguir, o arquivo `WorldBank.xlsx` será aberto com uso da biblioteca `pandas` e seu conteúdo será armazenado em uma variável nomeada `dados`."
   ]
  },
  {
   "cell_type": "code",
   "execution_count": 5,
   "metadata": {},
   "outputs": [],
   "source": [
    "dados = pd.read_excel('WorldBank.xlsx')\n",
    "\n",
    "# Se esse comando não funcionar, pode ser que você não tenha instalado a \n",
    "# biblioteca 'xlrd', leia a mensagem de erro até o fim.\n",
    "# tire o # da linha a seguir caso tenha erro ao executar esta célula\n",
    "# !pip install xlrd"
   ]
  },
  {
   "cell_type": "markdown",
   "metadata": {},
   "source": [
    "Vamos ver quais informações estão disponíveis em `dados`:"
   ]
  },
  {
   "cell_type": "code",
   "execution_count": 6,
   "metadata": {},
   "outputs": [
    {
     "data": {
      "text/plain": [
       "pandas.core.frame.DataFrame"
      ]
     },
     "execution_count": 6,
     "metadata": {},
     "output_type": "execute_result"
    }
   ],
   "source": [
    "type(dados)"
   ]
  },
  {
   "cell_type": "code",
   "execution_count": 7,
   "metadata": {},
   "outputs": [
    {
     "data": {
      "text/plain": [
       "(168, 6)"
      ]
     },
     "execution_count": 7,
     "metadata": {},
     "output_type": "execute_result"
    }
   ],
   "source": [
    "dados.shape"
   ]
  },
  {
   "cell_type": "code",
   "execution_count": 8,
   "metadata": {
    "scrolled": true
   },
   "outputs": [
    {
     "data": {
      "text/plain": [
       "Country        object\n",
       "Population      int64\n",
       "GDPcapita     float64\n",
       "surface         int64\n",
       "region         object\n",
       "landlocked      int64\n",
       "dtype: object"
      ]
     },
     "execution_count": 8,
     "metadata": {},
     "output_type": "execute_result"
    }
   ],
   "source": [
    "dados.dtypes"
   ]
  },
  {
   "cell_type": "markdown",
   "metadata": {},
   "source": [
    "...\n",
    "\n",
    "Com os *outputs* acima, notamos que `dados` é um objeto do tipo `DataFrame`, o tipo padrão usado no pandas para representar uma base de dados. <br> \n",
    "É um *dataframe* com 168 linhas e 6 colunas. <br>\n",
    "Por fim, é possível identificar qual é o tipo de informação armazenado em cada coluna, como, por exemplo, `Population` é número inteiro e `GDPcapita` é contém informação numérica mas com casas decimais.\n",
    "\n",
    "A seguir, vamos ver parte do que está contido em `dados`:"
   ]
  },
  {
   "cell_type": "code",
   "execution_count": 9,
   "metadata": {},
   "outputs": [
    {
     "data": {
      "text/html": [
       "<div>\n",
       "<style scoped>\n",
       "    .dataframe tbody tr th:only-of-type {\n",
       "        vertical-align: middle;\n",
       "    }\n",
       "\n",
       "    .dataframe tbody tr th {\n",
       "        vertical-align: top;\n",
       "    }\n",
       "\n",
       "    .dataframe thead th {\n",
       "        text-align: right;\n",
       "    }\n",
       "</style>\n",
       "<table border=\"1\" class=\"dataframe\">\n",
       "  <thead>\n",
       "    <tr style=\"text-align: right;\">\n",
       "      <th></th>\n",
       "      <th>Country</th>\n",
       "      <th>Population</th>\n",
       "      <th>GDPcapita</th>\n",
       "      <th>surface</th>\n",
       "      <th>region</th>\n",
       "      <th>landlocked</th>\n",
       "    </tr>\n",
       "  </thead>\n",
       "  <tbody>\n",
       "    <tr>\n",
       "      <th>0</th>\n",
       "      <td>Albania</td>\n",
       "      <td>2901883</td>\n",
       "      <td>1915.424459</td>\n",
       "      <td>28750</td>\n",
       "      <td>europe_east</td>\n",
       "      <td>0</td>\n",
       "    </tr>\n",
       "    <tr>\n",
       "      <th>1</th>\n",
       "      <td>Algeria</td>\n",
       "      <td>36036159</td>\n",
       "      <td>2231.980246</td>\n",
       "      <td>2381740</td>\n",
       "      <td>africa_north</td>\n",
       "      <td>0</td>\n",
       "    </tr>\n",
       "    <tr>\n",
       "      <th>2</th>\n",
       "      <td>Angola</td>\n",
       "      <td>21219954</td>\n",
       "      <td>623.245275</td>\n",
       "      <td>1246700</td>\n",
       "      <td>africa_sub_saharan</td>\n",
       "      <td>0</td>\n",
       "    </tr>\n",
       "    <tr>\n",
       "      <th>3</th>\n",
       "      <td>Antigua and Barbuda</td>\n",
       "      <td>87233</td>\n",
       "      <td>10614.794315</td>\n",
       "      <td>440</td>\n",
       "      <td>america_north</td>\n",
       "      <td>0</td>\n",
       "    </tr>\n",
       "    <tr>\n",
       "      <th>4</th>\n",
       "      <td>Argentina</td>\n",
       "      <td>41222875</td>\n",
       "      <td>10749.319224</td>\n",
       "      <td>2780400</td>\n",
       "      <td>america_south</td>\n",
       "      <td>0</td>\n",
       "    </tr>\n",
       "    <tr>\n",
       "      <th>...</th>\n",
       "      <td>...</td>\n",
       "      <td>...</td>\n",
       "      <td>...</td>\n",
       "      <td>...</td>\n",
       "      <td>...</td>\n",
       "      <td>...</td>\n",
       "    </tr>\n",
       "    <tr>\n",
       "      <th>163</th>\n",
       "      <td>Vanuatu</td>\n",
       "      <td>236299</td>\n",
       "      <td>1522.384040</td>\n",
       "      <td>12190</td>\n",
       "      <td>east_asia_pacific</td>\n",
       "      <td>0</td>\n",
       "    </tr>\n",
       "    <tr>\n",
       "      <th>164</th>\n",
       "      <td>Venezuela</td>\n",
       "      <td>28995745</td>\n",
       "      <td>5528.363114</td>\n",
       "      <td>912050</td>\n",
       "      <td>america_south</td>\n",
       "      <td>0</td>\n",
       "    </tr>\n",
       "    <tr>\n",
       "      <th>165</th>\n",
       "      <td>Vietnam</td>\n",
       "      <td>88357775</td>\n",
       "      <td>722.810053</td>\n",
       "      <td>331050</td>\n",
       "      <td>east_asia_pacific</td>\n",
       "      <td>0</td>\n",
       "    </tr>\n",
       "    <tr>\n",
       "      <th>166</th>\n",
       "      <td>Zambia</td>\n",
       "      <td>13917439</td>\n",
       "      <td>434.659804</td>\n",
       "      <td>752610</td>\n",
       "      <td>africa_sub_saharan</td>\n",
       "      <td>1</td>\n",
       "    </tr>\n",
       "    <tr>\n",
       "      <th>167</th>\n",
       "      <td>Zimbabwe</td>\n",
       "      <td>13973897</td>\n",
       "      <td>322.556928</td>\n",
       "      <td>390760</td>\n",
       "      <td>africa_sub_saharan</td>\n",
       "      <td>1</td>\n",
       "    </tr>\n",
       "  </tbody>\n",
       "</table>\n",
       "<p>168 rows × 6 columns</p>\n",
       "</div>"
      ],
      "text/plain": [
       "                 Country  Population     GDPcapita  surface  \\\n",
       "0                Albania     2901883   1915.424459    28750   \n",
       "1                Algeria    36036159   2231.980246  2381740   \n",
       "2                 Angola    21219954    623.245275  1246700   \n",
       "3    Antigua and Barbuda       87233  10614.794315      440   \n",
       "4              Argentina    41222875  10749.319224  2780400   \n",
       "..                   ...         ...           ...      ...   \n",
       "163              Vanuatu      236299   1522.384040    12190   \n",
       "164            Venezuela    28995745   5528.363114   912050   \n",
       "165              Vietnam    88357775    722.810053   331050   \n",
       "166               Zambia    13917439    434.659804   752610   \n",
       "167             Zimbabwe    13973897    322.556928   390760   \n",
       "\n",
       "                 region  landlocked  \n",
       "0           europe_east           0  \n",
       "1          africa_north           0  \n",
       "2    africa_sub_saharan           0  \n",
       "3         america_north           0  \n",
       "4         america_south           0  \n",
       "..                  ...         ...  \n",
       "163   east_asia_pacific           0  \n",
       "164       america_south           0  \n",
       "165   east_asia_pacific           0  \n",
       "166  africa_sub_saharan           1  \n",
       "167  africa_sub_saharan           1  \n",
       "\n",
       "[168 rows x 6 columns]"
      ]
     },
     "execution_count": 9,
     "metadata": {},
     "output_type": "execute_result"
    }
   ],
   "source": [
    "dados"
   ]
  },
  {
   "cell_type": "markdown",
   "metadata": {},
   "source": [
    "Observando o *output* acima, notamos que não imprimiu todas as linhas do * dataframe*. <br>\n",
    "Isso acontece porque o conjunto de dados pode ser **muito** grande. <br>\n",
    "\n",
    "Quando queremos apenas ter uma ideia de quais informações estão disponíveis no *dataframe*, então pode ser interessante visualizar poucas linhas. A seguir, será apresentado como fazer isso."
   ]
  },
  {
   "cell_type": "markdown",
   "metadata": {},
   "source": [
    "[Voltar ao índice](#indice)"
   ]
  },
  {
   "cell_type": "markdown",
   "metadata": {},
   "source": [
    "<div id=\"head\"></div>\n",
    "\n",
    "### Visualizando primeiras linhas de uma base de dados\n",
    "\n",
    "Para ver somente as primeiras linhas podemos usar o comando `.head()`:"
   ]
  },
  {
   "cell_type": "code",
   "execution_count": 10,
   "metadata": {
    "scrolled": false
   },
   "outputs": [
    {
     "data": {
      "text/html": [
       "<div>\n",
       "<style scoped>\n",
       "    .dataframe tbody tr th:only-of-type {\n",
       "        vertical-align: middle;\n",
       "    }\n",
       "\n",
       "    .dataframe tbody tr th {\n",
       "        vertical-align: top;\n",
       "    }\n",
       "\n",
       "    .dataframe thead th {\n",
       "        text-align: right;\n",
       "    }\n",
       "</style>\n",
       "<table border=\"1\" class=\"dataframe\">\n",
       "  <thead>\n",
       "    <tr style=\"text-align: right;\">\n",
       "      <th></th>\n",
       "      <th>Country</th>\n",
       "      <th>Population</th>\n",
       "      <th>GDPcapita</th>\n",
       "      <th>surface</th>\n",
       "      <th>region</th>\n",
       "      <th>landlocked</th>\n",
       "    </tr>\n",
       "  </thead>\n",
       "  <tbody>\n",
       "    <tr>\n",
       "      <th>0</th>\n",
       "      <td>Albania</td>\n",
       "      <td>2901883</td>\n",
       "      <td>1915.424459</td>\n",
       "      <td>28750</td>\n",
       "      <td>europe_east</td>\n",
       "      <td>0</td>\n",
       "    </tr>\n",
       "    <tr>\n",
       "      <th>1</th>\n",
       "      <td>Algeria</td>\n",
       "      <td>36036159</td>\n",
       "      <td>2231.980246</td>\n",
       "      <td>2381740</td>\n",
       "      <td>africa_north</td>\n",
       "      <td>0</td>\n",
       "    </tr>\n",
       "    <tr>\n",
       "      <th>2</th>\n",
       "      <td>Angola</td>\n",
       "      <td>21219954</td>\n",
       "      <td>623.245275</td>\n",
       "      <td>1246700</td>\n",
       "      <td>africa_sub_saharan</td>\n",
       "      <td>0</td>\n",
       "    </tr>\n",
       "    <tr>\n",
       "      <th>3</th>\n",
       "      <td>Antigua and Barbuda</td>\n",
       "      <td>87233</td>\n",
       "      <td>10614.794315</td>\n",
       "      <td>440</td>\n",
       "      <td>america_north</td>\n",
       "      <td>0</td>\n",
       "    </tr>\n",
       "    <tr>\n",
       "      <th>4</th>\n",
       "      <td>Argentina</td>\n",
       "      <td>41222875</td>\n",
       "      <td>10749.319224</td>\n",
       "      <td>2780400</td>\n",
       "      <td>america_south</td>\n",
       "      <td>0</td>\n",
       "    </tr>\n",
       "  </tbody>\n",
       "</table>\n",
       "</div>"
      ],
      "text/plain": [
       "               Country  Population     GDPcapita  surface              region  \\\n",
       "0              Albania     2901883   1915.424459    28750         europe_east   \n",
       "1              Algeria    36036159   2231.980246  2381740        africa_north   \n",
       "2               Angola    21219954    623.245275  1246700  africa_sub_saharan   \n",
       "3  Antigua and Barbuda       87233  10614.794315      440       america_north   \n",
       "4            Argentina    41222875  10749.319224  2780400       america_south   \n",
       "\n",
       "   landlocked  \n",
       "0           0  \n",
       "1           0  \n",
       "2           0  \n",
       "3           0  \n",
       "4           0  "
      ]
     },
     "execution_count": 10,
     "metadata": {},
     "output_type": "execute_result"
    }
   ],
   "source": [
    "dados.head()"
   ]
  },
  {
   "cell_type": "markdown",
   "metadata": {},
   "source": [
    "Você pode especificar outra quantidade de linhas passando um número inteiro como argumento:"
   ]
  },
  {
   "cell_type": "code",
   "execution_count": 11,
   "metadata": {
    "scrolled": false
   },
   "outputs": [
    {
     "data": {
      "text/html": [
       "<div>\n",
       "<style scoped>\n",
       "    .dataframe tbody tr th:only-of-type {\n",
       "        vertical-align: middle;\n",
       "    }\n",
       "\n",
       "    .dataframe tbody tr th {\n",
       "        vertical-align: top;\n",
       "    }\n",
       "\n",
       "    .dataframe thead th {\n",
       "        text-align: right;\n",
       "    }\n",
       "</style>\n",
       "<table border=\"1\" class=\"dataframe\">\n",
       "  <thead>\n",
       "    <tr style=\"text-align: right;\">\n",
       "      <th></th>\n",
       "      <th>Country</th>\n",
       "      <th>Population</th>\n",
       "      <th>GDPcapita</th>\n",
       "      <th>surface</th>\n",
       "      <th>region</th>\n",
       "      <th>landlocked</th>\n",
       "    </tr>\n",
       "  </thead>\n",
       "  <tbody>\n",
       "    <tr>\n",
       "      <th>0</th>\n",
       "      <td>Albania</td>\n",
       "      <td>2901883</td>\n",
       "      <td>1915.424459</td>\n",
       "      <td>28750</td>\n",
       "      <td>europe_east</td>\n",
       "      <td>0</td>\n",
       "    </tr>\n",
       "    <tr>\n",
       "      <th>1</th>\n",
       "      <td>Algeria</td>\n",
       "      <td>36036159</td>\n",
       "      <td>2231.980246</td>\n",
       "      <td>2381740</td>\n",
       "      <td>africa_north</td>\n",
       "      <td>0</td>\n",
       "    </tr>\n",
       "    <tr>\n",
       "      <th>2</th>\n",
       "      <td>Angola</td>\n",
       "      <td>21219954</td>\n",
       "      <td>623.245275</td>\n",
       "      <td>1246700</td>\n",
       "      <td>africa_sub_saharan</td>\n",
       "      <td>0</td>\n",
       "    </tr>\n",
       "    <tr>\n",
       "      <th>3</th>\n",
       "      <td>Antigua and Barbuda</td>\n",
       "      <td>87233</td>\n",
       "      <td>10614.794315</td>\n",
       "      <td>440</td>\n",
       "      <td>america_north</td>\n",
       "      <td>0</td>\n",
       "    </tr>\n",
       "    <tr>\n",
       "      <th>4</th>\n",
       "      <td>Argentina</td>\n",
       "      <td>41222875</td>\n",
       "      <td>10749.319224</td>\n",
       "      <td>2780400</td>\n",
       "      <td>america_south</td>\n",
       "      <td>0</td>\n",
       "    </tr>\n",
       "    <tr>\n",
       "      <th>5</th>\n",
       "      <td>Armenia</td>\n",
       "      <td>2963496</td>\n",
       "      <td>1326.710864</td>\n",
       "      <td>29740</td>\n",
       "      <td>europe_east</td>\n",
       "      <td>1</td>\n",
       "    </tr>\n",
       "    <tr>\n",
       "      <th>6</th>\n",
       "      <td>Australia</td>\n",
       "      <td>22162863</td>\n",
       "      <td>25190.839860</td>\n",
       "      <td>7741220</td>\n",
       "      <td>east_asia_pacific</td>\n",
       "      <td>0</td>\n",
       "    </tr>\n",
       "    <tr>\n",
       "      <th>7</th>\n",
       "      <td>Austria</td>\n",
       "      <td>8391986</td>\n",
       "      <td>26642.993858</td>\n",
       "      <td>83870</td>\n",
       "      <td>europe_west</td>\n",
       "      <td>1</td>\n",
       "    </tr>\n",
       "    <tr>\n",
       "      <th>8</th>\n",
       "      <td>Azerbaijan</td>\n",
       "      <td>9099893</td>\n",
       "      <td>2344.810935</td>\n",
       "      <td>86600</td>\n",
       "      <td>europe_east</td>\n",
       "      <td>1</td>\n",
       "    </tr>\n",
       "    <tr>\n",
       "      <th>9</th>\n",
       "      <td>Bahamas</td>\n",
       "      <td>360830</td>\n",
       "      <td>19395.152312</td>\n",
       "      <td>13880</td>\n",
       "      <td>america_north</td>\n",
       "      <td>0</td>\n",
       "    </tr>\n",
       "  </tbody>\n",
       "</table>\n",
       "</div>"
      ],
      "text/plain": [
       "               Country  Population     GDPcapita  surface              region  \\\n",
       "0              Albania     2901883   1915.424459    28750         europe_east   \n",
       "1              Algeria    36036159   2231.980246  2381740        africa_north   \n",
       "2               Angola    21219954    623.245275  1246700  africa_sub_saharan   \n",
       "3  Antigua and Barbuda       87233  10614.794315      440       america_north   \n",
       "4            Argentina    41222875  10749.319224  2780400       america_south   \n",
       "5              Armenia     2963496   1326.710864    29740         europe_east   \n",
       "6            Australia    22162863  25190.839860  7741220   east_asia_pacific   \n",
       "7              Austria     8391986  26642.993858    83870         europe_west   \n",
       "8           Azerbaijan     9099893   2344.810935    86600         europe_east   \n",
       "9              Bahamas      360830  19395.152312    13880       america_north   \n",
       "\n",
       "   landlocked  \n",
       "0           0  \n",
       "1           0  \n",
       "2           0  \n",
       "3           0  \n",
       "4           0  \n",
       "5           1  \n",
       "6           0  \n",
       "7           1  \n",
       "8           1  \n",
       "9           0  "
      ]
     },
     "execution_count": 11,
     "metadata": {},
     "output_type": "execute_result"
    }
   ],
   "source": [
    "dados.head(10)"
   ]
  },
  {
   "cell_type": "markdown",
   "metadata": {},
   "source": [
    "[Voltar ao índice](#indice)"
   ]
  },
  {
   "cell_type": "markdown",
   "metadata": {},
   "source": [
    "<div id=\"tail\"></div>\n",
    "\n",
    "### Visualizando últimas linhas de uma base de dados\n",
    "\n",
    "Se preferir, podemos ver as últimas linhas com o comando `.tail()`, que também pode receber a quantidade de linhas como argumento:\n",
    "\n"
   ]
  },
  {
   "cell_type": "code",
   "execution_count": 12,
   "metadata": {
    "scrolled": false
   },
   "outputs": [
    {
     "data": {
      "text/html": [
       "<div>\n",
       "<style scoped>\n",
       "    .dataframe tbody tr th:only-of-type {\n",
       "        vertical-align: middle;\n",
       "    }\n",
       "\n",
       "    .dataframe tbody tr th {\n",
       "        vertical-align: top;\n",
       "    }\n",
       "\n",
       "    .dataframe thead th {\n",
       "        text-align: right;\n",
       "    }\n",
       "</style>\n",
       "<table border=\"1\" class=\"dataframe\">\n",
       "  <thead>\n",
       "    <tr style=\"text-align: right;\">\n",
       "      <th></th>\n",
       "      <th>Country</th>\n",
       "      <th>Population</th>\n",
       "      <th>GDPcapita</th>\n",
       "      <th>surface</th>\n",
       "      <th>region</th>\n",
       "      <th>landlocked</th>\n",
       "    </tr>\n",
       "  </thead>\n",
       "  <tbody>\n",
       "    <tr>\n",
       "      <th>165</th>\n",
       "      <td>Vietnam</td>\n",
       "      <td>88357775</td>\n",
       "      <td>722.810053</td>\n",
       "      <td>331050</td>\n",
       "      <td>east_asia_pacific</td>\n",
       "      <td>0</td>\n",
       "    </tr>\n",
       "    <tr>\n",
       "      <th>166</th>\n",
       "      <td>Zambia</td>\n",
       "      <td>13917439</td>\n",
       "      <td>434.659804</td>\n",
       "      <td>752610</td>\n",
       "      <td>africa_sub_saharan</td>\n",
       "      <td>1</td>\n",
       "    </tr>\n",
       "    <tr>\n",
       "      <th>167</th>\n",
       "      <td>Zimbabwe</td>\n",
       "      <td>13973897</td>\n",
       "      <td>322.556928</td>\n",
       "      <td>390760</td>\n",
       "      <td>africa_sub_saharan</td>\n",
       "      <td>1</td>\n",
       "    </tr>\n",
       "  </tbody>\n",
       "</table>\n",
       "</div>"
      ],
      "text/plain": [
       "      Country  Population   GDPcapita  surface              region  landlocked\n",
       "165   Vietnam    88357775  722.810053   331050   east_asia_pacific           0\n",
       "166    Zambia    13917439  434.659804   752610  africa_sub_saharan           1\n",
       "167  Zimbabwe    13973897  322.556928   390760  africa_sub_saharan           1"
      ]
     },
     "execution_count": 12,
     "metadata": {},
     "output_type": "execute_result"
    }
   ],
   "source": [
    "dados.tail(3)"
   ]
  },
  {
   "cell_type": "markdown",
   "metadata": {},
   "source": [
    "[Voltar ao índice](#indice)"
   ]
  },
  {
   "cell_type": "markdown",
   "metadata": {},
   "source": [
    "<div id=\"ex3\"></div>\n",
    "\n",
    "### Exercício 3:\n",
    "\n",
    "Suponha os seguintes objetivos:\n",
    " * Construir uma nova base de dados **sem** as colunas `Country` e `surface` da base original `dados`.\n",
    " * Construir uma nova base de dados **sem** as linhas 1, 4 e 6 da base original `dados`.\n",
    "\n",
    "Encontre como fazer isso pesquisando no seu navegador."
   ]
  },
  {
   "cell_type": "code",
   "execution_count": 15,
   "metadata": {},
   "outputs": [
    {
     "data": {
      "text/html": [
       "<div>\n",
       "<style scoped>\n",
       "    .dataframe tbody tr th:only-of-type {\n",
       "        vertical-align: middle;\n",
       "    }\n",
       "\n",
       "    .dataframe tbody tr th {\n",
       "        vertical-align: top;\n",
       "    }\n",
       "\n",
       "    .dataframe thead th {\n",
       "        text-align: right;\n",
       "    }\n",
       "</style>\n",
       "<table border=\"1\" class=\"dataframe\">\n",
       "  <thead>\n",
       "    <tr style=\"text-align: right;\">\n",
       "      <th></th>\n",
       "      <th>Population</th>\n",
       "      <th>GDPcapita</th>\n",
       "      <th>region</th>\n",
       "      <th>landlocked</th>\n",
       "    </tr>\n",
       "  </thead>\n",
       "  <tbody>\n",
       "    <tr>\n",
       "      <th>0</th>\n",
       "      <td>2901883</td>\n",
       "      <td>1915.424459</td>\n",
       "      <td>europe_east</td>\n",
       "      <td>0</td>\n",
       "    </tr>\n",
       "    <tr>\n",
       "      <th>1</th>\n",
       "      <td>36036159</td>\n",
       "      <td>2231.980246</td>\n",
       "      <td>africa_north</td>\n",
       "      <td>0</td>\n",
       "    </tr>\n",
       "    <tr>\n",
       "      <th>2</th>\n",
       "      <td>21219954</td>\n",
       "      <td>623.245275</td>\n",
       "      <td>africa_sub_saharan</td>\n",
       "      <td>0</td>\n",
       "    </tr>\n",
       "    <tr>\n",
       "      <th>3</th>\n",
       "      <td>87233</td>\n",
       "      <td>10614.794315</td>\n",
       "      <td>america_north</td>\n",
       "      <td>0</td>\n",
       "    </tr>\n",
       "    <tr>\n",
       "      <th>4</th>\n",
       "      <td>41222875</td>\n",
       "      <td>10749.319224</td>\n",
       "      <td>america_south</td>\n",
       "      <td>0</td>\n",
       "    </tr>\n",
       "    <tr>\n",
       "      <th>...</th>\n",
       "      <td>...</td>\n",
       "      <td>...</td>\n",
       "      <td>...</td>\n",
       "      <td>...</td>\n",
       "    </tr>\n",
       "    <tr>\n",
       "      <th>163</th>\n",
       "      <td>236299</td>\n",
       "      <td>1522.384040</td>\n",
       "      <td>east_asia_pacific</td>\n",
       "      <td>0</td>\n",
       "    </tr>\n",
       "    <tr>\n",
       "      <th>164</th>\n",
       "      <td>28995745</td>\n",
       "      <td>5528.363114</td>\n",
       "      <td>america_south</td>\n",
       "      <td>0</td>\n",
       "    </tr>\n",
       "    <tr>\n",
       "      <th>165</th>\n",
       "      <td>88357775</td>\n",
       "      <td>722.810053</td>\n",
       "      <td>east_asia_pacific</td>\n",
       "      <td>0</td>\n",
       "    </tr>\n",
       "    <tr>\n",
       "      <th>166</th>\n",
       "      <td>13917439</td>\n",
       "      <td>434.659804</td>\n",
       "      <td>africa_sub_saharan</td>\n",
       "      <td>1</td>\n",
       "    </tr>\n",
       "    <tr>\n",
       "      <th>167</th>\n",
       "      <td>13973897</td>\n",
       "      <td>322.556928</td>\n",
       "      <td>africa_sub_saharan</td>\n",
       "      <td>1</td>\n",
       "    </tr>\n",
       "  </tbody>\n",
       "</table>\n",
       "<p>168 rows × 4 columns</p>\n",
       "</div>"
      ],
      "text/plain": [
       "     Population     GDPcapita              region  landlocked\n",
       "0       2901883   1915.424459         europe_east           0\n",
       "1      36036159   2231.980246        africa_north           0\n",
       "2      21219954    623.245275  africa_sub_saharan           0\n",
       "3         87233  10614.794315       america_north           0\n",
       "4      41222875  10749.319224       america_south           0\n",
       "..          ...           ...                 ...         ...\n",
       "163      236299   1522.384040   east_asia_pacific           0\n",
       "164    28995745   5528.363114       america_south           0\n",
       "165    88357775    722.810053   east_asia_pacific           0\n",
       "166    13917439    434.659804  africa_sub_saharan           1\n",
       "167    13973897    322.556928  africa_sub_saharan           1\n",
       "\n",
       "[168 rows x 4 columns]"
      ]
     },
     "execution_count": 15,
     "metadata": {},
     "output_type": "execute_result"
    }
   ],
   "source": [
    "dados.drop(columns=['Country', 'surface'])"
   ]
  },
  {
   "cell_type": "code",
   "execution_count": 16,
   "metadata": {},
   "outputs": [
    {
     "data": {
      "text/html": [
       "<div>\n",
       "<style scoped>\n",
       "    .dataframe tbody tr th:only-of-type {\n",
       "        vertical-align: middle;\n",
       "    }\n",
       "\n",
       "    .dataframe tbody tr th {\n",
       "        vertical-align: top;\n",
       "    }\n",
       "\n",
       "    .dataframe thead th {\n",
       "        text-align: right;\n",
       "    }\n",
       "</style>\n",
       "<table border=\"1\" class=\"dataframe\">\n",
       "  <thead>\n",
       "    <tr style=\"text-align: right;\">\n",
       "      <th></th>\n",
       "      <th>Country</th>\n",
       "      <th>Population</th>\n",
       "      <th>GDPcapita</th>\n",
       "      <th>surface</th>\n",
       "      <th>region</th>\n",
       "      <th>landlocked</th>\n",
       "    </tr>\n",
       "  </thead>\n",
       "  <tbody>\n",
       "    <tr>\n",
       "      <th>0</th>\n",
       "      <td>Albania</td>\n",
       "      <td>2901883</td>\n",
       "      <td>1915.424459</td>\n",
       "      <td>28750</td>\n",
       "      <td>europe_east</td>\n",
       "      <td>0</td>\n",
       "    </tr>\n",
       "    <tr>\n",
       "      <th>2</th>\n",
       "      <td>Angola</td>\n",
       "      <td>21219954</td>\n",
       "      <td>623.245275</td>\n",
       "      <td>1246700</td>\n",
       "      <td>africa_sub_saharan</td>\n",
       "      <td>0</td>\n",
       "    </tr>\n",
       "    <tr>\n",
       "      <th>3</th>\n",
       "      <td>Antigua and Barbuda</td>\n",
       "      <td>87233</td>\n",
       "      <td>10614.794315</td>\n",
       "      <td>440</td>\n",
       "      <td>america_north</td>\n",
       "      <td>0</td>\n",
       "    </tr>\n",
       "    <tr>\n",
       "      <th>5</th>\n",
       "      <td>Armenia</td>\n",
       "      <td>2963496</td>\n",
       "      <td>1326.710864</td>\n",
       "      <td>29740</td>\n",
       "      <td>europe_east</td>\n",
       "      <td>1</td>\n",
       "    </tr>\n",
       "    <tr>\n",
       "      <th>7</th>\n",
       "      <td>Austria</td>\n",
       "      <td>8391986</td>\n",
       "      <td>26642.993858</td>\n",
       "      <td>83870</td>\n",
       "      <td>europe_west</td>\n",
       "      <td>1</td>\n",
       "    </tr>\n",
       "    <tr>\n",
       "      <th>...</th>\n",
       "      <td>...</td>\n",
       "      <td>...</td>\n",
       "      <td>...</td>\n",
       "      <td>...</td>\n",
       "      <td>...</td>\n",
       "      <td>...</td>\n",
       "    </tr>\n",
       "    <tr>\n",
       "      <th>163</th>\n",
       "      <td>Vanuatu</td>\n",
       "      <td>236299</td>\n",
       "      <td>1522.384040</td>\n",
       "      <td>12190</td>\n",
       "      <td>east_asia_pacific</td>\n",
       "      <td>0</td>\n",
       "    </tr>\n",
       "    <tr>\n",
       "      <th>164</th>\n",
       "      <td>Venezuela</td>\n",
       "      <td>28995745</td>\n",
       "      <td>5528.363114</td>\n",
       "      <td>912050</td>\n",
       "      <td>america_south</td>\n",
       "      <td>0</td>\n",
       "    </tr>\n",
       "    <tr>\n",
       "      <th>165</th>\n",
       "      <td>Vietnam</td>\n",
       "      <td>88357775</td>\n",
       "      <td>722.810053</td>\n",
       "      <td>331050</td>\n",
       "      <td>east_asia_pacific</td>\n",
       "      <td>0</td>\n",
       "    </tr>\n",
       "    <tr>\n",
       "      <th>166</th>\n",
       "      <td>Zambia</td>\n",
       "      <td>13917439</td>\n",
       "      <td>434.659804</td>\n",
       "      <td>752610</td>\n",
       "      <td>africa_sub_saharan</td>\n",
       "      <td>1</td>\n",
       "    </tr>\n",
       "    <tr>\n",
       "      <th>167</th>\n",
       "      <td>Zimbabwe</td>\n",
       "      <td>13973897</td>\n",
       "      <td>322.556928</td>\n",
       "      <td>390760</td>\n",
       "      <td>africa_sub_saharan</td>\n",
       "      <td>1</td>\n",
       "    </tr>\n",
       "  </tbody>\n",
       "</table>\n",
       "<p>165 rows × 6 columns</p>\n",
       "</div>"
      ],
      "text/plain": [
       "                 Country  Population     GDPcapita  surface  \\\n",
       "0                Albania     2901883   1915.424459    28750   \n",
       "2                 Angola    21219954    623.245275  1246700   \n",
       "3    Antigua and Barbuda       87233  10614.794315      440   \n",
       "5                Armenia     2963496   1326.710864    29740   \n",
       "7                Austria     8391986  26642.993858    83870   \n",
       "..                   ...         ...           ...      ...   \n",
       "163              Vanuatu      236299   1522.384040    12190   \n",
       "164            Venezuela    28995745   5528.363114   912050   \n",
       "165              Vietnam    88357775    722.810053   331050   \n",
       "166               Zambia    13917439    434.659804   752610   \n",
       "167             Zimbabwe    13973897    322.556928   390760   \n",
       "\n",
       "                 region  landlocked  \n",
       "0           europe_east           0  \n",
       "2    africa_sub_saharan           0  \n",
       "3         america_north           0  \n",
       "5           europe_east           1  \n",
       "7           europe_west           1  \n",
       "..                  ...         ...  \n",
       "163   east_asia_pacific           0  \n",
       "164       america_south           0  \n",
       "165   east_asia_pacific           0  \n",
       "166  africa_sub_saharan           1  \n",
       "167  africa_sub_saharan           1  \n",
       "\n",
       "[165 rows x 6 columns]"
      ]
     },
     "execution_count": 16,
     "metadata": {},
     "output_type": "execute_result"
    }
   ],
   "source": [
    "dados.drop(index=[1,4,6])"
   ]
  },
  {
   "cell_type": "markdown",
   "metadata": {},
   "source": [
    "[Voltar ao índice](#indice)"
   ]
  }
 ],
 "metadata": {
  "kernelspec": {
   "display_name": "Python 3",
   "language": "python",
   "name": "python3"
  },
  "language_info": {
   "codemirror_mode": {
    "name": "ipython",
    "version": 3
   },
   "file_extension": ".py",
   "mimetype": "text/x-python",
   "name": "python",
   "nbconvert_exporter": "python",
   "pygments_lexer": "ipython3",
   "version": "3.10.9"
  }
 },
 "nbformat": 4,
 "nbformat_minor": 4
}
