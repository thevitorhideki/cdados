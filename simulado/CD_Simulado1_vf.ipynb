{
 "cells": [
  {
   "cell_type": "markdown",
   "metadata": {},
   "source": [
    "___\n",
    "# SIMULADO 1 \n",
    "\n",
    "## 2023 - 2o. semestre \n",
    "\n",
    "___\n"
   ]
  },
  {
   "cell_type": "markdown",
   "metadata": {},
   "source": [
    "## NOME: Coloque seu nome AQUI!"
   ]
  },
  {
   "cell_type": "markdown",
   "metadata": {},
   "source": [
    "___\n",
    "# ATENÇÃO:\n",
    "\n",
    "Leia antes todas as instruções colocadas no teste dentro do Blackboard.\n"
   ]
  },
  {
   "cell_type": "code",
   "execution_count": 2,
   "metadata": {},
   "outputs": [],
   "source": [
    "# %matplotlib inline\n",
    "import math\n",
    "from math import sqrt\n",
    "\n",
    "import os\n",
    "import matplotlib.pyplot as plt\n",
    "import numpy as np\n",
    "from numpy import arange, linspace\n",
    "import pandas as pd\n",
    "\n",
    "from IPython.display import display  # Para ter melhor print.\n",
    "\n",
    "# Pode trazer mais bibliotecas, caso julgue interessante!!"
   ]
  },
  {
   "cell_type": "markdown",
   "metadata": {},
   "source": [
    "<div id=\"indice\"></div>\n",
    "\n",
    "# Índice\n",
    "\n",
    "1. [Pergunta 1](#p1)\n",
    "\n",
    "1. [Pergunta 2](#p2)\n",
    "\n",
    "1. [Pergunta 3](#p3)\n",
    "\n",
    "1. [Pergunta 4](#p4)\n",
    "\n",
    "1. [Pergunta 5](#p5)\n",
    "\n"
   ]
  },
  {
   "cell_type": "markdown",
   "metadata": {},
   "source": [
    "___\n",
    "<div id=\"p1\"></div>\n",
    "\n",
    "## PERGUNTA 1"
   ]
  },
  {
   "cell_type": "markdown",
   "metadata": {},
   "source": [
    "Leia o enunciado da Pergunta 1 descrito no Blackboard."
   ]
  },
  {
   "cell_type": "markdown",
   "metadata": {},
   "source": [
    "**P1** Leia a pergunta no Blackboard."
   ]
  },
  {
   "cell_type": "code",
   "execution_count": 14,
   "metadata": {},
   "outputs": [
    {
     "data": {
      "text/plain": [
       "0.245"
      ]
     },
     "execution_count": 14,
     "metadata": {},
     "output_type": "execute_result"
    }
   ],
   "source": [
    "P_B = 0.755\n",
    "P_Bc = 1 - P_B\n",
    "P_C_dado_B = 0.73\n",
    "P_C_dado_Bc = 0.41"
   ]
  },
  {
   "cell_type": "code",
   "execution_count": 17,
   "metadata": {},
   "outputs": [],
   "source": [
    "P_CeB = P_C_dado_B * P_B\n",
    "P_CeBc = P_C_dado_Bc * P_Bc\n",
    "P_C = P_CeBc + P_CeB"
   ]
  },
  {
   "cell_type": "code",
   "execution_count": 18,
   "metadata": {},
   "outputs": [
    {
     "data": {
      "text/plain": [
       "0.15415899324739102"
      ]
     },
     "execution_count": 18,
     "metadata": {},
     "output_type": "execute_result"
    }
   ],
   "source": [
    "P_Bc_dado_C = P_CeBc / P_C\n",
    "P_Bc_dado_C"
   ]
  },
  {
   "cell_type": "markdown",
   "metadata": {},
   "source": [
    "[Voltar ao Índice](#indice)"
   ]
  },
  {
   "cell_type": "markdown",
   "metadata": {},
   "source": [
    "___\n",
    "<div id=\"p2\"></div>\n",
    "\n",
    "\n",
    "## PERGUNTA 2"
   ]
  },
  {
   "cell_type": "markdown",
   "metadata": {},
   "source": [
    "Leia o enunciado da Pergunta 2 descrito no Blackboard."
   ]
  },
  {
   "cell_type": "markdown",
   "metadata": {},
   "source": [
    "**P2** Leia a pergunta no Blackboard."
   ]
  },
  {
   "cell_type": "code",
   "execution_count": 19,
   "metadata": {},
   "outputs": [],
   "source": [
    "P_B = 0.755\n",
    "P_Bc = 1 - P_B\n",
    "P_ELE = 0.4\n",
    "P_EDU_dado_B = 0.119\n",
    "P_B_dado_EDU = 0.9"
   ]
  },
  {
   "cell_type": "code",
   "execution_count": 29,
   "metadata": {},
   "outputs": [],
   "source": [
    "P_EDUeB = P_EDU_dado_B * P_B\n",
    "P_EDU = P_EDUeB / P_B_dado_EDU\n",
    "P_C = 1 - P_ELE + P_EDU"
   ]
  },
  {
   "cell_type": "code",
   "execution_count": 30,
   "metadata": {},
   "outputs": [
    {
     "data": {
      "text/plain": [
       "0.6998277777777777"
      ]
     },
     "execution_count": 30,
     "metadata": {},
     "output_type": "execute_result"
    }
   ],
   "source": [
    "P_C"
   ]
  },
  {
   "cell_type": "markdown",
   "metadata": {},
   "source": [
    "[Voltar ao Índice](#indice)"
   ]
  },
  {
   "cell_type": "markdown",
   "metadata": {},
   "source": [
    "___\n",
    "<div id=\"p3\"></div>\n",
    "\n",
    "\n",
    "## PERGUNTA 3"
   ]
  },
  {
   "cell_type": "markdown",
   "metadata": {},
   "source": [
    "Leia o enunciado da Pergunta 3 descrito no Blackboard."
   ]
  },
  {
   "cell_type": "markdown",
   "metadata": {},
   "source": [
    "**P3** Leia a pergunta no Blackboard."
   ]
  },
  {
   "cell_type": "code",
   "execution_count": 33,
   "metadata": {},
   "outputs": [],
   "source": [
    "P_Ec = 0.7\n",
    "P_E = 1 - P_Ec\n",
    "P_H_dado_Ec = 0.25\n",
    "P_H_dado_E = 0.65"
   ]
  },
  {
   "cell_type": "code",
   "execution_count": 37,
   "metadata": {},
   "outputs": [],
   "source": [
    "P_HeEc = P_H_dado_Ec * P_Ec\n",
    "P_HeE = P_H_dado_E * P_E\n",
    "P_H = P_HeEc + P_HeE\n",
    "P_Hc = 1 - P_H\n",
    "P_HceEc = P_Ec - P_HeEc\n",
    "P_HceE = P_Hc - P_HceEc"
   ]
  },
  {
   "cell_type": "code",
   "execution_count": 39,
   "metadata": {},
   "outputs": [
    {
     "data": {
      "text/plain": [
       "0.16666666666666682"
      ]
     },
     "execution_count": 39,
     "metadata": {},
     "output_type": "execute_result"
    }
   ],
   "source": [
    "P_E_dado_Hc = P_HceE / P_Hc\n",
    "P_E_dado_Hc"
   ]
  },
  {
   "cell_type": "markdown",
   "metadata": {},
   "source": [
    "[Voltar ao Índice](#indice)"
   ]
  },
  {
   "cell_type": "markdown",
   "metadata": {},
   "source": [
    "___\n",
    "<div id=\"p4\"></div>\n",
    "\n",
    "\n",
    "## PERGUNTA 4"
   ]
  },
  {
   "cell_type": "markdown",
   "metadata": {},
   "source": [
    "Leia o enunciado da Pergunta 4 descrito no Blackboard."
   ]
  },
  {
   "cell_type": "markdown",
   "metadata": {},
   "source": [
    "**P4** Leia a pergunta no Blackboard."
   ]
  },
  {
   "cell_type": "code",
   "execution_count": 41,
   "metadata": {},
   "outputs": [],
   "source": [
    "P_E = 0.7\n",
    "P_D_dado_Ec = 0.3\n",
    "P_E_dado_D = 0.5625\n",
    "P_Ec_dado_D = 1 - P_E_dado_D"
   ]
  },
  {
   "cell_type": "code",
   "execution_count": 47,
   "metadata": {},
   "outputs": [],
   "source": [
    "P_DeEc = P_D_dado_Ec * P_Ec\n",
    "P_D = P_DeEc / P_Ec_dado_D"
   ]
  },
  {
   "cell_type": "code",
   "execution_count": 48,
   "metadata": {},
   "outputs": [
    {
     "data": {
      "text/plain": [
       "0.48"
      ]
     },
     "execution_count": 48,
     "metadata": {},
     "output_type": "execute_result"
    }
   ],
   "source": [
    "P_D"
   ]
  },
  {
   "cell_type": "markdown",
   "metadata": {},
   "source": [
    "[Voltar ao Índice](#indice)"
   ]
  },
  {
   "cell_type": "markdown",
   "metadata": {},
   "source": [
    "___\n",
    "<div id=\"p5\"></div>\n",
    "\n",
    "\n",
    "## PERGUNTA 5"
   ]
  },
  {
   "cell_type": "markdown",
   "metadata": {},
   "source": [
    "Leia o enunciado da Pergunta 5 descrito no Blackboard."
   ]
  },
  {
   "cell_type": "markdown",
   "metadata": {},
   "source": [
    "**P5** Leia a pergunta no Blackboard."
   ]
  },
  {
   "cell_type": "code",
   "execution_count": 65,
   "metadata": {},
   "outputs": [
    {
     "data": {
      "text/plain": [
       "0.393"
      ]
     },
     "execution_count": 65,
     "metadata": {},
     "output_type": "execute_result"
    }
   ],
   "source": [
    "P_Ec = 0.7\n",
    "P_E = 1 - P_Ec\n",
    "P_F = 0.607\n",
    "P_Fc = 1 - P_F\n",
    "P_Fc_dado_Ec = 0.24\n",
    "P_Ec_dado_F = 0.8765"
   ]
  },
  {
   "cell_type": "code",
   "execution_count": 68,
   "metadata": {},
   "outputs": [],
   "source": [
    "P_FceEc = P_Fc_dado_Ec * P_Ec\n",
    "P_FeEc = P_Ec - P_FceEc\n",
    "P_FeE = P_F - P_FeEc\n",
    "P_FceE = P_Fc - P_FceEc"
   ]
  },
  {
   "cell_type": "code",
   "execution_count": 69,
   "metadata": {},
   "outputs": [
    {
     "data": {
      "text/plain": [
       "0.5725190839694657"
      ]
     },
     "execution_count": 69,
     "metadata": {},
     "output_type": "execute_result"
    }
   ],
   "source": [
    "P_E_dado_Fc = P_FceE / P_Fc\n",
    "P_E_dado_Fc"
   ]
  },
  {
   "cell_type": "markdown",
   "metadata": {},
   "source": [
    "[Voltar ao Índice](#indice)"
   ]
  }
 ],
 "metadata": {
  "kernelspec": {
   "display_name": "Python 3",
   "language": "python",
   "name": "python3"
  },
  "language_info": {
   "codemirror_mode": {
    "name": "ipython",
    "version": 3
   },
   "file_extension": ".py",
   "mimetype": "text/x-python",
   "name": "python",
   "nbconvert_exporter": "python",
   "pygments_lexer": "ipython3",
   "version": "3.11.4"
  }
 },
 "nbformat": 4,
 "nbformat_minor": 4
}
