{
 "cells": [
  {
   "cell_type": "markdown",
   "metadata": {},
   "source": [
    "___\n",
    "# Exercício: <p> <center> TLC, Erro Amostral, Margem de erro e Tamanho Amostral\n",
    "___\n",
    "    \n",
    "## Aula 19\n",
    "\n",
    "**Objetivo da aula:** Ao final desta aula, o aluno deve ser capaz de:\n",
    " * Aplicar  resultados que teóricos para modelagem da média amostral $\\bar{X}$\n",
    " * Definir significado de coeficiente de confiança: 𝛾\n",
    " * Definir margem de erro: 𝜀\n",
    " * Cálculo do tamanho amostral: 𝑛\n"
   ]
  },
  {
   "cell_type": "markdown",
   "metadata": {},
   "source": [
    "___\n",
    "<div id=\"indice\"></div>\n",
    "\n",
    "## Índice\n",
    "\n",
    "- [Tempo de espera na fila do *check-in*](#tempoespera)\n",
    "- [Concentração de Cálcio em águas de lagos](#calcio)\n",
    "- [Tomando decisões com TLC - Resistores](#tomando-decisoes)\n",
    "___"
   ]
  },
  {
   "cell_type": "code",
   "execution_count": 2,
   "metadata": {},
   "outputs": [],
   "source": [
    "%matplotlib inline\n",
    "import matplotlib.pyplot as plt\n",
    "import pandas as pd\n",
    "import numpy as np\n",
    "from scipy import stats\n",
    "\n",
    "from math import sqrt"
   ]
  },
  {
   "cell_type": "markdown",
   "metadata": {},
   "source": [
    "___\n",
    "\n",
    "<div id=\"tempofila\"></div>\n",
    "\n",
    "# Tempo de espera na fila com uso do TLC\n",
    "\n",
    "(Baseado no Exercício 7-12 Montgomery). \n",
    "\n",
    "O tempo que um consumidor esperando na fila de *check-in* de um aeroporto é uma variável aleatória com média de $\\mu$ minutos e desvio padrão de $3.5$ minuto.\n",
    "Suponha que uma amostra aleatória de $49$ consumidores seja observada.\n",
    "\n",
    "**Responda:** (<a href=\"#respostas1\">Respostas</a>)"
   ]
  },
  {
   "cell_type": "markdown",
   "metadata": {},
   "source": [
    "**a)** Seja $\\overline{X}$ o tempo médio de espera na fila de *check-in* considerando uma amostra de 49 consumidores selecionados aleatoriamente. Qual é a distribuição de probabilidades de $\\overline{X}$ (qual distribuição e quais os seus respectivos parâmetros)? Aqui foi feito uso do TLC? Justifique porquê."
   ]
  },
  {
   "cell_type": "code",
   "execution_count": 26,
   "metadata": {},
   "outputs": [],
   "source": [
    "n = 49\n",
    "media = 3.5\n",
    "dp = 3.5\n",
    "var = stats.norm.var(loc=3.5, scale=dp/n**0.5)"
   ]
  },
  {
   "cell_type": "code",
   "execution_count": null,
   "metadata": {},
   "outputs": [],
   "source": [
    "# A distribuição seria a Normal, pois como temos um número grande o suficiente de amostras, podemos utilizar o TLC, com parâmetros de media = 3.5 e var = 0.25"
   ]
  },
  {
   "cell_type": "markdown",
   "metadata": {},
   "source": [
    "### IMPORTANTE para assumir nos próximos itens:\n",
    "\n",
    "A concessionária desse aeroporto afirma, independente da operadora aérea, que o **tempo médio IDEAL de espera na fila de *check-in* deva ser de $8.2$ minutos**.\n",
    "Ainda, assuma que esse tempo de espera seja modelado por uma distribuição Normal."
   ]
  },
  {
   "cell_type": "markdown",
   "metadata": {},
   "source": [
    "**b)** Sob a hipótese de que a afirmação da concessionária procede, construa um gráfico para visualizar a distribuição de $X$ e um de $\\overline{X}$. Explique o que cada uma representa."
   ]
  },
  {
   "cell_type": "code",
   "execution_count": 23,
   "metadata": {},
   "outputs": [
    {
     "data": {
      "image/png": "[encoded data removed]",
      "text/plain": [
       "<Figure size 640x480 with 1 Axes>"
      ]
     },
     "metadata": {},
     "output_type": "display_data"
    },
    {
     "data": {
      "text/plain": [
       "8.197633916331046"
      ]
     },
     "execution_count": 23,
     "metadata": {},
     "output_type": "execute_result"
    }
   ],
   "source": [
    "media = 8.2\n",
    "lista = []\n",
    "for i in range(2000):\n",
    "    lista.append(stats.norm.rvs(loc=media, scale=var**2))\n",
    "\n",
    "plt.hist(lista, density=True, edgecolor='black')\n",
    "plt.show()\n",
    "np.mean(lista)"
   ]
  },
  {
   "cell_type": "markdown",
   "metadata": {},
   "source": [
    "**c)** Assuma que $\\mu=8.2$ minutos. Encontre a probabilidade de que o tempo médio de espera na fila seja:\n",
    "  * Menor do que 10 minutos\n",
    "  * Entre 8 e 10 minutos\n",
    "  * Maior do que 9 minutos"
   ]
  },
  {
   "cell_type": "code",
   "execution_count": 27,
   "metadata": {},
   "outputs": [
    {
     "data": {
      "text/plain": [
       "0.9998408914098424"
      ]
     },
     "execution_count": 27,
     "metadata": {},
     "output_type": "execute_result"
    }
   ],
   "source": [
    "media = 8.2\n",
    "dp = var ** 0.5\n",
    "stats.norm.cdf(10, loc=8.2, scale=dp)"
   ]
  },
  {
   "cell_type": "code",
   "execution_count": 28,
   "metadata": {},
   "outputs": [
    {
     "data": {
      "text/plain": [
       "0.6552626330201661"
      ]
     },
     "execution_count": 28,
     "metadata": {},
     "output_type": "execute_result"
    }
   ],
   "source": [
    "stats.norm.cdf(10, loc=8.2, scale=dp) - stats.norm.cdf(8, loc=8.2, scale=dp)"
   ]
  },
  {
   "cell_type": "code",
   "execution_count": 29,
   "metadata": {},
   "outputs": [
    {
     "data": {
      "text/plain": [
       "0.054799291699557884"
      ]
     },
     "execution_count": 29,
     "metadata": {},
     "output_type": "execute_result"
    }
   ],
   "source": [
    "1 - stats.norm.cdf(9, loc=8.2, scale=dp)"
   ]
  },
  {
   "cell_type": "markdown",
   "metadata": {},
   "source": [
    "**d)** Assuma que $\\mu=8.2$ minutos. Assim, qual deve ser a região de valores de médias amostrais, todas com $n=49$, que contemplam $95\\%$ das possíveis médias amostrais mais próximas de $\\mu$.\n",
    "\n",
    "Neste item, consulte o comando `stats.norm.interval()` explicado [aqui](https://docs.scipy.org/doc/scipy/reference/generated/scipy.stats.norm.html)."
   ]
  },
  {
   "cell_type": "code",
   "execution_count": 30,
   "metadata": {},
   "outputs": [
    {
     "data": {
      "text/plain": [
       "(7.220018007729973, 9.179981992270026)"
      ]
     },
     "execution_count": 30,
     "metadata": {},
     "output_type": "execute_result"
    }
   ],
   "source": [
    "media = 8.2\n",
    "n = 49\n",
    "stats.norm.interval(0.95, loc=media, scale=dp)"
   ]
  },
  {
   "cell_type": "markdown",
   "metadata": {},
   "source": [
    "**e)** Considerando o resultado do item anterior, obtenha a margem de erro quando $\\mu=8.2$ minutos, $n=49$ e coeficiente de confiança igual a $95\\%$.\n",
    "\n",
    "Para tanto, considere a seguinte definição:\n",
    "  * **Margem de erro:** é o maior erro, para mais ou para menos, que uma média amostral pode ter para estimar a média populacional, quando considera 95% das possíveis médias amostrais ($\\overline{X}$) mais próximos do verdadeiro valor ($\\mu$)."
   ]
  },
  {
   "cell_type": "code",
   "execution_count": 33,
   "metadata": {},
   "outputs": [
    {
     "data": {
      "text/plain": [
       "0.9799819922700266"
      ]
     },
     "execution_count": 33,
     "metadata": {},
     "output_type": "execute_result"
    }
   ],
   "source": [
    "media - stats.norm.interval(0.95, loc=media, scale=dp)[0]"
   ]
  },
  {
   "cell_type": "markdown",
   "metadata": {},
   "source": [
    "**f)** Considerando agora que $\\mu$ é desconhecido, obtenha a margem de erro quando $n=49$ e coeficiente de confiança igual a $95\\%$.\n",
    "\n",
    "**Dica:** Aqui será necessário fazer uso da Normal Padrão, porém padronização da média amostral, ou seja, \n",
    "$$Z = \\frac{\\overline{X}-\\mu}{\\sigma/\\sqrt{n}} \\sim N(0; 1)$$"
   ]
  },
  {
   "cell_type": "code",
   "execution_count": 46,
   "metadata": {},
   "outputs": [
    {
     "data": {
      "text/plain": [
       "0.9799819922700271"
      ]
     },
     "execution_count": 46,
     "metadata": {},
     "output_type": "execute_result"
    }
   ],
   "source": [
    "n = 49\n",
    "dp = 3.5\n",
    "stats.norm.interval(0.95, loc=0, scale=1)[1] * dp / n ** 0.5"
   ]
  },
  {
   "cell_type": "markdown",
   "metadata": {},
   "source": [
    "**g)** Qual deveria ser o tamanho da amostra para se ter uma margem de erro de $0.5$ minutos e coeficiente de confiança igual a $95\\%$."
   ]
  },
  {
   "cell_type": "code",
   "execution_count": 47,
   "metadata": {},
   "outputs": [
    {
     "data": {
      "text/plain": [
       "188.23148221401215"
      ]
     },
     "execution_count": 47,
     "metadata": {},
     "output_type": "execute_result"
    }
   ],
   "source": [
    "n = (stats.norm.interval(0.95, loc=0, scale=1)[1] * dp / 0.5) ** 2\n",
    "n"
   ]
  },
  {
   "cell_type": "markdown",
   "metadata": {},
   "source": [
    "___\n",
    "\n",
    "<div id=\"calcio\"></div>\n",
    "\n",
    "# Concentração de cálcio em águas de lagos\n",
    "\n",
    "Assuma o interesse em estudar a concentração média de cálcio em águas de lagos de uma determinada região. Considere ainda que o desvio padrão populacional da variável de interesse seja conhecido e igual a 0,10 u.m.\n",
    "\n",
    "**Responda:** (<a href=\"#respostas2\">Respostas</a>)"
   ]
  },
  {
   "cell_type": "markdown",
   "metadata": {},
   "source": [
    "**a)** Qual a distribuição de probabilidades da média amostral?"
   ]
  },
  {
   "cell_type": "code",
   "execution_count": null,
   "metadata": {},
   "outputs": [],
   "source": [
    "# A distribuição de probabilidades da média amostral é a Normal"
   ]
  },
  {
   "cell_type": "markdown",
   "metadata": {},
   "source": [
    "**b)** Considerando um coeficiente de confiança igual a 98% e uma amostra de tamanho igual a 100, qual deve ser a margem de erro dessa pesquisa?"
   ]
  },
  {
   "cell_type": "code",
   "execution_count": 52,
   "metadata": {},
   "outputs": [
    {
     "data": {
      "text/plain": [
       "0.02326347874040841"
      ]
     },
     "execution_count": 52,
     "metadata": {},
     "output_type": "execute_result"
    }
   ],
   "source": [
    "dp = 0.1\n",
    "n = 100\n",
    "\n",
    "stats.norm.interval(0.98, loc=0, scale=1)[1] * dp / n ** 0.5"
   ]
  },
  {
   "cell_type": "markdown",
   "metadata": {},
   "source": [
    "**c)** Considerando um coeficiente de confiança igual a 98% e uma margem de erro igual a 0,015 u.m., qual deve ser o tamanho da amostra?"
   ]
  },
  {
   "cell_type": "code",
   "execution_count": 56,
   "metadata": {},
   "outputs": [
    {
     "data": {
      "text/plain": [
       "240.5286413801929"
      ]
     },
     "execution_count": 56,
     "metadata": {},
     "output_type": "execute_result"
    }
   ],
   "source": [
    "(stats.norm.interval(0.98, loc=0, scale=1)[1] * dp / 0.015) ** 2"
   ]
  },
  {
   "cell_type": "markdown",
   "metadata": {},
   "source": [
    "___\n",
    "<div id=\"tomando-decisoes\"></div>\n",
    "\n",
    "# Tomando decisões com uso do TLC\n",
    "\n",
    "Vamos considerar agora um exemplo (baseado no Exemplo 7-1 Montgomery). \n",
    "\n",
    "Um fabricante de componentes eletrônicos afirma que os resistores produzidos por ele possuem uma resistência média de $100 \\Omega$ e um desvio padrão de $2 \\Omega$. A distribuição da resistência de cada resistor é normal.\n",
    "\n",
    "Antes de fechar uma grande compra com esse fabricante, considerando seus conhecimentos adquiridos ao longo da graduação no Insper, você decidiu solicitar uma pequena amostra de 25 resistores para realizar um teste de qualidade. O objetivo desta parte da atividade é decidir se você confia ou não na palavra do fabricante.\n",
    "\n",
    "Considere aqui o valor de $\\sigma=2$ teórica não esteja sendo questionado sobre a qualidade do fabricante.\n",
    "\n",
    "**Responda:**(<a href=\"#respostas3\">Respostas</a>)"
   ]
  },
  {
   "cell_type": "markdown",
   "metadata": {},
   "source": [
    "**a)** Seja $\\overline{X}$ a resistência média de uma amostra com 25 resistores selecionados aleatoriamente. De acordo com o TLC, qual é a distribuição de probabilidades de $\\overline{X}$ (qual distribuição e quais os seus respectivos parâmetros)?"
   ]
  },
  {
   "cell_type": "code",
   "execution_count": 65,
   "metadata": {},
   "outputs": [
    {
     "data": {
      "text/plain": [
       "0.16000000000000003"
      ]
     },
     "execution_count": 65,
     "metadata": {},
     "output_type": "execute_result"
    }
   ],
   "source": [
    "media = 100\n",
    "dp = 2\n",
    "n = 25\n",
    "stats.norm.var(loc=100, scale=dp/n**0.5)"
   ]
  },
  {
   "cell_type": "code",
   "execution_count": null,
   "metadata": {},
   "outputs": [],
   "source": [
    "# A distribuição é a normal com media = 100 e var = 0.16"
   ]
  },
  {
   "cell_type": "markdown",
   "metadata": {},
   "source": [
    "### IMPORTANTE para assumir nos próximos itens:\n",
    "\n",
    "Assuma que o fabricante afirma que esteja produzindo resistores de acordo com as especificações, ou seja, com $\\mu=100 \\Omega$."
   ]
  },
  {
   "cell_type": "markdown",
   "metadata": {},
   "source": [
    "**b)** Sob a hipótese de que os resistores foram produzidos de acordo com especificação do fabricante, construa um gráfico para visualizar a distribuição de $X$ e um de $\\overline{X}$. Explique o que cada uma representa."
   ]
  },
  {
   "cell_type": "code",
   "execution_count": null,
   "metadata": {},
   "outputs": [],
   "source": []
  },
  {
   "cell_type": "code",
   "execution_count": null,
   "metadata": {},
   "outputs": [],
   "source": []
  },
  {
   "cell_type": "markdown",
   "metadata": {},
   "source": [
    "**c)** Sob a hipótese de que os resistores foram produzidos de acordo com especificação do fabricante. Assim, qual deve ser a região de valores de médias amostrais, todas com $n=25$, que contemplam $90\\%$ das possíveis médias amostrais mais próximas de $\\mu$.\n",
    "Neste item, consulte o comando `stats.norm.interval()` explicado [aqui](https://docs.scipy.org/doc/scipy/reference/generated/scipy.stats.norm.html)."
   ]
  },
  {
   "cell_type": "code",
   "execution_count": 68,
   "metadata": {},
   "outputs": [
    {
     "data": {
      "text/plain": [
       "(99.34205854921942, 100.65794145078058)"
      ]
     },
     "execution_count": 68,
     "metadata": {},
     "output_type": "execute_result"
    }
   ],
   "source": [
    "stats.norm.interval(0.9, loc=media, scale=dp/n**0.5)"
   ]
  },
  {
   "cell_type": "markdown",
   "metadata": {},
   "source": [
    "**d)** Considerando o resultado do item anterior, obtenha a margem de erro quando $\\mu=100 \\Omega$, $n=25$ e coeficiente de confiança igual a $90\\%$."
   ]
  },
  {
   "cell_type": "code",
   "execution_count": 73,
   "metadata": {},
   "outputs": [
    {
     "data": {
      "text/plain": [
       "0.6579414507805836"
      ]
     },
     "execution_count": 73,
     "metadata": {},
     "output_type": "execute_result"
    }
   ],
   "source": [
    "stats.norm.interval(0.9, loc=media, scale=dp/n**0.5)[1] - 100"
   ]
  },
  {
   "cell_type": "markdown",
   "metadata": {},
   "source": [
    "**e)** Se uma amostra de 25 resistores é coletada e a média amostral calculada é igual a $\\overline{x}=98.929451$. \n",
    "\n",
    "Com $90\\%$ de confianca, você acredita que essa amostra foi coletada de um população cuja verdadeira média é $\\mu=100\\Omega$? Ou seja, voce confia no fabricante?"
   ]
  },
  {
   "cell_type": "code",
   "execution_count": 75,
   "metadata": {},
   "outputs": [
    {
     "data": {
      "text/plain": [
       "(99.34205854921942, 100.65794145078058)"
      ]
     },
     "execution_count": 75,
     "metadata": {},
     "output_type": "execute_result"
    }
   ],
   "source": [
    "media_amostral = 98.929451\n",
    "n = 25\n",
    "stats.norm.interval(0.9, loc=media, scale=dp/n**0.5)"
   ]
  },
  {
   "cell_type": "code",
   "execution_count": null,
   "metadata": {},
   "outputs": [],
   "source": [
    "# Não é possível confiar no fabricante pois a média amostral está menor do que a menor média com 90% de confiança"
   ]
  },
  {
   "cell_type": "markdown",
   "metadata": {},
   "source": [
    "<div id=\"respostas\"></div>\n",
    "\n",
    "---\n",
    "# Respostas\n",
    "\n",
    "<a href=\"#indice\">Voltar para o índice</a>"
   ]
  },
  {
   "cell_type": "markdown",
   "metadata": {},
   "source": [
    "<div id=\"respostas1\"></div>\n",
    "\n",
    "### Respostas do exercício - Tempo de espera na fila do *check-in*\n",
    "\n",
    "**item a)** \n",
    "$\\overline{X}$ ~ Normal($\\mu$, 12.25/49) ou, equivalente, $\\overline{X}$ ~ Normal($\\mu$, 0.25)\n",
    "\n",
    "**item b)** São gráficos semelhantes a esses:\n",
    "\n",
    "![](./fig_exerc1_itemb.png)\n",
    "\n",
    "\n",
    "**item c)** \n",
    "* P($\\overline{X}$ < 10) = 0.99984\n",
    "* P(8 < $\\overline{X}$ < 10) = 0.65526\n",
    "* P($\\overline{X}$ > 9) = 0.054799\n",
    "\n",
    "\n",
    "**item d)** A região de 95% das possíveis médias amostrais mais próximas de $\\mu$=8.2 vai de: \n",
    "7.22002 até 9.17998\n",
    "\n",
    "\n",
    "**item e)** \n",
    "A margem de erro é o maior erro, para mais ou para menos, que uma média amostral pode ter para estimar $\\mu$,\n",
    "quando considera 95% das possíveis médias amostrais mais próximos do verdadeiro valor ($\\mu$).\n",
    "  * A margem de erro baseada na maior distância aquém de $\\mu$ é: -0.979982\n",
    "  * A margem de erro baseada na maior distância além de $\\mu$ é: 0.979982\n",
    "\n",
    "\n",
    "**item f)** A margem de erro mantendo $n=49$ e 95% de confiança é 0.979982\n",
    "\n",
    "\n",
    "**item g)** Tamanho da amostra para margem de erro de 0.5 minuto mantendo 95% de confiança é 189.\n",
    "\n",
    "<a href=\"#tempofila\">Voltar para enunciado</a>"
   ]
  },
  {
   "cell_type": "markdown",
   "metadata": {},
   "source": [
    "<div id=\"respostas2\"></div>\n",
    "\n",
    "### Respostas do exercício - Concentração de cálcio\n",
    "\n",
    "**item a)** \n",
    "$\\overline{X}$ ~ Normal($\\mu$, 0.01/n)\n",
    "\n",
    "\n",
    "**item b)** A margem de erro mantendo $n=100$ e 98% de confiança é 0.02326\n",
    "\n",
    "\n",
    "**item g)** Tamanho da amostra para margem de erro de 0.015 minuto mantendo 98% de confiança é 241.\n",
    "\n",
    "<a href=\"#calcio\">Voltar para enunciado</a>"
   ]
  },
  {
   "cell_type": "markdown",
   "metadata": {},
   "source": [
    "___\n",
    "\n",
    "<div id=\"respostas3\"></div>\n",
    "\n",
    "### Respostas do exercício - Tomando decisões com TLC\n",
    "\n",
    "**item a)** Normal(100, 0.16)\n",
    "\n",
    "**item b)** São gráficos semelhantes a esses:\n",
    "\n",
    "![](./fig_exerc2_itemb.png)\n",
    "\n",
    "\n",
    "**item c)** A região de 90% das possíveis médias amostrais mais próximas de mu=100 vai de: \n",
    "99.3421 até 100.658\n",
    "\n",
    "**item d)** \n",
    "A margem de erro é o maior erro, para mais ou para menos, que uma média amostral pode ter para estimar $\\mu$,\n",
    "quando considera 90% das possíveis médias amostrais mais próximos do verdadeiro valor ($\\mu$).\n",
    "  * A margem de erro baseada na maior distância aquém de $\\mu$ é: -0.657941\n",
    "  * A margem de erro baseada na maior distância além de $\\mu$ é: 0.657941\n",
    "\n",
    "\n",
    "**item e)** Como xbarra=98.929451 está aquém da menor média, então não há evidências para se confiar na afirmação do fabricante, com 90% de confiança.\n",
    "\n",
    "\n",
    "<a href=\"#tomando-decisoes\">Voltar para enunciado</a>"
   ]
  },
  {
   "cell_type": "code",
   "execution_count": null,
   "metadata": {},
   "outputs": [],
   "source": []
  }
 ],
 "metadata": {
  "hide_input": false,
  "kernelspec": {
   "display_name": "Python 3",
   "language": "python",
   "name": "python3"
  },
  "language_info": {
   "codemirror_mode": {
    "name": "ipython",
    "version": 3
   },
   "file_extension": ".py",
   "mimetype": "text/x-python",
   "name": "python",
   "nbconvert_exporter": "python",
   "pygments_lexer": "ipython3",
   "version": "3.11.5"
  }
 },
 "nbformat": 4,
 "nbformat_minor": 2
}
