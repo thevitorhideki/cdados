{
 "cells": [
  {
   "cell_type": "markdown",
   "metadata": {},
   "source": [
    "___\n",
    "# Exercício: <p> <center> Modelos probabilísticos discretos\n",
    "___\n",
    "\n",
    "## Aula 11"
   ]
  },
  {
   "cell_type": "markdown",
   "metadata": {},
   "source": [
    "___\n",
    "<div id=\"indice\"></div>\n",
    "\n",
    "## Índice\n",
    "\n",
    " - [Exercício 1](#ex1) **- APS6 disponível no Blackboard**\n",
    " - [Exercício 2](#ex2) \n",
    " - [Exercício 3](#ex3) **- APS6 disponível no Blackboard**\n",
    " - [Exercício 4](#ex4) \n",
    " \n",
    " - [Respostas esperadas](#resps)"
   ]
  },
  {
   "cell_type": "code",
   "execution_count": 3,
   "metadata": {},
   "outputs": [],
   "source": [
    "from scipy import stats #importa apenas as funções de estatísticas da biblioteca SciPy.\n",
    "\n",
    "# Importe outras bibliotecas se julgar necessário"
   ]
  },
  {
   "cell_type": "markdown",
   "metadata": {},
   "source": [
    "___\n",
    "<div id=\"ex1\"></div>\n",
    "\n",
    "### EXERCÍCIO 1\n",
    "A mortalidade de microempresas no 1º ano de funcionamento é da ordem de 55%. <br>\n",
    "Deseja-se avaliar as causas da mortalidade. <p>\n",
    "Numa amostra de 10 empresas:<br>\n",
    "(a) qual á a probabilidade de exatamente 5 terem falido ao final do 1º ano?<br>\n",
    "(b) qual é a probabilidade de pelo menos 3 virem a falir no 1º ano?<br>\n",
    "(c) sabe-se que pelo menos 3 faliram no 1º ano, qual é a probabilidade de no máximo 5 terem falido?<br>\n",
    "(d) qual o número esperado de empresas que irão à falência no 1º ano na amostra? E o desvio padrão?<br>\n"
   ]
  },
  {
   "cell_type": "code",
   "execution_count": 4,
   "metadata": {},
   "outputs": [],
   "source": [
    "p = 0.55 # probabilidade de sucesso\n",
    "n = 10 # número de empresas"
   ]
  },
  {
   "cell_type": "code",
   "execution_count": 5,
   "metadata": {},
   "outputs": [
    {
     "data": {
      "text/plain": [
       "0.23403270759257822"
      ]
     },
     "execution_count": 5,
     "metadata": {},
     "output_type": "execute_result"
    }
   ],
   "source": [
    "# item (a)\n",
    "stats.binom.pmf(5, n, p)"
   ]
  },
  {
   "cell_type": "code",
   "execution_count": 6,
   "metadata": {},
   "outputs": [
    {
     "data": {
      "text/plain": [
       "0.9726081607386718"
      ]
     },
     "execution_count": 6,
     "metadata": {},
     "output_type": "execute_result"
    }
   ],
   "source": [
    "# item (b)\n",
    "1 - stats.binom.cdf(2, n, p)"
   ]
  },
  {
   "cell_type": "code",
   "execution_count": 7,
   "metadata": {},
   "outputs": [
    {
     "data": {
      "text/plain": [
       "0.48138971888756615"
      ]
     },
     "execution_count": 7,
     "metadata": {},
     "output_type": "execute_result"
    }
   ],
   "source": [
    "# item (c)\n",
    "(stats.binom.cdf(5, n, p) - stats.binom.cdf(2, n, p)) / (1 - stats.binom.cdf(2, n, p))"
   ]
  },
  {
   "cell_type": "code",
   "execution_count": 8,
   "metadata": {},
   "outputs": [
    {
     "name": "stdout",
     "output_type": "stream",
     "text": [
      "E(X) =  5.5\n",
      "std(X) =  1.5732132722552272\n"
     ]
    }
   ],
   "source": [
    "# item (d)\n",
    "E = n * p\n",
    "Var = n * p * (1 - p)\n",
    "std = Var ** 0.5\n",
    "\n",
    "print(\"E(X) = \", E)\n",
    "print(\"std(X) = \", std)"
   ]
  },
  {
   "cell_type": "markdown",
   "metadata": {},
   "source": [
    "[Volte ao Índice](#indice)"
   ]
  },
  {
   "cell_type": "markdown",
   "metadata": {},
   "source": [
    "<div id=\"ex2\"></div>\n",
    "\n",
    "### EXERCÍCIO 2\n",
    "\n",
    "O número médio de clientes satisfeitos com o atendimento de uma loja, em amostras de 40 clientes escolhidos ao acaso, é de 5,5.<br> \n",
    "Qual é a probabilidade de, numa amostra de 40 clientes escolhidos ao acaso, encontrarmos pelo menos 2 satisfeitos?\n"
   ]
  },
  {
   "cell_type": "code",
   "execution_count": 19,
   "metadata": {},
   "outputs": [
    {
     "data": {
      "text/plain": [
       "0.9801283997785011"
      ]
     },
     "execution_count": 19,
     "metadata": {},
     "output_type": "execute_result"
    }
   ],
   "source": [
    "n = 40\n",
    "p = 5.5 / 40\n",
    "\n",
    "1 - stats.binom.cdf(1, n, p)"
   ]
  },
  {
   "cell_type": "markdown",
   "metadata": {},
   "source": [
    "[Volte ao Índice](#indice)"
   ]
  },
  {
   "cell_type": "markdown",
   "metadata": {},
   "source": [
    "<div id=\"ex3\"></div>\n",
    "\n",
    "### EXERCÍCIO 3\n",
    "\n",
    "Um supermercado que tem um cartão de fidelidade classifica os clientes em regular e diamante.  <br>\n",
    "Atualmente 70 % dos clientes são regulares. <br>\n",
    "A direção do supermercado deseja premiar os clientes que, num determinado mês, comprem mais de 1 mil reais. <br>\n",
    "Sabemos que se o cliente é diamante a probabilidade dele fazer uma compra acima de 1 mil reais é de 75%; já para o cliente regular, essa probabilidade é de 5%. <p>\n",
    "\n",
    "(a) Sorteada uma amostra de 20 clientes diamante, qual é a probabilidade de exatamente 12 fazerem uma compra acima de 1 mil reais? <br>\n",
    "(b) Sorteados 20 clientes com a mesma classificação ao acaso, qual a probabilidade de exatamente 12 fazerem uma compra acima de 1 mil reais?<br>\n",
    "(c) Sorteados 20 clientes ao acaso, qual a probabilidade de exatamente 12 fazerem uma compra acima de 1 mil reais?<br>\n",
    "(d) Um gerente está analisando 200 compras efetuadas em um caixa, dessas 120 foram superiores a 1 mil reais. Dessas compras sob análise, deseja-se sortear uma amostra de 20 compras, sendo que a mesma compra não pode ser sorteada mais de uma vez, qual é a probabilidade de 15 terem sido superiores a 1 mil reais? <br>"
   ]
  },
  {
   "cell_type": "code",
   "execution_count": 10,
   "metadata": {},
   "outputs": [],
   "source": [
    "P_R = 0.7\n",
    "P_D = 0.3\n",
    "P_C_dado_D = 0.75\n",
    "P_C_dado_R = 0.05\n",
    "n = 20"
   ]
  },
  {
   "cell_type": "code",
   "execution_count": 11,
   "metadata": {},
   "outputs": [
    {
     "data": {
      "text/plain": [
       "0.06088668921620408"
      ]
     },
     "execution_count": 11,
     "metadata": {},
     "output_type": "execute_result"
    }
   ],
   "source": [
    "# item (a)\n",
    "stats.binom.pmf(12, n, P_C_dado_D)"
   ]
  },
  {
   "cell_type": "code",
   "execution_count": 12,
   "metadata": {},
   "outputs": [
    {
     "data": {
      "text/plain": [
       "0.01826600677914339"
      ]
     },
     "execution_count": 12,
     "metadata": {},
     "output_type": "execute_result"
    }
   ],
   "source": [
    "# item (b)\n",
    "stats.binom.pmf(12, n, P_C_dado_R) * P_R + stats.binom.pmf(12, n, P_C_dado_D) * P_D"
   ]
  },
  {
   "cell_type": "code",
   "execution_count": 13,
   "metadata": {},
   "outputs": [
    {
     "data": {
      "text/plain": [
       "0.0010809386926081336"
      ]
     },
     "execution_count": 13,
     "metadata": {},
     "output_type": "execute_result"
    }
   ],
   "source": [
    "# item (c)\n",
    "p_media = P_R * P_C_dado_R + P_D * P_C_dado_D\n",
    "stats.binom.pmf(12, n, p_media)"
   ]
  },
  {
   "cell_type": "code",
   "execution_count": 14,
   "metadata": {},
   "outputs": [
    {
     "data": {
      "text/plain": [
       "0.07047763575173921"
      ]
     },
     "execution_count": 14,
     "metadata": {},
     "output_type": "execute_result"
    }
   ],
   "source": [
    "# item (d)\n",
    "P_1000 = 120 / 200\n",
    "stats.binom.pmf(15, 120, P_1000) * stats.binom.pmf(5, 80, P_1000) / stats.binom.pmf(20, 200, P_1000)"
   ]
  },
  {
   "cell_type": "markdown",
   "metadata": {},
   "source": [
    "[Volte ao Índice](#indice)"
   ]
  },
  {
   "cell_type": "markdown",
   "metadata": {},
   "source": [
    "<div id=\"ex4\"></div>\n",
    "\n",
    "### EXERCÍCIO 4\n",
    "\n",
    "Um agricultor cultiva laranjas e também produz mudas para vender. <br>\n",
    "Após alguns meses a muda pode ser atacada por fungos com probabilidade 0,05 e, nesse caso, ela é escolhida para ser recuperada com probabilidade 0,5. <br>\n",
    "Admita que o processo de recuperação é infalível. O custo de cada muda produzida é R\\\\$ 1,00; acrescido de R\\\\$1,50 se for para o processo de recuperação. <br>\n",
    "Cada muda é vendida a R\\\\$ 4,00 e são descartadas as mudas que não foram para o processo de recuperação de ataque de fungos. \n",
    "\n",
    "Responda: <br> \n",
    "(a) Qual é a distribuição de probabilidades do lucro (ou seja, pode haver ganho ou prejuízo) por muda produzida pelo agricultor? Justifique claramente todas as contas feitas para obtenção do resultado. <br>\n",
    "(b) O agricultor seleciona aleatoriamente 3 mudas da sua produção de mudas de laranjas para verificar se houve ataque por fungos após alguns meses. Nesse caso: <br>\n",
    "(b.1) Qual é a probabilidade dele encontrar pelo menos 2 mudas que foram atacadas por fungos? Justifique claramente todas as contas feitas para obtenção do resultado. <br>\n",
    "(b.2) Sabendo que o agricultor já encontrou pelo menos 2 mudas que foram atacadas por fungos, qual é a probabilidade de encontrar menos de 3 atacadas por fungos? Justifique claramente todas as contas feitas para obtenção do resultado.\n"
   ]
  },
  {
   "cell_type": "code",
   "execution_count": null,
   "metadata": {},
   "outputs": [],
   "source": [
    "p = 0.05"
   ]
  },
  {
   "cell_type": "code",
   "execution_count": 15,
   "metadata": {},
   "outputs": [],
   "source": [
    "# item (a)\n",
    "# ESCREVA SUA RESPOSTA AQUI"
   ]
  },
  {
   "cell_type": "code",
   "execution_count": 16,
   "metadata": {},
   "outputs": [],
   "source": [
    "# item (b.1)\n",
    "# ESCREVA SUA RESPOSTA AQUI"
   ]
  },
  {
   "cell_type": "code",
   "execution_count": 17,
   "metadata": {},
   "outputs": [],
   "source": [
    "# item (b.2)\n",
    "# ESCREVA SUA RESPOSTA AQUI"
   ]
  },
  {
   "cell_type": "markdown",
   "metadata": {},
   "source": [
    "[Volte ao Índice](#indice)"
   ]
  },
  {
   "cell_type": "markdown",
   "metadata": {},
   "source": [
    "<div id=\"resps\"></div>\n",
    "\n",
    "## Respostas Esperadas:"
   ]
  },
  {
   "cell_type": "markdown",
   "metadata": {},
   "source": [
    "#### EXERCÍCIO 2<br>\n",
    "*Resposta esperada: p=0,1375. Logo, P(X>=2)=98,02%*"
   ]
  },
  {
   "cell_type": "markdown",
   "metadata": {},
   "source": [
    "#### EXERCÍCIO 4<br>\n",
    "*Respostas esperadas:* <br>\n",
    "*(a) Considere que X represente o lucro por muda e x, seus respectivos valores* <br>\n",
    "\n",
    "x | P(X=x) \n",
    "----------------- | ----------------- \n",
    "-1,00     | 0.025     \n",
    " 1,50     | 0.025  \n",
    " 3,00     | 0.95     \n",
    "    \n",
    "*(b.1) 0.725% (b.2) 98.3%* "
   ]
  }
 ],
 "metadata": {
  "anaconda-cloud": {},
  "kernelspec": {
   "display_name": "Python 3",
   "language": "python",
   "name": "python3"
  },
  "language_info": {
   "codemirror_mode": {
    "name": "ipython",
    "version": 3
   },
   "file_extension": ".py",
   "mimetype": "text/x-python",
   "name": "python",
   "nbconvert_exporter": "python",
   "pygments_lexer": "ipython3",
   "version": "3.11.5"
  }
 },
 "nbformat": 4,
 "nbformat_minor": 1
}
