{
 "cells": [
  {
   "cell_type": "markdown",
   "metadata": {},
   "source": [
    "___\n",
    "# Exercício: <p> <center> Propriedades de esperança e variância  <p> <center> para Combinação linear de variáveis aleatórias\n",
    "___\n",
    "\n",
    "## Aula 17"
   ]
  },
  {
   "cell_type": "markdown",
   "metadata": {},
   "source": [
    "___\n",
    "<div id=\"indice\"></div>\n",
    "\n",
    "## Índice\n",
    "\n",
    "- [Exercício 1](#ex1)\n",
    "- [Exercício 2](#ex2)\n",
    "- [Exercício 3](#ex3)\n",
    "- [Exercício 4](#ex4)\n",
    "- [Exercício 5](#ex5)\n",
    "- [Exercício 6](#ex6)\n",
    "\n",
    "\n",
    "- [Respostas](#respostas)\n",
    "    - [Exercício 1a](#resposta1a)\n",
    "    - [Exercício 1b](#resposta1b)\n",
    "    - [Exercício 2a](#resposta2a)\n",
    "    - [Exercício 2b](#resposta2b)\n",
    "    - [Exercício 3](#resposta3)\n",
    "    - [Exercício 4](#resposta4)\n",
    "    - [Exercício 5](#resposta5)\n",
    "______"
   ]
  },
  {
   "cell_type": "code",
   "execution_count": 47,
   "metadata": {},
   "outputs": [],
   "source": [
    "from scipy import stats\n",
    "import pandas as pd\n",
    "import matplotlib.pyplot as plt\n",
    "import numpy as np"
   ]
  },
  {
   "cell_type": "markdown",
   "metadata": {},
   "source": [
    "<div id=\"ex1\"></div>\n",
    "\n",
    "### EXERCÍCIO 1\n",
    "\n",
    "Sejam $X \\sim Exp(\\mu=10)$ e $Y \\sim Exp(\\mu=20)$, duas variáveis aleatórias independentes.  \n",
    "\n",
    "Vamos definir a variável aleatória $Z$ como $Z = 2X + 3Y$\n",
    "\n",
    "Responda:\n",
    "\n",
    "<div id=\"ex1a\"></div>\n",
    "\n",
    "**a.** Qual deve ser $E(Z)$ e $Var(Z)$? Responda usando a teoria.\n",
    "\n",
    "<a href=\"#resposta1a\">Respostas</a>"
   ]
  },
  {
   "cell_type": "code",
   "execution_count": 48,
   "metadata": {},
   "outputs": [
    {
     "name": "stdout",
     "output_type": "stream",
     "text": [
      "E(Z): 80.0\n",
      "Var(Z): 4000.0\n"
     ]
    }
   ],
   "source": [
    "x = np.linspace(0, 20, 1000)\n",
    "\n",
    "E_X = stats.expon.mean(scale=10)\n",
    "var_X = stats.expon.var(scale=10)\n",
    "E_Y = stats.expon.mean(scale=20)\n",
    "var_Y = stats.expon.var(scale=20)\n",
    "\n",
    "E_Z = E_X * 2 + E_Y * 3\n",
    "var_Z = 2**2 * var_X + 3**2 * var_Y\n",
    "print(f'E(Z): {E_Z}')\n",
    "print(f'Var(Z): {var_Z}')"
   ]
  },
  {
   "cell_type": "markdown",
   "metadata": {},
   "source": [
    "<div id=\"ex1b\"></div>\n",
    "\n",
    "**b.** Verifique, através de simulação, o resultado anterior.  Não se esqueça de apresentar os valores de $E(Z)$ e $Var(Z)$ obtidos a partir dos dados e de plotar o histograma.\n",
    "\n",
    "<a href=\"#resposta1b\">Respostas</a>"
   ]
  },
  {
   "cell_type": "code",
   "execution_count": 49,
   "metadata": {},
   "outputs": [],
   "source": [
    "# ESCREVA O CÓDIGO AQUI"
   ]
  },
  {
   "cell_type": "markdown",
   "metadata": {},
   "source": [
    "___\n",
    "<div id=\"ex2\"></div>\n",
    "\n",
    "### EXERCÍCIO 2\n",
    "\n",
    "Dadas duas variáveis aleatórias normais $X$ e $Y$, não correlacionadas entre si, com médias de 100 e 150, e desvios padrão de 30 e 40, respectivamente:\n",
    "\n",
    "<div id=\"ex2a\"></div>\n",
    "\n",
    "**a** Quais seriam $E(X + Y)$ e $V(X + Y)$ conforme a teoria? Que formato teria a distribuição?\n",
    "\n",
    "<a href=\"#resposta2a\">Respostas</a>"
   ]
  },
  {
   "cell_type": "code",
   "execution_count": 50,
   "metadata": {},
   "outputs": [
    {
     "name": "stdout",
     "output_type": "stream",
     "text": [
      "E(XY): 250\n",
      "Var(XY): 2500\n"
     ]
    }
   ],
   "source": [
    "E_XY = 100 + 150\n",
    "VAR_XY = 30 ** 2 + 40 ** 2\n",
    "print(f'E(XY): {E_XY}')\n",
    "print(f'Var(XY): {VAR_XY}')"
   ]
  },
  {
   "cell_type": "markdown",
   "metadata": {},
   "source": [
    "<div id=\"ex2b\"></div>\n",
    "\n",
    "**b** Simule este resultado.\n",
    "\n",
    "<a href=\"#resposta2b\">Respostas</a>"
   ]
  },
  {
   "cell_type": "code",
   "execution_count": 51,
   "metadata": {},
   "outputs": [],
   "source": [
    "# ESCREVA SUA RESPOSTA AQUI"
   ]
  },
  {
   "cell_type": "markdown",
   "metadata": {},
   "source": [
    "<div id=\"ex3\"></div>\n",
    "\n",
    "### EXERCÍCIO 3\n",
    "\n",
    "Os arquivos `var1.csv` e `var2.csv` contém amostras **correlacionadas** de duas variáveis aleatórias **não independentes** $X$ e $Y$.\n",
    "\n",
    "Dados:\n",
    "\n",
    "$\\mu_X = 20$\n",
    "\n",
    "$\\mu_Y = 25$\n",
    "\n",
    "$\\sigma_X^2 = 25$\n",
    "\n",
    "$\\sigma_Y^2 = 16$\n",
    "\n",
    "$Cov(X,Y) = 10$\n",
    "\n",
    "\n",
    "Faça:\n",
    "* Calcule a média e o desvio padrão de Z = X + Y usando a teoria\n",
    "* verifique nos dados se o resultado é coerente\n",
    "\n",
    "<a href=\"#resposta3\">Respostas</a>"
   ]
  },
  {
   "cell_type": "code",
   "execution_count": 52,
   "metadata": {},
   "outputs": [
    {
     "name": "stdout",
     "output_type": "stream",
     "text": [
      "E(XY): 45\n",
      "Var(XY): 61\n"
     ]
    }
   ],
   "source": [
    "media_X = 20\n",
    "media_Y = 25\n",
    "var_X = 25\n",
    "var_Y = 16\n",
    "cov_XY = 10\n",
    "\n",
    "E_XY = media_X + media_Y\n",
    "VAR_XY = var_X + var_Y + 2 * cov_XY\n",
    "print(f'E(XY): {E_XY}')\n",
    "print(f'Var(XY): {VAR_XY}')"
   ]
  },
  {
   "cell_type": "code",
   "execution_count": 66,
   "metadata": {},
   "outputs": [
    {
     "name": "stdout",
     "output_type": "stream",
     "text": [
      "E(XY): 45.051758138707676\n",
      "Var(XY): 58.97928363410341\n"
     ]
    }
   ],
   "source": [
    "x_All = pd.read_csv('var1.csv', header=None)\n",
    "y_All = pd.read_csv('var2.csv', header=None)\n",
    "df = pd.concat([x_All[1], y_All[1]], axis=1, keys=['X', 'Y'])\n",
    "\n",
    "media_X = df['X'].mean()\n",
    "media_Y = df['Y'].mean()\n",
    "var_X = df['X'].var()\n",
    "var_Y = df['Y'].var()\n",
    "cov_XY = df['X'].cov(df['Y'])\n",
    "\n",
    "E_XY = media_X + media_Y\n",
    "VAR_XY = var_X + var_Y + 2 * cov_XY\n",
    "print(f'E(XY): {E_XY}')\n",
    "print(f'Var(XY): {VAR_XY}')"
   ]
  },
  {
   "cell_type": "markdown",
   "metadata": {},
   "source": [
    "___\n",
    "<div id=\"ex4\"></div>\n",
    "\n",
    "## Exercício 4\n",
    "\n",
    "Um processo industrial pode ser executado em duas etapas independentes. O tempo gasto em cada etapa segue uma distribuição com média de 5 horas e desvio-padrão de 10 horas. \n",
    "Um engenheiro resolveu modificar o processo de produção fazendo com que seja executado numa única fase, cujo tempo de execução é o dobro da primeira etapa do processo atual.\n",
    "Vale a pena adotar o processo proposto pelo engenheiro?\n",
    "\n",
    "<a href=\"#resposta4\">Respostas</a>"
   ]
  },
  {
   "cell_type": "code",
   "execution_count": 75,
   "metadata": {},
   "outputs": [
    {
     "name": "stdout",
     "output_type": "stream",
     "text": [
      "E(T): 10\n",
      "DP(T): 14.142135623730951\n",
      "E(N): 10\n",
      "DP(N): 20\n"
     ]
    }
   ],
   "source": [
    "media_X = 5\n",
    "dp_X = 10\n",
    "var_X = dp_X ** 2\n",
    "media_Y = 5\n",
    "dp_Y = 10\n",
    "var_Y = dp_Y ** 2\n",
    "\n",
    "media_T = media_X + media_Y\n",
    "dp_T = (var_X + var_Y) ** 0.5\n",
    "print(f'E(T): {media_T}')\n",
    "print(f'DP(T): {dp_T}')\n",
    "\n",
    "media_W = 10\n",
    "dp = 20\n",
    "print(f'E(N): {media_W}')\n",
    "print(f'DP(N): {dp}')"
   ]
  },
  {
   "cell_type": "markdown",
   "metadata": {},
   "source": [
    "___\n",
    "\n",
    "<div id=\"ex5\"></div>\n",
    "\n",
    "### EXERCÍCIO 5 \n",
    "\n",
    "Uma pessoa irá comprar uma camisa e uma calça. Os dois produtos serão adquiridos numa mesma loja. O preço da camisa segue uma distribuição aproximadamente normal de média 45,00 reais e desvio-padrão 3,00 reais. O preço da calça segue uma distribuição aproximadamente normal de média 60,00 reais e desvio-padrão 5,00 reais. Sabe-se ainda que a correlação entre os preços da camisa e da calça é da ordem de 0,25 e que o gasto com a compra de uma camisa e uma calça seja modelado por uma distribuição normal.\n",
    "\n",
    "a) Uma pessoa possui apenas 95,00 reais para comprar a camisa e a calça, indo a um único estabelecimento escolhido ao acaso, qual é a probabilidade de conseguir comprar os dois produtos? Considere que o gasto total com a compra de uma calça e uma camisa também segue uma distribuição aproximadamente normal.\n",
    "\n",
    "b) Indo a um único estabelecimento, qual a probabilidade de se pagar mais caro na camisa do que na calça?\n",
    "\n",
    "<a href=\"#resposta5\">Respostas</a>"
   ]
  },
  {
   "cell_type": "code",
   "execution_count": 89,
   "metadata": {},
   "outputs": [
    {
     "data": {
      "text/plain": [
       "0.0602951032363964"
      ]
     },
     "execution_count": 89,
     "metadata": {},
     "output_type": "execute_result"
    }
   ],
   "source": [
    "media_X = 45\n",
    "dp_X = 3\n",
    "media_Y = 60\n",
    "dp_Y = 5\n",
    "corr_XY = 0.25\n",
    "\n",
    "media_T = media_X + media_Y\n",
    "dp_T = (dp_X ** 2 + dp_Y ** 2 + 2 * corr_XY * dp_X * dp_Y) ** 0.5\n",
    "stats.norm.cdf(95, loc=media_T, scale=dp_T)"
   ]
  },
  {
   "cell_type": "code",
   "execution_count": null,
   "metadata": {},
   "outputs": [],
   "source": []
  },
  {
   "cell_type": "markdown",
   "metadata": {},
   "source": [
    "___\n",
    "\n",
    "<div id=\"ex6\"></div>\n",
    "\n",
    "### EXERCÍCIO 6\n",
    "\n",
    "O preço de compra, em reais, de cada unidade da matéria-prima M1 não é fixo (único), pois pode variar de região para região brasileira. Neste caso, assuma que o preço de M1 pode ser modelado por uma distribuição normal com média 15 reais e desvio padrão 3 reais. \n",
    "\n",
    "a) Qual é o menor valor cobrado pela matéria-prima M1 referente aos 39% dos locais mais careiros?\n",
    "\n",
    "b) Um determinado produto, que será lançado no mercado, é composto por três unidades de mesmo valor da matéria-prima M1. Ainda, na fabricação desse produto, há um custo fixo de 30 reais por produto produzido. O valor comercializado de cada produto será definido para que se tenha um lucro de 35% sobre o valor da etiqueta. Encontre a esperança, variância e distribuição do valor comercializado de cada produto.\n"
   ]
  },
  {
   "cell_type": "code",
   "execution_count": null,
   "metadata": {},
   "outputs": [],
   "source": [
    "# ESCREVA SUA RESPOSTA AQUI"
   ]
  },
  {
   "cell_type": "markdown",
   "metadata": {},
   "source": [
    "<div id=\"respostas\"></div>\n",
    "\n",
    "---\n",
    "# Respostas\n",
    "\n",
    "<a href=\"#indice\">Voltar para o índice</a>\n",
    "\n",
    "<div id=\"resposta1a\"></div>\n",
    "\n",
    "### Exercício 1a\n",
    "\n",
    "<a href=\"#ex1a\">Voltar para o Exercício 1a</a>\n",
    "\n",
    "$E(Z)=80$ e $Var(Z)=4000$\n",
    "\n",
    "<div id=\"resposta1b\"></div>\n",
    "\n",
    "### Exercício 1b\n",
    "\n",
    "<a href=\"#ex1b\">Voltar para o Exercício 1b</a>\n",
    "\n",
    "É esperado um histograma semelhante a esse:\n",
    "\n",
    "![](./ex1b.png)\n",
    "\n",
    "<div id=\"resposta2a\"></div>\n",
    "\n",
    "### Exercício 2a\n",
    "\n",
    "<a href=\"#ex2a\">Voltar para o Exercício 2a</a>\n",
    "\n",
    "$E(X+Y)=250$, $Var(X+Y)=2500$. Para o formato, considerar a \"Propriedade reprodutiva da normal\".\n",
    "\n",
    "<div id=\"resposta2b\"></div>\n",
    "\n",
    "### Exercício 2b\n",
    "\n",
    "<a href=\"#ex2b\">Voltar para o Exercício 2b</a>\n",
    "\n",
    "É esperado um histograma semelhante a esse:\n",
    "\n",
    "![](./ex2b.png)\n",
    "\n",
    "<div id=\"resposta3\"></div>\n",
    "\n",
    "### Exercício 3\n",
    "\n",
    "<a href=\"#ex3\">Voltar para o Exercício 3</a>\n",
    "\n",
    "$E(Z) = 45$\n",
    "\n",
    "$V(Z) = 61$\n",
    "\n",
    "#### A partir dos dados\n",
    "\n",
    "Médias: m(X) = 20.121265998974028, m(Y) = 24.93049213973364, m(Z) = 45.051758138707584\n",
    "\n",
    "Variâncias: v(X) = 22.19198031318174, v(Y) = 16.902487155078422, v(Z) = 58.97928363410342\n",
    "\n",
    "Covariância: cov(X,Y) = 9.94240808292163\n",
    "\n",
    "<div id=\"resposta4\"></div>\n",
    "\n",
    "### Exercício 4\n",
    "\n",
    "<a href=\"#ex4\">Voltar para o Exercício 4</a>\n",
    "\n",
    "Atual: E(T) = 10 e DP(T) = 14.142135623730951\n",
    "\n",
    "Novo: E(T) = 10 e DP(T) = 20\n",
    "\n",
    "<div id=\"resposta5\"></div>\n",
    "\n",
    "### Exercício 5\n",
    "\n",
    "<a href=\"#ex5\">Voltar para o Exercício 5</a>\n",
    "\n",
    "a) 0.0602951032363964 (dica: $Cov(X,Y)=DP(X)\\times DP(Y)\\times Corr(X,Y)$)\n",
    "\n",
    "b) 0.001784963611592305 (dica: $X-Y$ inverte o sinal da correlação de $X$ e $Y$)\n",
    "\n",
    "<div id=\"resposta6\"></div>\n",
    "\n",
    "### Exercício 6\n",
    "\n",
    "<a href=\"#ex6\">Voltar para o Exercício 6</a>\n",
    "\n",
    "a) 15.837957103342362\n",
    "\n",
    "b) Esperança:  115.38461538461539, Variância:  191.7159763313609"
   ]
  }
 ],
 "metadata": {
  "kernelspec": {
   "display_name": "Python 3",
   "language": "python",
   "name": "python3"
  },
  "language_info": {
   "codemirror_mode": {
    "name": "ipython",
    "version": 3
   },
   "file_extension": ".py",
   "mimetype": "text/x-python",
   "name": "python",
   "nbconvert_exporter": "python",
   "pygments_lexer": "ipython3",
   "version": "3.11.5"
  }
 },
 "nbformat": 4,
 "nbformat_minor": 4
}
