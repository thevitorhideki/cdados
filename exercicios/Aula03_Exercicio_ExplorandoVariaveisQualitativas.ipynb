{
 "cells": [
  {
   "cell_type": "markdown",
   "metadata": {},
   "source": [
    "___\n",
    "# Exercício: <p> <center>Análise Exploratória de Dados - Variáveis Qualitativas\n",
    "___\n",
    "\n",
    "## Aula 03\n"
   ]
  },
  {
   "cell_type": "markdown",
   "metadata": {},
   "source": [
    "___\n",
    "<div id=\"indice\"></div>\n",
    "\n",
    "## Índice\n",
    "\n",
    "- [Empresa de TV](#empresa-de-tv)\n",
    "    - [Tipos de variáveis](#tipos-de-variaveis)\n",
    "    - [Exercício 1](#exe1)\n",
    "    - [Exercício 2](#exe2)\n",
    "    - [Exercício 3](#exe3)\n",
    "\n",
    "\n",
    "- [Barras de chocolate](#chocolate)\n",
    "    - [Exercício 4](#exe4)\n",
    "    - [Exercício 5](#exe5)\n",
    "    - [Exercício 6](#exe6)\n"
   ]
  },
  {
   "cell_type": "code",
   "execution_count": 2,
   "metadata": {},
   "outputs": [],
   "source": [
    "# %matplotlib inline\n",
    "import math\n",
    "from math import sqrt\n",
    "\n",
    "import os\n",
    "import matplotlib.pyplot as plt\n",
    "import numpy as np\n",
    "from numpy import arange\n",
    "import pandas as pd\n",
    "\n",
    "from IPython.display import display  # Para ter melhor print.\n",
    "\n",
    "# Pode trazer mais bibliotecas, caso julgue interessante!!"
   ]
  },
  {
   "cell_type": "code",
   "execution_count": 3,
   "metadata": {},
   "outputs": [
    {
     "name": "stdout",
     "output_type": "stream",
     "text": [
      "Esperamos trabalhar no diretório\n",
      "/home/vitorhideki/www/python/cdados/exercicios\n"
     ]
    }
   ],
   "source": [
    "# Listando o diretório de trabalho. Lembre-se que o arquivo com a base de dados precisa estar neste diretório.\n",
    "print('Esperamos trabalhar no diretório')\n",
    "print(os.getcwd())"
   ]
  },
  {
   "cell_type": "markdown",
   "metadata": {},
   "source": [
    "[Volta ao Índice](#indice)"
   ]
  },
  {
   "cell_type": "markdown",
   "metadata": {},
   "source": [
    "___\n",
    "<div id=\"empresa-de-tv\"></div>\n",
    "\n",
    "# Empresa de TV\n",
    "\n",
    "<img src=\"empresaTV.jpg\" height=\"400\">\n",
    "\n",
    "Fonte: extraído da internet"
   ]
  },
  {
   "cell_type": "markdown",
   "metadata": {},
   "source": [
    "Uma empresa de TV via satélite criou recentemente dois tipos de planos de canais (A e B).\n",
    "\n",
    "A empresa tem como objetivo estudar o perfil dos clientes que aderiram ao plano para enviar malas diretas aos potenciais clientes de cada tipo de plano.\n",
    "\n",
    "A base de dados apresenta algumas variáveis para uma amostra de 82 clientes selecionados aleatoriamente dentre aqueles que aderiram aos planos. As variáveis têm os seguintes significados:\n",
    "\n",
    "* CLIENTE: identificador do cliente.\n",
    "* PLANO: apresenta o plano adquirido pelo cliente – (1=A ou 2=B). \n",
    "* EC: apresenta estado civil do cliente no momento da adesão ao  plano – (1=Casado, 2=Solteiro e 3=Outros).\n",
    "* SATISFACAO: grau de satisfação do cliente pelo plano – \n",
    "\t(Muito insatisfeito, Insatisfeito, Indiferente, Satisfeito e Muito satisfeito).\n",
    "* RENDA: renda pessoal do cliente, em milhares de reais.\n",
    "\n",
    "O arquivo `EmpresaTV_Cod.xlsx` contém as variáveis descritas acima."
   ]
  },
  {
   "cell_type": "code",
   "execution_count": 4,
   "metadata": {},
   "outputs": [],
   "source": [
    "# Carregando os dados do arquivo\n",
    "dados = pd.read_excel('EmpresaTV_Cod.xlsx')"
   ]
  },
  {
   "cell_type": "code",
   "execution_count": 5,
   "metadata": {},
   "outputs": [],
   "source": [
    "dados['PLANO'] = dados['PLANO'].astype('category')\n",
    "dados['EC'] = dados['EC'].astype('category')\n",
    "dados['SATISFACAO'] = dados['SATISFACAO'].astype('category')"
   ]
  },
  {
   "cell_type": "code",
   "execution_count": 6,
   "metadata": {},
   "outputs": [],
   "source": [
    "dados['PLANO'] = dados['PLANO'].cat.rename_categories(['A', 'B'])\n",
    "dados['EC'] = dados['EC'].cat.rename_categories(['Casado', 'Solteiro', 'Outros'])\n",
    "dados['SATISFACAO'] = pd.Categorical(dados.SATISFACAO, \n",
    "                                     categories = ['Muito Insatisfeito', 'Insatisfeito', 'Indiferente', \n",
    "                                                   'Satisfeito', 'Muito Satisfeito'], \n",
    "                                     ordered=True)"
   ]
  },
  {
   "cell_type": "code",
   "execution_count": 7,
   "metadata": {
    "scrolled": true
   },
   "outputs": [
    {
     "data": {
      "text/html": [
       "<div>\n",
       "<style scoped>\n",
       "    .dataframe tbody tr th:only-of-type {\n",
       "        vertical-align: middle;\n",
       "    }\n",
       "\n",
       "    .dataframe tbody tr th {\n",
       "        vertical-align: top;\n",
       "    }\n",
       "\n",
       "    .dataframe thead th {\n",
       "        text-align: right;\n",
       "    }\n",
       "</style>\n",
       "<table border=\"1\" class=\"dataframe\">\n",
       "  <thead>\n",
       "    <tr style=\"text-align: right;\">\n",
       "      <th></th>\n",
       "      <th>CLIENTE</th>\n",
       "      <th>PLANO</th>\n",
       "      <th>EC</th>\n",
       "      <th>SATISFACAO</th>\n",
       "      <th>RENDA</th>\n",
       "    </tr>\n",
       "  </thead>\n",
       "  <tbody>\n",
       "    <tr>\n",
       "      <th>0</th>\n",
       "      <td>1</td>\n",
       "      <td>A</td>\n",
       "      <td>Casado</td>\n",
       "      <td>Muito Satisfeito</td>\n",
       "      <td>21.4</td>\n",
       "    </tr>\n",
       "    <tr>\n",
       "      <th>1</th>\n",
       "      <td>2</td>\n",
       "      <td>A</td>\n",
       "      <td>Solteiro</td>\n",
       "      <td>Muito Satisfeito</td>\n",
       "      <td>17.2</td>\n",
       "    </tr>\n",
       "    <tr>\n",
       "      <th>2</th>\n",
       "      <td>3</td>\n",
       "      <td>A</td>\n",
       "      <td>Outros</td>\n",
       "      <td>Muito Satisfeito</td>\n",
       "      <td>15.6</td>\n",
       "    </tr>\n",
       "    <tr>\n",
       "      <th>3</th>\n",
       "      <td>4</td>\n",
       "      <td>A</td>\n",
       "      <td>Casado</td>\n",
       "      <td>Satisfeito</td>\n",
       "      <td>10.4</td>\n",
       "    </tr>\n",
       "    <tr>\n",
       "      <th>4</th>\n",
       "      <td>5</td>\n",
       "      <td>A</td>\n",
       "      <td>Solteiro</td>\n",
       "      <td>Muito Satisfeito</td>\n",
       "      <td>17.6</td>\n",
       "    </tr>\n",
       "  </tbody>\n",
       "</table>\n",
       "</div>"
      ],
      "text/plain": [
       "   CLIENTE PLANO        EC        SATISFACAO  RENDA\n",
       "0        1     A    Casado  Muito Satisfeito   21.4\n",
       "1        2     A  Solteiro  Muito Satisfeito   17.2\n",
       "2        3     A    Outros  Muito Satisfeito   15.6\n",
       "3        4     A    Casado        Satisfeito   10.4\n",
       "4        5     A  Solteiro  Muito Satisfeito   17.6"
      ]
     },
     "execution_count": 7,
     "metadata": {},
     "output_type": "execute_result"
    }
   ],
   "source": [
    "# Visualizando as cinco primeiras linhas\n",
    "dados.head(5)"
   ]
  },
  {
   "cell_type": "markdown",
   "metadata": {},
   "source": [
    "[Volta ao Índice](#indice)"
   ]
  },
  {
   "cell_type": "markdown",
   "metadata": {},
   "source": [
    "<div id=\"exe1\"></div>\n",
    "\n",
    "### EXERCÍCIO 1\n",
    "\n",
    "A coluna SATISFACAO está com uma granularidade muito grande para algumas análises. Crie uma coluna `SENTIMENTO` no `DataFrame` com as seguintes categorias:\n",
    "\n",
    "    Não curtiu, se SATISFACAO = Insatisfeito ou Muito Insatisfeito\n",
    "    Indiferente, se SATISFACAO = Indiferente\n",
    "    Curtiu, se SATISFACAO = Satisfeito ou Muito Satisfeito\n",
    "    \n",
    "Ainda, modifique essa nova variável `SENTIMENTO` no *dataframe* `dados` como ordinal."
   ]
  },
  {
   "cell_type": "code",
   "execution_count": 8,
   "metadata": {},
   "outputs": [],
   "source": [
    "dados['SENTIMENTO'] = dados['SATISFACAO'].cat.codes\n",
    "\n",
    "dados.loc[dados['SATISFACAO'] < 'Indiferente', 'SENTIMENTO'] = 'Não Curtiu'\n",
    "dados.loc[dados['SATISFACAO'] == 'Indiferente', 'SENTIMENTO'] = 'Indiferente'\n",
    "dados.loc[dados['SATISFACAO'] > 'Indiferente', 'SENTIMENTO'] = 'Curtiu'"
   ]
  },
  {
   "cell_type": "code",
   "execution_count": 9,
   "metadata": {},
   "outputs": [
    {
     "data": {
      "text/html": [
       "<div>\n",
       "<style scoped>\n",
       "    .dataframe tbody tr th:only-of-type {\n",
       "        vertical-align: middle;\n",
       "    }\n",
       "\n",
       "    .dataframe tbody tr th {\n",
       "        vertical-align: top;\n",
       "    }\n",
       "\n",
       "    .dataframe thead th {\n",
       "        text-align: right;\n",
       "    }\n",
       "</style>\n",
       "<table border=\"1\" class=\"dataframe\">\n",
       "  <thead>\n",
       "    <tr style=\"text-align: right;\">\n",
       "      <th></th>\n",
       "      <th>CLIENTE</th>\n",
       "      <th>PLANO</th>\n",
       "      <th>EC</th>\n",
       "      <th>SATISFACAO</th>\n",
       "      <th>RENDA</th>\n",
       "      <th>SENTIMENTO</th>\n",
       "    </tr>\n",
       "  </thead>\n",
       "  <tbody>\n",
       "    <tr>\n",
       "      <th>0</th>\n",
       "      <td>1</td>\n",
       "      <td>A</td>\n",
       "      <td>Casado</td>\n",
       "      <td>Muito Satisfeito</td>\n",
       "      <td>21.4</td>\n",
       "      <td>Curtiu</td>\n",
       "    </tr>\n",
       "    <tr>\n",
       "      <th>1</th>\n",
       "      <td>2</td>\n",
       "      <td>A</td>\n",
       "      <td>Solteiro</td>\n",
       "      <td>Muito Satisfeito</td>\n",
       "      <td>17.2</td>\n",
       "      <td>Curtiu</td>\n",
       "    </tr>\n",
       "    <tr>\n",
       "      <th>2</th>\n",
       "      <td>3</td>\n",
       "      <td>A</td>\n",
       "      <td>Outros</td>\n",
       "      <td>Muito Satisfeito</td>\n",
       "      <td>15.6</td>\n",
       "      <td>Curtiu</td>\n",
       "    </tr>\n",
       "    <tr>\n",
       "      <th>3</th>\n",
       "      <td>4</td>\n",
       "      <td>A</td>\n",
       "      <td>Casado</td>\n",
       "      <td>Satisfeito</td>\n",
       "      <td>10.4</td>\n",
       "      <td>Curtiu</td>\n",
       "    </tr>\n",
       "    <tr>\n",
       "      <th>4</th>\n",
       "      <td>5</td>\n",
       "      <td>A</td>\n",
       "      <td>Solteiro</td>\n",
       "      <td>Muito Satisfeito</td>\n",
       "      <td>17.6</td>\n",
       "      <td>Curtiu</td>\n",
       "    </tr>\n",
       "    <tr>\n",
       "      <th>...</th>\n",
       "      <td>...</td>\n",
       "      <td>...</td>\n",
       "      <td>...</td>\n",
       "      <td>...</td>\n",
       "      <td>...</td>\n",
       "      <td>...</td>\n",
       "    </tr>\n",
       "    <tr>\n",
       "      <th>77</th>\n",
       "      <td>78</td>\n",
       "      <td>B</td>\n",
       "      <td>Outros</td>\n",
       "      <td>Insatisfeito</td>\n",
       "      <td>4.3</td>\n",
       "      <td>Não Curtiu</td>\n",
       "    </tr>\n",
       "    <tr>\n",
       "      <th>78</th>\n",
       "      <td>79</td>\n",
       "      <td>B</td>\n",
       "      <td>Solteiro</td>\n",
       "      <td>Insatisfeito</td>\n",
       "      <td>5.7</td>\n",
       "      <td>Não Curtiu</td>\n",
       "    </tr>\n",
       "    <tr>\n",
       "      <th>79</th>\n",
       "      <td>80</td>\n",
       "      <td>B</td>\n",
       "      <td>Casado</td>\n",
       "      <td>Insatisfeito</td>\n",
       "      <td>4.0</td>\n",
       "      <td>Não Curtiu</td>\n",
       "    </tr>\n",
       "    <tr>\n",
       "      <th>80</th>\n",
       "      <td>81</td>\n",
       "      <td>B</td>\n",
       "      <td>Outros</td>\n",
       "      <td>Insatisfeito</td>\n",
       "      <td>5.4</td>\n",
       "      <td>Não Curtiu</td>\n",
       "    </tr>\n",
       "    <tr>\n",
       "      <th>81</th>\n",
       "      <td>82</td>\n",
       "      <td>B</td>\n",
       "      <td>Casado</td>\n",
       "      <td>Muito Insatisfeito</td>\n",
       "      <td>0.6</td>\n",
       "      <td>Não Curtiu</td>\n",
       "    </tr>\n",
       "  </tbody>\n",
       "</table>\n",
       "<p>82 rows × 6 columns</p>\n",
       "</div>"
      ],
      "text/plain": [
       "    CLIENTE PLANO        EC          SATISFACAO  RENDA  SENTIMENTO\n",
       "0         1     A    Casado    Muito Satisfeito   21.4      Curtiu\n",
       "1         2     A  Solteiro    Muito Satisfeito   17.2      Curtiu\n",
       "2         3     A    Outros    Muito Satisfeito   15.6      Curtiu\n",
       "3         4     A    Casado          Satisfeito   10.4      Curtiu\n",
       "4         5     A  Solteiro    Muito Satisfeito   17.6      Curtiu\n",
       "..      ...   ...       ...                 ...    ...         ...\n",
       "77       78     B    Outros        Insatisfeito    4.3  Não Curtiu\n",
       "78       79     B  Solteiro        Insatisfeito    5.7  Não Curtiu\n",
       "79       80     B    Casado        Insatisfeito    4.0  Não Curtiu\n",
       "80       81     B    Outros        Insatisfeito    5.4  Não Curtiu\n",
       "81       82     B    Casado  Muito Insatisfeito    0.6  Não Curtiu\n",
       "\n",
       "[82 rows x 6 columns]"
      ]
     },
     "execution_count": 9,
     "metadata": {},
     "output_type": "execute_result"
    }
   ],
   "source": [
    "dados['SENTIMENTO'] = pd.Categorical(dados.SENTIMENTO, categories=['Não Curtiu', 'Indiferente', 'Curtiu'], ordered=True)\n",
    "dados"
   ]
  },
  {
   "cell_type": "markdown",
   "metadata": {},
   "source": [
    "[Volta ao Índice](#indice)"
   ]
  },
  {
   "cell_type": "markdown",
   "metadata": {},
   "source": [
    "<div id=\"exe2\"></div>\n",
    "\n",
    "### EXERCÍCIO 2 &#x2605;&#x2605;&#x2605;\n",
    "\n",
    "Monte uma tabela cruzada de sentimento versus plano e estado civil. \n",
    "\n",
    "**DICA 1**: a função `pd.crosstab` pode receber uma lista de `Series` (colunas de um `DataFrame`).\n",
    "\n",
    "**DICA 2**: pesquise por \"pandas crosstab multiple columns\"."
   ]
  },
  {
   "cell_type": "code",
   "execution_count": 10,
   "metadata": {},
   "outputs": [
    {
     "data": {
      "text/html": [
       "<div>\n",
       "<style scoped>\n",
       "    .dataframe tbody tr th:only-of-type {\n",
       "        vertical-align: middle;\n",
       "    }\n",
       "\n",
       "    .dataframe tbody tr th {\n",
       "        vertical-align: top;\n",
       "    }\n",
       "\n",
       "    .dataframe thead th {\n",
       "        text-align: right;\n",
       "    }\n",
       "</style>\n",
       "<table border=\"1\" class=\"dataframe\">\n",
       "  <thead>\n",
       "    <tr style=\"text-align: right;\">\n",
       "      <th></th>\n",
       "      <th>SENTIMENTO</th>\n",
       "      <th>Não Curtiu</th>\n",
       "      <th>Indiferente</th>\n",
       "      <th>Curtiu</th>\n",
       "    </tr>\n",
       "    <tr>\n",
       "      <th>PLANO</th>\n",
       "      <th>EC</th>\n",
       "      <th></th>\n",
       "      <th></th>\n",
       "      <th></th>\n",
       "    </tr>\n",
       "  </thead>\n",
       "  <tbody>\n",
       "    <tr>\n",
       "      <th rowspan=\"3\" valign=\"top\">A</th>\n",
       "      <th>Casado</th>\n",
       "      <td>4</td>\n",
       "      <td>3</td>\n",
       "      <td>19</td>\n",
       "    </tr>\n",
       "    <tr>\n",
       "      <th>Solteiro</th>\n",
       "      <td>0</td>\n",
       "      <td>3</td>\n",
       "      <td>10</td>\n",
       "    </tr>\n",
       "    <tr>\n",
       "      <th>Outros</th>\n",
       "      <td>3</td>\n",
       "      <td>1</td>\n",
       "      <td>3</td>\n",
       "    </tr>\n",
       "    <tr>\n",
       "      <th rowspan=\"3\" valign=\"top\">B</th>\n",
       "      <th>Casado</th>\n",
       "      <td>4</td>\n",
       "      <td>2</td>\n",
       "      <td>4</td>\n",
       "    </tr>\n",
       "    <tr>\n",
       "      <th>Solteiro</th>\n",
       "      <td>8</td>\n",
       "      <td>9</td>\n",
       "      <td>3</td>\n",
       "    </tr>\n",
       "    <tr>\n",
       "      <th>Outros</th>\n",
       "      <td>5</td>\n",
       "      <td>1</td>\n",
       "      <td>0</td>\n",
       "    </tr>\n",
       "  </tbody>\n",
       "</table>\n",
       "</div>"
      ],
      "text/plain": [
       "SENTIMENTO      Não Curtiu  Indiferente  Curtiu\n",
       "PLANO EC                                       \n",
       "A     Casado             4            3      19\n",
       "      Solteiro           0            3      10\n",
       "      Outros             3            1       3\n",
       "B     Casado             4            2       4\n",
       "      Solteiro           8            9       3\n",
       "      Outros             5            1       0"
      ]
     },
     "execution_count": 10,
     "metadata": {},
     "output_type": "execute_result"
    }
   ],
   "source": [
    "pd.crosstab([dados['PLANO'], dados['EC']], dados['SENTIMENTO'])"
   ]
  },
  {
   "cell_type": "markdown",
   "metadata": {},
   "source": [
    "[Volta ao Índice](#indice)"
   ]
  },
  {
   "cell_type": "markdown",
   "metadata": {},
   "source": [
    "<div id=\"exe3\"></div>\n",
    "\n",
    "### EXERCÍCIO 3\n",
    "\n",
    "Que hipóteses você pode formular a partir dessa tabela?"
   ]
  },
  {
   "cell_type": "raw",
   "metadata": {},
   "source": [
    "Podemos crir uma hipótese que a taxa de aprovação do Plano A é maior que a do Plano B."
   ]
  },
  {
   "cell_type": "markdown",
   "metadata": {},
   "source": [
    "[Volta ao Índice](#indice)"
   ]
  },
  {
   "cell_type": "markdown",
   "metadata": {},
   "source": [
    "___\n",
    "<div id=\"chocolate\"></div>\n",
    "\n",
    "# Barras de chocolate\n",
    "\n",
    "<img src=\"barrachoco.jpg\">\n",
    "\n",
    "Fonte: extraído da internet"
   ]
  },
  {
   "cell_type": "markdown",
   "metadata": {},
   "source": [
    "O chocolate é um dos doces mais populares do mundo.\n",
    "A cada ano, os residentes dos Estados Unidos comem coletivamente mais de 1,6 bilhões de quilos de chocolate.\n",
    "No entanto, nem todas as barras de chocolate são iguais!\n",
    "\n",
    "O conjunto de dados `flavors_of_cacao.xlsx` traz avaliações de especialistas de mais de 1.700 barras de chocolate sobre as seguintes informações:\n",
    "\n",
    " * Company: empresa fabricante do chocolate\n",
    " * BeanOriginOrBarName: origem do grão ou nome da barra de cholocate\n",
    " * REF: número de referência (registro)\n",
    " * ReviewDate: ano de lançamento\n",
    " * CocoaPercent: porcentagem do cacau\n",
    " * CompanyLocation: localização da empresa fabricante\n",
    " * Rating: nota de avaliação do chocolate\n",
    " * BeanType: variedade do grão\n",
    " * BroadBeanOrigin: origem do grão\n",
    "\n",
    "Leia cada pergunta a seguir atentamente, as quais todas, sem exceção, fazem uso da base de dados em excel."
   ]
  },
  {
   "cell_type": "code",
   "execution_count": 11,
   "metadata": {},
   "outputs": [],
   "source": [
    "# Carregando os dados do arquivo\n",
    "cacao = pd.read_excel('flavors_of_cacao.xlsx')"
   ]
  },
  {
   "cell_type": "markdown",
   "metadata": {},
   "source": [
    "[Volta ao Índice](#indice)"
   ]
  },
  {
   "cell_type": "markdown",
   "metadata": {},
   "source": [
    "<div id=\"exe4\"></div>\n",
    "\n",
    "### EXERCÍCIO 4\n",
    "\n",
    "Considerando o *dataframe* `cacao`, faça:\n",
    "<ul>\n",
    " <li> i. Filtre apenas as linhas do ano 2006 em `ReviewDate` e guarde em um novo dataframe com todas as colunas. \n",
    " <li> ii. Usando esse novo dataframe, encontre as frequências relativas dos rótulos contidos na coluna `CocoaPercent`.\n",
    "</ul>\n",
    "\n",
    "De acordo com a tabela obtida no item ii acima, responda:\n",
    "<ul>\n",
    " <li> a) Valor da maior frequência relativa? (em decimal e com arredondamento na 4a casa decimal)\n",
    " <li> b) Respectiva porcentagem de cacau que possui essa maior frequência relativa?\n",
    "</ul>"
   ]
  },
  {
   "cell_type": "code",
   "execution_count": 12,
   "metadata": {},
   "outputs": [],
   "source": [
    "cacao_2006 = cacao.loc[cacao['ReviewDate'] == 2006, :]"
   ]
  },
  {
   "cell_type": "code",
   "execution_count": 17,
   "metadata": {},
   "outputs": [
    {
     "name": "stdout",
     "output_type": "stream",
     "text": [
      "30.5556%\n"
     ]
    }
   ],
   "source": [
    "maior_porcentagem = cacao_2006.CocoaPercent.value_counts(sort=False, normalize=True).max()\n",
    "print(f'{maior_porcentagem*100:.4f}%')"
   ]
  },
  {
   "cell_type": "code",
   "execution_count": 18,
   "metadata": {},
   "outputs": [
    {
     "name": "stdout",
     "output_type": "stream",
     "text": [
      "75%\n"
     ]
    }
   ],
   "source": [
    "print(\"75%\")"
   ]
  },
  {
   "cell_type": "markdown",
   "metadata": {},
   "source": [
    "[Volta ao Índice](#indice)"
   ]
  },
  {
   "cell_type": "markdown",
   "metadata": {},
   "source": [
    "<div id=\"exe5\"></div>\n",
    "\n",
    "### EXERCÍCIO 5\n",
    "\n",
    "a) Considerando o dataframe `cacao`, faça:\n",
    "<ul>\n",
    " <li> i. Filtre apenas as linhas do ano 2008 em ReviewDate e guarde em um novo dataframe com todas as colunas.\n",
    " <li> ii. Usando esse novo dataframe, ordene, em ordem decrescente, a variável Rating.\n",
    " <li> iii. Encontre os três países na variável CompanyLocation contendo o maior valor em Rating contido no ano de 2008.\n",
    " <li> iv. Guarde, em uma lista, o nome dos três países que possuem esse maior valor de Rating.\n",
    "</ul>\n",
    "\n",
    "De acordo com a lista obtida no item (a)iv acima, responda:\n",
    "\n",
    "Qual o nome desses três países (em ordem alfabética e em inglês, na maneira que está na base de dados)?\n",
    "\n",
    "<br>\n",
    "\n",
    "b) Voltando a considerar o dataframe completo `cacao`, faça:\n",
    "<ul>\n",
    " <li> i. Filtre apenas as linhas que contenham os nomes dos três países obtidos no item (a)iv e guarde em um novo dataframe com todas as colunas.\n",
    " <li> ii. Usando esse novo dataframe do item (b)i, calcule o tamanho da amostra da coluna Rating.\n",
    "\n",
    "De acordo com a lista obtida no item (b)ii acima, responda qual o tamanho da amostra."
   ]
  },
  {
   "cell_type": "code",
   "execution_count": 27,
   "metadata": {},
   "outputs": [
    {
     "data": {
      "text/plain": [
       "array(['France', 'Madagascar', 'Sao Tome'], dtype=object)"
      ]
     },
     "execution_count": 27,
     "metadata": {},
     "output_type": "execute_result"
    }
   ],
   "source": [
    "cacao_2008 = cacao.loc[cacao['ReviewDate'] == 2008, :]\n",
    "\n",
    "cacao_2008 = cacao_2008.sort_values(by='Rating', ascending=False)\n",
    "maior_rating = cacao_2008.iloc[0:3]['CompanyLocation'].values\n",
    "maior_rating"
   ]
  },
  {
   "cell_type": "code",
   "execution_count": 36,
   "metadata": {},
   "outputs": [
    {
     "data": {
      "text/plain": [
       "572.5"
      ]
     },
     "execution_count": 36,
     "metadata": {},
     "output_type": "execute_result"
    }
   ],
   "source": [
    "maiores_paises = cacao.loc[cacao['CompanyLocation'].isin(maior_rating), :]\n",
    "maiores_paises.Rating.sum()"
   ]
  },
  {
   "cell_type": "markdown",
   "metadata": {},
   "source": [
    "[Volta ao Índice](#indice)"
   ]
  },
  {
   "cell_type": "markdown",
   "metadata": {},
   "source": [
    "<div id=\"exe6\"></div>\n",
    "\n",
    "### EXERCÍCIO 6\n",
    "\n",
    "Considerando o dataframe `cacao`, faça:\n",
    "<ul>\n",
    " <li> i. Faça uma tabela cruzada com as variáveis ReviewDate e Rating.\n",
    " <li> ii. Ainda, no comando do item anterior, adicione um argumento para execução de uma tabela cruzada que permita saber:\n",
    "\n",
    "    \"Para o ano de 2012, qual o percentual de chocolates com Rating igual a 2,5?\"\n",
    "\n",
    "\n",
    "De acordo com a tabela obtida no item ii acima, responda:\n",
    "\n",
    "    Valor da frequência relativa: (em percentual e com arredondamento na 2a casa decimal)"
   ]
  },
  {
   "cell_type": "code",
   "execution_count": 49,
   "metadata": {},
   "outputs": [
    {
     "name": "stdout",
     "output_type": "stream",
     "text": [
      "1.17%\n"
     ]
    }
   ],
   "source": [
    "cruzamento = pd.crosstab(cacao['ReviewDate'], cacao['Rating'], normalize=True)*100\n",
    "print(f'{cruzamento.loc[2012, 2.5]:.2f}%')"
   ]
  },
  {
   "cell_type": "markdown",
   "metadata": {},
   "source": [
    "[Volta ao Índice](#indice)"
   ]
  }
 ],
 "metadata": {
  "kernelspec": {
   "display_name": "Python 3",
   "language": "python",
   "name": "python3"
  },
  "language_info": {
   "codemirror_mode": {
    "name": "ipython",
    "version": 3
   },
   "file_extension": ".py",
   "mimetype": "text/x-python",
   "name": "python",
   "nbconvert_exporter": "python",
   "pygments_lexer": "ipython3",
   "version": "3.11.4"
  }
 },
 "nbformat": 4,
 "nbformat_minor": 4
}
