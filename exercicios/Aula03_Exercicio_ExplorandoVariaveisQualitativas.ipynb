{
 "cells": [
  {
   "cell_type": "markdown",
   "metadata": {},
   "source": [
    "___\n",
    "# Exercício: <p> <center>Análise Exploratória de Dados - Variáveis Qualitativas\n",
    "___\n",
    "\n",
    "## Aula 03\n"
   ]
  },
  {
   "cell_type": "markdown",
   "metadata": {},
   "source": [
    "___\n",
    "<div id=\"indice\"></div>\n",
    "\n",
    "## Índice\n",
    "\n",
    "- [Empresa de TV](#empresa-de-tv)\n",
    "    - [Tipos de variáveis](#tipos-de-variaveis)\n",
    "    - [Exercício 1](#exe1)\n",
    "    - [Exercício 2](#exe2)\n",
    "    - [Exercício 3](#exe3)\n",
    "\n",
    "\n",
    "- [Barras de chocolate](#chocolate)\n",
    "    - [Exercício 4](#exe4)\n",
    "    - [Exercício 5](#exe5)\n",
    "    - [Exercício 6](#exe6)\n"
   ]
  },
  {
   "cell_type": "code",
   "execution_count": null,
   "metadata": {},
   "outputs": [],
   "source": [
    "# %matplotlib inline\n",
    "import math\n",
    "from math import sqrt\n",
    "\n",
    "import os\n",
    "import matplotlib.pyplot as plt\n",
    "import numpy as np\n",
    "from numpy import arange\n",
    "import pandas as pd\n",
    "\n",
    "from IPython.display import display  # Para ter melhor print.\n",
    "\n",
    "# Pode trazer mais bibliotecas, caso julgue interessante!!"
   ]
  },
  {
   "cell_type": "code",
   "execution_count": null,
   "metadata": {},
   "outputs": [],
   "source": [
    "# Listando o diretório de trabalho. Lembre-se que o arquivo com a base de dados precisa estar neste diretório.\n",
    "print('Esperamos trabalhar no diretório')\n",
    "print(os.getcwd())"
   ]
  },
  {
   "cell_type": "markdown",
   "metadata": {},
   "source": [
    "[Volta ao Índice](#indice)"
   ]
  },
  {
   "cell_type": "markdown",
   "metadata": {},
   "source": [
    "___\n",
    "<div id=\"empresa-de-tv\"></div>\n",
    "\n",
    "# Empresa de TV\n",
    "\n",
    "<img src=\"empresaTV.jpg\" height=\"400\">\n",
    "\n",
    "Fonte: extraído da internet"
   ]
  },
  {
   "cell_type": "markdown",
   "metadata": {},
   "source": [
    "Uma empresa de TV via satélite criou recentemente dois tipos de planos de canais (A e B).\n",
    "\n",
    "A empresa tem como objetivo estudar o perfil dos clientes que aderiram ao plano para enviar malas diretas aos potenciais clientes de cada tipo de plano.\n",
    "\n",
    "A base de dados apresenta algumas variáveis para uma amostra de 82 clientes selecionados aleatoriamente dentre aqueles que aderiram aos planos. As variáveis têm os seguintes significados:\n",
    "\n",
    "* CLIENTE: identificador do cliente.\n",
    "* PLANO: apresenta o plano adquirido pelo cliente – (1=A ou 2=B). \n",
    "* EC: apresenta estado civil do cliente no momento da adesão ao  plano – (1=Casado, 2=Solteiro e 3=Outros).\n",
    "* SATISFACAO: grau de satisfação do cliente pelo plano – \n",
    "\t(Muito insatisfeito, Insatisfeito, Indiferente, Satisfeito e Muito satisfeito).\n",
    "* RENDA: renda pessoal do cliente, em milhares de reais.\n",
    "\n",
    "O arquivo `EmpresaTV_Cod.xlsx` contém as variáveis descritas acima."
   ]
  },
  {
   "cell_type": "code",
   "execution_count": null,
   "metadata": {},
   "outputs": [],
   "source": [
    "# Carregando os dados do arquivo\n",
    "dados = pd.read_excel('EmpresaTV_Cod.xlsx')"
   ]
  },
  {
   "cell_type": "code",
   "execution_count": null,
   "metadata": {},
   "outputs": [],
   "source": [
    "dados['PLANO'] = dados['PLANO'].astype('category')\n",
    "dados['EC'] = dados['EC'].astype('category')\n",
    "dados['SATISFACAO'] = dados['SATISFACAO'].astype('category')"
   ]
  },
  {
   "cell_type": "code",
   "execution_count": null,
   "metadata": {},
   "outputs": [],
   "source": [
    "dados['PLANO'].cat.categories = ['A', 'B']\n",
    "dados['EC'].cat.categories = ['Casado', 'Solteiro', 'Outros']\n",
    "dados['SATISFACAO'] = pd.Categorical(dados.SATISFACAO, \n",
    "                                     categories = ['Muito Insatisfeito', 'Insatisfeito', 'Indiferente', \n",
    "                                                   'Satisfeito', 'Muito Satisfeito'], \n",
    "                                     ordered=True)"
   ]
  },
  {
   "cell_type": "code",
   "execution_count": null,
   "metadata": {
    "scrolled": true
   },
   "outputs": [],
   "source": [
    "# Visualizando as cinco primeiras linhas\n",
    "dados.head(5)"
   ]
  },
  {
   "cell_type": "markdown",
   "metadata": {},
   "source": [
    "[Volta ao Índice](#indice)"
   ]
  },
  {
   "cell_type": "markdown",
   "metadata": {},
   "source": [
    "<div id=\"exe1\"></div>\n",
    "\n",
    "### EXERCÍCIO 1\n",
    "\n",
    "A coluna SATISFACAO está com uma granularidade muito grande para algumas análises. Crie uma coluna `SENTIMENTO` no `DataFrame` com as seguintes categorias:\n",
    "\n",
    "    Não curtiu, se SATISFACAO = Insatisfeito ou Muito Insatisfeito\n",
    "    Indiferente, se SATISFACAO = Indiferente\n",
    "    Curtiu, se SATISFACAO = Satisfeito ou Muito Satisfeito\n",
    "    \n",
    "Ainda, modifique essa nova variável `SENTIMENTO` no *dataframe* `dados` como ordinal."
   ]
  },
  {
   "cell_type": "code",
   "execution_count": null,
   "metadata": {},
   "outputs": [],
   "source": [
    "# ESCREVA SEU CODIGO AQUI"
   ]
  },
  {
   "cell_type": "code",
   "execution_count": null,
   "metadata": {},
   "outputs": [],
   "source": []
  },
  {
   "cell_type": "markdown",
   "metadata": {},
   "source": [
    "[Volta ao Índice](#indice)"
   ]
  },
  {
   "cell_type": "markdown",
   "metadata": {},
   "source": [
    "<div id=\"exe2\"></div>\n",
    "\n",
    "### EXERCÍCIO 2 &#x2605;&#x2605;&#x2605;\n",
    "\n",
    "Monte uma tabela cruzada de sentimento versus plano e estado civil. \n",
    "\n",
    "**DICA 1**: a função `pd.crosstab` pode receber uma lista de `Series` (colunas de um `DataFrame`).\n",
    "\n",
    "**DICA 2**: pesquise por \"pandas crosstab multiple columns\"."
   ]
  },
  {
   "cell_type": "code",
   "execution_count": null,
   "metadata": {},
   "outputs": [],
   "source": [
    "# ESCREVA SEU CODIGO AQUI"
   ]
  },
  {
   "cell_type": "code",
   "execution_count": null,
   "metadata": {},
   "outputs": [],
   "source": []
  },
  {
   "cell_type": "markdown",
   "metadata": {},
   "source": [
    "[Volta ao Índice](#indice)"
   ]
  },
  {
   "cell_type": "markdown",
   "metadata": {},
   "source": [
    "<div id=\"exe3\"></div>\n",
    "\n",
    "### EXERCÍCIO 3\n",
    "\n",
    "Que hipóteses você pode formular a partir dessa tabela?"
   ]
  },
  {
   "cell_type": "raw",
   "metadata": {},
   "source": [
    "ESCREVA SUA RESPOSTA AQUI"
   ]
  },
  {
   "cell_type": "code",
   "execution_count": null,
   "metadata": {},
   "outputs": [],
   "source": []
  },
  {
   "cell_type": "markdown",
   "metadata": {},
   "source": [
    "[Volta ao Índice](#indice)"
   ]
  },
  {
   "cell_type": "markdown",
   "metadata": {},
   "source": [
    "___\n",
    "<div id=\"chocolate\"></div>\n",
    "\n",
    "# Barras de chocolate\n",
    "\n",
    "<img src=\"barrachoco.jpg\">\n",
    "\n",
    "Fonte: extraído da internet"
   ]
  },
  {
   "cell_type": "markdown",
   "metadata": {},
   "source": [
    "O chocolate é um dos doces mais populares do mundo.\n",
    "A cada ano, os residentes dos Estados Unidos comem coletivamente mais de 1,6 bilhões de quilos de chocolate.\n",
    "No entanto, nem todas as barras de chocolate são iguais!\n",
    "\n",
    "O conjunto de dados `flavors_of_cacao.xlsx` traz avaliações de especialistas de mais de 1.700 barras de chocolate sobre as seguintes informações:\n",
    "\n",
    " * Company: empresa fabricante do chocolate\n",
    " * BeanOriginOrBarName: origem do grão ou nome da barra de cholocate\n",
    " * REF: número de referência (registro)\n",
    " * ReviewDate: ano de lançamento\n",
    " * CocoaPercent: porcentagem do cacau\n",
    " * CompanyLocation: localização da empresa fabricante\n",
    " * Rating: nota de avaliação do chocolate\n",
    " * BeanType: variedade do grão\n",
    " * BroadBeanOrigin: origem do grão\n",
    "\n",
    "Leia cada pergunta a seguir atentamente, as quais todas, sem exceção, fazem uso da base de dados em excel."
   ]
  },
  {
   "cell_type": "code",
   "execution_count": null,
   "metadata": {},
   "outputs": [],
   "source": [
    "# Carregando os dados do arquivo\n",
    "cacao = pd.read_excel('flavors_of_cacao.xlsx')"
   ]
  },
  {
   "cell_type": "markdown",
   "metadata": {},
   "source": [
    "[Volta ao Índice](#indice)"
   ]
  },
  {
   "cell_type": "markdown",
   "metadata": {},
   "source": [
    "<div id=\"exe4\"></div>\n",
    "\n",
    "### EXERCÍCIO 4\n",
    "\n",
    "Considerando o *dataframe* `cacao`, faça:\n",
    "<ul>\n",
    " <li> i. Filtre apenas as linhas do ano 2006 em `ReviewDate` e guarde em um novo dataframe com todas as colunas. \n",
    " <li> ii. Usando esse novo dataframe, encontre as frequências relativas dos rótulos contidos na coluna `CocoaPercent`.\n",
    "</ul>\n",
    "\n",
    "De acordo com a tabela obtida no item ii acima, responda:\n",
    "<ul>\n",
    " <li> a) Valor da maior frequência relativa? (em decimal e com arredondamento na 4a casa decimal)\n",
    " <li> b) Respectiva porcentagem de cacau que possui essa maior frequência relativa?\n",
    "</ul>"
   ]
  },
  {
   "cell_type": "code",
   "execution_count": null,
   "metadata": {},
   "outputs": [],
   "source": [
    "# ESCREVA SEU CODIGO AQUI"
   ]
  },
  {
   "cell_type": "code",
   "execution_count": null,
   "metadata": {},
   "outputs": [],
   "source": []
  },
  {
   "cell_type": "markdown",
   "metadata": {},
   "source": [
    "[Volta ao Índice](#indice)"
   ]
  },
  {
   "cell_type": "markdown",
   "metadata": {},
   "source": [
    "<div id=\"exe5\"></div>\n",
    "\n",
    "### EXERCÍCIO 5\n",
    "\n",
    "a) Considerando o dataframe `cacao`, faça:\n",
    "<ul>\n",
    " <li> i. Filtre apenas as linhas do ano 2008 em ReviewDate e guarde em um novo dataframe com todas as colunas.\n",
    " <li> ii. Usando esse novo dataframe, ordene, em ordem decrescente, a variável Rating.\n",
    " <li> iii. Encontre os três países na variável CompanyLocation contendo o maior valor em Rating contido no ano de 2008.\n",
    " <li> iv. Guarde, em uma lista, o nome dos três países que possuem esse maior valor de Rating.\n",
    "</ul>\n",
    "\n",
    "De acordo com a lista obtida no item (a)iv acima, responda:\n",
    "\n",
    "Qual o nome desses três países (em ordem alfabética e em inglês, na maneira que está na base de dados)?\n",
    "\n",
    "<br>\n",
    "\n",
    "b) Voltando a considerar o dataframe completo `cacao`, faça:\n",
    "<ul>\n",
    " <li> i. Filtre apenas as linhas que contenham os nomes dos três países obtidos no item (a)iv e guarde em um novo dataframe com todas as colunas.\n",
    " <li> ii. Usando esse novo dataframe do item (b)i, calcule o tamanho da amostra da coluna Rating.\n",
    "\n",
    "De acordo com a lista obtida no item (b)ii acima, responda qual o tamanho da amostra."
   ]
  },
  {
   "cell_type": "code",
   "execution_count": null,
   "metadata": {},
   "outputs": [],
   "source": [
    "# ESCREVA SEU CODIGO AQUI"
   ]
  },
  {
   "cell_type": "code",
   "execution_count": null,
   "metadata": {},
   "outputs": [],
   "source": []
  },
  {
   "cell_type": "markdown",
   "metadata": {},
   "source": [
    "[Volta ao Índice](#indice)"
   ]
  },
  {
   "cell_type": "markdown",
   "metadata": {},
   "source": [
    "<div id=\"exe6\"></div>\n",
    "\n",
    "### EXERCÍCIO 6\n",
    "\n",
    "Considerando o dataframe `cacao`, faça:\n",
    "<ul>\n",
    " <li> i. Faça uma tabela cruzada com as variáveis ReviewDate e Rating.\n",
    " <li> ii. Ainda, no comando do item anterior, adicione um argumento para execução de uma tabela cruzada que permita saber:\n",
    "\n",
    "    \"Para o ano de 2012, qual o percentual de chocolates com Rating igual a 2,5?\"\n",
    "\n",
    "\n",
    "De acordo com a tabela obtida no item ii acima, responda:\n",
    "\n",
    "    Valor da frequência relativa: (em percentual e com arredondamento na 2a casa decimal)"
   ]
  },
  {
   "cell_type": "code",
   "execution_count": null,
   "metadata": {},
   "outputs": [],
   "source": [
    "# ESCREVA SEU CODIGO AQUI"
   ]
  },
  {
   "cell_type": "code",
   "execution_count": null,
   "metadata": {},
   "outputs": [],
   "source": []
  },
  {
   "cell_type": "markdown",
   "metadata": {},
   "source": [
    "[Volta ao Índice](#indice)"
   ]
  }
 ],
 "metadata": {
  "kernelspec": {
   "display_name": "Python 3",
   "language": "python",
   "name": "python3"
  },
  "language_info": {
   "codemirror_mode": {
    "name": "ipython",
    "version": 3
   },
   "file_extension": ".py",
   "mimetype": "text/x-python",
   "name": "python",
   "nbconvert_exporter": "python",
   "pygments_lexer": "ipython3",
   "version": "3.7.4"
  }
 },
 "nbformat": 4,
 "nbformat_minor": 4
}
