{
 "cells": [
  {
   "cell_type": "markdown",
   "metadata": {},
   "source": [
    "___\n",
    "# Exercício: <p> <center> Modelos probabilísticos contínuos\n",
    "___\n",
    "\n",
    "## Aula 13\n",
    "\n",
    "**Objetivo da aula:** Ao final desta aula, o aluno deve ser capaz de descrever e aplicar as distribuições de probabilidades adequadas para variáveis aleatórias contínuas considerando modelos probabilísticos contínuos já bem definidos na literatura estatística.\n"
   ]
  },
  {
   "cell_type": "markdown",
   "metadata": {},
   "source": [
    "___\n",
    "<div id=\"indice\"></div>\n",
    "\n",
    "## Índice\n",
    "\n",
    "  - [Exercício 1](#ex1)\n",
    "  - [Exercício 2](#ex2)\n",
    "  - [Exercício 3](#ex3)\n",
    "  - [Exercício 4](#ex4)\n",
    "  - [Exercício 5](#ex5) **- APS7 disponível no Blackboard**\n",
    "___"
   ]
  },
  {
   "cell_type": "code",
   "execution_count": 65,
   "metadata": {},
   "outputs": [],
   "source": [
    "from scipy import stats #importa apenas as funções de estatísticas da biblioteca SciPy.\n",
    "import numpy as np\n",
    "import matplotlib.pyplot as plt"
   ]
  },
  {
   "cell_type": "markdown",
   "metadata": {},
   "source": [
    "<div id=\"ex1\"></div>\n",
    "\n",
    "### EXERCÍCIO 1\n",
    "\n",
    "Para X ~ N(90, 100), calcular:\n",
    "\n",
    "a) $P(X \\leq 115)$\n",
    "\n",
    "b) $P(X \\geq 80 | X < 100)$\n",
    "\n",
    "c) O número $c$ tal que $P(X < c) = 0,975$\n",
    "\n",
    "d) O número $d$ tal que $P(X > d) = 0,95$\n",
    "\n",
    "e) O valor de $e$ tal que $P(90 - e \\leq X \\leq 90 + e) = 0,99$\n",
    "\n",
    "*Respostas esperadas: (a)0.9937903346742238  (b)0.8114265826549397  (c)109.59963984540053 (d)73.55146373048528 (e)25.758293035489004*\n"
   ]
  },
  {
   "cell_type": "code",
   "execution_count": 66,
   "metadata": {},
   "outputs": [],
   "source": [
    "media = 90\n",
    "var = 100\n",
    "dp = var ** 0.5"
   ]
  },
  {
   "cell_type": "code",
   "execution_count": 67,
   "metadata": {},
   "outputs": [
    {
     "data": {
      "text/plain": [
       "0.9937903346742238"
      ]
     },
     "execution_count": 67,
     "metadata": {},
     "output_type": "execute_result"
    }
   ],
   "source": [
    "# item a)\n",
    "stats.norm.cdf(115, media, dp)"
   ]
  },
  {
   "cell_type": "code",
   "execution_count": 68,
   "metadata": {},
   "outputs": [
    {
     "data": {
      "text/plain": [
       "0.8114265826549397"
      ]
     },
     "execution_count": 68,
     "metadata": {},
     "output_type": "execute_result"
    }
   ],
   "source": [
    "# item b)\n",
    "1 - stats.norm.cdf(80, media, dp) / stats.norm.cdf(100, media, dp)"
   ]
  },
  {
   "cell_type": "code",
   "execution_count": 69,
   "metadata": {},
   "outputs": [
    {
     "data": {
      "text/plain": [
       "109.59963984540053"
      ]
     },
     "execution_count": 69,
     "metadata": {},
     "output_type": "execute_result"
    }
   ],
   "source": [
    "# item c)\n",
    "stats.norm.ppf(0.975, media, dp)"
   ]
  },
  {
   "cell_type": "code",
   "execution_count": 70,
   "metadata": {},
   "outputs": [
    {
     "data": {
      "text/plain": [
       "73.55146373048528"
      ]
     },
     "execution_count": 70,
     "metadata": {},
     "output_type": "execute_result"
    }
   ],
   "source": [
    "# item d)\n",
    "stats.norm.ppf(1 - 0.95, media, dp)"
   ]
  },
  {
   "cell_type": "code",
   "execution_count": 71,
   "metadata": {},
   "outputs": [
    {
     "data": {
      "text/plain": [
       "25.758293035489004"
      ]
     },
     "execution_count": 71,
     "metadata": {},
     "output_type": "execute_result"
    }
   ],
   "source": [
    "# item e)\n",
    "stats.norm.interval(0.99, media, dp)[1] - 90"
   ]
  },
  {
   "cell_type": "markdown",
   "metadata": {},
   "source": [
    "[Voltar ao Índice](#indice)"
   ]
  },
  {
   "cell_type": "markdown",
   "metadata": {},
   "source": [
    "<div id=\"ex2\"></div>\n",
    "\n",
    "### EXERCÍCIO 2\n",
    "\n",
    "As notas no quiz final de Ciência dos Dados distribuem-se segundo uma variável aleatória normal com média 6,5 e desvio padrão 1,6. O professor deseja dividir a classe em 3 categorias, da seguinte forma: os 30% que tiveram as maiores notas serão aprovados, os 50% com notas intermediárias ficarão de exame e os 20% que tiveram as menores notas serão reprovados. \n",
    "\n",
    "a) Quais os limites de nota entre cada uma das categorias?\n",
    "\n",
    "b) Caso a nota para aprovação (sem ir para exame) fosse igual a 7,0 e uma turma tivesse 50 alunos, quantos desses seriam aprovados sem ir para o exame? \n",
    "\n",
    "*Respostas esperadas: (a)5.153406026283337 e 7.339040820332865    (b)19*"
   ]
  },
  {
   "cell_type": "code",
   "execution_count": 72,
   "metadata": {},
   "outputs": [
    {
     "name": "stdout",
     "output_type": "stream",
     "text": [
      "5.153406026283337\n",
      "7.339040820332865\n"
     ]
    }
   ],
   "source": [
    "media_quiz = 6.5\n",
    "dp_quiz = 1.6\n",
    "\n",
    "print(stats.norm.ppf(0.2, loc=media_quiz, scale=dp_quiz))\n",
    "print(stats.norm.ppf(0.7, loc=media_quiz, scale=dp_quiz))"
   ]
  },
  {
   "cell_type": "code",
   "execution_count": 73,
   "metadata": {},
   "outputs": [
    {
     "data": {
      "text/plain": [
       "18.866514076492148"
      ]
     },
     "execution_count": 73,
     "metadata": {},
     "output_type": "execute_result"
    }
   ],
   "source": [
    "(1-stats.norm.cdf(7, loc=media_quiz, scale=dp_quiz)) * 50"
   ]
  },
  {
   "cell_type": "markdown",
   "metadata": {},
   "source": [
    "[Voltar ao Índice](#indice)"
   ]
  },
  {
   "cell_type": "markdown",
   "metadata": {},
   "source": [
    "<div id=\"ex3\"></div>\n",
    "\n",
    "### EXERCÍCIO 3\n",
    "\n",
    "Um determinado calçado é vendido em lojas populares e em lojas sofisticadas. De todas as lojas, 70%  são populares e 30%  são sofisticadas. Nas lojas populares seu preço segue uma distribuição normal com média 80 e desvio-padrão 12. Já em lojas sofisticadas, o preço também segue uma distribuição normal de média 160 e desvio-padrão 30. \n",
    "\n",
    "a) Determine maior preço considerando os 25% menores valores na distribuição de preços de uma loja popular.\n",
    "\n",
    "b) Gastou-se mais de $100,00 para comprar o calçado. Qual é a probabilidade da compra ter sido feita numa loja popular?\n",
    "\n",
    "*Respostas esperadas: (a)71.90612299764702    (b)0.10241995600307374*"
   ]
  },
  {
   "cell_type": "code",
   "execution_count": 74,
   "metadata": {},
   "outputs": [],
   "source": [
    "media_popular = 80\n",
    "dp_popular = 12\n",
    "media_sofisticada = 160\n",
    "dp_sofisticada = 30"
   ]
  },
  {
   "cell_type": "code",
   "execution_count": 75,
   "metadata": {},
   "outputs": [
    {
     "data": {
      "text/plain": [
       "71.90612299764702"
      ]
     },
     "execution_count": 75,
     "metadata": {},
     "output_type": "execute_result"
    }
   ],
   "source": [
    "stats.norm.ppf(0.25, loc=media_popular, scale=dp_popular)"
   ]
  },
  {
   "cell_type": "code",
   "execution_count": 76,
   "metadata": {},
   "outputs": [
    {
     "data": {
      "text/plain": [
       "0.10241995600307374"
      ]
     },
     "execution_count": 76,
     "metadata": {},
     "output_type": "execute_result"
    }
   ],
   "source": [
    "# P(Popular | X > 100)\n",
    "\n",
    "((1 - stats.norm.cdf(100, loc=media_popular, scale=dp_popular)) * 0.7) / ((1 - stats.norm.cdf(100, loc=media_popular, scale=dp_popular)) * 0.7 + (1 - stats.norm.cdf(100, loc=media_sofisticada, scale=dp_sofisticada)) * 0.3) "
   ]
  },
  {
   "cell_type": "markdown",
   "metadata": {},
   "source": [
    "[Voltar ao Índice](#indice)"
   ]
  },
  {
   "cell_type": "markdown",
   "metadata": {},
   "source": [
    "<div id=\"ex4\"></div>\n",
    "\n",
    "### EXERCÍCIO 4\n",
    "\n",
    "Em um processo industrial, o diâmetro de um rolamento é uma parte importante do processo.\n",
    "\n",
    "Sabe-se que a probabilidade de um rolamento ter diâmetro maior do 2,98 cm é de 80%. \n",
    "\n",
    "Sabe-se, também que a probabilidade de que um rolamento tenha diâmetro abaixo de 2,97 cm é de 10%. \n",
    "\n",
    "a) Admitindo que o diâmetro de um rolamento segue uma distribuição normal, determine a média e o desvio-padrão dos diâmetros dos rolamentos que saem da linha de produção.\n",
    "\n",
    "b) Determine a especificação que represente a maior distância da média, para mais ou para menos, contendo 95% dos rolamentos produzidos. \n",
    "\n",
    "*Respostas esperadas: (a) mu=2.9991307844085426 sigma=0.022730871852326348   (b)0.04455169016775473*"
   ]
  },
  {
   "cell_type": "code",
   "execution_count": 77,
   "metadata": {},
   "outputs": [
    {
     "data": {
      "text/plain": [
       "-0.07858100948094604"
      ]
     },
     "execution_count": 77,
     "metadata": {},
     "output_type": "execute_result"
    }
   ],
   "source": [
    "z1 = stats.norm.ppf(0.2)\n",
    "z2 = stats.norm.ppf(0.1)\n",
    "(1 - (z1*z2))"
   ]
  },
  {
   "cell_type": "code",
   "execution_count": 78,
   "metadata": {},
   "outputs": [
    {
     "data": {
      "text/plain": [
       "2.842742790324873"
      ]
     },
     "execution_count": 78,
     "metadata": {},
     "output_type": "execute_result"
    }
   ],
   "source": [
    "# z1 = (2.98 - media) / dp\n",
    "# z2 = (2.97 - media) / dp\n",
    "\n",
    "# z1 = (2.98 - media) / z2 * (2.97 - media)\n",
    "# z1 * (z2 * (2.97 - media)) = (2.98 - media)\n",
    "# z1 * (2.97*z2 - z2*media) = 2.98 - media\n",
    "# 2.97*z2*z1 - z1*z2*media = 2.98 - media\n",
    "media = (2.98 - (2.97*z1*z2)) / (1 - (z1*z2))\n",
    "media"
   ]
  },
  {
   "cell_type": "code",
   "execution_count": null,
   "metadata": {},
   "outputs": [],
   "source": []
  },
  {
   "cell_type": "markdown",
   "metadata": {},
   "source": [
    "[Voltar ao Índice](#indice)"
   ]
  },
  {
   "cell_type": "markdown",
   "metadata": {},
   "source": [
    "___\n",
    "<div id=\"ex5\"></div>\n",
    "\n",
    "### EXERCÍCIO 5 - Modelagem do Tempo para resolver uma prova de MatVar\n",
    "\n",
    "Um grupo de alunos de cada uma das três turmas que cursam Ciência dos Dados estava discutindo com intuito de modelar o tempo, em horas, que um aluno irá levar para fazer uma prova de Matemática da Variação. \n",
    "\n",
    "Após cada grupo de alunos chegar a um consenso, foi escolhido um modelo probabilístico contínuo diferente para cada turma A, B e C. Dessa forma, os três modelos foram escolhidos com intuito de descrever o comportamento da variável X: tempo, em horas, que um aluno irá levar para entregar uma prova de Matemática da Variação. Lembrando que um aluno tem até duas horas para fazê-la.\n",
    "\n",
    "Esses três modelos são dados por:\n",
    "\n",
    "> * **Turma A:** $X_A$ segue o seguinte modelo:\n",
    "    $ f(x) = \\left\\{ \\begin{array}{ll}\\\\\n",
    "                +0.4-0.8x & \\rm{se }\\hspace{2mm} 0<x<0.5 \\\\\n",
    "                -0.4+0.8x & \\rm{se }\\hspace{2mm} 0.5\\leq x\\leq2 \\\\\n",
    "                0 & \\rm{caso}\\hspace{2mm}\\rm{contrário} \n",
    "             \\end{array} \\right.$\n",
    "\n",
    "> * **Turma B:** $X_B\\sim Normal(1; 0.3^2)$, ou seja, $\\mu=1$ e $\\sigma=0.3$.\n",
    "\n",
    "> * **Turma C:** $X_C\\sim Uniforme(0; 2)$, ou seja, $a=0$ e $b=2$.\n",
    "\n",
    "\n"
   ]
  },
  {
   "cell_type": "markdown",
   "metadata": {},
   "source": [
    "Admitindo que os alunos façam suas provas de forma independente uns dos outros, responda:\n",
    "\t\n",
    "a) Estudando o comportamento da função densidade de probabilidade de cada modelo probabilístico, qual você entende ser o mais adequado para descrever o comportamento da variável X? E qual você entende ser o menos adequado? Justifique suas respostas após estudar o comportamento das fdp’s escolhidas por cada turma. *Nota: a fdp da turma A tem que ser construída usando a f(x) dada e, as demais, usando a função `pdf` do `scipy.stats`.\n",
    "\n",
    "b) Qual a probabilidade de um aluno da turma B demorar mais do que 1 hora e meia para entregar a prova de Matemática da Variação? E na da turma C? \n",
    "\n",
    "c)\tAtualmente, 34% dos alunos estão na turma A, 34% na B e 32% na C. Qual a probabilidade de um aluno qualquer (ou seja, um aluno de qualquer uma dessas três turmas) demorar mais do que uma hora e meia para entregar a prova final dessa disciplina?\n",
    "\n",
    "d) Qual o menor tempo de entrega da prova dentre os últimos 20% de alunos que entregam na sala da turma B? E na da turma C? Interprete os resultados.\n"
   ]
  },
  {
   "cell_type": "code",
   "execution_count": 84,
   "metadata": {},
   "outputs": [
    {
     "data": {
      "image/png": "[encoded data removed]",
      "text/plain": [
       "<Figure size 1800x500 with 3 Axes>"
      ]
     },
     "metadata": {},
     "output_type": "display_data"
    }
   ],
   "source": [
    "def turmaA(x):\n",
    "    if 0 < x < 0.5:\n",
    "        return 0.4 - 0.8 * x\n",
    "    elif 0.5 <= x <= 2:\n",
    "        return -0.4 + 0.8 * x\n",
    "    return 0\n",
    "\n",
    "x = np.linspace(0, 2, 1000)\n",
    "fa = [turmaA(val) for val in x]\n",
    "fb = stats.norm.pdf(x, loc=1, scale=0.3)\n",
    "fc = stats.uniform.pdf(x, loc=0, scale=2)\n",
    "\n",
    "plt.figure(figsize=(18, 5))\n",
    "plt.subplot(131)\n",
    "plt.plot(x, fa)\n",
    "plt.subplot(132)\n",
    "plt.plot(x, fb)\n",
    "plt.subplot(133)\n",
    "plt.plot(x, fc)\n",
    "plt.show()"
   ]
  },
  {
   "cell_type": "code",
   "execution_count": 85,
   "metadata": {},
   "outputs": [
    {
     "name": "stdout",
     "output_type": "stream",
     "text": [
      "0.047790352272814696\n",
      "0.25\n"
     ]
    }
   ],
   "source": [
    "print(1 - stats.norm.cdf(1.5, loc=1, scale=0.3))\n",
    "print(1 - stats.uniform.cdf(1.5, loc=0, scale=2))"
   ]
  },
  {
   "cell_type": "code",
   "execution_count": 88,
   "metadata": {},
   "outputs": [
    {
     "data": {
      "text/plain": [
       "0.26632"
      ]
     },
     "execution_count": 88,
     "metadata": {},
     "output_type": "execute_result"
    }
   ],
   "source": [
    "0.5000 * 0.34 + 0.048 * 0.34 + 0.2500 * 0.32"
   ]
  },
  {
   "cell_type": "code",
   "execution_count": 92,
   "metadata": {},
   "outputs": [
    {
     "name": "stdout",
     "output_type": "stream",
     "text": [
      "1.2524863700718742\n",
      "1.6\n"
     ]
    }
   ],
   "source": [
    "print(stats.norm.ppf(0.8, loc=1, scale=0.3))\n",
    "print(stats.uniform.ppf(0.8, loc=0, scale=2))"
   ]
  },
  {
   "cell_type": "markdown",
   "metadata": {},
   "source": [
    "[Voltar ao Índice](#indice)"
   ]
  }
 ],
 "metadata": {
  "anaconda-cloud": {},
  "kernelspec": {
   "display_name": "Python 3",
   "language": "python",
   "name": "python3"
  },
  "language_info": {
   "codemirror_mode": {
    "name": "ipython",
    "version": 3
   },
   "file_extension": ".py",
   "mimetype": "text/x-python",
   "name": "python",
   "nbconvert_exporter": "python",
   "pygments_lexer": "ipython3",
   "version": "3.11.5"
  }
 },
 "nbformat": 4,
 "nbformat_minor": 1
}
