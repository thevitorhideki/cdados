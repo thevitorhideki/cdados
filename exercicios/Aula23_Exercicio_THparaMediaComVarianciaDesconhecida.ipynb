{
 "cells": [
  {
   "cell_type": "markdown",
   "metadata": {},
   "source": [
    "___\n",
    "# Exercício: <p> <center> Teste de hipóteses para média populacional \n",
    "___\n",
    "\n",
    "## Aula 23"
   ]
  },
  {
   "cell_type": "markdown",
   "metadata": {},
   "source": [
    "<div id=\"indice\"></div>\n",
    "\n",
    "## Índice\n",
    "\n",
    "- [Exercício 1](#ex1)\n",
    "- [Exercício 2](#ex2)\n",
    "- [Exercício 3](#ex3) **- APS10 disponível no Blackboard**\n",
    "- [Exercício 4](#ex4) **- APS10 disponível no Blackboard**\n",
    "\n",
    "___"
   ]
  },
  {
   "cell_type": "code",
   "execution_count": 2,
   "metadata": {},
   "outputs": [],
   "source": [
    "import scipy.stats as stats\n",
    "from scipy.stats import t, norm, probplot\n",
    "import numpy as np\n",
    "import pandas as pd\n",
    "import matplotlib.pyplot as plt\n",
    "from math import sqrt"
   ]
  },
  {
   "cell_type": "markdown",
   "metadata": {},
   "source": [
    "___\n",
    "\n",
    "<div id=\"ex1\"></div>\n",
    "\n",
    "### EXERCÍCIO 1\n",
    "\n",
    "O índice de poluição no município de Curitiba segue uma distribuição normal com média e variância desconhecidas. O departamento ambiental deseja estimar o índice médio de poluição no município. Para isso, ele medirá a poluição em uma amostra de dias escolhidos aleatoriamente.\n",
    "\n",
    "Pretende-se extrair, em Curitiba, uma amostra aleatória de 16 dias. Em uma cidade com características similares, verificou-se que o índice médio de poluição é de 90 u.m.. \n",
    "\n",
    "a) Construa uma regra de decisão (via região crítica) para concluir se Curitiba é ou não mais poluída do que a outra cidade. Adote um nível de significância de 10%. \n",
    "\n",
    "b) Interprete os erros do tipo I e II relacionados ao teste acima, em termos do problema em questão. \n",
    "\n",
    "c) Extraída uma amostra aleatória de 16 dias verificou-se, em Curitiba, um índice médio amostral de poluição de 95 u.m., com desvio padrão amostral igual a 10 u.m.. Conclua o T.H. por meio da construção da R.C. e por meio do valor-p.\n",
    "\n",
    "d) Descreva as suposições necessárias para as conclusões acima serem confiáveis.\n",
    "\n",
    "e) Um técnico resolveu medir a poluição em 16 dias consecutivos. A amostra obtida satisfaz as suposições necessárias para a realização do teste? Por quê?\n",
    "\n",
    "*Valores de referência para as respostas: t_obs= 2.0, RC={t_obs> 1.3406056078504547} e Valor-p=0.03197250364236004*"
   ]
  },
  {
   "cell_type": "markdown",
   "metadata": {},
   "source": [
    "$H_0: \\mu \\leq 90$\n",
    "\n",
    "$H_A: \\mu > 90$"
   ]
  },
  {
   "cell_type": "code",
   "execution_count": 8,
   "metadata": {},
   "outputs": [
    {
     "data": {
      "text/plain": [
       "(2.0, 1.3406056078504547, 0.03197250364236004)"
      ]
     },
     "execution_count": 8,
     "metadata": {},
     "output_type": "execute_result"
    }
   ],
   "source": [
    "n = 16\n",
    "media = 90\n",
    "media_amostral = 95\n",
    "dp_amostral = 10\n",
    "\n",
    "t_obs = (media_amostral - media) / (dp_amostral / n ** 0.5)\n",
    "t_crit = stats.t.ppf(1-0.1, n-1)\n",
    "valor_p = 1 - stats.t.cdf(t_obs, df=n-1)\n",
    "\n",
    "t_obs, t_crit, valor_p"
   ]
  },
  {
   "cell_type": "markdown",
   "metadata": {},
   "source": [
    "* Como t_obs é maior que o t_crit, temos evidências para rejeitar H0\n",
    "* Outra evidência para rejeitar o H0 é de que o valor-p é menor que o nível de significância"
   ]
  },
  {
   "cell_type": "markdown",
   "metadata": {},
   "source": [
    "* Não, pois a amostra não foi escolhida aleatoriamente"
   ]
  },
  {
   "cell_type": "markdown",
   "metadata": {},
   "source": [
    "___\n",
    "\n",
    "<div id=\"ex2\"></div>\n",
    "\n",
    "### EXERCÍCIO 2\n",
    "\n",
    "Em 2012, antes dos supermercados deixarem de distribuir sacolas plásticas gratuitamente para os consumidores, o consumo mensal de sacolas plásticas na cidade de São Paulo por adulto era, em média, de 25 sacolas plásticas. \n",
    "\n",
    "No mesmo ano, os estabelecimentos passaram a cobrar pelo uso das mesmas e depois voltaram atrás. Alguns anos se passaram e uma ONG da área de sustentabilidade deseja avaliar se essas idas e vindas deixaram o consumidor um pouco mais consciente com o meio ambiente. \n",
    "\n",
    "Para avaliar se consumo está mais consciente, verifique se o consumo de sacolas plásticas reduziu, em média, em mais do que 15% após todo esse período, ao nível de significância de 1%?\n",
    "\n",
    "A ONG monitorou, por um mês, 100 adultos moradores da cidade e observou que o consumo médio amostral de sacolas plásticas entre eles foi de 20,01 unidades e com desvio  padrão amostral de 6 unidades. \n",
    "\n",
    "*Valores de referência para as respostas: t_obs=-2.066666666666664, RC={t_obs< -2.364605861435974} e Valor-p=0.02068793604675599*"
   ]
  },
  {
   "cell_type": "markdown",
   "metadata": {},
   "source": [
    "$H_0: \\mu \\geq 25 * 0.75$\n",
    "\n",
    "$H_A: \\mu < 25 * 0.75$"
   ]
  },
  {
   "cell_type": "code",
   "execution_count": 20,
   "metadata": {},
   "outputs": [
    {
     "data": {
      "text/plain": [
       "(-2.066666666666664, -2.364605861435974, 0.02068793604675599)"
      ]
     },
     "execution_count": 20,
     "metadata": {},
     "output_type": "execute_result"
    }
   ],
   "source": [
    "media = 25 * 0.85\n",
    "media_amostral = 20.01\n",
    "dp_amostral = 6\n",
    "n = 100\n",
    "\n",
    "t_obs = (media_amostral - media) / (dp_amostral / n ** 0.5)\n",
    "t_crit = stats.t.ppf(0.01, df=n-1)\n",
    "valor_p = stats.t.cdf(t_obs, df=n-1)\n",
    "t_obs, t_crit, valor_p"
   ]
  },
  {
   "cell_type": "code",
   "execution_count": null,
   "metadata": {},
   "outputs": [],
   "source": [
    "# Como o t_obs é maior que o t_crit, não temos evidências para rejeitar H0\n",
    "# Como o valor-p é maior que 0.01, não temos evidências para rejeitar H0"
   ]
  },
  {
   "cell_type": "markdown",
   "metadata": {},
   "source": [
    "<div id=\"ex3\"></div>\n",
    "\n",
    "### EXERCÍCIO 3 - Formulação de hipóteses\n",
    "\n",
    "Para cada **Problema** a seguir, descreva a **variável de interesse** e as **hipóteses em termos do problema e em termos estatísticos**.\n",
    "\n",
    "Símbolos úteis (se precisar e/ou quiser usar): $\\quad\\mu \\quad> \\quad< \\quad\\leq \\quad\\geq \\quad\\neq$\n",
    "\n",
    "**A. Problema -**\n",
    "Um artigo publicado na Food Chemistry fala sobre o percentual de proteina extraída a partir do leite de amendoim. Com 95% de confiança, é possível afirmar que o percentual médio de proteina extraída está abaixo de 80 por cento? \n",
    "\n",
    "  * Definição da variável de interesse: X: \n",
    "  [ESCREVA AQUI]\n",
    "  \n",
    "  * Hipóteses em termos do problema e em termos estatísticos:\n",
    "\n",
    "$H_0:$ [ESCREVA AQUI EM TERMOS DO PROBLEMA!] $\\Rightarrow H_0:$ [ESCREVA AQUI EM TERMOS DO PARÂMETRO!]\n",
    "\n",
    "$H_1:$ [ESCREVA AQUI EM TERMOS DO PROBLEMA!] $\\Rightarrow H_1:$ [ESCREVA AQUI EM TERMOS DO PARÂMETRO!]\n",
    "\n",
    "<br>\n",
    "\n",
    "**B. Problema -**\n",
    "Para melhores políticas habitacionais para pessoas de baixa renda, uma prefeitura deseja estudar a quantidade de membros em famílias de baixa renda. Com 95% de confiança, é possível afirmar que a quantidade média de pessoas em famílias de baixa  renda excede 4 membros?\n",
    "\n",
    "  * Definição da variável de interesse: X: \n",
    "  [ESCREVA AQUI]\n",
    "  \n",
    "  * Hipóteses em termos do problema e em termos estatísticos:\n",
    "\n",
    "$H_0:$ [ESCREVA AQUI EM TERMOS DO PROBLEMA!] $\\Rightarrow H_0:$ [ESCREVA AQUI EM TERMOS DO PARÂMETRO!]\n",
    "\n",
    "$H_1:$ [ESCREVA AQUI EM TERMOS DO PROBLEMA!] $\\Rightarrow H_1:$ [ESCREVA AQUI EM TERMOS DO PARÂMETRO!]\n",
    "\n",
    "\n",
    "<br>\n",
    "\n",
    "**C. Problema -**\n",
    "Um dos maiores problemas de uma grande rede de vendas a varejo é a adequação de peças em estoque de cada produto. Para cumprir com a demanda sem ter um excesso de peças em estoque e sem ficar sem peças para vender, o departamento da área definiu que cada produto deve ter 50 peças em estoque para equilíbrio. Uma amostra de 30 momentos diferentes, a média amostral foi igual a 55 peças com desvio padrão amostral igual a 2 peças.\n",
    "Com 95% de confiança, é possível afirmar que, em média, a quantidade definida pelo departamento está sendo cumprida?\n",
    "\n",
    "  * Definição da variável de interesse: X: \n",
    "  [ESCREVA AQUI]\n",
    "  \n",
    "  * Hipóteses em termos do problema e em termos estatísticos:\n",
    "\n",
    "$H_0:$ [ESCREVA AQUI EM TERMOS DO PROBLEMA!] $\\Rightarrow H_0:$ [ESCREVA AQUI EM TERMOS DO PARÂMETRO!]\n",
    "\n",
    "$H_1:$ [ESCREVA AQUI EM TERMOS DO PROBLEMA!] $\\Rightarrow H_1:$ [ESCREVA AQUI EM TERMOS DO PARÂMETRO!]"
   ]
  },
  {
   "cell_type": "markdown",
   "metadata": {},
   "source": [
    "___\n",
    "<div id=\"ex4\"></div>\n",
    "\n",
    "### EXERCÍCIO 4 - Teste de hipóteses\n",
    "\n",
    "`Fonte: baseado na literatura Montgomery e Runger (2016)`\n",
    "\n",
    "**Problema** -  \n",
    "Atualmente, estudos dizem que famílias de classe média gastam exatamente metade da receita familiar com alimentação. \n",
    "\n",
    "Para avaliar tal afirmação, a variável de interesse será: `X: percentual de gasto da receita familiar com alimentação de cada família`, cujo valor médio é representado por $\\mu$ e a variância, representada por $\\sigma^2$.\n",
    "\n",
    "Nesse caso, as hipóteses em termos do problema e do parâmetro ficam:\n",
    "\n",
    "$\\qquad H_0:$ Afirmação do estudo procede $\\Rightarrow H_0: \\mu = 50$ \n",
    "\n",
    "$\\qquad H_1:$ Afirmação do estudo não procede $\\Rightarrow H_1: \\mu \\neq 50$\n",
    "\n",
    "Uma amostra de 16 famílias com tais características foi selecionada e os valores observados para a variável de interesse foram:"
   ]
  },
  {
   "cell_type": "code",
   "execution_count": 22,
   "metadata": {},
   "outputs": [],
   "source": [
    "amostra = pd.Series([42, 45, 46, 48, 44, 45, 42, 52,\n",
    "                     47, 51, 56, 53, 40, 45, 48, 50])"
   ]
  },
  {
   "cell_type": "markdown",
   "metadata": {},
   "source": [
    "**Escolha adequadamente** uma das metodologias exploradas nas `Aula 23` a `Aula 25` e faça:\n",
    "\n",
    "a) Construa a Região Crítica do teste de hipóteses assumindo $\\alpha =0.10$ e faça uma conclusão em termos do problema.\n",
    "\n",
    "b) Calcule o valor_p e faça novamente uma conclusão em termos do problema. \n",
    "\n",
    "c) Descreva a suposição necessária sobre a variável de interesse `percentual de gasto da receita familiar com alimentação de cada família` para que a metodologia utilizada nos dois itens anteriores seja válida. \n"
   ]
  },
  {
   "cell_type": "code",
   "execution_count": 25,
   "metadata": {},
   "outputs": [
    {
     "data": {
      "text/plain": [
       "47.125"
      ]
     },
     "execution_count": 25,
     "metadata": {},
     "output_type": "execute_result"
    }
   ],
   "source": [
    "media_amostral = amostra.mean()\n",
    "dp_amostral = amostra.std()\n",
    "n = len(amostra)\n",
    "media = 50\n",
    "media_amostral"
   ]
  },
  {
   "cell_type": "code",
   "execution_count": 28,
   "metadata": {},
   "outputs": [
    {
     "data": {
      "text/plain": [
       "(-2.6165663238309174, 1.7530503556925547, 0.019446580486304807)"
      ]
     },
     "execution_count": 28,
     "metadata": {},
     "output_type": "execute_result"
    }
   ],
   "source": [
    "t_obs = (media_amostral - media) / (dp_amostral / n ** 0.5)\n",
    "t_crit = stats.t.ppf(1-0.1/2, df=n-1)\n",
    "valor_p = 2 * stats.t.cdf(t_obs, df=n-1)\n",
    "t_obs, t_crit, valor_p"
   ]
  },
  {
   "cell_type": "code",
   "execution_count": null,
   "metadata": {},
   "outputs": [],
   "source": [
    "# como o módulo de t_obs é maior que o t_crit, temos evidências para rejeitar H0, e também porque o valor_p é menor que o nível de significância"
   ]
  }
 ],
 "metadata": {
  "hide_input": false,
  "kernelspec": {
   "display_name": "Python 3",
   "language": "python",
   "name": "python3"
  },
  "language_info": {
   "codemirror_mode": {
    "name": "ipython",
    "version": 3
   },
   "file_extension": ".py",
   "mimetype": "text/x-python",
   "name": "python",
   "nbconvert_exporter": "python",
   "pygments_lexer": "ipython3",
   "version": "3.11.5"
  }
 },
 "nbformat": 4,
 "nbformat_minor": 2
}
