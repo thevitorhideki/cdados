{
 "cells": [
  {
   "cell_type": "markdown",
   "metadata": {},
   "source": [
    "# Teoria da Probabilidade\n",
    "___\n"
   ]
  },
  {
   "cell_type": "markdown",
   "metadata": {},
   "source": [
    "___\n",
    "Carregando algumas bibliotecas:"
   ]
  },
  {
   "cell_type": "code",
   "execution_count": 58,
   "metadata": {},
   "outputs": [],
   "source": [
    "%matplotlib inline\n",
    "import pandas as pd\n",
    "import matplotlib.pyplot as plt\n",
    "import numpy as np\n",
    "\n",
    "from scipy import stats\n",
    "import math\n",
    "\n",
    "# Para ter melhor print\n",
    "from IPython.display import display"
   ]
  },
  {
   "cell_type": "markdown",
   "metadata": {},
   "source": [
    "___\n",
    "## Índice\n",
    "\n",
    "- [Questão 1](#q1)\n",
    "    - [Item a](#q1_a)\n",
    "    - [Item b](#q1_b)\n",
    "    - [Item c](#q1_c)\n",
    "- [Questão 2](#q2)\n",
    "    - [Item a](#q2_a)\n",
    "    - [Item b](#q2_b)\n",
    "    - [Item c](#q2_c)\n",
    "    - [Item d](#q2_d)\n",
    "- [Questão 3](#q3)\n",
    "    - [Item a](#q3_a)\n",
    "    - [Item b](#q3_b)\n",
    "- [Questão 4](#q4)\n",
    "    - [Item a](#q4_a)\n",
    "    - [Item b](#q4_b)\n",
    "    - [Item c](#q4_c)\n",
    "- [Questão 5](#q5)\n",
    "    - [Item a](#q5_a)\n",
    "    - [Item b](#q5_b)\n",
    "    - [Item c](#q5_c)\n",
    "- [Kaggle](#kaggle)\n",
    "- [Questão 6](#q6)\n",
    "    - [Item a](#q6_a)\n",
    "___"
   ]
  },
  {
   "cell_type": "markdown",
   "metadata": {},
   "source": [
    "<div id=\"q1\"></div>\n",
    "\n",
    "___\n",
    "### Questão 1\n",
    "\n",
    "No artigo de [Moro et al (2014)](https://www.researchgate.net/publication/260805594_A_Data-Driven_Approach_to_Predict_the_Success_of_Bank_Telemarketing), o intuito é prever o sucesso de vendas do telemarketing na venda de um produto bancário, considerando clientes de um banco português abordados entre 2008 e 2013.\n",
    "\n",
    "Para cada cliente, foram mensurados o tempo de duração do contato telefônico (em segundos) e a venda ou não do produto bancário oferecido.\n",
    "\n",
    "Os resultados foram que:\n",
    "  * $88,5\\%$ dos clientes abordados não aderiram ao produto bancário;\n",
    "  * dos clientes que não aderiram ao produto bancário, $77,3\\%$ deles conversaram no máximo 5 minutos no telefone; e\n",
    "  * dos clientes que conversaram no máximo 5 minutos no telefone, $94,9\\%$ deles não aderiram ao produto bancário."
   ]
  },
  {
   "cell_type": "code",
   "execution_count": 59,
   "metadata": {},
   "outputs": [],
   "source": [
    "# PROF\n",
    "P_No=.885\n",
    "P_max5_dado_No=.773\n",
    "P_No_dado_max5=.949"
   ]
  },
  {
   "cell_type": "markdown",
   "metadata": {},
   "source": [
    "<div id=\"q1_a\"></div>\n",
    "\n",
    "---\n",
    "**a)** Nesse contexto, calcule a probabilidade de um cliente qualquer conversar no máximo 5 minutos no telefone ao receber um contato telefônico para venda desse produto bancário. "
   ]
  },
  {
   "cell_type": "code",
   "execution_count": 60,
   "metadata": {},
   "outputs": [
    {
     "data": {
      "text/plain": [
       "0.7208693361433088"
      ]
     },
     "execution_count": 60,
     "metadata": {},
     "output_type": "execute_result"
    }
   ],
   "source": [
    "P_max5_e_No = P_No * P_max5_dado_No\n",
    "P_max5 = P_max5_e_No / P_No_dado_max5\n",
    "\n",
    "P_max5"
   ]
  },
  {
   "cell_type": "markdown",
   "metadata": {},
   "source": [
    "<div id=\"q1_b\"></div>\n",
    "\n",
    "---\n",
    "**b)** Se um cliente conversar mais do que 5 minutos, qual a probabilidade desse cliente aderir ao produto bancário?"
   ]
  },
  {
   "cell_type": "code",
   "execution_count": 61,
   "metadata": {},
   "outputs": [
    {
     "data": {
      "text/plain": [
       "0.28028330093055737"
      ]
     },
     "execution_count": 61,
     "metadata": {},
     "output_type": "execute_result"
    }
   ],
   "source": [
    "# P(Sim | Mais5) = ?\n",
    "\n",
    "P_Sim = 1 - P_No\n",
    "P_mais5 = 1 - P_max5\n",
    "\n",
    "P_mais5_e_No = P_No - P_max5_e_No\n",
    "P_mais5_e_Sim = P_mais5 - P_mais5_e_No\n",
    "\n",
    "P_S_dado_mais5 = P_mais5_e_Sim / P_mais5\n",
    "P_S_dado_mais5"
   ]
  },
  {
   "cell_type": "markdown",
   "metadata": {},
   "source": [
    "<div id=\"q1_c\"></div>\n",
    "\n",
    "---\n",
    "**c)** Afirmativa: \"Considerando os clientes abordados entre 2008 e 2013, o sucesso da venda do produto bancário oferecido ao cliente depende do tempo de duração do contato telefônico\".\n",
    "\n",
    "Responda se \"Concorda\" ou \"Discorda\" da afirmação **justificando**, adequadamente, com uso de **valores numéricos de probabilidade** desta questão. Caso contrário, a resposta será considerada inválida."
   ]
  },
  {
   "cell_type": "code",
   "execution_count": 62,
   "metadata": {},
   "outputs": [],
   "source": [
    "# Coloque sua resposta aqui..."
   ]
  },
  {
   "cell_type": "markdown",
   "metadata": {},
   "source": [
    "<div id=\"q2\"></div>\n",
    "\n",
    "___\n",
    "### Questão 2\n"
   ]
  },
  {
   "cell_type": "markdown",
   "metadata": {},
   "source": [
    "![](arquivos/img/questao1.png)\n",
    "Fonte: Retirado do site https://www.opovo.com.br/vidaearte/showseespetaculos/2019/03/13/sandy-e-junior-divulgada-data-do-inicio-vendas-de-ingressos-e-valores.html\n",
    "\n"
   ]
  },
  {
   "cell_type": "markdown",
   "metadata": {},
   "source": [
    "\n",
    "Há alguns dias, muitas pessoas tentaram por horas comprar ingressos para o show de Sandy e Junior. Vamos assumir que há apenas duas maneiras para realizar a compra: bilheteria oficial ou site oficial e que todos os fãs aqui considerados são aqueles que tentaram ambas as maneiras para conseguir comprar ingresso.\n",
    "\n",
    "Analisando as diversas mídias que noticiaram o assunto, notaram que 23% dos fãs que ficaram em filas de bilheteria oficial conseguiram comprar ingresso para o show. Ainda, para os fãs que conseguiram comprar ingresso pelo site oficial, a probabilidade de terem conseguido comprar também pela bilheteria oficial é de 15%. Entretanto, entre os fãs que não conseguiram comprar ingresso pelo site oficial, a probabilidade deles terem conseguido comprar pela bilheteria oficial é de 40%. \n",
    "\n",
    "**Responda:**\n"
   ]
  },
  {
   "cell_type": "markdown",
   "metadata": {},
   "source": [
    "<div id=\"q2_a\"></div>\n",
    "\n",
    "---\n",
    "\n",
    "**a)** Qual a probabilidade dos fãs terem conseguido comprar ingresso pelo site oficial? "
   ]
  },
  {
   "cell_type": "markdown",
   "metadata": {},
   "source": [
    "**Deixe claro todos os passos utilizando notação adequada e contas feitas até obtenção do resultado final.**"
   ]
  },
  {
   "cell_type": "code",
   "execution_count": 63,
   "metadata": {},
   "outputs": [],
   "source": [
    "P_Sfila = 0.23\n",
    "P_Nfila = 1 - P_Sfila\n",
    "P_Sfila_dado_Ssite = 0.15\n",
    "P_Sfila_dado_Nsite = 0.4"
   ]
  },
  {
   "cell_type": "code",
   "execution_count": 64,
   "metadata": {},
   "outputs": [],
   "source": [
    "# P_Site = ?\n",
    "# P_Sfila = P_Site * P_P_Sfila_dado_Ssite + (1 - P_Site) * P_Sfila_dado_Nsite\n",
    "# 0.23 = 0.15*P_Site + 0.4 - 0.4*P_site\n",
    "# 0.23 = -0.25P_Site + 0.4\n",
    "# (0.23 - 0.4) / 0.25 = P_site\n",
    "P_Ssite = 0.68"
   ]
  },
  {
   "cell_type": "markdown",
   "metadata": {},
   "source": [
    "<div id=\"q2_b\"></div>\n",
    "\n",
    "---\n",
    "**b)** Entre os fãs que conseguiram comprar ingresso pela bilheteria oficial, qual a probabilidade de não terem conseguido comprar pelo site oficial? "
   ]
  },
  {
   "cell_type": "markdown",
   "metadata": {},
   "source": [
    "**Deixe claro todos os passos utilizando notação adequada e contas feitas até obtenção do resultado final.**"
   ]
  },
  {
   "cell_type": "code",
   "execution_count": 65,
   "metadata": {},
   "outputs": [
    {
     "data": {
      "text/plain": [
       "0.5565217391304347"
      ]
     },
     "execution_count": 65,
     "metadata": {},
     "output_type": "execute_result"
    }
   ],
   "source": [
    "# P_Nsite_dado_SFila = ?\n",
    "P_Nsite = 1 - P_Ssite\n",
    "P_Sfila_e_Nsite = P_Nsite * P_Sfila_dado_Nsite\n",
    "\n",
    "P_Nsite_dado_SFila = P_Sfila_e_Nsite / P_Sfila\n",
    "P_Nsite_dado_SFila"
   ]
  },
  {
   "cell_type": "markdown",
   "metadata": {},
   "source": [
    "<div id=\"q2_c\"></div>\n",
    "\n",
    "---\n",
    "\n",
    "**c)** Com base nos resultados mencionados até aqui, pode-se dizer que conseguir realizar a compra por bilheteria oficial ou por site oficial são eventos independentes? Justifique sua resposta considerando informações numéricas. "
   ]
  },
  {
   "cell_type": "markdown",
   "metadata": {},
   "source": [
    "**Deixe claro todos os passos utilizando notação adequada e contas feitas até obtenção do resultado final.**"
   ]
  },
  {
   "cell_type": "code",
   "execution_count": null,
   "metadata": {},
   "outputs": [],
   "source": []
  },
  {
   "cell_type": "markdown",
   "metadata": {},
   "source": [
    "<div id=\"q2_d\"></div>\n",
    "\n",
    "---\n",
    "**d)** Assuma que um “fã” conseguiu comprar muitos ingressos em diversos setores diferentes. Por conta disso, ele gastou, em média, R\\\\$ 530,00 por ingresso com desvio padrão de R\\\\$ 75,00.\n",
    "\n",
    "Ele pretende revender esses ingressos lucrando exatamente 65% com a revenda de cada ingresso e cobrar um custo fixo de entrega de R\\\\$15,00 por ingresso. Qual o faturamento médio por ingresso e respectivo desvio padrão com as revendas?"
   ]
  },
  {
   "cell_type": "markdown",
   "metadata": {},
   "source": [
    "**Deixe claro todos os passos utilizando notação adequada e contas feitas até obtenção do resultado final.**"
   ]
  },
  {
   "cell_type": "code",
   "execution_count": 66,
   "metadata": {},
   "outputs": [
    {
     "name": "stdout",
     "output_type": "stream",
     "text": [
      "889.5\n",
      "123.74999999999999\n"
     ]
    }
   ],
   "source": [
    "E_X = 530\n",
    "dp = 75\n",
    "var = 75 ** 2\n",
    "\n",
    "E_Y = 1.65 * E_X + 15\n",
    "var_Y = var * 1.65 ** 2\n",
    "dp_Y = var_Y ** 0.5\n",
    "print(E_Y)\n",
    "print(dp_Y)"
   ]
  },
  {
   "cell_type": "markdown",
   "metadata": {},
   "source": [
    "<div id=\"q3\"></div>\n",
    "\n",
    "---\n",
    "\n",
    "## Questão 3\n",
    "\n",
    "No dia 5 de outubro de 1960 os Estados Unidos entraram em alerta máximo contra um possível ataque nuclear da\n",
    "União Soviética. O sistema de detecção de mísseis em Thule, na Groenlândia, relatou com alta probabilidade que\n",
    "dezenas de mísseis soviéticos tinham sido disparados contra os Estados Unidos. Em vinte minutos os mísseis atingiriam\n",
    "o país. O mundo esteve muito próximo da Terceira Guerra Mundial.\n"
   ]
  },
  {
   "cell_type": "markdown",
   "metadata": {},
   "source": [
    "<div id=\"q3_a\"></div>\n",
    "\n",
    "**a)** Suponha que\n",
    "\n",
    "- A probabilidade de um ataque nuclear naquele ano, independente da observação dos alarmes de radar, seja de 10<sup>-3</sup> (1 em mil).\n",
    "\n",
    "- A probabilidade de que um alarme seja disparado quando um ataque está realmente acontecendo seja de 0,999\n",
    "\n",
    "- A probabilidade de alarme falso seja de 10<sup>-4</sup> (1 em dez mil).\n",
    "\n",
    "Qual a probabilidade de que um ataque esteja ocorrendo se os alarmes foram disparados?"
   ]
  },
  {
   "cell_type": "code",
   "execution_count": 67,
   "metadata": {},
   "outputs": [],
   "source": [
    "P_ataque = 1e-3\n",
    "P_ataqueC = 1 - P_ataque\n",
    "P_alarme_dado_ataque = 0.999\n",
    "P_alarme_dado_ataqueC = 1e-4"
   ]
  },
  {
   "cell_type": "code",
   "execution_count": 68,
   "metadata": {},
   "outputs": [
    {
     "data": {
      "text/plain": [
       "0.9090909090909091"
      ]
     },
     "execution_count": 68,
     "metadata": {},
     "output_type": "execute_result"
    }
   ],
   "source": [
    "# P(ataque | alarme) = ?\n",
    "P_alarme_e_ataque = P_alarme_dado_ataque * P_ataque\n",
    "P_alarme_e_ataquec = P_alarme_dado_ataqueC * P_ataqueC\n",
    "P_alarme = P_alarme_e_ataque + P_alarme_e_ataquec\n",
    "\n",
    "P_alarme_e_ataque / P_alarme"
   ]
  },
  {
   "cell_type": "markdown",
   "metadata": {},
   "source": [
    "--- \n",
    "\n",
    "<div id=\"q3_b\"></div>\n",
    "\n",
    "**b)** Contudo, uma informação salvadora surgiu nesta hora: o líder soviético Nikita Khrushchev estava naquele exato\n",
    "momento em Nova Iorque! Explique (com o teorema de Bayes, claro) por que a probabilidade de ataque, à luz\n",
    "desta nova informação, agora diminuiu consideravelmente. Leve em conta as informações abaixo:\n",
    "\n",
    "Assuma que Khrushchev dificilmente visitaria Nova Iorque tendo ordenado um ataque nuclear que o matasse –\n",
    "mesmo que ele quisesse se sacrificar, não seria possível deixar a União Soviética sem líder no início da Terceira\n",
    "Guerra Mundial. Considere, portanto, que a probabilidade de que Khrushchev visitaria Nova Iorque tendo\n",
    "ordenado um ataque é menor que 1 em cem mil, e que a probabilidade de que ele estivesse visitando Nova Iorque\n",
    "naquele ano é de 5%."
   ]
  },
  {
   "cell_type": "code",
   "execution_count": 69,
   "metadata": {},
   "outputs": [
    {
     "data": {
      "text/plain": [
       "2e-07"
      ]
     },
     "execution_count": 69,
     "metadata": {},
     "output_type": "execute_result"
    }
   ],
   "source": [
    "# P(Ataque | visita) = ?\n",
    "\n",
    "P_visitar = 0.05\n",
    "P_visitar_dado_ataque = 1e-5\n",
    "\n",
    "P_visitar_e_ataque = P_visitar_dado_ataque * P_ataque\n",
    "\n",
    "P_ataque_dado_visitar = P_visitar_e_ataque / P_visitar\n",
    "P_ataque_dado_visitar"
   ]
  },
  {
   "cell_type": "markdown",
   "metadata": {},
   "source": [
    "No final, tratava-se mesmo de um alarme falso: o sistema americano detectou a lua surgindo no horizonte como um\n",
    "ataque soviético!"
   ]
  },
  {
   "cell_type": "markdown",
   "metadata": {},
   "source": [
    "--- \n",
    "\n",
    "<div id=\"q4\"></div>\n",
    "\n",
    "## QUESTÃO 4\n",
    "### Análise do ENEM"
   ]
  },
  {
   "cell_type": "markdown",
   "metadata": {},
   "source": [
    "--- \n",
    "\n"
   ]
  },
  {
   "cell_type": "markdown",
   "metadata": {},
   "source": [
    "Esta parte da avaliação se baseia em uma amostra de dados do **ENEM 2017** adaptados para esta prova. O dicionario de dados encontra-se no link a seguir:\n",
    "\n",
    "[Dicionário de dados](arquivos/DATA_DIC.html)"
   ]
  },
  {
   "cell_type": "code",
   "execution_count": 70,
   "metadata": {},
   "outputs": [
    {
     "data": {
      "text/html": [
       "<div>\n",
       "<style scoped>\n",
       "    .dataframe tbody tr th:only-of-type {\n",
       "        vertical-align: middle;\n",
       "    }\n",
       "\n",
       "    .dataframe tbody tr th {\n",
       "        vertical-align: top;\n",
       "    }\n",
       "\n",
       "    .dataframe thead th {\n",
       "        text-align: right;\n",
       "    }\n",
       "</style>\n",
       "<table border=\"1\" class=\"dataframe\">\n",
       "  <thead>\n",
       "    <tr style=\"text-align: right;\">\n",
       "      <th></th>\n",
       "      <th>NU_INSCRICAO</th>\n",
       "      <th>SG_UF_RESIDENCIA</th>\n",
       "      <th>NU_IDADE</th>\n",
       "      <th>TP_SEXO</th>\n",
       "      <th>TP_ESTADO_CIVIL</th>\n",
       "      <th>TP_ST_CONCLUSAO</th>\n",
       "      <th>IN_TREINEIRO</th>\n",
       "      <th>NU_NOTA_CN</th>\n",
       "      <th>NU_NOTA_CH</th>\n",
       "      <th>NU_NOTA_LC</th>\n",
       "      <th>...</th>\n",
       "      <th>CARRO</th>\n",
       "      <th>CELULAR</th>\n",
       "      <th>FIXO</th>\n",
       "      <th>COMPUTADOR</th>\n",
       "      <th>INTERNET</th>\n",
       "      <th>Q026</th>\n",
       "      <th>TIPO_EM</th>\n",
       "      <th>RENDA</th>\n",
       "      <th>NOTA_TESTES</th>\n",
       "      <th>NOTA_ENEM</th>\n",
       "    </tr>\n",
       "  </thead>\n",
       "  <tbody>\n",
       "    <tr>\n",
       "      <th>171957</th>\n",
       "      <td>170003469518</td>\n",
       "      <td>MT</td>\n",
       "      <td>26.0</td>\n",
       "      <td>F</td>\n",
       "      <td>0.0</td>\n",
       "      <td>1</td>\n",
       "      <td>0</td>\n",
       "      <td>605.4</td>\n",
       "      <td>657.4</td>\n",
       "      <td>542.4</td>\n",
       "      <td>...</td>\n",
       "      <td>A</td>\n",
       "      <td>E</td>\n",
       "      <td>A</td>\n",
       "      <td>B</td>\n",
       "      <td>A</td>\n",
       "      <td>A</td>\n",
       "      <td>C</td>\n",
       "      <td>3020.091575</td>\n",
       "      <td>2430.9</td>\n",
       "      <td>2990.9</td>\n",
       "    </tr>\n",
       "    <tr>\n",
       "      <th>127898</th>\n",
       "      <td>170005286919</td>\n",
       "      <td>CE</td>\n",
       "      <td>17.0</td>\n",
       "      <td>M</td>\n",
       "      <td>0.0</td>\n",
       "      <td>2</td>\n",
       "      <td>0</td>\n",
       "      <td>698.5</td>\n",
       "      <td>649.0</td>\n",
       "      <td>630.6</td>\n",
       "      <td>...</td>\n",
       "      <td>C</td>\n",
       "      <td>B</td>\n",
       "      <td>A</td>\n",
       "      <td>B</td>\n",
       "      <td>B</td>\n",
       "      <td>B</td>\n",
       "      <td>D</td>\n",
       "      <td>3611.589780</td>\n",
       "      <td>2817.1</td>\n",
       "      <td>3677.1</td>\n",
       "    </tr>\n",
       "    <tr>\n",
       "      <th>132925</th>\n",
       "      <td>170005113172</td>\n",
       "      <td>MA</td>\n",
       "      <td>21.0</td>\n",
       "      <td>M</td>\n",
       "      <td>0.0</td>\n",
       "      <td>1</td>\n",
       "      <td>0</td>\n",
       "      <td>591.0</td>\n",
       "      <td>643.8</td>\n",
       "      <td>597.9</td>\n",
       "      <td>...</td>\n",
       "      <td>A</td>\n",
       "      <td>D</td>\n",
       "      <td>A</td>\n",
       "      <td>B</td>\n",
       "      <td>B</td>\n",
       "      <td>A</td>\n",
       "      <td>A</td>\n",
       "      <td>1375.454182</td>\n",
       "      <td>2385.8</td>\n",
       "      <td>3325.8</td>\n",
       "    </tr>\n",
       "    <tr>\n",
       "      <th>119870</th>\n",
       "      <td>170005346442</td>\n",
       "      <td>PR</td>\n",
       "      <td>17.0</td>\n",
       "      <td>F</td>\n",
       "      <td>0.0</td>\n",
       "      <td>2</td>\n",
       "      <td>0</td>\n",
       "      <td>525.6</td>\n",
       "      <td>441.2</td>\n",
       "      <td>509.4</td>\n",
       "      <td>...</td>\n",
       "      <td>B</td>\n",
       "      <td>C</td>\n",
       "      <td>A</td>\n",
       "      <td>B</td>\n",
       "      <td>B</td>\n",
       "      <td>B</td>\n",
       "      <td>A</td>\n",
       "      <td>2079.516469</td>\n",
       "      <td>1930.0</td>\n",
       "      <td>2450.0</td>\n",
       "    </tr>\n",
       "    <tr>\n",
       "      <th>122904</th>\n",
       "      <td>170004476042</td>\n",
       "      <td>DF</td>\n",
       "      <td>26.0</td>\n",
       "      <td>F</td>\n",
       "      <td>0.0</td>\n",
       "      <td>1</td>\n",
       "      <td>0</td>\n",
       "      <td>538.0</td>\n",
       "      <td>408.8</td>\n",
       "      <td>523.9</td>\n",
       "      <td>...</td>\n",
       "      <td>B</td>\n",
       "      <td>C</td>\n",
       "      <td>A</td>\n",
       "      <td>A</td>\n",
       "      <td>A</td>\n",
       "      <td>A</td>\n",
       "      <td>A</td>\n",
       "      <td>1364.095119</td>\n",
       "      <td>1921.8</td>\n",
       "      <td>2381.8</td>\n",
       "    </tr>\n",
       "  </tbody>\n",
       "</table>\n",
       "<p>5 rows × 28 columns</p>\n",
       "</div>"
      ],
      "text/plain": [
       "        NU_INSCRICAO SG_UF_RESIDENCIA  NU_IDADE TP_SEXO  TP_ESTADO_CIVIL  \\\n",
       "171957  170003469518               MT      26.0       F              0.0   \n",
       "127898  170005286919               CE      17.0       M              0.0   \n",
       "132925  170005113172               MA      21.0       M              0.0   \n",
       "119870  170005346442               PR      17.0       F              0.0   \n",
       "122904  170004476042               DF      26.0       F              0.0   \n",
       "\n",
       "        TP_ST_CONCLUSAO  IN_TREINEIRO  NU_NOTA_CN  NU_NOTA_CH  NU_NOTA_LC  \\\n",
       "171957                1             0       605.4       657.4       542.4   \n",
       "127898                2             0       698.5       649.0       630.6   \n",
       "132925                1             0       591.0       643.8       597.9   \n",
       "119870                2             0       525.6       441.2       509.4   \n",
       "122904                1             0       538.0       408.8       523.9   \n",
       "\n",
       "        ...  CARRO  CELULAR  FIXO COMPUTADOR INTERNET  Q026 TIPO_EM  \\\n",
       "171957  ...      A        E     A          B        A     A       C   \n",
       "127898  ...      C        B     A          B        B     B       D   \n",
       "132925  ...      A        D     A          B        B     A       A   \n",
       "119870  ...      B        C     A          B        B     B       A   \n",
       "122904  ...      B        C     A          A        A     A       A   \n",
       "\n",
       "              RENDA NOTA_TESTES NOTA_ENEM  \n",
       "171957  3020.091575      2430.9    2990.9  \n",
       "127898  3611.589780      2817.1    3677.1  \n",
       "132925  1375.454182      2385.8    3325.8  \n",
       "119870  2079.516469      1930.0    2450.0  \n",
       "122904  1364.095119      1921.8    2381.8  \n",
       "\n",
       "[5 rows x 28 columns]"
      ]
     },
     "execution_count": 70,
     "metadata": {},
     "output_type": "execute_result"
    }
   ],
   "source": [
    "filename = \"arquivos/enem2017_30K.csv\"\n",
    "dados = pd.read_csv(filename, index_col=0)\n",
    "dados.head(5)"
   ]
  },
  {
   "cell_type": "markdown",
   "metadata": {},
   "source": [
    "<div id=\"q4_a\"></div>\n",
    "\n",
    "**a)** Assuma que a pontuação requerida para ser aceito numa escola de Medicina é atingida somente pelos $2\\%$ melhores no ENADE. Apresente a nota necessária para ser aceito em Medicina"
   ]
  },
  {
   "cell_type": "code",
   "execution_count": 71,
   "metadata": {},
   "outputs": [
    {
     "data": {
      "text/plain": [
       "3482.004"
      ]
     },
     "execution_count": 71,
     "metadata": {},
     "output_type": "execute_result"
    }
   ],
   "source": [
    "nota_minima_med = np.quantile(dados.NOTA_ENEM, q=0.98)\n",
    "nota_minima_med"
   ]
  },
  {
   "cell_type": "markdown",
   "metadata": {},
   "source": [
    "<div id=\"q4_b\"></div>\n",
    "\n",
    "**b)** A partir dos dados, calcule a probabilidade de que uma pessoa que foi aceita em Medicina seja de São Paulo. Ou seja, calcule $P(SP|aceito)$. "
   ]
  },
  {
   "cell_type": "code",
   "execution_count": 72,
   "metadata": {},
   "outputs": [
    {
     "data": {
      "text/plain": [
       "0.18666666666666668"
      ]
     },
     "execution_count": 72,
     "metadata": {},
     "output_type": "execute_result"
    }
   ],
   "source": [
    "dados.loc[dados['NOTA_ENEM'] >= nota_minima_med, ['SG_UF_RESIDENCIA']].value_counts(normalize='all')['SP']"
   ]
  },
  {
   "cell_type": "markdown",
   "metadata": {},
   "source": [
    "<div id=\"q4_c\"></div>\n",
    "\n",
    "**b)**  Qual a probabilidade de algúem ser do Acre e ser aceito em medicina? "
   ]
  },
  {
   "cell_type": "code",
   "execution_count": 73,
   "metadata": {},
   "outputs": [
    {
     "data": {
      "text/plain": [
       "3.3333333333333335e-05"
      ]
     },
     "execution_count": 73,
     "metadata": {},
     "output_type": "execute_result"
    }
   ],
   "source": [
    "# P(AC e MED)\n",
    "\n",
    "dados.loc[dados['NOTA_ENEM'] >= nota_minima_med, ['SG_UF_RESIDENCIA']].value_counts(normalize='all')['AC']\n",
    "\n",
    "len(dados[(dados['NOTA_ENEM'] >= nota_minima_med) & (dados['SG_UF_RESIDENCIA'] == 'AC')]) / len(dados)"
   ]
  },
  {
   "cell_type": "markdown",
   "metadata": {},
   "source": [
    "<div id=\"q5\"></div>\n",
    "\n",
    "___\n",
    "### Questão 5\n",
    "\n",
    "\n",
    "Para selecionar alunos, uma Organização Estudantil (OE) oferece aos seus candidatos um curso de treinamento durante uma semana. No final do curso, esses candidatos são submetidos a uma prova e, de acordo com seu desempenho no curso, são classificados em: Bons (B), Médios (M) ou Fracos (F).\n",
    "\n",
    "Para facilitar a seleção dos candidatos, a OE pretende substituir o treinamento por um teste contendo questões referentes a conhecimentos gerais e específicos. Assim, nesse início de ano, antes do início do treinamento do curso, os candidatos foram submetidos ao teste e receberam o conceito: Aprovado (A) ou Reprovado (A<sup>C</sup>).\n",
    "\n",
    "No final do curso, 30% dos candidatos tiveram desempenho Bom, 34% tiveram desempenho Médio e o restante, Fraco. Ainda, obtiveram-se as seguintes probabilidades condicionais:\n",
    "\n",
    "- $P(A/B) = 40\\%$\n",
    "- $P(A/M) = 33,3\\%$\n",
    "- $P(A/F) = 26,7\\%$\n",
    "\n",
    "**Responda:**"
   ]
  },
  {
   "cell_type": "markdown",
   "metadata": {},
   "source": [
    "<div id=\"q5_a\"></div>\n",
    "\n",
    "**a)** Qual a probabilidade de um candidato Aprovado no teste ter sido considerado Fraco no curso?"
   ]
  },
  {
   "cell_type": "code",
   "execution_count": 74,
   "metadata": {},
   "outputs": [],
   "source": [
    "P_B = 0.3\n",
    "P_M = 0.34\n",
    "P_F = 1 - P_B - P_M\n",
    "P_A_dado_B = 0.4\n",
    "P_A_dado_M = 0.333\n",
    "P_A_dado_F = 0.267"
   ]
  },
  {
   "cell_type": "code",
   "execution_count": 75,
   "metadata": {},
   "outputs": [
    {
     "data": {
      "text/plain": [
       "0.2918564401530333"
      ]
     },
     "execution_count": 75,
     "metadata": {},
     "output_type": "execute_result"
    }
   ],
   "source": [
    "# P(F|A) = ?\n",
    "P_A = P_A_dado_B * P_B + P_A_dado_M * P_M + P_A_dado_F * P_F\n",
    "P_F_dado_A = (P_A_dado_F * P_F) / P_A\n",
    "P_F_dado_A"
   ]
  },
  {
   "cell_type": "markdown",
   "metadata": {},
   "source": [
    "<div id=\"q5_b\"></div>\n",
    "\n",
    "**b)** Independente da sua resposta nos itens anteriores, assuma que a Tabela 1 apresenta as distribuições de probabilidades conjuntas que candidatos tiraram como conceito do teste (Aprovado e Reprovado) e como desempenho no curso (Bom, Médio e Fraco)."
   ]
  },
  {
   "cell_type": "markdown",
   "metadata": {},
   "source": [
    "Tabela 1 – Distribuição das probabilidades conjuntas entre Conceito do teste e Desempenho no curso\n",
    "<img src=\"arquivos/img/q1_item_b.png\" width=\"500\">"
   ]
  },
  {
   "cell_type": "markdown",
   "metadata": {},
   "source": [
    "Considere que a nota no teste assuma valores discretos e se comporta da seguinte forma:\n",
    "- Alunos aprovados no teste e com desempenho Bom no curso tiram nota 8;\n",
    "- Alunos aprovados no teste e com desempenho Médio no curso tiram nota 7;\n",
    "- Alunos aprovados no teste e com desempenho Fraco no curso tiram nota 5;\n",
    "- Alunos reprovados no teste e com desempenho Bom ou Médio no curso tiram nota 4; e\n",
    "- Alunos reprovados no teste e com desempenho Fraco no curso tiram nota 1."
   ]
  },
  {
   "cell_type": "code",
   "execution_count": 76,
   "metadata": {},
   "outputs": [],
   "source": [
    "X = [8, 7, 5, 4, 4, 1]\n",
    "prob = [0.15, 0.135, 0.015, 0.05, 0.30, 0.35]"
   ]
  },
  {
   "cell_type": "markdown",
   "metadata": {},
   "source": [
    "<div id=\"q5_c\"></div>\n",
    "\n",
    "**c.1)** Calcule o valor esperado e o respectivo desvio padrão da nota desses candidatos distribuídos na Tabela 1."
   ]
  },
  {
   "cell_type": "code",
   "execution_count": 90,
   "metadata": {},
   "outputs": [
    {
     "name": "stdout",
     "output_type": "stream",
     "text": [
      "Esperança: 3.97\n",
      "Variância: 6.7791\n",
      "Desvio Padrão: 2.603670486063857\n"
     ]
    }
   ],
   "source": [
    "E_X = np.average(X, weights=prob)\n",
    "var = np.average([(val - E_X) ** 2 for val in X], weights=prob)\n",
    "dp = var ** 0.5\n",
    "\n",
    "print(f'Esperança: {E_X}')\n",
    "print(f'Variância: {var}')\n",
    "print(f'Desvio Padrão: {dp}')"
   ]
  },
  {
   "cell_type": "markdown",
   "metadata": {},
   "source": [
    "**c.2)** Se houver uma padronização na nota do teste aumentando em 25% a nota dos candidatos e, após isso, acrescentar 0,25 pontos, qual deve ser o valor esperado e o respectivo desvio padrão da nota padronizada desses candidatos. "
   ]
  },
  {
   "cell_type": "code",
   "execution_count": 91,
   "metadata": {},
   "outputs": [
    {
     "name": "stdout",
     "output_type": "stream",
     "text": [
      "Esperança: 5.2125\n",
      "Variância: 10.59234375\n",
      "Desvio Padrão: 3.2545881075798206\n"
     ]
    }
   ],
   "source": [
    "E_Y = E_X * 1.25 + 0.25\n",
    "var_Y = var * 1.25 ** 2\n",
    "dp_Y = var_Y ** 0.5\n",
    "\n",
    "print(f'Esperança: {E_Y}')\n",
    "print(f'Variância: {var_Y}')\n",
    "print(f'Desvio Padrão: {dp_Y}')"
   ]
  },
  {
   "cell_type": "markdown",
   "metadata": {},
   "source": [
    "---\n",
    "\n",
    "<div id=\"kaggle\"></div>\n",
    "\n",
    "# KAGGLE:\n"
   ]
  },
  {
   "cell_type": "markdown",
   "metadata": {},
   "source": [
    "<img src=\"arquivos/img/kaggle.png\" >"
   ]
  },
  {
   "cell_type": "markdown",
   "metadata": {},
   "source": [
    "O [Kaggle.com](https://www.kaggle.com/competitions) é um site de competições internacionais de Data Science no qual empresas oferecem prêmios para os analistas que fizerem a melhor modelagem preditiva de diversos problemas.\n",
    "\n",
    "Em uma das competições recente, o desafio era:\n",
    "\n",
    ">Ask a home buyer to describe their dream house, and they probably won't begin with the height of the basement ceiling or the proximity to an east-west railroad. But this playground competition's dataset proves that much more influences price negotiations than the number of bedrooms or a white-picket fence.\n",
    "\n",
    ">With 79 explanatory variables describing (almost) every aspect of residential homes in Ames, Iowa, this competition challenges you to predict the final price of each home.\n",
    "\n",
    "A seguir, vocês receberão um conjunto de dados bem menor em termos de número de variáveis disponível no Kaggle.\n",
    "\n"
   ]
  },
  {
   "cell_type": "markdown",
   "metadata": {},
   "source": [
    "## SIGNIFICADO DAS VARIÁVEIS\n",
    "\n",
    "A base de dados que terão acesso traz informações de 1460 imóveis cujas variáveis selecionadas possuem as seguintes descrições traduzidas (mantendo os nomes das variáveis e das categorias do problema original - em inglês):\n",
    "\n"
   ]
  },
  {
   "cell_type": "markdown",
   "metadata": {},
   "source": [
    "&#10004; **Id:** número que identifica o imóvel na base de dados.\n",
    "\n",
    "&#10004; **SalePrice:** preço de venda da propriedade (em dólares). Ess\n",
    "a é a variável alvo que você irá tentar predizer.\n",
    "\n",
    "&#10004; **Foundation:** tipo de fundação, com as seguintes categorias:\n",
    "- BrkTil -  Tijolo e telha\n",
    "- CBlock -  Bloco de concreto\n",
    "- PConc -  Concreto usinado\n",
    "- Slab -  Laje\n",
    "- Stone -  Pedra\n",
    "- Wood -  Madeira\n",
    "\n",
    "\n",
    "&#10004; **OverallQual**: avalia de maneira geral o material e o acabamento da casa, com as seguintes categorias: \n",
    "- Very Poor - Péssimo\n",
    "- Poor - Ruim\n",
    "- Fair - Justo\n",
    "- Below Average - Abaixo da média\n",
    "- Average - Médio\n",
    "- Above Average - Acima da média\n",
    "- Good - Bom\n",
    "- Very Good - Muito bom\n",
    "- Excellent - Excelente\n",
    "- Very Excellent - Muito excelente\n",
    "\n",
    "&#10004; **LotArea:** tamanho do lote (em pés quadrados).\n",
    "\n",
    "&#10004; **X1stFlrSF:** tamanho do primeiro andar (em pés quadrados).\n",
    "\n",
    "&#10004; **X2ndFlrSF:** tamanho do segundo andar (em pés quadrados).\n",
    "\n",
    "&#10004; **GarageCars:** tamanho da garagem em capacidade de carros (número de carros).\n",
    "\n",
    "&#10004; **Fireplaces:** número de lareiras.\n",
    "\n",
    "&#10004; **Street:** tipo de acesso rodoviário à propriedade, com as seguintes categorias:\n",
    "- Grvl - Cascalho\n",
    "- Pave - Pavimentado\n",
    "\n",
    "&#10004; **LandSlope:** inclinação da propriedade, com as seguintes categorias:\n",
    "- Gtl - inclinação suave\n",
    "- Mod - inclinação moderada\n",
    "- Sev - severo decline\n",
    "\n",
    "&#10004; **RoofStyle:** tipo do telhado, com as seguintes categorias:\n",
    "- Flat - Telhado plano\n",
    "- Gable - Telhado de duas águas\n",
    "- Gambrel - Telhado estilo celeiro\n",
    "- Hip - Telhado de ripa\n",
    "- Mansard - Mansarda\n",
    "- Shed - Galpão\n",
    "\n",
    "&#10004; **CentralAir:** ar condicionado central, com as seguintes categorias:\n",
    "- N - Não\n",
    "- Y - Sim\n",
    "\n",
    "&#10004; **YearBuilt:** ano da construção do imóvel.\n",
    "\n",
    "&#10004; **YrSold:** ano de venda do imóvel.\n",
    "\n",
    "O arquivo <house.xlsx > traz todas essas 15 variáveis."
   ]
  },
  {
   "cell_type": "code",
   "execution_count": 79,
   "metadata": {},
   "outputs": [],
   "source": [
    "dados = pd.read_excel(\"arquivos/house.xlsx\")"
   ]
  },
  {
   "cell_type": "code",
   "execution_count": 80,
   "metadata": {
    "scrolled": true
   },
   "outputs": [
    {
     "data": {
      "text/html": [
       "<div>\n",
       "<style scoped>\n",
       "    .dataframe tbody tr th:only-of-type {\n",
       "        vertical-align: middle;\n",
       "    }\n",
       "\n",
       "    .dataframe tbody tr th {\n",
       "        vertical-align: top;\n",
       "    }\n",
       "\n",
       "    .dataframe thead th {\n",
       "        text-align: right;\n",
       "    }\n",
       "</style>\n",
       "<table border=\"1\" class=\"dataframe\">\n",
       "  <thead>\n",
       "    <tr style=\"text-align: right;\">\n",
       "      <th></th>\n",
       "      <th>SalePrice</th>\n",
       "      <th>Foundation</th>\n",
       "      <th>OverallQual</th>\n",
       "      <th>LotArea</th>\n",
       "      <th>X1stFlrSF</th>\n",
       "      <th>X2ndFlrSF</th>\n",
       "      <th>GarageCars</th>\n",
       "      <th>Fireplaces</th>\n",
       "      <th>Street</th>\n",
       "      <th>LandSlope</th>\n",
       "      <th>RoofStyle</th>\n",
       "      <th>CentralAir</th>\n",
       "      <th>YearBuilt</th>\n",
       "      <th>YrSold</th>\n",
       "    </tr>\n",
       "  </thead>\n",
       "  <tbody>\n",
       "    <tr>\n",
       "      <th>0</th>\n",
       "      <td>208500</td>\n",
       "      <td>PConc</td>\n",
       "      <td>Good</td>\n",
       "      <td>8450</td>\n",
       "      <td>856</td>\n",
       "      <td>854</td>\n",
       "      <td>2</td>\n",
       "      <td>0</td>\n",
       "      <td>Pave</td>\n",
       "      <td>Gtl</td>\n",
       "      <td>Gable</td>\n",
       "      <td>Y</td>\n",
       "      <td>2003</td>\n",
       "      <td>2008</td>\n",
       "    </tr>\n",
       "    <tr>\n",
       "      <th>1</th>\n",
       "      <td>181500</td>\n",
       "      <td>CBlock</td>\n",
       "      <td>Above Average</td>\n",
       "      <td>9600</td>\n",
       "      <td>1262</td>\n",
       "      <td>0</td>\n",
       "      <td>2</td>\n",
       "      <td>1</td>\n",
       "      <td>Pave</td>\n",
       "      <td>Gtl</td>\n",
       "      <td>Gable</td>\n",
       "      <td>Y</td>\n",
       "      <td>1976</td>\n",
       "      <td>2007</td>\n",
       "    </tr>\n",
       "    <tr>\n",
       "      <th>2</th>\n",
       "      <td>223500</td>\n",
       "      <td>PConc</td>\n",
       "      <td>Good</td>\n",
       "      <td>11250</td>\n",
       "      <td>920</td>\n",
       "      <td>866</td>\n",
       "      <td>2</td>\n",
       "      <td>1</td>\n",
       "      <td>Pave</td>\n",
       "      <td>Gtl</td>\n",
       "      <td>Gable</td>\n",
       "      <td>Y</td>\n",
       "      <td>2001</td>\n",
       "      <td>2008</td>\n",
       "    </tr>\n",
       "    <tr>\n",
       "      <th>3</th>\n",
       "      <td>140000</td>\n",
       "      <td>BrkTil</td>\n",
       "      <td>Good</td>\n",
       "      <td>9550</td>\n",
       "      <td>961</td>\n",
       "      <td>756</td>\n",
       "      <td>3</td>\n",
       "      <td>1</td>\n",
       "      <td>Pave</td>\n",
       "      <td>Gtl</td>\n",
       "      <td>Gable</td>\n",
       "      <td>Y</td>\n",
       "      <td>1915</td>\n",
       "      <td>2006</td>\n",
       "    </tr>\n",
       "    <tr>\n",
       "      <th>4</th>\n",
       "      <td>250000</td>\n",
       "      <td>PConc</td>\n",
       "      <td>Very Good</td>\n",
       "      <td>14260</td>\n",
       "      <td>1145</td>\n",
       "      <td>1053</td>\n",
       "      <td>3</td>\n",
       "      <td>1</td>\n",
       "      <td>Pave</td>\n",
       "      <td>Gtl</td>\n",
       "      <td>Gable</td>\n",
       "      <td>Y</td>\n",
       "      <td>2000</td>\n",
       "      <td>2008</td>\n",
       "    </tr>\n",
       "  </tbody>\n",
       "</table>\n",
       "</div>"
      ],
      "text/plain": [
       "   SalePrice Foundation    OverallQual  LotArea  X1stFlrSF  X2ndFlrSF  \\\n",
       "0     208500      PConc           Good     8450        856        854   \n",
       "1     181500     CBlock  Above Average     9600       1262          0   \n",
       "2     223500      PConc           Good    11250        920        866   \n",
       "3     140000     BrkTil           Good     9550        961        756   \n",
       "4     250000      PConc      Very Good    14260       1145       1053   \n",
       "\n",
       "   GarageCars  Fireplaces Street LandSlope RoofStyle CentralAir  YearBuilt  \\\n",
       "0           2           0   Pave       Gtl     Gable          Y       2003   \n",
       "1           2           1   Pave       Gtl     Gable          Y       1976   \n",
       "2           2           1   Pave       Gtl     Gable          Y       2001   \n",
       "3           3           1   Pave       Gtl     Gable          Y       1915   \n",
       "4           3           1   Pave       Gtl     Gable          Y       2000   \n",
       "\n",
       "   YrSold  \n",
       "0    2008  \n",
       "1    2007  \n",
       "2    2008  \n",
       "3    2006  \n",
       "4    2008  "
      ]
     },
     "execution_count": 80,
     "metadata": {},
     "output_type": "execute_result"
    }
   ],
   "source": [
    "dados.head()"
   ]
  },
  {
   "cell_type": "code",
   "execution_count": 81,
   "metadata": {},
   "outputs": [
    {
     "data": {
      "text/plain": [
       "SalePrice       int64\n",
       "Foundation     object\n",
       "OverallQual    object\n",
       "LotArea         int64\n",
       "X1stFlrSF       int64\n",
       "X2ndFlrSF       int64\n",
       "GarageCars      int64\n",
       "Fireplaces      int64\n",
       "Street         object\n",
       "LandSlope      object\n",
       "RoofStyle      object\n",
       "CentralAir     object\n",
       "YearBuilt       int64\n",
       "YrSold          int64\n",
       "dtype: object"
      ]
     },
     "execution_count": 81,
     "metadata": {},
     "output_type": "execute_result"
    }
   ],
   "source": [
    "dados.dtypes"
   ]
  },
  {
   "cell_type": "code",
   "execution_count": 82,
   "metadata": {},
   "outputs": [
    {
     "name": "stderr",
     "output_type": "stream",
     "text": [
      "/tmp/ipykernel_3901/2871752144.py:8: FutureWarning: Setting categories in-place is deprecated and will raise in a future version. Use rename_categories instead.\n",
      "  dados.Foundation.cat.categories = (['BrkTil','CBlock','PConc','Slab','Stone','Wood'])\n",
      "/tmp/ipykernel_3901/2871752144.py:9: FutureWarning: Setting categories in-place is deprecated and will raise in a future version. Use rename_categories instead.\n",
      "  dados.OverallQual.cat.categories = (['Very Poor','Poor','Fair','Below Average','Average',\n",
      "/tmp/ipykernel_3901/2871752144.py:12: FutureWarning: Setting categories in-place is deprecated and will raise in a future version. Use rename_categories instead.\n",
      "  dados.Street.cat.categories = (['Grvl','Pave'])\n",
      "/tmp/ipykernel_3901/2871752144.py:13: FutureWarning: Setting categories in-place is deprecated and will raise in a future version. Use rename_categories instead.\n",
      "  dados.LandSlope.cat.categories = (['Gtl','Mod','Sev'])\n",
      "/tmp/ipykernel_3901/2871752144.py:14: FutureWarning: Setting categories in-place is deprecated and will raise in a future version. Use rename_categories instead.\n",
      "  dados.RoofStyle.cat.categories = (['Flat','Gable','Gambrel','Hip','Mansard','Shed'])\n",
      "/tmp/ipykernel_3901/2871752144.py:15: FutureWarning: Setting categories in-place is deprecated and will raise in a future version. Use rename_categories instead.\n",
      "  dados.CentralAir.cat.categories = (['N','Y'])\n"
     ]
    }
   ],
   "source": [
    "dados.Foundation = dados.Foundation.astype('category')\n",
    "dados.OverallQual = dados.OverallQual.astype('category')\n",
    "dados.Street = dados.Street.astype('category')\n",
    "dados.LandSlope = dados.LandSlope.astype('category')\n",
    "dados.RoofStyle = dados.RoofStyle.astype('category')\n",
    "dados.CentralAir = dados.CentralAir.astype('category')\n",
    "\n",
    "dados.Foundation.cat.categories = (['BrkTil','CBlock','PConc','Slab','Stone','Wood'])\n",
    "dados.OverallQual.cat.categories = (['Very Poor','Poor','Fair','Below Average','Average',\n",
    "                                     'Above Average','Good','Very Good','Excellent','Very Excellent'])\n",
    "\n",
    "dados.Street.cat.categories = (['Grvl','Pave'])\n",
    "dados.LandSlope.cat.categories = (['Gtl','Mod','Sev'])\n",
    "dados.RoofStyle.cat.categories = (['Flat','Gable','Gambrel','Hip','Mansard','Shed'])\n",
    "dados.CentralAir.cat.categories = (['N','Y'])\n"
   ]
  },
  {
   "cell_type": "markdown",
   "metadata": {},
   "source": [
    "<div id=\"q6\"></div>\n",
    "\n",
    "___\n",
    "### Questão 6"
   ]
  },
  {
   "cell_type": "markdown",
   "metadata": {},
   "source": [
    "<div id=\"q6_a\"></div>\n",
    "\n",
    "___\n",
    "\n",
    "**a)** Dado um imóvel com inclinação suave e com construção até o ano de 2000, é mais provável que o tipo de fundação seja de bloco de concreto ou de concreto usinado?\n",
    "\n",
    "Em outras palavras,\n",
    "\n",
    "Qual das duas probabilidades abaixo é a mais provável:\n",
    "\n",
    "$$P(\\mbox{ Foundation igual \"CBlock\" } | \\mbox{ LandSlope igual \"Gtl\" }\\cap\\ \\mbox{ YearBuilt até 2000 })$$\n",
    "\n",
    "ou\n",
    "\n",
    "$$P(\\mbox{ Foundation igual \"PConc\" } | \\mbox{ LandSlope igual \"Gtl\" }\\cap\\ \\mbox{ YearBuilt até 2000 })$$\n",
    "\n",
    "?"
   ]
  },
  {
   "cell_type": "code",
   "execution_count": 99,
   "metadata": {},
   "outputs": [],
   "source": [
    "landslope_e_yearbuilt = dados.loc[(dados['LandSlope'] == 'Gtl') & (dados['YearBuilt'] <= 2000)]"
   ]
  },
  {
   "cell_type": "code",
   "execution_count": 103,
   "metadata": {},
   "outputs": [
    {
     "data": {
      "text/plain": [
       "0.5747800586510264"
      ]
     },
     "execution_count": 103,
     "metadata": {},
     "output_type": "execute_result"
    }
   ],
   "source": [
    "CBlock = landslope_e_yearbuilt.Foundation.value_counts()['CBlock']\n",
    "\n",
    "CBlock / len(landslope_e_yearbuilt)"
   ]
  },
  {
   "cell_type": "code",
   "execution_count": 104,
   "metadata": {},
   "outputs": [
    {
     "data": {
      "text/plain": [
       "0.260019550342131"
      ]
     },
     "execution_count": 104,
     "metadata": {},
     "output_type": "execute_result"
    }
   ],
   "source": [
    "PConc = landslope_e_yearbuilt.Foundation.value_counts()['PConc']\n",
    "\n",
    "PConc / len(landslope_e_yearbuilt)"
   ]
  }
 ],
 "metadata": {
  "kernelspec": {
   "display_name": "Python 3",
   "language": "python",
   "name": "python3"
  },
  "language_info": {
   "codemirror_mode": {
    "name": "ipython",
    "version": 3
   },
   "file_extension": ".py",
   "mimetype": "text/x-python",
   "name": "python",
   "nbconvert_exporter": "python",
   "pygments_lexer": "ipython3",
   "version": "3.10.9"
  }
 },
 "nbformat": 4,
 "nbformat_minor": 4
}
