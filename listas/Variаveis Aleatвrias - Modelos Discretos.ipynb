{
 "cells": [
  {
   "cell_type": "markdown",
   "metadata": {},
   "source": [
    "# Variáveis Aleatórias \n",
    "## Modelos Discretos\n",
    "\n",
    "___\n"
   ]
  },
  {
   "cell_type": "markdown",
   "metadata": {},
   "source": [
    "Carregando algumas bibliotecas:"
   ]
  },
  {
   "cell_type": "code",
   "execution_count": 27,
   "metadata": {},
   "outputs": [],
   "source": [
    "%matplotlib inline\n",
    "import pandas as pd\n",
    "import matplotlib.pyplot as plt\n",
    "import numpy as np\n",
    "import math\n",
    "\n",
    "# Para ter melhor print\n",
    "from IPython.display import display"
   ]
  },
  {
   "cell_type": "markdown",
   "metadata": {},
   "source": [
    "___\n",
    "## Índice\n",
    "\n",
    "- [Questão 1](#q1) \n",
    "    - [Item a](#q1_a)\n",
    "    - [Item b](#q1_b)\n",
    "    - [Item c](#q1_c)\n",
    "- [Questão 2](#q2) \n",
    "    - [Item a](#q2_a)\n",
    "    - [Item b](#q2_b)\n",
    "    - [Item c](#q2_c)\n",
    "    - [Item d](#q2_d)\n",
    "    - [Item e](#q2_e)\n",
    "- [Questão 3](#q3) \n",
    "- [Questão 4](#q4) \n",
    "    - [Item a](#q4_a)\n",
    "    - [Item b](#q4_b)\n",
    "    - [Item c](#q4_c)\n",
    "    - [Item d](#q4_d)"
   ]
  },
  {
   "cell_type": "markdown",
   "metadata": {},
   "source": [
    "<div id=\"q1\"></div>\n",
    "\n",
    "---\n",
    "\n",
    "# Questão 1"
   ]
  },
  {
   "cell_type": "markdown",
   "metadata": {},
   "source": [
    "<img src=\"arquivos/img/1200px-Easter-Eggs-1.jpg\" width=33% alt=\"Fonte: https://pt.wikipedia.org/wiki/Ovo_de_P%C3%A1scoa\"> </img>\n",
    "\n",
    "Nessa época de Páscoa, as empresas que produzem ovos de chocolate fazem controle da quantidade de ovos de chocolate quebrados durante o transporte como indicador de qualidade do serviço.\n",
    "\n",
    "Considere que haja o interesse de modelar o número de ovos de chocolate quebrados durante o transporte em cada entrega e que, para essa variável, será feito o uso da distribuição Poisson com parâmetro $\\mu=15$.\n",
    "\n",
    "**Responda:**\n",
    "\n",
    "<div id=\"q1_a\"></div>\n",
    "\n",
    "**a)** Calcule as probabilidades:\n",
    "\n",
    " 1. de em uma entrega ter exatamente 20 ovos quebrados durante o transporte;\n",
    " 2. de em uma entrega ter no máximo 20 ovos quebrados durante o transporte;\n",
    " 3. de em uma entrega ter pelo menos 20 ovos quebrados durante o transporte;\n"
   ]
  },
  {
   "cell_type": "code",
   "execution_count": null,
   "metadata": {},
   "outputs": [],
   "source": []
  },
  {
   "cell_type": "markdown",
   "metadata": {},
   "source": [
    "<div id=\"q1_b\"></div>\n",
    "\n",
    "**b)** A empresa costuma vender cada entrega por $800$ reais. Um cliente faz a seguinte proposta à empresa:\n",
    " * Se em uma entrega não chegar ovos de chocolate quebrados durante o transporte - pagará $1.100$ reais\n",
    " * Se em uma entrega chegar entre 1 e 10 ovos de chocolate quebrados durante o transporte - pagará $1.000$ reais\n",
    " * Se em uma entrega chegar mais de 10 ovos de chocolate quebrados durante o transporte - pagará $600$ reais\n",
    " \n",
    "Calcule o valor esperado que o cliente deve pagar por uma entrega seguindo sua proposta. Ainda, essa proposta é vantajosa para a empresa ou para o cliente? Justifique."
   ]
  },
  {
   "cell_type": "code",
   "execution_count": null,
   "metadata": {},
   "outputs": [],
   "source": []
  },
  {
   "cell_type": "markdown",
   "metadata": {},
   "source": [
    "<div id=\"q1_c\"></div>\n",
    "\n",
    "**c)** Decorrente do aumento da demanda nas vésperas da Páscoa, em cada entrega, houve um adicional de 5 ovos de chocolate quebrados durante o transporte. Com isso, a empresa fez alguns ajustes na maneira de embalar os ovos de chocolate que deve reduzir essa nova quantidade em $20\\%$. Após todas essas mudanças, calcule o novo valor médio e respectivo desvio padrão da quantidade de ovos quebrados durante o transporte em cada entrega.\n",
    "\n"
   ]
  },
  {
   "cell_type": "code",
   "execution_count": null,
   "metadata": {},
   "outputs": [],
   "source": []
  },
  {
   "cell_type": "markdown",
   "metadata": {},
   "source": [
    "<div id=\"q2\"></div>\n",
    "\n",
    "---\n",
    "\n",
    "# Questão 2"
   ]
  },
  {
   "cell_type": "markdown",
   "metadata": {},
   "source": [
    "![Fonte: https://commons.wikimedia.org/wiki/File:Structure_volcano_unlabeled.svg](arquivos/img/Structure_volcano_unlabeled.svg.png)"
   ]
  },
  {
   "cell_type": "markdown",
   "metadata": {},
   "source": [
    "Kabum Prime é um planetinha no sistema solar de Zica-Centauri.\n",
    "O ano em Kabum Prime tem 50 dias. Em Kabum Prime tem um vulcão que entra em erupção várias vezes por ano. Estamos no ano 10333 da nova era de Kabum Prime. Os cientistas kabunianos tabelaram as erupções do vulcão nos últimos 1000 anos kabunianos, e guardaram em um arquivo `\"Q2_erupcoes.csv\"`."
   ]
  },
  {
   "cell_type": "markdown",
   "metadata": {},
   "source": [
    "Nesta tabela são registrados o **ano** e o **dia** em que cada erupção vulcânica ocorreu"
   ]
  },
  {
   "cell_type": "code",
   "execution_count": 28,
   "metadata": {},
   "outputs": [
    {
     "data": {
      "text/html": [
       "<div>\n",
       "<style scoped>\n",
       "    .dataframe tbody tr th:only-of-type {\n",
       "        vertical-align: middle;\n",
       "    }\n",
       "\n",
       "    .dataframe tbody tr th {\n",
       "        vertical-align: top;\n",
       "    }\n",
       "\n",
       "    .dataframe thead th {\n",
       "        text-align: right;\n",
       "    }\n",
       "</style>\n",
       "<table border=\"1\" class=\"dataframe\">\n",
       "  <thead>\n",
       "    <tr style=\"text-align: right;\">\n",
       "      <th></th>\n",
       "      <th>ano</th>\n",
       "      <th>dia</th>\n",
       "    </tr>\n",
       "  </thead>\n",
       "  <tbody>\n",
       "    <tr>\n",
       "      <th>0</th>\n",
       "      <td>10234</td>\n",
       "      <td>4</td>\n",
       "    </tr>\n",
       "    <tr>\n",
       "      <th>1</th>\n",
       "      <td>10234</td>\n",
       "      <td>17</td>\n",
       "    </tr>\n",
       "    <tr>\n",
       "      <th>2</th>\n",
       "      <td>10234</td>\n",
       "      <td>19</td>\n",
       "    </tr>\n",
       "    <tr>\n",
       "      <th>3</th>\n",
       "      <td>10234</td>\n",
       "      <td>35</td>\n",
       "    </tr>\n",
       "    <tr>\n",
       "      <th>4</th>\n",
       "      <td>10234</td>\n",
       "      <td>44</td>\n",
       "    </tr>\n",
       "  </tbody>\n",
       "</table>\n",
       "</div>"
      ],
      "text/plain": [
       "     ano  dia\n",
       "0  10234    4\n",
       "1  10234   17\n",
       "2  10234   19\n",
       "3  10234   35\n",
       "4  10234   44"
      ]
     },
     "execution_count": 28,
     "metadata": {},
     "output_type": "execute_result"
    }
   ],
   "source": [
    "df = pd.read_csv('arquivos/Q2_erupcoes.csv')\n",
    "df.head()"
   ]
  },
  {
   "cell_type": "markdown",
   "metadata": {},
   "source": [
    "Sabe-se que as erupções do vulcão acontecem independentemente: pode ser que tenhamos várias erupções por dia, pode ser que não tenhamos nenhuma, uma erupção não impacta a outra. Sabe-se também que o vulcão está permanentemente ativo, sempre com a mesma chance de irromper."
   ]
  },
  {
   "cell_type": "markdown",
   "metadata": {},
   "source": [
    "<div id=\"q2_a\"></div>\n",
    "\n",
    "---\n",
    "\n",
    "**a)** Monte uma tabela  que conte quantas erupcões acontecem por ano."
   ]
  },
  {
   "cell_type": "code",
   "execution_count": null,
   "metadata": {},
   "outputs": [],
   "source": []
  },
  {
   "cell_type": "markdown",
   "metadata": {},
   "source": [
    "<div id=\"q2_b\"></div>\n",
    "\n",
    "--- \n",
    "\n",
    "**b)** Qual distribuição melhor modela o número de erupções anual do vulcão?  Para a distribuição apontada,  quais (ou qual) devem ser seus parâmetros?"
   ]
  },
  {
   "cell_type": "code",
   "execution_count": null,
   "metadata": {},
   "outputs": [],
   "source": []
  },
  {
   "cell_type": "markdown",
   "metadata": {},
   "source": [
    "<div id=\"q2_c\"></div>\n",
    "\n",
    "--- \n",
    "\n",
    "**c)** O grande sábio Vaydar Ru-Im prevê que neste ano que se inicia teremos pelo menos 15 erupções e ele nunca erra.\n",
    "\n",
    "Usando a distribuição obtida no item *(b)* e sabendo quo grande sábio nunca erra, responda: qual a probabilidade de que tenhamos número de erupções neste ano que exceda o recorde atual?\n"
   ]
  },
  {
   "cell_type": "code",
   "execution_count": null,
   "metadata": {},
   "outputs": [],
   "source": []
  },
  {
   "cell_type": "markdown",
   "metadata": {},
   "source": [
    "<div id=\"q2_d\"></div>\n",
    "\n",
    "---\n",
    "\n",
    "**d)** Um bilionário do planeta decidiu doar toda sua fortuna  para o governo do planeta para ajuda humanitária se houver um número muito grande de erupções. Mas o bilionário é quem define o número de erupções. \n",
    "\n",
    "Como ele não é bobo, gostaria que a probabilidade de doar sua fortuna fosse de $1\\%$ ou menos\n",
    "\n",
    "Qual deve ser o número de erupções que ele deve escolher usando a distribuição escolhida **no item (b)**?\n"
   ]
  },
  {
   "cell_type": "code",
   "execution_count": null,
   "metadata": {},
   "outputs": [],
   "source": []
  },
  {
   "cell_type": "markdown",
   "metadata": {},
   "source": [
    "<div id=\"q2_e\"></div>\n",
    "\n",
    "---\n",
    "\n",
    "**e)** O mês kabuniano tem 5 dias (ou seja, o ano tem 10 meses). Se acontece uma erupção no mês, cada kabuniano ganha 100 dinheiros de indenização do governo. Se acontecem 2 erupções, cada kabuniano ganha 150 dinheiros de indenização. Por fim, se acontecem 3 ou mais erupções o governo paga 200 dinheiros de indenização a cada kabuniano. Qual o valor médio de indenizações por kabuniano em um mês? Qual o desvio-padrão?"
   ]
  },
  {
   "cell_type": "code",
   "execution_count": null,
   "metadata": {},
   "outputs": [],
   "source": []
  },
  {
   "cell_type": "markdown",
   "metadata": {},
   "source": [
    "<div id=\"q3\"></div>\n",
    "\n",
    "___\n",
    "# Questão 3 \n",
    "\n",
    "#### Um dos tipos de erro de impressão 3D -  Impressão inclinada\n",
    "\n",
    "O que é?\n",
    "A impressão inclinada é um dos erros de impressão que ocorre quando o conjunto de extrusão se move menos do que o esperado, devido à uma resistência na movimentação da cabeça de impressão.\n",
    "\n",
    "![](arquivos/img/erros-de-impressão-3D-Lab-3.JPG)\n",
    "Fonte: https://3dlab.com.br/20-principais-erros-de-impressao/\n"
   ]
  },
  {
   "cell_type": "markdown",
   "metadata": {},
   "source": [
    "Em uma faculdade de engenharia, o percentual de peças feitas em impressora 3D que apresentam erro de impressão inclinada é de 0,5%.\n",
    "Considere que, durante um semestre do curso de engenharia, os alunos irão imprimir 29 peças. \n"
   ]
  },
  {
   "cell_type": "markdown",
   "metadata": {},
   "source": [
    "Calcule a probabilidade de que haja peça(s) com erro de impressão inclinada até o final do semestre. "
   ]
  },
  {
   "cell_type": "markdown",
   "metadata": {},
   "source": [
    "**Resposta:**"
   ]
  },
  {
   "cell_type": "code",
   "execution_count": 30,
   "metadata": {},
   "outputs": [],
   "source": [
    "from scipy.stats import binom"
   ]
  },
  {
   "cell_type": "code",
   "execution_count": 38,
   "metadata": {},
   "outputs": [
    {
     "data": {
      "text/plain": [
       "0.1352922694324662"
      ]
     },
     "execution_count": 38,
     "metadata": {},
     "output_type": "execute_result"
    }
   ],
   "source": [
    "n = 29\n",
    "p = 0.005\n",
    "\n",
    "1 - binom.cdf(0, n=n, p=p)"
   ]
  },
  {
   "cell_type": "markdown",
   "metadata": {},
   "source": [
    "___\n",
    "\n",
    "<div id=\"q4\"></div>\n",
    "\n",
    "# Questão 4\n"
   ]
  },
  {
   "cell_type": "markdown",
   "metadata": {},
   "source": [
    "Em uma barbearia os clientes podem cortar o cabelo ou fazer a barba. Cortar o cabelo leva 30 minutos, fazer a barba leva 10 minutos. Os clientes chegam à barbearia independentemente. Chegam em média $15$ clientes por dia para cortar o cabelo, e $10$ clientes em média para fazer a barba. Existem infinitos barbeiros nesta barbearia: nenhum cliente fica esperando!"
   ]
  },
  {
   "cell_type": "markdown",
   "metadata": {},
   "source": [
    "<div id=\"q4_a\"></div>\n",
    "\n",
    "---\n",
    "\n",
    "**a)** O número de clientes que vem fazer a barba em um dia é uma variável aleatória, assim como o número de clientes que vem fazer a barba por dia. Atribua uma distribuição mais adequada para cada uma dessas variáveis aleatórias (incluindo seus parâmetros) a partir dos dados do enunciado."
   ]
  },
  {
   "cell_type": "code",
   "execution_count": null,
   "metadata": {},
   "outputs": [],
   "source": []
  },
  {
   "cell_type": "markdown",
   "metadata": {},
   "source": [
    "<div id=\"q4_b\"></div>\n",
    "\n",
    "---\n",
    "\n",
    "\n",
    "**b)** Seja $T_{total}$ o valor total de tempo consumido em atendimento aos clientes em um dia.  O tempo total é obtido somando-se o tempo de atendimento de cada cliente - mesmo que esses atendimentos estejam acontecendo em paralelo! Qual a esperança e a variância de $T_{total}$?"
   ]
  },
  {
   "cell_type": "code",
   "execution_count": null,
   "metadata": {},
   "outputs": [],
   "source": []
  },
  {
   "cell_type": "markdown",
   "metadata": {},
   "source": [
    "<div id=\"q4_c\"></div>\n",
    "\n",
    "---\n",
    "\n",
    "\n",
    "**c)** Determine empiricamente, através de simulação, a distribuição do tempo total $T_{total}$ consumido atendendo clientes nessa barbearia.\n",
    "\n",
    "Dica: ao construir o histograma, use bins de tamanho 10 minutos.\n",
    "\n",
    "Dica 2: se você escreveu o seu código corretamente, dá para simular 1 milhão de dias em uma fração de segundo."
   ]
  },
  {
   "cell_type": "code",
   "execution_count": null,
   "metadata": {},
   "outputs": [],
   "source": []
  },
  {
   "cell_type": "markdown",
   "metadata": {},
   "source": [
    "<div id=\"q4_d\"></div>\n",
    "\n",
    "---\n",
    "\n",
    "\n",
    "**d)** Usando os dados simulados, determine o valor de tempo que corresponde a 95% dos dias. Ou seja, em 95% dos dias o tempo cumulativo será menor que esse valor encontrado. Sabendo que cada barbeiro trabalha 8 horas por dia, determine quantos barbeiros são necessários para atender todos os clientes em 95% dos dias?"
   ]
  },
  {
   "cell_type": "code",
   "execution_count": null,
   "metadata": {},
   "outputs": [],
   "source": []
  }
 ],
 "metadata": {
  "kernelspec": {
   "display_name": "Python 3",
   "language": "python",
   "name": "python3"
  },
  "language_info": {
   "codemirror_mode": {
    "name": "ipython",
    "version": 3
   },
   "file_extension": ".py",
   "mimetype": "text/x-python",
   "name": "python",
   "nbconvert_exporter": "python",
   "pygments_lexer": "ipython3",
   "version": "3.11.5"
  }
 },
 "nbformat": 4,
 "nbformat_minor": 4
}
