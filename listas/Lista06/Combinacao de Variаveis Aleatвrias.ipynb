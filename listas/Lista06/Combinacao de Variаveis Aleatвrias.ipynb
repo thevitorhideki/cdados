{
 "cells": [
  {
   "cell_type": "markdown",
   "metadata": {},
   "source": [
    "# Combinação de Variáveis Aleatórias\n",
    "\n",
    "\n",
    "___\n"
   ]
  },
  {
   "cell_type": "markdown",
   "metadata": {},
   "source": [
    "Carregando algumas bibliotecas:"
   ]
  },
  {
   "cell_type": "code",
   "execution_count": 12,
   "metadata": {},
   "outputs": [],
   "source": [
    "%matplotlib inline\n",
    "import pandas as pd\n",
    "import matplotlib.pyplot as plt\n",
    "import numpy as np\n",
    "\n",
    "from scipy import stats\n",
    "import math\n",
    "\n",
    "# Para ter melhor print\n",
    "from IPython.display import display"
   ]
  },
  {
   "cell_type": "markdown",
   "metadata": {},
   "source": [
    "___\n",
    "## Índice\n",
    "\n",
    "- [Questão 1 - Escola Infantil \"Papai Sem-Noção\"](#q1) \n",
    "    - [Item a](#q1_a)\n",
    "    - [Item b](#q1_b)\n",
    "    - [Item c](#q1_c)\n",
    "- [Questão 2 - Transmissão de Dados](#q2) \n",
    "    - [Item a](#q2_a)\n",
    "    - [Item b](#q2_b)\n",
    "    - [Item c](#q2_c)\n",
    "- [Questão 3 - Análise de Energia Solar](#q3) \n",
    "    - [Item a](#q3_a)\n",
    "    - [Item b](#q3_b)\n",
    "- [Questão 4](#q4) \n",
    "    - [Item a](#q4_a)\n",
    "    - [Item b](#q4_b)\n",
    "    - [Item c](#q4_c)\n",
    "- [Questão 5 - AI e AF](#q5) \n",
    "\n",
    "    \n",
    "___"
   ]
  },
  {
   "cell_type": "markdown",
   "metadata": {},
   "source": [
    "--- \n",
    "\n",
    "<div id=\"q1\"></div>\n",
    "\n",
    "# Questão 1\n",
    "Na escola infantil \"Papai Sem-Noção\" eles fazem coisas diferentes. No encerramento do ano vão fazer uma eco-aventura: cada dupla pai-e-filho vai descer um rio de bote inflável.\n",
    "\n",
    "O peso dos pais pode ser modelado como uma variável aleatória normal de média $85$ kg e desvio padrão $10$ kg. O peso dos filhos pode ser modelado como uma variável normal de média $20$ kg e desvio padrão $4$ kg. Existe uma correlação entre o peso do pai e o peso do filho igual a $0,5$"
   ]
  },
  {
   "cell_type": "markdown",
   "metadata": {},
   "source": [
    "---\n",
    "\n",
    "<div id=\"q1_a\"></div>\n",
    "\n",
    "**a)**  Nas condições acima, a média e o desvio-padrão do peso da dupla pai-e-filho são, respectivamente, $105$ kg e $12,5$ kg. Como esses valores foram obtidos? Justifique com cálculos numéricos."
   ]
  },
  {
   "cell_type": "code",
   "execution_count": 13,
   "metadata": {},
   "outputs": [],
   "source": [
    "mediaX = 85\n",
    "dpX = 10\n",
    "varX = dpX ** 2\n",
    "mediaY = 20\n",
    "dpY = 4\n",
    "varY = dpY ** 2\n",
    "corr = 0.5\n",
    "cov = corr * dpY * dpX"
   ]
  },
  {
   "cell_type": "code",
   "execution_count": 14,
   "metadata": {},
   "outputs": [
    {
     "data": {
      "text/plain": [
       "105"
      ]
     },
     "execution_count": 14,
     "metadata": {},
     "output_type": "execute_result"
    }
   ],
   "source": [
    "mediaZ = mediaX + mediaY\n",
    "mediaZ"
   ]
  },
  {
   "cell_type": "code",
   "execution_count": 15,
   "metadata": {},
   "outputs": [
    {
     "data": {
      "text/plain": [
       "12.489995996796797"
      ]
     },
     "execution_count": 15,
     "metadata": {},
     "output_type": "execute_result"
    }
   ],
   "source": [
    "varZ = varX + varY + 2 * cov\n",
    "dpZ = varZ ** 0.5\n",
    "dpZ"
   ]
  },
  {
   "cell_type": "markdown",
   "metadata": {},
   "source": [
    "---\n",
    "\n",
    "<div id=\"q1_b\"></div>\n",
    "\n",
    "**b)**  A escola vai comprar botes infláveis para descer o rio. Existem dois modelos:\n",
    "\n",
    "- \"Carpe Diem\": cabe duas pessoas, com peso total entre $80$ kg e $115$ kg.\n",
    "\n",
    "- \"Memento Mori\": cabe duas pessoas, com peso total entre $95$ kg e $120$ kg.\n",
    "\n",
    "Qual dos dois modelos é mais adequado para a escola? Ou seja, em qual dos modelos a chance de comportar um par pai-e-filho é maior? Calcule essas chances para os dois modelos e compare."
   ]
  },
  {
   "cell_type": "code",
   "execution_count": 16,
   "metadata": {},
   "outputs": [
    {
     "data": {
      "text/plain": [
       "0.7656663981697922"
      ]
     },
     "execution_count": 16,
     "metadata": {},
     "output_type": "execute_result"
    }
   ],
   "source": [
    "stats.norm.cdf(115, loc=mediaZ, scale=dpZ) - stats.norm.cdf(80, loc=mediaZ, scale=dpZ) # Esse tem a maior chance de comportar um par pai-e-filho"
   ]
  },
  {
   "cell_type": "code",
   "execution_count": 17,
   "metadata": {},
   "outputs": [
    {
     "data": {
      "text/plain": [
       "0.6734470439782092"
      ]
     },
     "execution_count": 17,
     "metadata": {},
     "output_type": "execute_result"
    }
   ],
   "source": [
    "stats.norm.cdf(120, loc=mediaZ, scale=dpZ) - stats.norm.cdf(95, loc=mediaZ, scale=dpZ)"
   ]
  },
  {
   "cell_type": "markdown",
   "metadata": {},
   "source": [
    "---\n",
    "\n",
    "<div id=\"q1_c\"></div>\n",
    "\n",
    "**c)** O diretor, o sr. Joselito, teve uma ideia \"brilhante\": se eles colocarem \"lastro\" (um peso extra) nos botes para complementar o peso da dupla, eles conseguem expandir a faixa de peso util do barco. \n",
    "\n",
    "Com isso, o limite mínimo de peso dos barcos \"Memento Mori\" será compensado pelo \"lastro\", mas o peso total máximo ainda é de $120$ kg. Calcule o novo valor do limite inferior que permita que $85\\%$ das duplas pai-e-filho participem do evento nos botes \"Memento Mori\".\n",
    "\n",
    "Recapitulando:\n",
    " * O limite superior de 120 kg não tem como mudar (é fixo).\n",
    " * O limite mínimo é livre (já que podemos usar lastro para compensar o peso de duplas muito leves).\n",
    " * Queremos saber qual limite mínimo que permita que $85\\%$ das duplas pai-e-filho participem do evento nos botes \"Memento Mori\". "
   ]
  },
  {
   "cell_type": "code",
   "execution_count": 22,
   "metadata": {},
   "outputs": [
    {
     "data": {
      "text/plain": [
       "82.38810723621216"
      ]
     },
     "execution_count": 22,
     "metadata": {},
     "output_type": "execute_result"
    }
   ],
   "source": [
    "p_abaixo_critico = stats.norm.cdf(120, loc=mediaZ, scale=dpZ) - 0.85\n",
    "stats.norm.ppf(p_abaixo_critico, loc=mediaZ, scale=dpZ)"
   ]
  },
  {
   "cell_type": "markdown",
   "metadata": {},
   "source": [
    "---\n",
    "\n",
    "<div id=\"q2\"></div>\n",
    "\n",
    "# Questão 2\n",
    "## Transmissão de dados"
   ]
  },
  {
   "cell_type": "markdown",
   "metadata": {},
   "source": [
    "Em um certo sistema de transmissão de dados, uma informação digital é transmitida na forma de um sinal elétrico onde uma voltagem constante de $5 V$ representa o bit $1$ e uma voltagem de $0 V$ representa o bit $0$. \n",
    "\n",
    "O sinal é gerado perfeitamente no ponto de transmissão; porém ao longo do caminho do sinal surgem várias interferências elétricas externas e também ruído térmico na linha de transmissão. Consequentemente, o sinal no receptor é igual ao sinal transmitido ($5 V$ para bit $1$ e $0 V$ para bit $0$) mais uma componente de ruído. \n",
    "\n",
    "No receptor o sinal é observado por um breve instante, e o valor de voltagem medido é comparado a um valor de referência de $3,0 V$ para decidir qual será o valor do bit *recebido*. Ou seja, se a voltagem recebida for maior que $3,0 V$, o bit é considerado $1$; caso contrário é bit $0$.\n",
    "\n",
    "Com esse cenário nota-se que podem haver erros de transmissão. Por exemplo: se um bit $1$ for enviado, mas o ruido aleatório for de $-2,5 V$, o sinal recebido será $5 + (-2,5) = 2,5 V$, abaixo do limiar de decisão $3,0$, e portanto será identificado erroneamente como bit $0$.\n",
    "\n",
    "Os engenheiros investigaram o ruído e concluiram que este pode ser modelado como uma variável aleatória com distribuição normal de média $0 V$ e desvio padrão $0,9 V$. Ou seja:\n",
    "\n",
    "- O ruido é modelado por $\\eta \\sim N(\\mu = 0, \\sigma^2 = 0,81)$\n",
    "\n",
    "- Quando um bit $0$ é enviado, o sinal elétrico que chega no receptor é $X_0 = 0 + \\eta$\n",
    "\n",
    "- Quando um bit $1$ é enviado, o sinal elétrico que chega no receptor é $X_1 = 5 + \\eta$"
   ]
  },
  {
   "cell_type": "markdown",
   "metadata": {},
   "source": [
    "---\n",
    "\n",
    "<div id=\"q2_a\"></div>\n",
    "\n",
    "**a)**  Qual a probabilidade de que um bit $0$ transmitido seja detectado como um bit $1$? E qual a probabilidade de que um bit $1$ transmitido seja detectado como bit $0$ no receptor?"
   ]
  },
  {
   "cell_type": "code",
   "execution_count": 25,
   "metadata": {},
   "outputs": [],
   "source": [
    "dp = 0.9\n",
    "var = 0.81"
   ]
  },
  {
   "cell_type": "code",
   "execution_count": 30,
   "metadata": {},
   "outputs": [
    {
     "data": {
      "text/plain": [
       "(0.0004290603331967846, 0.013134145691021117)"
      ]
     },
     "execution_count": 30,
     "metadata": {},
     "output_type": "execute_result"
    }
   ],
   "source": [
    "p_1_dado_0 = 1 - stats.norm.cdf(3, loc=0, scale=dp)\n",
    "p_0_dado_1 = stats.norm.cdf(3, loc=5, scale=dp)\n",
    "p_1_dado_0, p_0_dado_1"
   ]
  },
  {
   "cell_type": "markdown",
   "metadata": {},
   "source": [
    "---\n",
    "\n",
    "<div id=\"q2_b\"></div>\n",
    "\n",
    "**b)**  Supondo que a probabilidade de transmissão de um bit $0$ seja de $60 \\%$ qual a probabilidade de um erro de bit na transmissão?"
   ]
  },
  {
   "cell_type": "code",
   "execution_count": 34,
   "metadata": {},
   "outputs": [
    {
     "data": {
      "text/plain": [
       "0.0055110944763265175"
      ]
     },
     "execution_count": 34,
     "metadata": {},
     "output_type": "execute_result"
    }
   ],
   "source": [
    "p_erro = (1 - stats.norm.cdf(3, loc=0, scale=dp)) * 0.6 + stats.norm.cdf(3, loc=5, scale=dp) * 0.4\n",
    "p_erro"
   ]
  },
  {
   "cell_type": "markdown",
   "metadata": {},
   "source": [
    "---\n",
    "\n",
    "<div id=\"q2_c\"></div>\n",
    "\n",
    "**c)**  Qual a probabilidade de que ocorram $3$ erros de bit em um pacote de $4$ bits transmitidos (com probabilidade $60\\%$ de transmissão de bit $0$)?"
   ]
  },
  {
   "cell_type": "code",
   "execution_count": 36,
   "metadata": {},
   "outputs": [
    {
     "data": {
      "text/plain": [
       "6.658455511599448e-07"
      ]
     },
     "execution_count": 36,
     "metadata": {},
     "output_type": "execute_result"
    }
   ],
   "source": [
    "stats.binom.pmf(3, n=4, p=p_erro)"
   ]
  },
  {
   "cell_type": "markdown",
   "metadata": {},
   "source": [
    "--- \n",
    "\n",
    "<div id=\"q3\"></div>\n",
    "\n",
    "# Questão 3\n",
    "## Análise de Energia Solar\n",
    "\n",
    "Sabe-se que a radiação solar ($Rad$) está distribuída no Brasil de acordo com uma curva normal $Rad \\sim N(\\mu=150, \\sigma=50)$.\n",
    "\n",
    "Uma empresa fabrica painéis solares que têm sua eficiência distribuída de acordo com uma curva normal: $\\eta \\sim N(\\mu=0.4, \\sigma=0.15)$. A potência disponível em determinada residência é chamada de potência útil ($P_{útil}$), e é o resultado da eficiência energética do painel solar adquirido e também da radiação solar disponível. Ou seja, $P_{útil} = \\eta \\times Rad$"
   ]
  },
  {
   "cell_type": "markdown",
   "metadata": {},
   "source": [
    "---\n",
    "\n",
    "<div id=\"q3_a\"></div>\n",
    "\n",
    "**a.** Construa, via simulação, a distribuição de $P_{útil}$. Apresente o histograma resultante:"
   ]
  },
  {
   "cell_type": "code",
   "execution_count": null,
   "metadata": {},
   "outputs": [],
   "source": [
    "mediaX = 150\n",
    "varX = 50\n",
    "dpX = varX ** 0.5\n",
    "mediaY = 0.4\n",
    "varY = 0.15\n",
    "dpY = varY * 0.5"
   ]
  },
  {
   "cell_type": "markdown",
   "metadata": {},
   "source": [
    "---\n",
    "\n",
    "<div id=\"q3_b\"></div>\n",
    "\n",
    "**b.** A empresa de painéis solares garantiu que, se a potência útil instalada na casa dos clientes é menor que $15W/m^2$, vai pagar uma indenização. Qual a porcentagem dos clientes que vai ganhar indenização? "
   ]
  },
  {
   "cell_type": "code",
   "execution_count": null,
   "metadata": {},
   "outputs": [],
   "source": []
  },
  {
   "cell_type": "markdown",
   "metadata": {},
   "source": [
    "---\n",
    "\n",
    "<div id=\"q4\"></div>\n",
    "\n",
    "# Questão 4"
   ]
  },
  {
   "cell_type": "markdown",
   "metadata": {},
   "source": [
    "<img src=distribuicoes_U_Y.png width=75%>"
   ]
  },
  {
   "cell_type": "markdown",
   "metadata": {},
   "source": [
    "Seja $U$ uma variável aleatória que segue uma distribuição uniforme no intervalo $[3.0,6.0]$"
   ]
  },
  {
   "cell_type": "markdown",
   "metadata": {},
   "source": [
    "Seja $Y\\sim N(4.5, \\sigma^2=9)$"
   ]
  },
  {
   "cell_type": "markdown",
   "metadata": {},
   "source": [
    "Seja também a variável aleatória $\\overline{U}$, calculada como a média de amostras de $U$ feitas com $n$  elementos independentes entre si. Assuma n=50.\n",
    "\n",
    "Nota que a variável $\\overline{U}$ **não** é mostrada no gráfico."
   ]
  },
  {
   "cell_type": "markdown",
   "metadata": {},
   "source": [
    "Vamos montar a variável aleatória $W$ :"
   ]
  },
  {
   "cell_type": "markdown",
   "metadata": {},
   "source": [
    "$$W = 2\\overline{U} + 3Y$$"
   ]
  },
  {
   "cell_type": "markdown",
   "metadata": {},
   "source": [
    "**Responda:**\n",
    "\n",
    "Deixe os cálculos, não coloque os valores apenas"
   ]
  },
  {
   "cell_type": "markdown",
   "metadata": {},
   "source": [
    "---\n",
    "\n",
    "<div id=\"q4_a\"></div>\n",
    "\n",
    "**a)** Quanto vale $E(\\overline{U})$ e $Var(\\overline{U})$ ?"
   ]
  },
  {
   "cell_type": "code",
   "execution_count": 45,
   "metadata": {},
   "outputs": [
    {
     "data": {
      "text/plain": [
       "(4.5, 0.015)"
      ]
     },
     "execution_count": 45,
     "metadata": {},
     "output_type": "execute_result"
    }
   ],
   "source": [
    "mediaU_ = stats.uniform.mean(loc=3, scale=3)\n",
    "varU = stats.uniform.var(loc=3, scale=3)\n",
    "varU_ = varU / 50\n",
    "mediaU_, varU_"
   ]
  },
  {
   "cell_type": "markdown",
   "metadata": {},
   "source": [
    "---\n",
    "\n",
    "<div id=\"q4_b\"></div>\n",
    "\n",
    "**b)** Quanto vale $E(W)$ e $Var(W)$? "
   ]
  },
  {
   "cell_type": "code",
   "execution_count": 48,
   "metadata": {},
   "outputs": [
    {
     "data": {
      "text/plain": [
       "(22.5, 81.06)"
      ]
     },
     "execution_count": 48,
     "metadata": {},
     "output_type": "execute_result"
    }
   ],
   "source": [
    "mediaY = 4.5\n",
    "varY = 9\n",
    "\n",
    "mediaW = mediaU_ * 2 + mediaY * 3\n",
    "varW = varU_ * 2 ** 2 + varY * 3 ** 2\n",
    "\n",
    "mediaW, varW"
   ]
  },
  {
   "cell_type": "markdown",
   "metadata": {},
   "source": [
    "---\n",
    "\n",
    "<div id=\"q4_c1\"></div>\n",
    "\n",
    "\n",
    "**c)** Quanto vale $P(W \\geq 10| W < E(W))$ ? "
   ]
  },
  {
   "cell_type": "code",
   "execution_count": 49,
   "metadata": {},
   "outputs": [
    {
     "data": {
      "text/plain": [
       "0.8349770454159595"
      ]
     },
     "execution_count": 49,
     "metadata": {},
     "output_type": "execute_result"
    }
   ],
   "source": [
    "(stats.norm.cdf(mediaW, loc=mediaW, scale=varW ** 0.5) - stats.norm.cdf(10, loc=mediaW, scale=varW ** 0.5)) / stats.norm.cdf(mediaW, loc=mediaW, scale=varW ** 0.5)"
   ]
  },
  {
   "cell_type": "markdown",
   "metadata": {},
   "source": [
    "___\n",
    "\n",
    "<div id=\"q5\"></div>\n",
    "\n",
    "# Questão 5\n",
    "\n",
    "A Avaliação Intermediária de Ciência dos dados teve média 4.25 e desvio padrão 1.70.\n",
    "\n",
    "A Avaliação Final está acontecendo agora, nesse momento, porém assuma que essa avaliação terá média igual 7.75 e desvio padrão igual 2.20.\n",
    "\n",
    "Assuma também que ambas avaliações tenham notas com correlação de 0.35 e que qualquer combinação linear entre essas notas seja modelada por uma distribuição normal.\n",
    "\n"
   ]
  },
  {
   "cell_type": "markdown",
   "metadata": {},
   "source": [
    "**Calcule a probabilidade de um aluno qualquer ter as notas das avaliações somando pelo menos 10 pontos. Discuta o que representa esse resultado.**"
   ]
  },
  {
   "cell_type": "markdown",
   "metadata": {},
   "source": [
    "**Resposta:**"
   ]
  },
  {
   "cell_type": "code",
   "execution_count": 52,
   "metadata": {},
   "outputs": [],
   "source": [
    "mediaX = 4.25\n",
    "dpX = 1.7\n",
    "varX = dpX ** 2\n",
    "mediaY = 7.75\n",
    "dpY = 2.2\n",
    "varY = dpY ** 2\n",
    "corr = 0.35\n",
    "cov = dpX * dpY * corr"
   ]
  },
  {
   "cell_type": "code",
   "execution_count": 56,
   "metadata": {},
   "outputs": [
    {
     "data": {
      "text/plain": [
       "0.7329402712997912"
      ]
     },
     "execution_count": 56,
     "metadata": {},
     "output_type": "execute_result"
    }
   ],
   "source": [
    "mediaW = mediaX + mediaY\n",
    "varW = varX + varY + 2 * cov\n",
    "\n",
    "1 - stats.norm.cdf(10, loc=mediaW, scale=varW**0.5)"
   ]
  }
 ],
 "metadata": {
  "kernelspec": {
   "display_name": "Python 3",
   "language": "python",
   "name": "python3"
  },
  "language_info": {
   "codemirror_mode": {
    "name": "ipython",
    "version": 3
   },
   "file_extension": ".py",
   "mimetype": "text/x-python",
   "name": "python",
   "nbconvert_exporter": "python",
   "pygments_lexer": "ipython3",
   "version": "3.11.5"
  }
 },
 "nbformat": 4,
 "nbformat_minor": 4
}
